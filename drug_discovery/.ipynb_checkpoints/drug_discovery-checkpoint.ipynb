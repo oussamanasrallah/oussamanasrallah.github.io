{
 "cells": [
  {
   "cell_type": "markdown",
   "metadata": {
    "colab_type": "text",
    "id": "wSFbIMb87cHu"
   },
   "source": [
    "# Projet de bioinformatique - Découverte de médicaments dans le cadre du traitement de l'anxiété chez l'enfant\n",
    "\n",
    "Modèle d'apprentissage automatique utilisant les données de bioactivité de la base de données ChEMBL."
   ]
  },
  {
   "cell_type": "markdown",
   "metadata": {
    "colab_type": "text",
    "id": "3iQiERxumDor"
   },
   "source": [
    "## Base de données ChEMBL\n",
    "\n",
    "La base de données ChEMBL (https://www.ebi.ac.uk/chembl/) est une base de données triée manuellement qui contient des données triées sur la bioactivité de plus de 2,3 millions de composés. Elle est compilée à partir de plus de 85 000 publications et 198 ensembles de données déposées, et les données couvrent 15 072 cibles, près de 20 millions d'activités et 33 000 indications.\n",
    "\n",
    "(6 janvier 2022 ; ChEMBL v31)"
   ]
  },
  {
   "cell_type": "markdown",
   "metadata": {
    "colab_type": "text",
    "id": "iryGAwAIQ4yf"
   },
   "source": [
    "## Libraries"
   ]
  },
  {
   "cell_type": "code",
   "execution_count": 19,
   "metadata": {
    "colab": {
     "base_uri": "https://localhost:8080/",
     "height": 343
    },
    "colab_type": "code",
    "id": "cJGExHQBfLh7",
    "outputId": "c4379980-7fa4-4e5c-9a01-809f48b5f0c6"
   },
   "outputs": [
    {
     "name": "stdout",
     "output_type": "stream",
     "text": [
      "Collecting chembl_webresource_client\n",
      "  Using cached chembl_webresource_client-0.10.8-py3-none-any.whl (55 kB)\n",
      "Requirement already satisfied: urllib3 in /Users/oussama/opt/anaconda3/lib/python3.9/site-packages (from chembl_webresource_client) (1.26.11)\n",
      "Requirement already satisfied: requests>=2.18.4 in /Users/oussama/opt/anaconda3/lib/python3.9/site-packages (from chembl_webresource_client) (2.28.1)\n",
      "Collecting easydict\n",
      "  Using cached easydict-1.10.tar.gz (6.4 kB)\n",
      "  Preparing metadata (setup.py) ... \u001b[?25ldone\n",
      "\u001b[?25hCollecting requests-cache~=0.7.0\n",
      "  Using cached requests_cache-0.7.5-py3-none-any.whl (39 kB)\n",
      "Requirement already satisfied: idna<4,>=2.5 in /Users/oussama/opt/anaconda3/lib/python3.9/site-packages (from requests>=2.18.4->chembl_webresource_client) (3.3)\n",
      "Requirement already satisfied: charset-normalizer<3,>=2 in /Users/oussama/opt/anaconda3/lib/python3.9/site-packages (from requests>=2.18.4->chembl_webresource_client) (2.0.4)\n",
      "Requirement already satisfied: certifi>=2017.4.17 in /Users/oussama/opt/anaconda3/lib/python3.9/site-packages (from requests>=2.18.4->chembl_webresource_client) (2022.9.24)\n",
      "Requirement already satisfied: itsdangerous>=2.0.1 in /Users/oussama/opt/anaconda3/lib/python3.9/site-packages (from requests-cache~=0.7.0->chembl_webresource_client) (2.0.1)\n",
      "Requirement already satisfied: attrs<22.0,>=21.2 in /Users/oussama/opt/anaconda3/lib/python3.9/site-packages (from requests-cache~=0.7.0->chembl_webresource_client) (21.4.0)\n",
      "Requirement already satisfied: pyyaml>=5.4 in /Users/oussama/opt/anaconda3/lib/python3.9/site-packages (from requests-cache~=0.7.0->chembl_webresource_client) (6.0)\n",
      "Collecting url-normalize<2.0,>=1.4\n",
      "  Using cached url_normalize-1.4.3-py2.py3-none-any.whl (6.8 kB)\n",
      "Requirement already satisfied: six in /Users/oussama/opt/anaconda3/lib/python3.9/site-packages (from url-normalize<2.0,>=1.4->requests-cache~=0.7.0->chembl_webresource_client) (1.16.0)\n",
      "Building wheels for collected packages: easydict\n",
      "  Building wheel for easydict (setup.py) ... \u001b[?25ldone\n",
      "\u001b[?25h  Created wheel for easydict: filename=easydict-1.10-py3-none-any.whl size=6492 sha256=bcb0a994858a9dad6333fbcf30928e9dbb7996a6e6baceb61c2c5412ef8ff1fe\n",
      "  Stored in directory: /Users/oussama/Library/Caches/pip/wheels/0d/9a/a9/02f3a5f0c6b2c57184661770360c58db8166f5c877780e98f2\n",
      "Successfully built easydict\n",
      "Installing collected packages: easydict, url-normalize, requests-cache, chembl_webresource_client\n",
      "Successfully installed chembl_webresource_client-0.10.8 easydict-1.10 requests-cache-0.7.5 url-normalize-1.4.3\n"
     ]
    },
    {
     "ename": "ModuleNotFoundError",
     "evalue": "No module named 'chembl_webresource_client'",
     "output_type": "error",
     "traceback": [
      "\u001b[0;31m---------------------------------------------------------------------------\u001b[0m",
      "\u001b[0;31mModuleNotFoundError\u001b[0m                       Traceback (most recent call last)",
      "\u001b[0;32m/var/folders/x6/s9n1t1mx51b4hcjmxgn9t_z80000gn/T/ipykernel_81912/1299079710.py\u001b[0m in \u001b[0;36m<module>\u001b[0;34m\u001b[0m\n\u001b[1;32m      4\u001b[0m \u001b[0;31m# Import necessary libraries\u001b[0m\u001b[0;34m\u001b[0m\u001b[0;34m\u001b[0m\u001b[0;34m\u001b[0m\u001b[0m\n\u001b[1;32m      5\u001b[0m \u001b[0;32mimport\u001b[0m \u001b[0mpandas\u001b[0m \u001b[0;32mas\u001b[0m \u001b[0mpd\u001b[0m\u001b[0;34m\u001b[0m\u001b[0;34m\u001b[0m\u001b[0m\n\u001b[0;32m----> 6\u001b[0;31m \u001b[0;32mfrom\u001b[0m \u001b[0mchembl_webresource_client\u001b[0m\u001b[0;34m.\u001b[0m\u001b[0mnew_client\u001b[0m \u001b[0;32mimport\u001b[0m \u001b[0mnew_client\u001b[0m\u001b[0;34m\u001b[0m\u001b[0;34m\u001b[0m\u001b[0m\n\u001b[0m",
      "\u001b[0;31mModuleNotFoundError\u001b[0m: No module named 'chembl_webresource_client'"
     ]
    }
   ],
   "source": [
    "# Install the ChEMBL web service package ; pour récupérer les données de bioactivité de la base de données ChEMBL.\n",
    "#! pip install chembl_webresource_client\n",
    "\n",
    "# Import necessary libraries\n",
    "import pandas as pd\n",
    "from chembl_webresource_client.new_client import new_client"
   ]
  },
  {
   "cell_type": "markdown",
   "metadata": {
    "colab_type": "text",
    "id": "1FgUai1bfigC"
   },
   "source": [
    "## Recherche de la protéine cible"
   ]
  },
  {
   "cell_type": "markdown",
   "metadata": {
    "colab_type": "text",
    "id": "7lBsDrD0gAqH"
   },
   "source": [
    "### Recherche de cible pour CYP2C19\n",
    "\n",
    "Chez les patients pédiatriques, les inhibiteurs sélectifs de la recapture de la sérotonine (ISRS) escitalopram et citalopram (es/citalopram) sont couramment prescrits pour traiter les troubles anxieux et dépressifs. Cependant, les études pharmacogénétiques examinant le statut de métaboliseur du CYP2C19 et les résultats du traitement par l'es/citalopram se sont largement concentrées sur les adultes.\n",
    "\n",
    "Les métaboliseurs lents du CYP2C19 subissent plus d'effets indésirables que les métaboliseurs rapides, notamment des symptômes d'activation et connaissent une prise de poids plus rapide. Les métaboliseurs rapides répondent plus rapidement à l'es/citalopram et ont tendance à passer moins de temps dans d'éventuelles hospitalisations ultérieures.\n",
    "\n",
    "Ainsin il existe une disparité dans les résultats du traitement par es/citalopram chez les jeunes souffrant de troubles anxieux et/ou dépressifs lorsque des stratégies de dosage standardisées ont été utilisées sans tenir compte du **statut de métaboliseur du CYP2C19**. Des essais prospectifs de plus grande envergure sont justifiés pour évaluer si une posologie adaptée de l'es/citalopram en fonction du statut du métaboliseur du CYP2C19 améliore les résultats du traitement dans cette population de patients.\n",
    "\n",
    "\n",
    "Aldrich SL, Poweleit EA, Prows CA, Martin LJ, Strawn JR, Ramsey LB. Influence of CYP2C19 Metabolizer Status on Escitalopram/Citalopram Tolerability and Response in Youth With Anxiety and Depressive Disorders. Front Pharmacol. 2019 Feb 19;10:99. doi: 10.3389/fphar.2019.00099. PMID: 30837874; PMCID: PMC6389830."
   ]
  },
  {
   "cell_type": "code",
   "execution_count": 2,
   "metadata": {
    "colab": {
     "base_uri": "https://localhost:8080/",
     "height": 317
    },
    "colab_type": "code",
    "id": "Vxtp79so4ZjF",
    "outputId": "965b4268-ad49-4c42-8847-4b463761fac7"
   },
   "outputs": [
    {
     "data": {
      "text/html": [
       "<div>\n",
       "<style scoped>\n",
       "    .dataframe tbody tr th:only-of-type {\n",
       "        vertical-align: middle;\n",
       "    }\n",
       "\n",
       "    .dataframe tbody tr th {\n",
       "        vertical-align: top;\n",
       "    }\n",
       "\n",
       "    .dataframe thead th {\n",
       "        text-align: right;\n",
       "    }\n",
       "</style>\n",
       "<table border=\"1\" class=\"dataframe\">\n",
       "  <thead>\n",
       "    <tr style=\"text-align: right;\">\n",
       "      <th></th>\n",
       "      <th>cross_references</th>\n",
       "      <th>organism</th>\n",
       "      <th>pref_name</th>\n",
       "      <th>score</th>\n",
       "      <th>species_group_flag</th>\n",
       "      <th>target_chembl_id</th>\n",
       "      <th>target_components</th>\n",
       "      <th>target_type</th>\n",
       "      <th>tax_id</th>\n",
       "    </tr>\n",
       "  </thead>\n",
       "  <tbody>\n",
       "    <tr>\n",
       "      <th>0</th>\n",
       "      <td>[{'xref_id': 'P33261', 'xref_name': None, 'xre...</td>\n",
       "      <td>Homo sapiens</td>\n",
       "      <td>Cytochrome P450 2C19</td>\n",
       "      <td>12.0</td>\n",
       "      <td>False</td>\n",
       "      <td>CHEMBL3622</td>\n",
       "      <td>[{'accession': 'P33261', 'component_descriptio...</td>\n",
       "      <td>SINGLE PROTEIN</td>\n",
       "      <td>9606</td>\n",
       "    </tr>\n",
       "    <tr>\n",
       "      <th>1</th>\n",
       "      <td>[]</td>\n",
       "      <td>Homo sapiens</td>\n",
       "      <td>Cytochrome P450</td>\n",
       "      <td>1.0</td>\n",
       "      <td>False</td>\n",
       "      <td>CHEMBL4523986</td>\n",
       "      <td>[{'accession': 'P08684', 'component_descriptio...</td>\n",
       "      <td>PROTEIN FAMILY</td>\n",
       "      <td>9606</td>\n",
       "    </tr>\n",
       "  </tbody>\n",
       "</table>\n",
       "</div>"
      ],
      "text/plain": [
       "                                    cross_references      organism  \\\n",
       "0  [{'xref_id': 'P33261', 'xref_name': None, 'xre...  Homo sapiens   \n",
       "1                                                 []  Homo sapiens   \n",
       "\n",
       "              pref_name  score  species_group_flag target_chembl_id  \\\n",
       "0  Cytochrome P450 2C19   12.0               False       CHEMBL3622   \n",
       "1       Cytochrome P450    1.0               False    CHEMBL4523986   \n",
       "\n",
       "                                   target_components     target_type  tax_id  \n",
       "0  [{'accession': 'P33261', 'component_descriptio...  SINGLE PROTEIN    9606  \n",
       "1  [{'accession': 'P08684', 'component_descriptio...  PROTEIN FAMILY    9606  "
      ]
     },
     "execution_count": 2,
     "metadata": {},
     "output_type": "execute_result"
    }
   ],
   "source": [
    "# Recherche de cibles pour CYP2C19\n",
    "target = new_client.target\n",
    "target_query = target.search('CYP2C19')\n",
    "targets = pd.DataFrame.from_dict(target_query)\n",
    "targets"
   ]
  },
  {
   "cell_type": "markdown",
   "metadata": {
    "colab_type": "text",
    "id": "Y5OPfEALjAfZ"
   },
   "source": [
    "### Récupérer les données de bioactivité pour Cytochrome P450 19A1 (id = 0 ; première ligne)\n",
    "\n",
    "Nous allons affecter la cinquième entrée (qui correspond à la protéine cible, Cytochrome P450 19A1) à une autre variable : selected_target"
   ]
  },
  {
   "cell_type": "code",
   "execution_count": 3,
   "metadata": {
    "colab": {
     "base_uri": "https://localhost:8080/",
     "height": 34
    },
    "colab_type": "code",
    "id": "StrcHMVLha7u",
    "outputId": "3a850118-8f76-4fae-899e-10823644aa60"
   },
   "outputs": [
    {
     "data": {
      "text/plain": [
       "'CHEMBL3622'"
      ]
     },
     "execution_count": 3,
     "metadata": {},
     "output_type": "execute_result"
    }
   ],
   "source": [
    "selected_target = targets.target_chembl_id[0]\n",
    "selected_target"
   ]
  },
  {
   "cell_type": "markdown",
   "metadata": {
    "colab_type": "text",
    "id": "GWd2DRalgjzB"
   },
   "source": [
    "Ici, on ne retrouve que les données de bioactivité pour Cytochrome P450 19A1 (CHEMBL3622) qui sont rapportées sous forme de valeurs de IC50 en unité nanomolaire.\n",
    "\n",
    "La concentration inhibitrice semi-maximale (IC50) est une mesure de l'efficacité d'un composé à inhiber une fonction biologique/biochimique."
   ]
  },
  {
   "cell_type": "code",
   "execution_count": 4,
   "metadata": {
    "colab": {},
    "colab_type": "code",
    "id": "LeFbV_CsSP8D"
   },
   "outputs": [],
   "source": [
    "activity = new_client.activity\n",
    "res = activity.filter(target_chembl_id=selected_target).filter(standard_type=\"IC50\")"
   ]
  },
  {
   "cell_type": "code",
   "execution_count": 5,
   "metadata": {
    "colab": {},
    "colab_type": "code",
    "id": "RC4T-NEmSWV-"
   },
   "outputs": [],
   "source": [
    "df = pd.DataFrame.from_dict(res)"
   ]
  },
  {
   "cell_type": "code",
   "execution_count": 6,
   "metadata": {
    "colab": {
     "base_uri": "https://localhost:8080/",
     "height": 264
    },
    "colab_type": "code",
    "id": "s9iUAXFdSkoM",
    "outputId": "b07de8f4-de16-4cd6-d418-35d684a7e9ab"
   },
   "outputs": [
    {
     "data": {
      "text/html": [
       "<div>\n",
       "<style scoped>\n",
       "    .dataframe tbody tr th:only-of-type {\n",
       "        vertical-align: middle;\n",
       "    }\n",
       "\n",
       "    .dataframe tbody tr th {\n",
       "        vertical-align: top;\n",
       "    }\n",
       "\n",
       "    .dataframe thead th {\n",
       "        text-align: right;\n",
       "    }\n",
       "</style>\n",
       "<table border=\"1\" class=\"dataframe\">\n",
       "  <thead>\n",
       "    <tr style=\"text-align: right;\">\n",
       "      <th></th>\n",
       "      <th>activity_comment</th>\n",
       "      <th>activity_id</th>\n",
       "      <th>activity_properties</th>\n",
       "      <th>assay_chembl_id</th>\n",
       "      <th>assay_description</th>\n",
       "      <th>assay_type</th>\n",
       "      <th>assay_variant_accession</th>\n",
       "      <th>assay_variant_mutation</th>\n",
       "      <th>bao_endpoint</th>\n",
       "      <th>bao_format</th>\n",
       "      <th>...</th>\n",
       "      <th>target_organism</th>\n",
       "      <th>target_pref_name</th>\n",
       "      <th>target_tax_id</th>\n",
       "      <th>text_value</th>\n",
       "      <th>toid</th>\n",
       "      <th>type</th>\n",
       "      <th>units</th>\n",
       "      <th>uo_units</th>\n",
       "      <th>upper_value</th>\n",
       "      <th>value</th>\n",
       "    </tr>\n",
       "  </thead>\n",
       "  <tbody>\n",
       "    <tr>\n",
       "      <th>0</th>\n",
       "      <td>None</td>\n",
       "      <td>45776</td>\n",
       "      <td>[]</td>\n",
       "      <td>CHEMBL666251</td>\n",
       "      <td>Inhibition of human cytochrome P450 2C19 as S-...</td>\n",
       "      <td>A</td>\n",
       "      <td>None</td>\n",
       "      <td>None</td>\n",
       "      <td>BAO_0000190</td>\n",
       "      <td>BAO_0000357</td>\n",
       "      <td>...</td>\n",
       "      <td>Homo sapiens</td>\n",
       "      <td>Cytochrome P450 2C19</td>\n",
       "      <td>9606</td>\n",
       "      <td>None</td>\n",
       "      <td>None</td>\n",
       "      <td>IC50</td>\n",
       "      <td>uM</td>\n",
       "      <td>UO_0000065</td>\n",
       "      <td>None</td>\n",
       "      <td>46.0</td>\n",
       "    </tr>\n",
       "    <tr>\n",
       "      <th>1</th>\n",
       "      <td>None</td>\n",
       "      <td>62460</td>\n",
       "      <td>[]</td>\n",
       "      <td>CHEMBL666251</td>\n",
       "      <td>Inhibition of human cytochrome P450 2C19 as S-...</td>\n",
       "      <td>A</td>\n",
       "      <td>None</td>\n",
       "      <td>None</td>\n",
       "      <td>BAO_0000190</td>\n",
       "      <td>BAO_0000357</td>\n",
       "      <td>...</td>\n",
       "      <td>Homo sapiens</td>\n",
       "      <td>Cytochrome P450 2C19</td>\n",
       "      <td>9606</td>\n",
       "      <td>None</td>\n",
       "      <td>None</td>\n",
       "      <td>IC50</td>\n",
       "      <td>uM</td>\n",
       "      <td>UO_0000065</td>\n",
       "      <td>None</td>\n",
       "      <td>26.0</td>\n",
       "    </tr>\n",
       "    <tr>\n",
       "      <th>2</th>\n",
       "      <td>None</td>\n",
       "      <td>66437</td>\n",
       "      <td>[]</td>\n",
       "      <td>CHEMBL660386</td>\n",
       "      <td>Inhibition of Cytochrome P450 2C19</td>\n",
       "      <td>A</td>\n",
       "      <td>None</td>\n",
       "      <td>None</td>\n",
       "      <td>BAO_0000190</td>\n",
       "      <td>BAO_0000357</td>\n",
       "      <td>...</td>\n",
       "      <td>Homo sapiens</td>\n",
       "      <td>Cytochrome P450 2C19</td>\n",
       "      <td>9606</td>\n",
       "      <td>None</td>\n",
       "      <td>None</td>\n",
       "      <td>IC50</td>\n",
       "      <td>uM</td>\n",
       "      <td>UO_0000065</td>\n",
       "      <td>None</td>\n",
       "      <td>177.0</td>\n",
       "    </tr>\n",
       "  </tbody>\n",
       "</table>\n",
       "<p>3 rows × 45 columns</p>\n",
       "</div>"
      ],
      "text/plain": [
       "  activity_comment  activity_id activity_properties assay_chembl_id  \\\n",
       "0             None        45776                  []    CHEMBL666251   \n",
       "1             None        62460                  []    CHEMBL666251   \n",
       "2             None        66437                  []    CHEMBL660386   \n",
       "\n",
       "                                   assay_description assay_type  \\\n",
       "0  Inhibition of human cytochrome P450 2C19 as S-...          A   \n",
       "1  Inhibition of human cytochrome P450 2C19 as S-...          A   \n",
       "2                 Inhibition of Cytochrome P450 2C19          A   \n",
       "\n",
       "  assay_variant_accession assay_variant_mutation bao_endpoint   bao_format  \\\n",
       "0                    None                   None  BAO_0000190  BAO_0000357   \n",
       "1                    None                   None  BAO_0000190  BAO_0000357   \n",
       "2                    None                   None  BAO_0000190  BAO_0000357   \n",
       "\n",
       "   ... target_organism      target_pref_name target_tax_id text_value  toid  \\\n",
       "0  ...    Homo sapiens  Cytochrome P450 2C19          9606       None  None   \n",
       "1  ...    Homo sapiens  Cytochrome P450 2C19          9606       None  None   \n",
       "2  ...    Homo sapiens  Cytochrome P450 2C19          9606       None  None   \n",
       "\n",
       "   type  units    uo_units upper_value  value  \n",
       "0  IC50     uM  UO_0000065        None   46.0  \n",
       "1  IC50     uM  UO_0000065        None   26.0  \n",
       "2  IC50     uM  UO_0000065        None  177.0  \n",
       "\n",
       "[3 rows x 45 columns]"
      ]
     },
     "execution_count": 6,
     "metadata": {},
     "output_type": "execute_result"
    }
   ],
   "source": [
    "df.head(3)"
   ]
  },
  {
   "cell_type": "markdown",
   "metadata": {
    "colab_type": "text",
    "id": "fQ78N26Fg15T"
   },
   "source": [
    "Enfin, on enregistre les données de bioactivité résultantes dans un fichier CSV : bioactivity_data.csv."
   ]
  },
  {
   "cell_type": "code",
   "execution_count": 7,
   "metadata": {
    "colab": {},
    "colab_type": "code",
    "id": "ZvUUEIVxTOH1"
   },
   "outputs": [],
   "source": [
    "df.to_csv('bioactivity_data_raw.csv', index=False)"
   ]
  },
  {
   "cell_type": "markdown",
   "metadata": {
    "colab_type": "text",
    "id": "_GXMpFNUOn_8"
   },
   "source": [
    "## Gestion des données manquantes\n",
    "\n",
    "Si un composé a une valeur manquante pour la colonne standard_value, alors on ne le sélectionne pas.\n",
    "La standard_value (valeur standard) correspond à la puissance du médicament. Plus la valeur est basse, plus le médicament a d'effet pour inhiber la cible.\n",
    "\n",
    "Ce que l'on cherche c'est la standard_value la plus basse possible : inhiber 50% de la protéine en utilisant un médicament A à une plus faible concentration qu'un médicament B."
   ]
  },
  {
   "cell_type": "code",
   "execution_count": 8,
   "metadata": {
    "colab": {
     "base_uri": "https://localhost:8080/",
     "height": 779
    },
    "colab_type": "code",
    "id": "hkVOdk6ZR396",
    "outputId": "4fa9b1f0-8315-4d3a-8c84-45a61add0196"
   },
   "outputs": [
    {
     "data": {
      "text/html": [
       "<div>\n",
       "<style scoped>\n",
       "    .dataframe tbody tr th:only-of-type {\n",
       "        vertical-align: middle;\n",
       "    }\n",
       "\n",
       "    .dataframe tbody tr th {\n",
       "        vertical-align: top;\n",
       "    }\n",
       "\n",
       "    .dataframe thead th {\n",
       "        text-align: right;\n",
       "    }\n",
       "</style>\n",
       "<table border=\"1\" class=\"dataframe\">\n",
       "  <thead>\n",
       "    <tr style=\"text-align: right;\">\n",
       "      <th></th>\n",
       "      <th>activity_comment</th>\n",
       "      <th>activity_id</th>\n",
       "      <th>activity_properties</th>\n",
       "      <th>assay_chembl_id</th>\n",
       "      <th>assay_description</th>\n",
       "      <th>assay_type</th>\n",
       "      <th>assay_variant_accession</th>\n",
       "      <th>assay_variant_mutation</th>\n",
       "      <th>bao_endpoint</th>\n",
       "      <th>bao_format</th>\n",
       "      <th>...</th>\n",
       "      <th>target_organism</th>\n",
       "      <th>target_pref_name</th>\n",
       "      <th>target_tax_id</th>\n",
       "      <th>text_value</th>\n",
       "      <th>toid</th>\n",
       "      <th>type</th>\n",
       "      <th>units</th>\n",
       "      <th>uo_units</th>\n",
       "      <th>upper_value</th>\n",
       "      <th>value</th>\n",
       "    </tr>\n",
       "  </thead>\n",
       "  <tbody>\n",
       "    <tr>\n",
       "      <th>0</th>\n",
       "      <td>None</td>\n",
       "      <td>45776</td>\n",
       "      <td>[]</td>\n",
       "      <td>CHEMBL666251</td>\n",
       "      <td>Inhibition of human cytochrome P450 2C19 as S-...</td>\n",
       "      <td>A</td>\n",
       "      <td>None</td>\n",
       "      <td>None</td>\n",
       "      <td>BAO_0000190</td>\n",
       "      <td>BAO_0000357</td>\n",
       "      <td>...</td>\n",
       "      <td>Homo sapiens</td>\n",
       "      <td>Cytochrome P450 2C19</td>\n",
       "      <td>9606</td>\n",
       "      <td>None</td>\n",
       "      <td>None</td>\n",
       "      <td>IC50</td>\n",
       "      <td>uM</td>\n",
       "      <td>UO_0000065</td>\n",
       "      <td>None</td>\n",
       "      <td>46.0</td>\n",
       "    </tr>\n",
       "    <tr>\n",
       "      <th>1</th>\n",
       "      <td>None</td>\n",
       "      <td>62460</td>\n",
       "      <td>[]</td>\n",
       "      <td>CHEMBL666251</td>\n",
       "      <td>Inhibition of human cytochrome P450 2C19 as S-...</td>\n",
       "      <td>A</td>\n",
       "      <td>None</td>\n",
       "      <td>None</td>\n",
       "      <td>BAO_0000190</td>\n",
       "      <td>BAO_0000357</td>\n",
       "      <td>...</td>\n",
       "      <td>Homo sapiens</td>\n",
       "      <td>Cytochrome P450 2C19</td>\n",
       "      <td>9606</td>\n",
       "      <td>None</td>\n",
       "      <td>None</td>\n",
       "      <td>IC50</td>\n",
       "      <td>uM</td>\n",
       "      <td>UO_0000065</td>\n",
       "      <td>None</td>\n",
       "      <td>26.0</td>\n",
       "    </tr>\n",
       "    <tr>\n",
       "      <th>2</th>\n",
       "      <td>None</td>\n",
       "      <td>66437</td>\n",
       "      <td>[]</td>\n",
       "      <td>CHEMBL660386</td>\n",
       "      <td>Inhibition of Cytochrome P450 2C19</td>\n",
       "      <td>A</td>\n",
       "      <td>None</td>\n",
       "      <td>None</td>\n",
       "      <td>BAO_0000190</td>\n",
       "      <td>BAO_0000357</td>\n",
       "      <td>...</td>\n",
       "      <td>Homo sapiens</td>\n",
       "      <td>Cytochrome P450 2C19</td>\n",
       "      <td>9606</td>\n",
       "      <td>None</td>\n",
       "      <td>None</td>\n",
       "      <td>IC50</td>\n",
       "      <td>uM</td>\n",
       "      <td>UO_0000065</td>\n",
       "      <td>None</td>\n",
       "      <td>177.0</td>\n",
       "    </tr>\n",
       "    <tr>\n",
       "      <th>3</th>\n",
       "      <td>None</td>\n",
       "      <td>347544</td>\n",
       "      <td>[]</td>\n",
       "      <td>CHEMBL660383</td>\n",
       "      <td>Inhibitory effect on human recombinant liver c...</td>\n",
       "      <td>A</td>\n",
       "      <td>None</td>\n",
       "      <td>None</td>\n",
       "      <td>BAO_0000190</td>\n",
       "      <td>BAO_0000019</td>\n",
       "      <td>...</td>\n",
       "      <td>Homo sapiens</td>\n",
       "      <td>Cytochrome P450 2C19</td>\n",
       "      <td>9606</td>\n",
       "      <td>None</td>\n",
       "      <td>None</td>\n",
       "      <td>IC50</td>\n",
       "      <td>uM</td>\n",
       "      <td>UO_0000065</td>\n",
       "      <td>None</td>\n",
       "      <td>15.0</td>\n",
       "    </tr>\n",
       "    <tr>\n",
       "      <th>4</th>\n",
       "      <td>None</td>\n",
       "      <td>348954</td>\n",
       "      <td>[]</td>\n",
       "      <td>CHEMBL660383</td>\n",
       "      <td>Inhibitory effect on human recombinant liver c...</td>\n",
       "      <td>A</td>\n",
       "      <td>None</td>\n",
       "      <td>None</td>\n",
       "      <td>BAO_0000190</td>\n",
       "      <td>BAO_0000019</td>\n",
       "      <td>...</td>\n",
       "      <td>Homo sapiens</td>\n",
       "      <td>Cytochrome P450 2C19</td>\n",
       "      <td>9606</td>\n",
       "      <td>None</td>\n",
       "      <td>None</td>\n",
       "      <td>IC50</td>\n",
       "      <td>uM</td>\n",
       "      <td>UO_0000065</td>\n",
       "      <td>None</td>\n",
       "      <td>60.0</td>\n",
       "    </tr>\n",
       "    <tr>\n",
       "      <th>...</th>\n",
       "      <td>...</td>\n",
       "      <td>...</td>\n",
       "      <td>...</td>\n",
       "      <td>...</td>\n",
       "      <td>...</td>\n",
       "      <td>...</td>\n",
       "      <td>...</td>\n",
       "      <td>...</td>\n",
       "      <td>...</td>\n",
       "      <td>...</td>\n",
       "      <td>...</td>\n",
       "      <td>...</td>\n",
       "      <td>...</td>\n",
       "      <td>...</td>\n",
       "      <td>...</td>\n",
       "      <td>...</td>\n",
       "      <td>...</td>\n",
       "      <td>...</td>\n",
       "      <td>...</td>\n",
       "      <td>...</td>\n",
       "      <td>...</td>\n",
       "    </tr>\n",
       "    <tr>\n",
       "      <th>4229</th>\n",
       "      <td>None</td>\n",
       "      <td>23308583</td>\n",
       "      <td>[{'comments': None, 'relation': '=', 'result_f...</td>\n",
       "      <td>CHEMBL4843558</td>\n",
       "      <td>Inhibition of CYP2C19 in human liver microsome...</td>\n",
       "      <td>A</td>\n",
       "      <td>None</td>\n",
       "      <td>None</td>\n",
       "      <td>BAO_0000190</td>\n",
       "      <td>BAO_0000251</td>\n",
       "      <td>...</td>\n",
       "      <td>Homo sapiens</td>\n",
       "      <td>Cytochrome P450 2C19</td>\n",
       "      <td>9606</td>\n",
       "      <td>None</td>\n",
       "      <td>None</td>\n",
       "      <td>IC50</td>\n",
       "      <td>uM</td>\n",
       "      <td>UO_0000065</td>\n",
       "      <td>None</td>\n",
       "      <td>1.56</td>\n",
       "    </tr>\n",
       "    <tr>\n",
       "      <th>4230</th>\n",
       "      <td>None</td>\n",
       "      <td>23308584</td>\n",
       "      <td>[{'comments': None, 'relation': '=', 'result_f...</td>\n",
       "      <td>CHEMBL4843558</td>\n",
       "      <td>Inhibition of CYP2C19 in human liver microsome...</td>\n",
       "      <td>A</td>\n",
       "      <td>None</td>\n",
       "      <td>None</td>\n",
       "      <td>BAO_0000190</td>\n",
       "      <td>BAO_0000251</td>\n",
       "      <td>...</td>\n",
       "      <td>Homo sapiens</td>\n",
       "      <td>Cytochrome P450 2C19</td>\n",
       "      <td>9606</td>\n",
       "      <td>None</td>\n",
       "      <td>None</td>\n",
       "      <td>IC50</td>\n",
       "      <td>uM</td>\n",
       "      <td>UO_0000065</td>\n",
       "      <td>None</td>\n",
       "      <td>1.3</td>\n",
       "    </tr>\n",
       "    <tr>\n",
       "      <th>4231</th>\n",
       "      <td>None</td>\n",
       "      <td>23309636</td>\n",
       "      <td>[{'comments': None, 'relation': '=', 'result_f...</td>\n",
       "      <td>CHEMBL4843813</td>\n",
       "      <td>Inhibition of recombinant human CYP2C19 expres...</td>\n",
       "      <td>A</td>\n",
       "      <td>None</td>\n",
       "      <td>None</td>\n",
       "      <td>BAO_0000190</td>\n",
       "      <td>BAO_0000019</td>\n",
       "      <td>...</td>\n",
       "      <td>Homo sapiens</td>\n",
       "      <td>Cytochrome P450 2C19</td>\n",
       "      <td>9606</td>\n",
       "      <td>None</td>\n",
       "      <td>None</td>\n",
       "      <td>IC50</td>\n",
       "      <td>uM</td>\n",
       "      <td>UO_0000065</td>\n",
       "      <td>None</td>\n",
       "      <td>50.0</td>\n",
       "    </tr>\n",
       "    <tr>\n",
       "      <th>4232</th>\n",
       "      <td>None</td>\n",
       "      <td>23313271</td>\n",
       "      <td>[]</td>\n",
       "      <td>CHEMBL4844567</td>\n",
       "      <td>Inhibition of CYP2C19 (unknown origin)</td>\n",
       "      <td>A</td>\n",
       "      <td>None</td>\n",
       "      <td>None</td>\n",
       "      <td>BAO_0000190</td>\n",
       "      <td>BAO_0000357</td>\n",
       "      <td>...</td>\n",
       "      <td>Homo sapiens</td>\n",
       "      <td>Cytochrome P450 2C19</td>\n",
       "      <td>9606</td>\n",
       "      <td>None</td>\n",
       "      <td>None</td>\n",
       "      <td>IC50</td>\n",
       "      <td>uM</td>\n",
       "      <td>UO_0000065</td>\n",
       "      <td>None</td>\n",
       "      <td>10.0</td>\n",
       "    </tr>\n",
       "    <tr>\n",
       "      <th>4233</th>\n",
       "      <td>None</td>\n",
       "      <td>23316317</td>\n",
       "      <td>[{'comments': None, 'relation': '=', 'result_f...</td>\n",
       "      <td>CHEMBL4845308</td>\n",
       "      <td>Inhibition of CYP2C19 in human liver microsome...</td>\n",
       "      <td>A</td>\n",
       "      <td>None</td>\n",
       "      <td>None</td>\n",
       "      <td>BAO_0000190</td>\n",
       "      <td>BAO_0000251</td>\n",
       "      <td>...</td>\n",
       "      <td>Homo sapiens</td>\n",
       "      <td>Cytochrome P450 2C19</td>\n",
       "      <td>9606</td>\n",
       "      <td>None</td>\n",
       "      <td>None</td>\n",
       "      <td>IC50</td>\n",
       "      <td>uM</td>\n",
       "      <td>UO_0000065</td>\n",
       "      <td>None</td>\n",
       "      <td>100.0</td>\n",
       "    </tr>\n",
       "  </tbody>\n",
       "</table>\n",
       "<p>3213 rows × 45 columns</p>\n",
       "</div>"
      ],
      "text/plain": [
       "     activity_comment  activity_id  \\\n",
       "0                None        45776   \n",
       "1                None        62460   \n",
       "2                None        66437   \n",
       "3                None       347544   \n",
       "4                None       348954   \n",
       "...               ...          ...   \n",
       "4229             None     23308583   \n",
       "4230             None     23308584   \n",
       "4231             None     23309636   \n",
       "4232             None     23313271   \n",
       "4233             None     23316317   \n",
       "\n",
       "                                    activity_properties assay_chembl_id  \\\n",
       "0                                                    []    CHEMBL666251   \n",
       "1                                                    []    CHEMBL666251   \n",
       "2                                                    []    CHEMBL660386   \n",
       "3                                                    []    CHEMBL660383   \n",
       "4                                                    []    CHEMBL660383   \n",
       "...                                                 ...             ...   \n",
       "4229  [{'comments': None, 'relation': '=', 'result_f...   CHEMBL4843558   \n",
       "4230  [{'comments': None, 'relation': '=', 'result_f...   CHEMBL4843558   \n",
       "4231  [{'comments': None, 'relation': '=', 'result_f...   CHEMBL4843813   \n",
       "4232                                                 []   CHEMBL4844567   \n",
       "4233  [{'comments': None, 'relation': '=', 'result_f...   CHEMBL4845308   \n",
       "\n",
       "                                      assay_description assay_type  \\\n",
       "0     Inhibition of human cytochrome P450 2C19 as S-...          A   \n",
       "1     Inhibition of human cytochrome P450 2C19 as S-...          A   \n",
       "2                    Inhibition of Cytochrome P450 2C19          A   \n",
       "3     Inhibitory effect on human recombinant liver c...          A   \n",
       "4     Inhibitory effect on human recombinant liver c...          A   \n",
       "...                                                 ...        ...   \n",
       "4229  Inhibition of CYP2C19 in human liver microsome...          A   \n",
       "4230  Inhibition of CYP2C19 in human liver microsome...          A   \n",
       "4231  Inhibition of recombinant human CYP2C19 expres...          A   \n",
       "4232             Inhibition of CYP2C19 (unknown origin)          A   \n",
       "4233  Inhibition of CYP2C19 in human liver microsome...          A   \n",
       "\n",
       "     assay_variant_accession assay_variant_mutation bao_endpoint   bao_format  \\\n",
       "0                       None                   None  BAO_0000190  BAO_0000357   \n",
       "1                       None                   None  BAO_0000190  BAO_0000357   \n",
       "2                       None                   None  BAO_0000190  BAO_0000357   \n",
       "3                       None                   None  BAO_0000190  BAO_0000019   \n",
       "4                       None                   None  BAO_0000190  BAO_0000019   \n",
       "...                      ...                    ...          ...          ...   \n",
       "4229                    None                   None  BAO_0000190  BAO_0000251   \n",
       "4230                    None                   None  BAO_0000190  BAO_0000251   \n",
       "4231                    None                   None  BAO_0000190  BAO_0000019   \n",
       "4232                    None                   None  BAO_0000190  BAO_0000357   \n",
       "4233                    None                   None  BAO_0000190  BAO_0000251   \n",
       "\n",
       "      ... target_organism      target_pref_name target_tax_id text_value  \\\n",
       "0     ...    Homo sapiens  Cytochrome P450 2C19          9606       None   \n",
       "1     ...    Homo sapiens  Cytochrome P450 2C19          9606       None   \n",
       "2     ...    Homo sapiens  Cytochrome P450 2C19          9606       None   \n",
       "3     ...    Homo sapiens  Cytochrome P450 2C19          9606       None   \n",
       "4     ...    Homo sapiens  Cytochrome P450 2C19          9606       None   \n",
       "...   ...             ...                   ...           ...        ...   \n",
       "4229  ...    Homo sapiens  Cytochrome P450 2C19          9606       None   \n",
       "4230  ...    Homo sapiens  Cytochrome P450 2C19          9606       None   \n",
       "4231  ...    Homo sapiens  Cytochrome P450 2C19          9606       None   \n",
       "4232  ...    Homo sapiens  Cytochrome P450 2C19          9606       None   \n",
       "4233  ...    Homo sapiens  Cytochrome P450 2C19          9606       None   \n",
       "\n",
       "      toid  type  units    uo_units upper_value  value  \n",
       "0     None  IC50     uM  UO_0000065        None   46.0  \n",
       "1     None  IC50     uM  UO_0000065        None   26.0  \n",
       "2     None  IC50     uM  UO_0000065        None  177.0  \n",
       "3     None  IC50     uM  UO_0000065        None   15.0  \n",
       "4     None  IC50     uM  UO_0000065        None   60.0  \n",
       "...    ...   ...    ...         ...         ...    ...  \n",
       "4229  None  IC50     uM  UO_0000065        None   1.56  \n",
       "4230  None  IC50     uM  UO_0000065        None    1.3  \n",
       "4231  None  IC50     uM  UO_0000065        None   50.0  \n",
       "4232  None  IC50     uM  UO_0000065        None   10.0  \n",
       "4233  None  IC50     uM  UO_0000065        None  100.0  \n",
       "\n",
       "[3213 rows x 45 columns]"
      ]
     },
     "execution_count": 8,
     "metadata": {},
     "output_type": "execute_result"
    }
   ],
   "source": [
    "df2 = df[df.standard_value.notna()]\n",
    "df2"
   ]
  },
  {
   "cell_type": "markdown",
   "metadata": {
    "colab_type": "text",
    "id": "Y-qNsUlmjS25"
   },
   "source": [
    "Il n'y a 76 données manquantes."
   ]
  },
  {
   "cell_type": "markdown",
   "metadata": {
    "colab_type": "text",
    "id": "5H4sSFAWhV9B"
   },
   "source": [
    "## Pré-traitement des données de bioactivité"
   ]
  },
  {
   "cell_type": "markdown",
   "metadata": {
    "colab_type": "text",
    "id": "tO22XVlzhkXR"
   },
   "source": [
    "### Labellisation des composés comme étant soit actifs, soit inactifs, soit intermédiaires\n",
    "\n",
    "- Les données relatives à la bioactivité sont exprimées dans l'unité IC50.\n",
    "- Les composés dont les valeurs sont inférieures à 1000 nM seront considérés comme actifs.\n",
    "- Les composés dont les valeurs sont comprises entre 1 000 et 10 000 nM seront qualifiées de intermédiaires. \n",
    "- Les composés dont les valeurs sont supérieures à 10 000 nM seront considérés comme inactifs."
   ]
  },
  {
   "cell_type": "code",
   "execution_count": 9,
   "metadata": {
    "colab": {},
    "colab_type": "code",
    "id": "1E8rz7oMOd-5"
   },
   "outputs": [],
   "source": [
    "bioactivity_class = []\n",
    "for i in df2.standard_value:\n",
    "  if float(i) >= 10000:\n",
    "    bioactivity_class.append(\"inactive\")\n",
    "  elif float(i) <= 1000:\n",
    "    bioactivity_class.append(\"active\")\n",
    "  else:\n",
    "    bioactivity_class.append(\"intermediate\")"
   ]
  },
  {
   "cell_type": "markdown",
   "metadata": {
    "colab_type": "text",
    "id": "Nv2dzid_hzKd"
   },
   "source": [
    "### Data structure - combiner les 3 colonnes (molecule_chembl_id, canonical_smiles, standard_value) et bioactivity_class dans un DataFrame"
   ]
  },
  {
   "cell_type": "code",
   "execution_count": 10,
   "metadata": {
    "colab": {
     "base_uri": "https://localhost:8080/",
     "height": 419
    },
    "colab_type": "code",
    "id": "0NCLYmrASgha",
    "outputId": "f9e7f7b7-6109-48b3-be3f-372e129a370a"
   },
   "outputs": [
    {
     "data": {
      "text/html": [
       "<div>\n",
       "<style scoped>\n",
       "    .dataframe tbody tr th:only-of-type {\n",
       "        vertical-align: middle;\n",
       "    }\n",
       "\n",
       "    .dataframe tbody tr th {\n",
       "        vertical-align: top;\n",
       "    }\n",
       "\n",
       "    .dataframe thead th {\n",
       "        text-align: right;\n",
       "    }\n",
       "</style>\n",
       "<table border=\"1\" class=\"dataframe\">\n",
       "  <thead>\n",
       "    <tr style=\"text-align: right;\">\n",
       "      <th></th>\n",
       "      <th>molecule_chembl_id</th>\n",
       "      <th>canonical_smiles</th>\n",
       "      <th>standard_value</th>\n",
       "    </tr>\n",
       "  </thead>\n",
       "  <tbody>\n",
       "    <tr>\n",
       "      <th>0</th>\n",
       "      <td>CHEMBL341591</td>\n",
       "      <td>CC12CCC(O)CC1=CCC1C2CCC2(C)C(CC3CN3)CCC12</td>\n",
       "      <td>7100.0</td>\n",
       "    </tr>\n",
       "    <tr>\n",
       "      <th>1</th>\n",
       "      <td>CHEMBL2111947</td>\n",
       "      <td>C[C@]12CC[C@H]3[C@@H](CC=C4C[C@@H](O)CC[C@@]43...</td>\n",
       "      <td>50000.0</td>\n",
       "    </tr>\n",
       "    <tr>\n",
       "      <th>2</th>\n",
       "      <td>CHEMBL431859</td>\n",
       "      <td>CCn1c(C(c2ccc(F)cc2)n2ccnc2)c(C)c2cc(Br)ccc21</td>\n",
       "      <td>238.0</td>\n",
       "    </tr>\n",
       "    <tr>\n",
       "      <th>3</th>\n",
       "      <td>CHEMBL113637</td>\n",
       "      <td>CCn1cc(C(c2ccc(F)cc2)n2ccnc2)c2ccccc21</td>\n",
       "      <td>57.0</td>\n",
       "    </tr>\n",
       "    <tr>\n",
       "      <th>4</th>\n",
       "      <td>CHEMBL112021</td>\n",
       "      <td>Clc1ccccc1Cn1cc(Cn2ccnc2)c2ccccc21</td>\n",
       "      <td>54.0</td>\n",
       "    </tr>\n",
       "    <tr>\n",
       "      <th>...</th>\n",
       "      <td>...</td>\n",
       "      <td>...</td>\n",
       "      <td>...</td>\n",
       "    </tr>\n",
       "    <tr>\n",
       "      <th>2907</th>\n",
       "      <td>CHEMBL4874928</td>\n",
       "      <td>C=C[C@@]1(C)CC(=O)C2=C(CC[C@H]3C(C)(C)CCC[C@]2...</td>\n",
       "      <td>7900.0</td>\n",
       "    </tr>\n",
       "    <tr>\n",
       "      <th>2908</th>\n",
       "      <td>CHEMBL4852023</td>\n",
       "      <td>CC(C)c1cc(O)c2c(c1)CC[C@H]1C(C)(C)CCC[C@]21C</td>\n",
       "      <td>3700.0</td>\n",
       "    </tr>\n",
       "    <tr>\n",
       "      <th>2909</th>\n",
       "      <td>CHEMBL75</td>\n",
       "      <td>CC(=O)N1CCN(c2ccc(OC[C@H]3CO[C@](Cn4ccnc4)(c4c...</td>\n",
       "      <td>2400.0</td>\n",
       "    </tr>\n",
       "    <tr>\n",
       "      <th>2910</th>\n",
       "      <td>CHEMBL1200374</td>\n",
       "      <td>C=C1C[C@@H]2[C@H](CC[C@]3(C)C(=O)CC[C@@H]23)[C...</td>\n",
       "      <td>23.0</td>\n",
       "    </tr>\n",
       "    <tr>\n",
       "      <th>2911</th>\n",
       "      <td>CHEMBL1444</td>\n",
       "      <td>N#Cc1ccc(C(c2ccc(C#N)cc2)n2cncn2)cc1</td>\n",
       "      <td>1.0</td>\n",
       "    </tr>\n",
       "  </tbody>\n",
       "</table>\n",
       "<p>2836 rows × 3 columns</p>\n",
       "</div>"
      ],
      "text/plain": [
       "     molecule_chembl_id                                   canonical_smiles  \\\n",
       "0          CHEMBL341591          CC12CCC(O)CC1=CCC1C2CCC2(C)C(CC3CN3)CCC12   \n",
       "1         CHEMBL2111947  C[C@]12CC[C@H]3[C@@H](CC=C4C[C@@H](O)CC[C@@]43...   \n",
       "2          CHEMBL431859      CCn1c(C(c2ccc(F)cc2)n2ccnc2)c(C)c2cc(Br)ccc21   \n",
       "3          CHEMBL113637             CCn1cc(C(c2ccc(F)cc2)n2ccnc2)c2ccccc21   \n",
       "4          CHEMBL112021                 Clc1ccccc1Cn1cc(Cn2ccnc2)c2ccccc21   \n",
       "...                 ...                                                ...   \n",
       "2907      CHEMBL4874928  C=C[C@@]1(C)CC(=O)C2=C(CC[C@H]3C(C)(C)CCC[C@]2...   \n",
       "2908      CHEMBL4852023       CC(C)c1cc(O)c2c(c1)CC[C@H]1C(C)(C)CCC[C@]21C   \n",
       "2909           CHEMBL75  CC(=O)N1CCN(c2ccc(OC[C@H]3CO[C@](Cn4ccnc4)(c4c...   \n",
       "2910      CHEMBL1200374  C=C1C[C@@H]2[C@H](CC[C@]3(C)C(=O)CC[C@@H]23)[C...   \n",
       "2911         CHEMBL1444               N#Cc1ccc(C(c2ccc(C#N)cc2)n2cncn2)cc1   \n",
       "\n",
       "     standard_value  \n",
       "0            7100.0  \n",
       "1           50000.0  \n",
       "2             238.0  \n",
       "3              57.0  \n",
       "4              54.0  \n",
       "...             ...  \n",
       "2907         7900.0  \n",
       "2908         3700.0  \n",
       "2909         2400.0  \n",
       "2910           23.0  \n",
       "2911            1.0  \n",
       "\n",
       "[2836 rows x 3 columns]"
      ]
     },
     "execution_count": 10,
     "metadata": {},
     "output_type": "execute_result"
    }
   ],
   "source": [
    "selection = ['molecule_chembl_id','canonical_smiles','standard_value']\n",
    "df3 = df2[selection]\n",
    "df3"
   ]
  },
  {
   "cell_type": "code",
   "execution_count": 11,
   "metadata": {
    "colab": {
     "base_uri": "https://localhost:8080/",
     "height": 419
    },
    "colab_type": "code",
    "id": "Li64nUiZQ-y2",
    "outputId": "3b92122f-8a72-4282-a499-f3ef276b6c87"
   },
   "outputs": [
    {
     "data": {
      "text/html": [
       "<div>\n",
       "<style scoped>\n",
       "    .dataframe tbody tr th:only-of-type {\n",
       "        vertical-align: middle;\n",
       "    }\n",
       "\n",
       "    .dataframe tbody tr th {\n",
       "        vertical-align: top;\n",
       "    }\n",
       "\n",
       "    .dataframe thead th {\n",
       "        text-align: right;\n",
       "    }\n",
       "</style>\n",
       "<table border=\"1\" class=\"dataframe\">\n",
       "  <thead>\n",
       "    <tr style=\"text-align: right;\">\n",
       "      <th></th>\n",
       "      <th>molecule_chembl_id</th>\n",
       "      <th>canonical_smiles</th>\n",
       "      <th>standard_value</th>\n",
       "      <th>bioactivity_class</th>\n",
       "    </tr>\n",
       "  </thead>\n",
       "  <tbody>\n",
       "    <tr>\n",
       "      <th>0</th>\n",
       "      <td>CHEMBL341591</td>\n",
       "      <td>CC12CCC(O)CC1=CCC1C2CCC2(C)C(CC3CN3)CCC12</td>\n",
       "      <td>7100.0</td>\n",
       "      <td>intermediate</td>\n",
       "    </tr>\n",
       "    <tr>\n",
       "      <th>1</th>\n",
       "      <td>CHEMBL2111947</td>\n",
       "      <td>C[C@]12CC[C@H]3[C@@H](CC=C4C[C@@H](O)CC[C@@]43...</td>\n",
       "      <td>50000.0</td>\n",
       "      <td>inactive</td>\n",
       "    </tr>\n",
       "    <tr>\n",
       "      <th>2</th>\n",
       "      <td>CHEMBL431859</td>\n",
       "      <td>CCn1c(C(c2ccc(F)cc2)n2ccnc2)c(C)c2cc(Br)ccc21</td>\n",
       "      <td>238.0</td>\n",
       "      <td>active</td>\n",
       "    </tr>\n",
       "    <tr>\n",
       "      <th>3</th>\n",
       "      <td>CHEMBL113637</td>\n",
       "      <td>CCn1cc(C(c2ccc(F)cc2)n2ccnc2)c2ccccc21</td>\n",
       "      <td>57.0</td>\n",
       "      <td>active</td>\n",
       "    </tr>\n",
       "    <tr>\n",
       "      <th>4</th>\n",
       "      <td>CHEMBL112021</td>\n",
       "      <td>Clc1ccccc1Cn1cc(Cn2ccnc2)c2ccccc21</td>\n",
       "      <td>54.0</td>\n",
       "      <td>active</td>\n",
       "    </tr>\n",
       "    <tr>\n",
       "      <th>...</th>\n",
       "      <td>...</td>\n",
       "      <td>...</td>\n",
       "      <td>...</td>\n",
       "      <td>...</td>\n",
       "    </tr>\n",
       "    <tr>\n",
       "      <th>2197</th>\n",
       "      <td>NaN</td>\n",
       "      <td>NaN</td>\n",
       "      <td>NaN</td>\n",
       "      <td>inactive</td>\n",
       "    </tr>\n",
       "    <tr>\n",
       "      <th>2215</th>\n",
       "      <td>NaN</td>\n",
       "      <td>NaN</td>\n",
       "      <td>NaN</td>\n",
       "      <td>inactive</td>\n",
       "    </tr>\n",
       "    <tr>\n",
       "      <th>2217</th>\n",
       "      <td>NaN</td>\n",
       "      <td>NaN</td>\n",
       "      <td>NaN</td>\n",
       "      <td>inactive</td>\n",
       "    </tr>\n",
       "    <tr>\n",
       "      <th>2338</th>\n",
       "      <td>NaN</td>\n",
       "      <td>NaN</td>\n",
       "      <td>NaN</td>\n",
       "      <td>active</td>\n",
       "    </tr>\n",
       "    <tr>\n",
       "      <th>2765</th>\n",
       "      <td>NaN</td>\n",
       "      <td>NaN</td>\n",
       "      <td>NaN</td>\n",
       "      <td>intermediate</td>\n",
       "    </tr>\n",
       "  </tbody>\n",
       "</table>\n",
       "<p>2912 rows × 4 columns</p>\n",
       "</div>"
      ],
      "text/plain": [
       "     molecule_chembl_id                                   canonical_smiles  \\\n",
       "0          CHEMBL341591          CC12CCC(O)CC1=CCC1C2CCC2(C)C(CC3CN3)CCC12   \n",
       "1         CHEMBL2111947  C[C@]12CC[C@H]3[C@@H](CC=C4C[C@@H](O)CC[C@@]43...   \n",
       "2          CHEMBL431859      CCn1c(C(c2ccc(F)cc2)n2ccnc2)c(C)c2cc(Br)ccc21   \n",
       "3          CHEMBL113637             CCn1cc(C(c2ccc(F)cc2)n2ccnc2)c2ccccc21   \n",
       "4          CHEMBL112021                 Clc1ccccc1Cn1cc(Cn2ccnc2)c2ccccc21   \n",
       "...                 ...                                                ...   \n",
       "2197                NaN                                                NaN   \n",
       "2215                NaN                                                NaN   \n",
       "2217                NaN                                                NaN   \n",
       "2338                NaN                                                NaN   \n",
       "2765                NaN                                                NaN   \n",
       "\n",
       "     standard_value bioactivity_class  \n",
       "0            7100.0      intermediate  \n",
       "1           50000.0          inactive  \n",
       "2             238.0            active  \n",
       "3              57.0            active  \n",
       "4              54.0            active  \n",
       "...             ...               ...  \n",
       "2197            NaN          inactive  \n",
       "2215            NaN          inactive  \n",
       "2217            NaN          inactive  \n",
       "2338            NaN            active  \n",
       "2765            NaN      intermediate  \n",
       "\n",
       "[2912 rows x 4 columns]"
      ]
     },
     "execution_count": 11,
     "metadata": {},
     "output_type": "execute_result"
    }
   ],
   "source": [
    "bioactivity_class = pd.Series(bioactivity_class, name='bioactivity_class')\n",
    "df4 = pd.concat([df3, bioactivity_class], axis=1)\n",
    "df4"
   ]
  },
  {
   "cell_type": "markdown",
   "metadata": {
    "colab_type": "text",
    "id": "9tlgyexWh7YJ"
   },
   "source": [
    "Sauvegarde des données dans un fichier CSV"
   ]
  },
  {
   "cell_type": "code",
   "execution_count": 17,
   "metadata": {
    "colab": {},
    "colab_type": "code",
    "id": "nSNia7suXstR"
   },
   "outputs": [
    {
     "ename": "NameError",
     "evalue": "name 'df4' is not defined",
     "output_type": "error",
     "traceback": [
      "\u001b[0;31m---------------------------------------------------------------------------\u001b[0m",
      "\u001b[0;31mNameError\u001b[0m                                 Traceback (most recent call last)",
      "\u001b[0;32m/var/folders/x6/s9n1t1mx51b4hcjmxgn9t_z80000gn/T/ipykernel_81912/1757113980.py\u001b[0m in \u001b[0;36m<module>\u001b[0;34m\u001b[0m\n\u001b[0;32m----> 1\u001b[0;31m \u001b[0mdf4\u001b[0m\u001b[0;34m.\u001b[0m\u001b[0mto_csv\u001b[0m\u001b[0;34m(\u001b[0m\u001b[0;34m'bioactivity_data_preprocessed.csv'\u001b[0m\u001b[0;34m,\u001b[0m \u001b[0mindex\u001b[0m\u001b[0;34m=\u001b[0m\u001b[0;32mFalse\u001b[0m\u001b[0;34m)\u001b[0m\u001b[0;34m\u001b[0m\u001b[0;34m\u001b[0m\u001b[0m\n\u001b[0m",
      "\u001b[0;31mNameError\u001b[0m: name 'df4' is not defined"
     ]
    }
   ],
   "source": [
    "df4.to_csv('bioactivity_data_preprocessed.csv', index=False)"
   ]
  },
  {
   "cell_type": "code",
   "execution_count": 13,
   "metadata": {},
   "outputs": [
    {
     "name": "stdout",
     "output_type": "stream",
     "text": [
      "-rw-r--r--@ 1 oussama  staff   204598  6 jan 10:27 bioactivity_data_preprocessed.csv\r\n",
      "-rw-r--r--  1 oussama  staff  1445319  6 jan 10:27 bioactivity_data_raw.csv\r\n"
     ]
    }
   ],
   "source": [
    "! ls -l | grep bioactivity"
   ]
  },
  {
   "cell_type": "markdown",
   "metadata": {
    "colab_type": "text",
    "id": "o-4IOizard4P"
   },
   "source": [
    "## Calcul des descripteurs et analyse des données exploratoires"
   ]
  },
  {
   "cell_type": "code",
   "execution_count": 1,
   "metadata": {
    "colab": {
     "base_uri": "https://localhost:8080/",
     "height": 1000
    },
    "colab_type": "code",
    "id": "H0mjQ2PcrSe5",
    "outputId": "8d2fe1f6-38d8-4733-ce31-665ae4502230"
   },
   "outputs": [],
   "source": [
    "# Install rdkit ; il faut changer d'environnement car il y a des problèmes de compatibilités\n",
    "# ! conda create -c rdkit -n test python=3.7 rdkit -y\n",
    "import sys\n",
    "sys.path.append('/usr/local/lib/python3.7/site-packages/')"
   ]
  },
  {
   "cell_type": "markdown",
   "metadata": {
    "colab_type": "text",
    "id": "QmxXXFa4wTNG"
   },
   "source": [
    "## Chargement des données de bioactivité précédentes"
   ]
  },
  {
   "cell_type": "code",
   "execution_count": 1,
   "metadata": {
    "colab": {},
    "colab_type": "code",
    "id": "Fpu5C7HlwV9s"
   },
   "outputs": [],
   "source": [
    "import pandas as pd\n",
    "import numpy as np"
   ]
  },
  {
   "cell_type": "code",
   "execution_count": 73,
   "metadata": {
    "colab": {},
    "colab_type": "code",
    "id": "GCcE8J5XwjtB"
   },
   "outputs": [
    {
     "data": {
      "text/html": [
       "<div>\n",
       "<style scoped>\n",
       "    .dataframe tbody tr th:only-of-type {\n",
       "        vertical-align: middle;\n",
       "    }\n",
       "\n",
       "    .dataframe tbody tr th {\n",
       "        vertical-align: top;\n",
       "    }\n",
       "\n",
       "    .dataframe thead th {\n",
       "        text-align: right;\n",
       "    }\n",
       "</style>\n",
       "<table border=\"1\" class=\"dataframe\">\n",
       "  <thead>\n",
       "    <tr style=\"text-align: right;\">\n",
       "      <th></th>\n",
       "      <th>molecule_chembl_id</th>\n",
       "      <th>canonical_smiles</th>\n",
       "      <th>standard_value</th>\n",
       "      <th>bioactivity_class</th>\n",
       "    </tr>\n",
       "  </thead>\n",
       "  <tbody>\n",
       "    <tr>\n",
       "      <th>0</th>\n",
       "      <td>CHEMBL341591</td>\n",
       "      <td>CC12CCC(O)CC1=CCC1C2CCC2(C)C(CC3CN3)CCC12</td>\n",
       "      <td>7100.0</td>\n",
       "      <td>intermediate</td>\n",
       "    </tr>\n",
       "    <tr>\n",
       "      <th>1</th>\n",
       "      <td>CHEMBL2111947</td>\n",
       "      <td>C[C@]12CC[C@H]3[C@@H](CC=C4C[C@@H](O)CC[C@@]43...</td>\n",
       "      <td>50000.0</td>\n",
       "      <td>inactive</td>\n",
       "    </tr>\n",
       "    <tr>\n",
       "      <th>2</th>\n",
       "      <td>CHEMBL431859</td>\n",
       "      <td>CCn1c(C(c2ccc(F)cc2)n2ccnc2)c(C)c2cc(Br)ccc21</td>\n",
       "      <td>238.0</td>\n",
       "      <td>active</td>\n",
       "    </tr>\n",
       "    <tr>\n",
       "      <th>3</th>\n",
       "      <td>CHEMBL113637</td>\n",
       "      <td>CCn1cc(C(c2ccc(F)cc2)n2ccnc2)c2ccccc21</td>\n",
       "      <td>57.0</td>\n",
       "      <td>active</td>\n",
       "    </tr>\n",
       "    <tr>\n",
       "      <th>4</th>\n",
       "      <td>CHEMBL112021</td>\n",
       "      <td>Clc1ccccc1Cn1cc(Cn2ccnc2)c2ccccc21</td>\n",
       "      <td>54.0</td>\n",
       "      <td>active</td>\n",
       "    </tr>\n",
       "    <tr>\n",
       "      <th>...</th>\n",
       "      <td>...</td>\n",
       "      <td>...</td>\n",
       "      <td>...</td>\n",
       "      <td>...</td>\n",
       "    </tr>\n",
       "    <tr>\n",
       "      <th>2831</th>\n",
       "      <td>CHEMBL4874928</td>\n",
       "      <td>C=C[C@@]1(C)CC(=O)C2=C(CC[C@H]3C(C)(C)CCC[C@]2...</td>\n",
       "      <td>7900.0</td>\n",
       "      <td>NaN</td>\n",
       "    </tr>\n",
       "    <tr>\n",
       "      <th>2832</th>\n",
       "      <td>CHEMBL4852023</td>\n",
       "      <td>CC(C)c1cc(O)c2c(c1)CC[C@H]1C(C)(C)CCC[C@]21C</td>\n",
       "      <td>3700.0</td>\n",
       "      <td>NaN</td>\n",
       "    </tr>\n",
       "    <tr>\n",
       "      <th>2833</th>\n",
       "      <td>CHEMBL75</td>\n",
       "      <td>CC(=O)N1CCN(c2ccc(OC[C@H]3CO[C@](Cn4ccnc4)(c4c...</td>\n",
       "      <td>2400.0</td>\n",
       "      <td>NaN</td>\n",
       "    </tr>\n",
       "    <tr>\n",
       "      <th>2834</th>\n",
       "      <td>CHEMBL1200374</td>\n",
       "      <td>C=C1C[C@@H]2[C@H](CC[C@]3(C)C(=O)CC[C@@H]23)[C...</td>\n",
       "      <td>23.0</td>\n",
       "      <td>NaN</td>\n",
       "    </tr>\n",
       "    <tr>\n",
       "      <th>2835</th>\n",
       "      <td>CHEMBL1444</td>\n",
       "      <td>N#Cc1ccc(C(c2ccc(C#N)cc2)n2cncn2)cc1</td>\n",
       "      <td>1.0</td>\n",
       "      <td>NaN</td>\n",
       "    </tr>\n",
       "  </tbody>\n",
       "</table>\n",
       "<p>2836 rows × 4 columns</p>\n",
       "</div>"
      ],
      "text/plain": [
       "     molecule_chembl_id                                   canonical_smiles  \\\n",
       "0          CHEMBL341591          CC12CCC(O)CC1=CCC1C2CCC2(C)C(CC3CN3)CCC12   \n",
       "1         CHEMBL2111947  C[C@]12CC[C@H]3[C@@H](CC=C4C[C@@H](O)CC[C@@]43...   \n",
       "2          CHEMBL431859      CCn1c(C(c2ccc(F)cc2)n2ccnc2)c(C)c2cc(Br)ccc21   \n",
       "3          CHEMBL113637             CCn1cc(C(c2ccc(F)cc2)n2ccnc2)c2ccccc21   \n",
       "4          CHEMBL112021                 Clc1ccccc1Cn1cc(Cn2ccnc2)c2ccccc21   \n",
       "...                 ...                                                ...   \n",
       "2831      CHEMBL4874928  C=C[C@@]1(C)CC(=O)C2=C(CC[C@H]3C(C)(C)CCC[C@]2...   \n",
       "2832      CHEMBL4852023       CC(C)c1cc(O)c2c(c1)CC[C@H]1C(C)(C)CCC[C@]21C   \n",
       "2833           CHEMBL75  CC(=O)N1CCN(c2ccc(OC[C@H]3CO[C@](Cn4ccnc4)(c4c...   \n",
       "2834      CHEMBL1200374  C=C1C[C@@H]2[C@H](CC[C@]3(C)C(=O)CC[C@@H]23)[C...   \n",
       "2835         CHEMBL1444               N#Cc1ccc(C(c2ccc(C#N)cc2)n2cncn2)cc1   \n",
       "\n",
       "      standard_value bioactivity_class  \n",
       "0             7100.0      intermediate  \n",
       "1            50000.0          inactive  \n",
       "2              238.0            active  \n",
       "3               57.0            active  \n",
       "4               54.0            active  \n",
       "...              ...               ...  \n",
       "2831          7900.0               NaN  \n",
       "2832          3700.0               NaN  \n",
       "2833          2400.0               NaN  \n",
       "2834            23.0               NaN  \n",
       "2835             1.0               NaN  \n",
       "\n",
       "[2836 rows x 4 columns]"
      ]
     },
     "execution_count": 73,
     "metadata": {},
     "output_type": "execute_result"
    }
   ],
   "source": [
    "df = pd.read_csv('bioactivity_data_preprocessed.csv')\n",
    "df = df[df.canonical_smiles.notna()] # les données NAN perturbent lipinski()\n",
    "df"
   ]
  },
  {
   "cell_type": "markdown",
   "metadata": {
    "colab_type": "text",
    "id": "YzN_S4Quro5S"
   },
   "source": [
    "## Calculer les descripteurs de Lipinski\n",
    "\n",
    "Christopher Lipinski, un scientifique de Pfizer, a mis au point un ensemble de règles empiriques pour évaluer le caractère \"médicamenteux\" des composés.\n",
    "\n",
    "Ce caractère médicamenteux est basé sur l'absorption, la distribution, le métabolisme et l'excrétion (ADME), également connu sous le nom de profil pharmacocinétique. Lipinski a analysé tous les médicaments oralement actifs approuvés par la FDA pour formuler ce qui sera connu sous le nom de \"Rule-of-Five\" ou \"Lipinski's Rule\".\n",
    "\n",
    "La règle de Lipinski stipulait ce qui suit :\n",
    "- Poids moléculaire < 500 Dalton\n",
    "- coefficient de partage octanol-eau (LogP) < 5\n",
    "- Donneurs de liaisons hydrogènes < 5\n",
    "- Accepteurs de liaisons hydrogènes < 10 \n",
    "\n",
    "Lipinski CA. Lead- and drug-like compounds: the rule-of-five revolution. Drug Discov Today Technol. 2004 Dec;1(4):337-41. doi: 10.1016/j.ddtec.2004.11.007. PMID: 24981612."
   ]
  },
  {
   "cell_type": "markdown",
   "metadata": {
    "colab_type": "text",
    "id": "9qn_eQcnxY7C"
   },
   "source": [
    "### Libraries"
   ]
  },
  {
   "cell_type": "code",
   "execution_count": 4,
   "metadata": {
    "colab": {},
    "colab_type": "code",
    "id": "CgBjIdT-rnRU"
   },
   "outputs": [],
   "source": [
    "from rdkit import Chem\n",
    "from rdkit.Chem import Descriptors, Lipinski"
   ]
  },
  {
   "cell_type": "markdown",
   "metadata": {
    "colab_type": "text",
    "id": "JsgTV-ByxdMa"
   },
   "source": [
    "### Calculer les descripteurs"
   ]
  },
  {
   "cell_type": "code",
   "execution_count": 25,
   "metadata": {
    "colab": {},
    "colab_type": "code",
    "id": "bCXEY7a9ugO_"
   },
   "outputs": [],
   "source": [
    "# Inspiré par codeocean\n",
    "# https://codeocean.com/explore/capsules?query=tag:data-curation\n",
    "\n",
    "def lipinski(smiles, verbose=False):\n",
    "\n",
    "    moldata= []\n",
    "    for elem in smiles:\n",
    "        mol=Chem.MolFromSmiles(elem) \n",
    "        moldata.append(mol)\n",
    "       \n",
    "    baseData= np.arange(1,1)\n",
    "    i=0  \n",
    "    for mol in moldata:        \n",
    "       \n",
    "        desc_MolWt = Descriptors.MolWt(mol)\n",
    "        desc_MolLogP = Descriptors.MolLogP(mol)\n",
    "        desc_NumHDonors = Lipinski.NumHDonors(mol)\n",
    "        desc_NumHAcceptors = Lipinski.NumHAcceptors(mol)\n",
    "           \n",
    "        row = np.array([desc_MolWt,\n",
    "                        desc_MolLogP,\n",
    "                        desc_NumHDonors,\n",
    "                        desc_NumHAcceptors])   \n",
    "    \n",
    "        if(i==0):\n",
    "            baseData=row\n",
    "        else:\n",
    "            baseData=np.vstack([baseData, row])\n",
    "        i=i+1      \n",
    "    \n",
    "    columnNames=[\"MW\",\"LogP\",\"NumHDonors\",\"NumHAcceptors\"]   \n",
    "    descriptors = pd.DataFrame(data=baseData,columns=columnNames)\n",
    "    \n",
    "    return descriptors"
   ]
  },
  {
   "cell_type": "code",
   "execution_count": 26,
   "metadata": {
    "colab": {},
    "colab_type": "code",
    "id": "ThFIFw8IukMY"
   },
   "outputs": [],
   "source": [
    "df_lipinski = lipinski(df.canonical_smiles)"
   ]
  },
  {
   "cell_type": "markdown",
   "metadata": {
    "colab_type": "text",
    "id": "gUMlPfFrxicj"
   },
   "source": [
    "### Combiner les DataFrames"
   ]
  },
  {
   "cell_type": "code",
   "execution_count": 27,
   "metadata": {
    "colab": {
     "base_uri": "https://localhost:8080/",
     "height": 415
    },
    "colab_type": "code",
    "id": "DaezyM5vwp9n",
    "outputId": "fb750119-b086-4d9d-e9f7-190833e4dc74"
   },
   "outputs": [
    {
     "data": {
      "text/html": [
       "<div>\n",
       "<style scoped>\n",
       "    .dataframe tbody tr th:only-of-type {\n",
       "        vertical-align: middle;\n",
       "    }\n",
       "\n",
       "    .dataframe tbody tr th {\n",
       "        vertical-align: top;\n",
       "    }\n",
       "\n",
       "    .dataframe thead th {\n",
       "        text-align: right;\n",
       "    }\n",
       "</style>\n",
       "<table border=\"1\" class=\"dataframe\">\n",
       "  <thead>\n",
       "    <tr style=\"text-align: right;\">\n",
       "      <th></th>\n",
       "      <th>MW</th>\n",
       "      <th>LogP</th>\n",
       "      <th>NumHDonors</th>\n",
       "      <th>NumHAcceptors</th>\n",
       "    </tr>\n",
       "  </thead>\n",
       "  <tbody>\n",
       "    <tr>\n",
       "      <th>0</th>\n",
       "      <td>329.528</td>\n",
       "      <td>4.28820</td>\n",
       "      <td>2.0</td>\n",
       "      <td>2.0</td>\n",
       "    </tr>\n",
       "    <tr>\n",
       "      <th>1</th>\n",
       "      <td>315.501</td>\n",
       "      <td>3.89810</td>\n",
       "      <td>2.0</td>\n",
       "      <td>2.0</td>\n",
       "    </tr>\n",
       "    <tr>\n",
       "      <th>2</th>\n",
       "      <td>412.306</td>\n",
       "      <td>5.70542</td>\n",
       "      <td>0.0</td>\n",
       "      <td>3.0</td>\n",
       "    </tr>\n",
       "    <tr>\n",
       "      <th>3</th>\n",
       "      <td>319.383</td>\n",
       "      <td>4.63450</td>\n",
       "      <td>0.0</td>\n",
       "      <td>3.0</td>\n",
       "    </tr>\n",
       "    <tr>\n",
       "      <th>4</th>\n",
       "      <td>321.811</td>\n",
       "      <td>4.58780</td>\n",
       "      <td>0.0</td>\n",
       "      <td>3.0</td>\n",
       "    </tr>\n",
       "    <tr>\n",
       "      <th>...</th>\n",
       "      <td>...</td>\n",
       "      <td>...</td>\n",
       "      <td>...</td>\n",
       "      <td>...</td>\n",
       "    </tr>\n",
       "    <tr>\n",
       "      <th>2831</th>\n",
       "      <td>286.459</td>\n",
       "      <td>5.46460</td>\n",
       "      <td>0.0</td>\n",
       "      <td>1.0</td>\n",
       "    </tr>\n",
       "    <tr>\n",
       "      <th>2832</th>\n",
       "      <td>286.459</td>\n",
       "      <td>5.54580</td>\n",
       "      <td>1.0</td>\n",
       "      <td>1.0</td>\n",
       "    </tr>\n",
       "    <tr>\n",
       "      <th>2833</th>\n",
       "      <td>531.440</td>\n",
       "      <td>4.20580</td>\n",
       "      <td>0.0</td>\n",
       "      <td>7.0</td>\n",
       "    </tr>\n",
       "    <tr>\n",
       "      <th>2834</th>\n",
       "      <td>296.410</td>\n",
       "      <td>4.02950</td>\n",
       "      <td>0.0</td>\n",
       "      <td>2.0</td>\n",
       "    </tr>\n",
       "    <tr>\n",
       "      <th>2835</th>\n",
       "      <td>285.310</td>\n",
       "      <td>2.65916</td>\n",
       "      <td>0.0</td>\n",
       "      <td>5.0</td>\n",
       "    </tr>\n",
       "  </tbody>\n",
       "</table>\n",
       "<p>2836 rows × 4 columns</p>\n",
       "</div>"
      ],
      "text/plain": [
       "           MW     LogP  NumHDonors  NumHAcceptors\n",
       "0     329.528  4.28820         2.0            2.0\n",
       "1     315.501  3.89810         2.0            2.0\n",
       "2     412.306  5.70542         0.0            3.0\n",
       "3     319.383  4.63450         0.0            3.0\n",
       "4     321.811  4.58780         0.0            3.0\n",
       "...       ...      ...         ...            ...\n",
       "2831  286.459  5.46460         0.0            1.0\n",
       "2832  286.459  5.54580         1.0            1.0\n",
       "2833  531.440  4.20580         0.0            7.0\n",
       "2834  296.410  4.02950         0.0            2.0\n",
       "2835  285.310  2.65916         0.0            5.0\n",
       "\n",
       "[2836 rows x 4 columns]"
      ]
     },
     "execution_count": 27,
     "metadata": {},
     "output_type": "execute_result"
    }
   ],
   "source": [
    "df_lipinski"
   ]
  },
  {
   "cell_type": "code",
   "execution_count": 28,
   "metadata": {
    "colab": {
     "base_uri": "https://localhost:8080/",
     "height": 415
    },
    "colab_type": "code",
    "id": "9-ChzM8_wuq_",
    "outputId": "5f5be1ae-c757-44af-cace-5a4c083a81af"
   },
   "outputs": [
    {
     "data": {
      "text/html": [
       "<div>\n",
       "<style scoped>\n",
       "    .dataframe tbody tr th:only-of-type {\n",
       "        vertical-align: middle;\n",
       "    }\n",
       "\n",
       "    .dataframe tbody tr th {\n",
       "        vertical-align: top;\n",
       "    }\n",
       "\n",
       "    .dataframe thead th {\n",
       "        text-align: right;\n",
       "    }\n",
       "</style>\n",
       "<table border=\"1\" class=\"dataframe\">\n",
       "  <thead>\n",
       "    <tr style=\"text-align: right;\">\n",
       "      <th></th>\n",
       "      <th>molecule_chembl_id</th>\n",
       "      <th>canonical_smiles</th>\n",
       "      <th>standard_value</th>\n",
       "      <th>bioactivity_class</th>\n",
       "    </tr>\n",
       "  </thead>\n",
       "  <tbody>\n",
       "    <tr>\n",
       "      <th>0</th>\n",
       "      <td>CHEMBL341591</td>\n",
       "      <td>CC12CCC(O)CC1=CCC1C2CCC2(C)C(CC3CN3)CCC12</td>\n",
       "      <td>7100.0</td>\n",
       "      <td>intermediate</td>\n",
       "    </tr>\n",
       "    <tr>\n",
       "      <th>1</th>\n",
       "      <td>CHEMBL2111947</td>\n",
       "      <td>C[C@]12CC[C@H]3[C@@H](CC=C4C[C@@H](O)CC[C@@]43...</td>\n",
       "      <td>50000.0</td>\n",
       "      <td>inactive</td>\n",
       "    </tr>\n",
       "    <tr>\n",
       "      <th>2</th>\n",
       "      <td>CHEMBL431859</td>\n",
       "      <td>CCn1c(C(c2ccc(F)cc2)n2ccnc2)c(C)c2cc(Br)ccc21</td>\n",
       "      <td>238.0</td>\n",
       "      <td>active</td>\n",
       "    </tr>\n",
       "    <tr>\n",
       "      <th>3</th>\n",
       "      <td>CHEMBL113637</td>\n",
       "      <td>CCn1cc(C(c2ccc(F)cc2)n2ccnc2)c2ccccc21</td>\n",
       "      <td>57.0</td>\n",
       "      <td>active</td>\n",
       "    </tr>\n",
       "    <tr>\n",
       "      <th>4</th>\n",
       "      <td>CHEMBL112021</td>\n",
       "      <td>Clc1ccccc1Cn1cc(Cn2ccnc2)c2ccccc21</td>\n",
       "      <td>54.0</td>\n",
       "      <td>active</td>\n",
       "    </tr>\n",
       "    <tr>\n",
       "      <th>...</th>\n",
       "      <td>...</td>\n",
       "      <td>...</td>\n",
       "      <td>...</td>\n",
       "      <td>...</td>\n",
       "    </tr>\n",
       "    <tr>\n",
       "      <th>2831</th>\n",
       "      <td>CHEMBL4874928</td>\n",
       "      <td>C=C[C@@]1(C)CC(=O)C2=C(CC[C@H]3C(C)(C)CCC[C@]2...</td>\n",
       "      <td>7900.0</td>\n",
       "      <td>NaN</td>\n",
       "    </tr>\n",
       "    <tr>\n",
       "      <th>2832</th>\n",
       "      <td>CHEMBL4852023</td>\n",
       "      <td>CC(C)c1cc(O)c2c(c1)CC[C@H]1C(C)(C)CCC[C@]21C</td>\n",
       "      <td>3700.0</td>\n",
       "      <td>NaN</td>\n",
       "    </tr>\n",
       "    <tr>\n",
       "      <th>2833</th>\n",
       "      <td>CHEMBL75</td>\n",
       "      <td>CC(=O)N1CCN(c2ccc(OC[C@H]3CO[C@](Cn4ccnc4)(c4c...</td>\n",
       "      <td>2400.0</td>\n",
       "      <td>NaN</td>\n",
       "    </tr>\n",
       "    <tr>\n",
       "      <th>2834</th>\n",
       "      <td>CHEMBL1200374</td>\n",
       "      <td>C=C1C[C@@H]2[C@H](CC[C@]3(C)C(=O)CC[C@@H]23)[C...</td>\n",
       "      <td>23.0</td>\n",
       "      <td>NaN</td>\n",
       "    </tr>\n",
       "    <tr>\n",
       "      <th>2835</th>\n",
       "      <td>CHEMBL1444</td>\n",
       "      <td>N#Cc1ccc(C(c2ccc(C#N)cc2)n2cncn2)cc1</td>\n",
       "      <td>1.0</td>\n",
       "      <td>NaN</td>\n",
       "    </tr>\n",
       "  </tbody>\n",
       "</table>\n",
       "<p>2836 rows × 4 columns</p>\n",
       "</div>"
      ],
      "text/plain": [
       "     molecule_chembl_id                                   canonical_smiles  \\\n",
       "0          CHEMBL341591          CC12CCC(O)CC1=CCC1C2CCC2(C)C(CC3CN3)CCC12   \n",
       "1         CHEMBL2111947  C[C@]12CC[C@H]3[C@@H](CC=C4C[C@@H](O)CC[C@@]43...   \n",
       "2          CHEMBL431859      CCn1c(C(c2ccc(F)cc2)n2ccnc2)c(C)c2cc(Br)ccc21   \n",
       "3          CHEMBL113637             CCn1cc(C(c2ccc(F)cc2)n2ccnc2)c2ccccc21   \n",
       "4          CHEMBL112021                 Clc1ccccc1Cn1cc(Cn2ccnc2)c2ccccc21   \n",
       "...                 ...                                                ...   \n",
       "2831      CHEMBL4874928  C=C[C@@]1(C)CC(=O)C2=C(CC[C@H]3C(C)(C)CCC[C@]2...   \n",
       "2832      CHEMBL4852023       CC(C)c1cc(O)c2c(c1)CC[C@H]1C(C)(C)CCC[C@]21C   \n",
       "2833           CHEMBL75  CC(=O)N1CCN(c2ccc(OC[C@H]3CO[C@](Cn4ccnc4)(c4c...   \n",
       "2834      CHEMBL1200374  C=C1C[C@@H]2[C@H](CC[C@]3(C)C(=O)CC[C@@H]23)[C...   \n",
       "2835         CHEMBL1444               N#Cc1ccc(C(c2ccc(C#N)cc2)n2cncn2)cc1   \n",
       "\n",
       "      standard_value bioactivity_class  \n",
       "0             7100.0      intermediate  \n",
       "1            50000.0          inactive  \n",
       "2              238.0            active  \n",
       "3               57.0            active  \n",
       "4               54.0            active  \n",
       "...              ...               ...  \n",
       "2831          7900.0               NaN  \n",
       "2832          3700.0               NaN  \n",
       "2833          2400.0               NaN  \n",
       "2834            23.0               NaN  \n",
       "2835             1.0               NaN  \n",
       "\n",
       "[2836 rows x 4 columns]"
      ]
     },
     "execution_count": 28,
     "metadata": {},
     "output_type": "execute_result"
    }
   ],
   "source": [
    "df"
   ]
  },
  {
   "cell_type": "code",
   "execution_count": 29,
   "metadata": {
    "colab": {},
    "colab_type": "code",
    "id": "L9nUZC0Ww3gp"
   },
   "outputs": [],
   "source": [
    "df_combined = pd.concat([df,df_lipinski], axis=1)"
   ]
  },
  {
   "cell_type": "code",
   "execution_count": 30,
   "metadata": {
    "colab": {
     "base_uri": "https://localhost:8080/",
     "height": 487
    },
    "colab_type": "code",
    "id": "FRBfBP3QxFJp",
    "outputId": "18e69e90-6b93-4b8f-fc86-24924f6eb00c"
   },
   "outputs": [
    {
     "data": {
      "text/html": [
       "<div>\n",
       "<style scoped>\n",
       "    .dataframe tbody tr th:only-of-type {\n",
       "        vertical-align: middle;\n",
       "    }\n",
       "\n",
       "    .dataframe tbody tr th {\n",
       "        vertical-align: top;\n",
       "    }\n",
       "\n",
       "    .dataframe thead th {\n",
       "        text-align: right;\n",
       "    }\n",
       "</style>\n",
       "<table border=\"1\" class=\"dataframe\">\n",
       "  <thead>\n",
       "    <tr style=\"text-align: right;\">\n",
       "      <th></th>\n",
       "      <th>molecule_chembl_id</th>\n",
       "      <th>canonical_smiles</th>\n",
       "      <th>standard_value</th>\n",
       "      <th>bioactivity_class</th>\n",
       "      <th>MW</th>\n",
       "      <th>LogP</th>\n",
       "      <th>NumHDonors</th>\n",
       "      <th>NumHAcceptors</th>\n",
       "    </tr>\n",
       "  </thead>\n",
       "  <tbody>\n",
       "    <tr>\n",
       "      <th>0</th>\n",
       "      <td>CHEMBL341591</td>\n",
       "      <td>CC12CCC(O)CC1=CCC1C2CCC2(C)C(CC3CN3)CCC12</td>\n",
       "      <td>7100.0</td>\n",
       "      <td>intermediate</td>\n",
       "      <td>329.528</td>\n",
       "      <td>4.28820</td>\n",
       "      <td>2.0</td>\n",
       "      <td>2.0</td>\n",
       "    </tr>\n",
       "    <tr>\n",
       "      <th>1</th>\n",
       "      <td>CHEMBL2111947</td>\n",
       "      <td>C[C@]12CC[C@H]3[C@@H](CC=C4C[C@@H](O)CC[C@@]43...</td>\n",
       "      <td>50000.0</td>\n",
       "      <td>inactive</td>\n",
       "      <td>315.501</td>\n",
       "      <td>3.89810</td>\n",
       "      <td>2.0</td>\n",
       "      <td>2.0</td>\n",
       "    </tr>\n",
       "    <tr>\n",
       "      <th>2</th>\n",
       "      <td>CHEMBL431859</td>\n",
       "      <td>CCn1c(C(c2ccc(F)cc2)n2ccnc2)c(C)c2cc(Br)ccc21</td>\n",
       "      <td>238.0</td>\n",
       "      <td>active</td>\n",
       "      <td>412.306</td>\n",
       "      <td>5.70542</td>\n",
       "      <td>0.0</td>\n",
       "      <td>3.0</td>\n",
       "    </tr>\n",
       "    <tr>\n",
       "      <th>3</th>\n",
       "      <td>CHEMBL113637</td>\n",
       "      <td>CCn1cc(C(c2ccc(F)cc2)n2ccnc2)c2ccccc21</td>\n",
       "      <td>57.0</td>\n",
       "      <td>active</td>\n",
       "      <td>319.383</td>\n",
       "      <td>4.63450</td>\n",
       "      <td>0.0</td>\n",
       "      <td>3.0</td>\n",
       "    </tr>\n",
       "    <tr>\n",
       "      <th>4</th>\n",
       "      <td>CHEMBL112021</td>\n",
       "      <td>Clc1ccccc1Cn1cc(Cn2ccnc2)c2ccccc21</td>\n",
       "      <td>54.0</td>\n",
       "      <td>active</td>\n",
       "      <td>321.811</td>\n",
       "      <td>4.58780</td>\n",
       "      <td>0.0</td>\n",
       "      <td>3.0</td>\n",
       "    </tr>\n",
       "    <tr>\n",
       "      <th>...</th>\n",
       "      <td>...</td>\n",
       "      <td>...</td>\n",
       "      <td>...</td>\n",
       "      <td>...</td>\n",
       "      <td>...</td>\n",
       "      <td>...</td>\n",
       "      <td>...</td>\n",
       "      <td>...</td>\n",
       "    </tr>\n",
       "    <tr>\n",
       "      <th>2831</th>\n",
       "      <td>CHEMBL4874928</td>\n",
       "      <td>C=C[C@@]1(C)CC(=O)C2=C(CC[C@H]3C(C)(C)CCC[C@]2...</td>\n",
       "      <td>7900.0</td>\n",
       "      <td>NaN</td>\n",
       "      <td>286.459</td>\n",
       "      <td>5.46460</td>\n",
       "      <td>0.0</td>\n",
       "      <td>1.0</td>\n",
       "    </tr>\n",
       "    <tr>\n",
       "      <th>2832</th>\n",
       "      <td>CHEMBL4852023</td>\n",
       "      <td>CC(C)c1cc(O)c2c(c1)CC[C@H]1C(C)(C)CCC[C@]21C</td>\n",
       "      <td>3700.0</td>\n",
       "      <td>NaN</td>\n",
       "      <td>286.459</td>\n",
       "      <td>5.54580</td>\n",
       "      <td>1.0</td>\n",
       "      <td>1.0</td>\n",
       "    </tr>\n",
       "    <tr>\n",
       "      <th>2833</th>\n",
       "      <td>CHEMBL75</td>\n",
       "      <td>CC(=O)N1CCN(c2ccc(OC[C@H]3CO[C@](Cn4ccnc4)(c4c...</td>\n",
       "      <td>2400.0</td>\n",
       "      <td>NaN</td>\n",
       "      <td>531.440</td>\n",
       "      <td>4.20580</td>\n",
       "      <td>0.0</td>\n",
       "      <td>7.0</td>\n",
       "    </tr>\n",
       "    <tr>\n",
       "      <th>2834</th>\n",
       "      <td>CHEMBL1200374</td>\n",
       "      <td>C=C1C[C@@H]2[C@H](CC[C@]3(C)C(=O)CC[C@@H]23)[C...</td>\n",
       "      <td>23.0</td>\n",
       "      <td>NaN</td>\n",
       "      <td>296.410</td>\n",
       "      <td>4.02950</td>\n",
       "      <td>0.0</td>\n",
       "      <td>2.0</td>\n",
       "    </tr>\n",
       "    <tr>\n",
       "      <th>2835</th>\n",
       "      <td>CHEMBL1444</td>\n",
       "      <td>N#Cc1ccc(C(c2ccc(C#N)cc2)n2cncn2)cc1</td>\n",
       "      <td>1.0</td>\n",
       "      <td>NaN</td>\n",
       "      <td>285.310</td>\n",
       "      <td>2.65916</td>\n",
       "      <td>0.0</td>\n",
       "      <td>5.0</td>\n",
       "    </tr>\n",
       "  </tbody>\n",
       "</table>\n",
       "<p>2836 rows × 8 columns</p>\n",
       "</div>"
      ],
      "text/plain": [
       "     molecule_chembl_id                                   canonical_smiles  \\\n",
       "0          CHEMBL341591          CC12CCC(O)CC1=CCC1C2CCC2(C)C(CC3CN3)CCC12   \n",
       "1         CHEMBL2111947  C[C@]12CC[C@H]3[C@@H](CC=C4C[C@@H](O)CC[C@@]43...   \n",
       "2          CHEMBL431859      CCn1c(C(c2ccc(F)cc2)n2ccnc2)c(C)c2cc(Br)ccc21   \n",
       "3          CHEMBL113637             CCn1cc(C(c2ccc(F)cc2)n2ccnc2)c2ccccc21   \n",
       "4          CHEMBL112021                 Clc1ccccc1Cn1cc(Cn2ccnc2)c2ccccc21   \n",
       "...                 ...                                                ...   \n",
       "2831      CHEMBL4874928  C=C[C@@]1(C)CC(=O)C2=C(CC[C@H]3C(C)(C)CCC[C@]2...   \n",
       "2832      CHEMBL4852023       CC(C)c1cc(O)c2c(c1)CC[C@H]1C(C)(C)CCC[C@]21C   \n",
       "2833           CHEMBL75  CC(=O)N1CCN(c2ccc(OC[C@H]3CO[C@](Cn4ccnc4)(c4c...   \n",
       "2834      CHEMBL1200374  C=C1C[C@@H]2[C@H](CC[C@]3(C)C(=O)CC[C@@H]23)[C...   \n",
       "2835         CHEMBL1444               N#Cc1ccc(C(c2ccc(C#N)cc2)n2cncn2)cc1   \n",
       "\n",
       "      standard_value bioactivity_class       MW     LogP  NumHDonors  \\\n",
       "0             7100.0      intermediate  329.528  4.28820         2.0   \n",
       "1            50000.0          inactive  315.501  3.89810         2.0   \n",
       "2              238.0            active  412.306  5.70542         0.0   \n",
       "3               57.0            active  319.383  4.63450         0.0   \n",
       "4               54.0            active  321.811  4.58780         0.0   \n",
       "...              ...               ...      ...      ...         ...   \n",
       "2831          7900.0               NaN  286.459  5.46460         0.0   \n",
       "2832          3700.0               NaN  286.459  5.54580         1.0   \n",
       "2833          2400.0               NaN  531.440  4.20580         0.0   \n",
       "2834            23.0               NaN  296.410  4.02950         0.0   \n",
       "2835             1.0               NaN  285.310  2.65916         0.0   \n",
       "\n",
       "      NumHAcceptors  \n",
       "0               2.0  \n",
       "1               2.0  \n",
       "2               3.0  \n",
       "3               3.0  \n",
       "4               3.0  \n",
       "...             ...  \n",
       "2831            1.0  \n",
       "2832            1.0  \n",
       "2833            7.0  \n",
       "2834            2.0  \n",
       "2835            5.0  \n",
       "\n",
       "[2836 rows x 8 columns]"
      ]
     },
     "execution_count": 30,
     "metadata": {},
     "output_type": "execute_result"
    }
   ],
   "source": [
    "df_combined"
   ]
  },
  {
   "cell_type": "markdown",
   "metadata": {
    "colab_type": "text",
    "id": "e0MLOedB6j96"
   },
   "source": [
    "### Convertir IC50 en pIC50\n",
    "\n",
    "Pour permettre aux données de la CI50 d'être distribuées plus uniformément, nous allons convertir la CI50 à l'échelle logarithmique négative qui est essentiellement -log10(CI50).\n",
    "\n",
    "Cette nouvelle fonction pIC50() accepte un DataFrame en entrée et va :\n",
    "- Prendre les valeurs IC50 de la colonne standard_value et les convertir de nM en M en multipliant la valeur par 10$^{-9}$.\n",
    "- Prendre la valeur molaire et appliquer -log10\n",
    "- Supprimer la colonne standard_value.\n",
    "- Créer une nouvelle colonne \"pIC50\"."
   ]
  },
  {
   "cell_type": "code",
   "execution_count": 31,
   "metadata": {
    "colab": {},
    "colab_type": "code",
    "id": "UXMuFQoQ4pZF"
   },
   "outputs": [],
   "source": [
    "# https://github.com/chaninlab/estrogen-receptor-alpha-qsar/blob/master/02_ER_alpha_RO5.ipynb\n",
    "\n",
    "import numpy as np\n",
    "\n",
    "def pIC50(input):\n",
    "    pIC50 = []\n",
    "\n",
    "    for i in input['standard_value_norm']:\n",
    "        molar = i*(10**-9) # Converts nM to M\n",
    "        pIC50.append(-np.log10(molar))\n",
    "\n",
    "    input['pIC50'] = pIC50\n",
    "    x = input.drop('standard_value_norm', 1)\n",
    "        \n",
    "    return x"
   ]
  },
  {
   "cell_type": "markdown",
   "metadata": {
    "colab_type": "text",
    "id": "WU5Fh1h2OaJJ"
   },
   "source": [
    "Remarque : les valeurs supérieures à 100 000 000 seront fixées à 100 000 000, sinon la valeur logarithmique négative deviendra négative."
   ]
  },
  {
   "cell_type": "code",
   "execution_count": 32,
   "metadata": {
    "colab": {
     "base_uri": "https://localhost:8080/",
     "height": 170
    },
    "colab_type": "code",
    "id": "QuUTFUpcR1wU",
    "outputId": "9d1db8ff-8de4-4dd6-8259-6a28617538eb"
   },
   "outputs": [
    {
     "data": {
      "text/plain": [
       "count    2.836000e+03\n",
       "mean     2.214962e+10\n",
       "std      7.303889e+11\n",
       "min      0.000000e+00\n",
       "25%      1.068625e+02\n",
       "50%      1.091340e+03\n",
       "75%      7.617500e+03\n",
       "max      3.388442e+13\n",
       "Name: standard_value, dtype: float64"
      ]
     },
     "execution_count": 32,
     "metadata": {},
     "output_type": "execute_result"
    }
   ],
   "source": [
    "df_combined.standard_value.describe()"
   ]
  },
  {
   "cell_type": "code",
   "execution_count": 33,
   "metadata": {
    "colab": {
     "base_uri": "https://localhost:8080/",
     "height": 34
    },
    "colab_type": "code",
    "id": "QyiJ0to5N6Z_",
    "outputId": "e10f18e8-1255-4636-bf2f-efbd3befde4f"
   },
   "outputs": [
    {
     "data": {
      "text/plain": [
       "1.0"
      ]
     },
     "execution_count": 33,
     "metadata": {},
     "output_type": "execute_result"
    }
   ],
   "source": [
    "-np.log10( (10**-9)* 100000000 )"
   ]
  },
  {
   "cell_type": "code",
   "execution_count": 34,
   "metadata": {
    "colab": {
     "base_uri": "https://localhost:8080/",
     "height": 34
    },
    "colab_type": "code",
    "id": "9S1aJkOYOP6K",
    "outputId": "85aa8a89-99f7-4d9e-dac5-3f599c2fb364"
   },
   "outputs": [
    {
     "data": {
      "text/plain": [
       "-1.0"
      ]
     },
     "execution_count": 34,
     "metadata": {},
     "output_type": "execute_result"
    }
   ],
   "source": [
    "-np.log10( (10**-9)* 10000000000 )"
   ]
  },
  {
   "cell_type": "code",
   "execution_count": 35,
   "metadata": {
    "colab": {},
    "colab_type": "code",
    "id": "iktHDDwtPDwl"
   },
   "outputs": [],
   "source": [
    "def norm_value(input):\n",
    "    norm = []\n",
    "\n",
    "    for i in input['standard_value']:\n",
    "        if i > 100000000:\n",
    "          i = 100000000\n",
    "        norm.append(i)\n",
    "\n",
    "    input['standard_value_norm'] = norm\n",
    "    x = input.drop('standard_value', 1)\n",
    "        \n",
    "    return x"
   ]
  },
  {
   "cell_type": "markdown",
   "metadata": {
    "colab_type": "text",
    "id": "EkrTs7RfPsrH"
   },
   "source": [
    "Appliquer la fonction norm_value() d'abord afin que les valeurs de la colonne standard_value soient normalisées."
   ]
  },
  {
   "cell_type": "code",
   "execution_count": 36,
   "metadata": {
    "colab": {
     "base_uri": "https://localhost:8080/",
     "height": 487
    },
    "colab_type": "code",
    "id": "EX2Mj2-ZP1Rj",
    "outputId": "7f0f6cb0-d251-4208-fbf8-19970978625e"
   },
   "outputs": [
    {
     "name": "stderr",
     "output_type": "stream",
     "text": [
      "/Users/oussama/opt/anaconda3/envs/test/lib/python3.7/site-packages/ipykernel_launcher.py:10: FutureWarning: In a future version of pandas all arguments of DataFrame.drop except for the argument 'labels' will be keyword-only\n",
      "  # Remove the CWD from sys.path while we load stuff.\n"
     ]
    },
    {
     "data": {
      "text/html": [
       "<div>\n",
       "<style scoped>\n",
       "    .dataframe tbody tr th:only-of-type {\n",
       "        vertical-align: middle;\n",
       "    }\n",
       "\n",
       "    .dataframe tbody tr th {\n",
       "        vertical-align: top;\n",
       "    }\n",
       "\n",
       "    .dataframe thead th {\n",
       "        text-align: right;\n",
       "    }\n",
       "</style>\n",
       "<table border=\"1\" class=\"dataframe\">\n",
       "  <thead>\n",
       "    <tr style=\"text-align: right;\">\n",
       "      <th></th>\n",
       "      <th>molecule_chembl_id</th>\n",
       "      <th>canonical_smiles</th>\n",
       "      <th>bioactivity_class</th>\n",
       "      <th>MW</th>\n",
       "      <th>LogP</th>\n",
       "      <th>NumHDonors</th>\n",
       "      <th>NumHAcceptors</th>\n",
       "      <th>standard_value_norm</th>\n",
       "    </tr>\n",
       "  </thead>\n",
       "  <tbody>\n",
       "    <tr>\n",
       "      <th>0</th>\n",
       "      <td>CHEMBL341591</td>\n",
       "      <td>CC12CCC(O)CC1=CCC1C2CCC2(C)C(CC3CN3)CCC12</td>\n",
       "      <td>intermediate</td>\n",
       "      <td>329.528</td>\n",
       "      <td>4.28820</td>\n",
       "      <td>2.0</td>\n",
       "      <td>2.0</td>\n",
       "      <td>7100.0</td>\n",
       "    </tr>\n",
       "    <tr>\n",
       "      <th>1</th>\n",
       "      <td>CHEMBL2111947</td>\n",
       "      <td>C[C@]12CC[C@H]3[C@@H](CC=C4C[C@@H](O)CC[C@@]43...</td>\n",
       "      <td>inactive</td>\n",
       "      <td>315.501</td>\n",
       "      <td>3.89810</td>\n",
       "      <td>2.0</td>\n",
       "      <td>2.0</td>\n",
       "      <td>50000.0</td>\n",
       "    </tr>\n",
       "    <tr>\n",
       "      <th>2</th>\n",
       "      <td>CHEMBL431859</td>\n",
       "      <td>CCn1c(C(c2ccc(F)cc2)n2ccnc2)c(C)c2cc(Br)ccc21</td>\n",
       "      <td>active</td>\n",
       "      <td>412.306</td>\n",
       "      <td>5.70542</td>\n",
       "      <td>0.0</td>\n",
       "      <td>3.0</td>\n",
       "      <td>238.0</td>\n",
       "    </tr>\n",
       "    <tr>\n",
       "      <th>3</th>\n",
       "      <td>CHEMBL113637</td>\n",
       "      <td>CCn1cc(C(c2ccc(F)cc2)n2ccnc2)c2ccccc21</td>\n",
       "      <td>active</td>\n",
       "      <td>319.383</td>\n",
       "      <td>4.63450</td>\n",
       "      <td>0.0</td>\n",
       "      <td>3.0</td>\n",
       "      <td>57.0</td>\n",
       "    </tr>\n",
       "    <tr>\n",
       "      <th>4</th>\n",
       "      <td>CHEMBL112021</td>\n",
       "      <td>Clc1ccccc1Cn1cc(Cn2ccnc2)c2ccccc21</td>\n",
       "      <td>active</td>\n",
       "      <td>321.811</td>\n",
       "      <td>4.58780</td>\n",
       "      <td>0.0</td>\n",
       "      <td>3.0</td>\n",
       "      <td>54.0</td>\n",
       "    </tr>\n",
       "    <tr>\n",
       "      <th>...</th>\n",
       "      <td>...</td>\n",
       "      <td>...</td>\n",
       "      <td>...</td>\n",
       "      <td>...</td>\n",
       "      <td>...</td>\n",
       "      <td>...</td>\n",
       "      <td>...</td>\n",
       "      <td>...</td>\n",
       "    </tr>\n",
       "    <tr>\n",
       "      <th>2831</th>\n",
       "      <td>CHEMBL4874928</td>\n",
       "      <td>C=C[C@@]1(C)CC(=O)C2=C(CC[C@H]3C(C)(C)CCC[C@]2...</td>\n",
       "      <td>NaN</td>\n",
       "      <td>286.459</td>\n",
       "      <td>5.46460</td>\n",
       "      <td>0.0</td>\n",
       "      <td>1.0</td>\n",
       "      <td>7900.0</td>\n",
       "    </tr>\n",
       "    <tr>\n",
       "      <th>2832</th>\n",
       "      <td>CHEMBL4852023</td>\n",
       "      <td>CC(C)c1cc(O)c2c(c1)CC[C@H]1C(C)(C)CCC[C@]21C</td>\n",
       "      <td>NaN</td>\n",
       "      <td>286.459</td>\n",
       "      <td>5.54580</td>\n",
       "      <td>1.0</td>\n",
       "      <td>1.0</td>\n",
       "      <td>3700.0</td>\n",
       "    </tr>\n",
       "    <tr>\n",
       "      <th>2833</th>\n",
       "      <td>CHEMBL75</td>\n",
       "      <td>CC(=O)N1CCN(c2ccc(OC[C@H]3CO[C@](Cn4ccnc4)(c4c...</td>\n",
       "      <td>NaN</td>\n",
       "      <td>531.440</td>\n",
       "      <td>4.20580</td>\n",
       "      <td>0.0</td>\n",
       "      <td>7.0</td>\n",
       "      <td>2400.0</td>\n",
       "    </tr>\n",
       "    <tr>\n",
       "      <th>2834</th>\n",
       "      <td>CHEMBL1200374</td>\n",
       "      <td>C=C1C[C@@H]2[C@H](CC[C@]3(C)C(=O)CC[C@@H]23)[C...</td>\n",
       "      <td>NaN</td>\n",
       "      <td>296.410</td>\n",
       "      <td>4.02950</td>\n",
       "      <td>0.0</td>\n",
       "      <td>2.0</td>\n",
       "      <td>23.0</td>\n",
       "    </tr>\n",
       "    <tr>\n",
       "      <th>2835</th>\n",
       "      <td>CHEMBL1444</td>\n",
       "      <td>N#Cc1ccc(C(c2ccc(C#N)cc2)n2cncn2)cc1</td>\n",
       "      <td>NaN</td>\n",
       "      <td>285.310</td>\n",
       "      <td>2.65916</td>\n",
       "      <td>0.0</td>\n",
       "      <td>5.0</td>\n",
       "      <td>1.0</td>\n",
       "    </tr>\n",
       "  </tbody>\n",
       "</table>\n",
       "<p>2836 rows × 8 columns</p>\n",
       "</div>"
      ],
      "text/plain": [
       "     molecule_chembl_id                                   canonical_smiles  \\\n",
       "0          CHEMBL341591          CC12CCC(O)CC1=CCC1C2CCC2(C)C(CC3CN3)CCC12   \n",
       "1         CHEMBL2111947  C[C@]12CC[C@H]3[C@@H](CC=C4C[C@@H](O)CC[C@@]43...   \n",
       "2          CHEMBL431859      CCn1c(C(c2ccc(F)cc2)n2ccnc2)c(C)c2cc(Br)ccc21   \n",
       "3          CHEMBL113637             CCn1cc(C(c2ccc(F)cc2)n2ccnc2)c2ccccc21   \n",
       "4          CHEMBL112021                 Clc1ccccc1Cn1cc(Cn2ccnc2)c2ccccc21   \n",
       "...                 ...                                                ...   \n",
       "2831      CHEMBL4874928  C=C[C@@]1(C)CC(=O)C2=C(CC[C@H]3C(C)(C)CCC[C@]2...   \n",
       "2832      CHEMBL4852023       CC(C)c1cc(O)c2c(c1)CC[C@H]1C(C)(C)CCC[C@]21C   \n",
       "2833           CHEMBL75  CC(=O)N1CCN(c2ccc(OC[C@H]3CO[C@](Cn4ccnc4)(c4c...   \n",
       "2834      CHEMBL1200374  C=C1C[C@@H]2[C@H](CC[C@]3(C)C(=O)CC[C@@H]23)[C...   \n",
       "2835         CHEMBL1444               N#Cc1ccc(C(c2ccc(C#N)cc2)n2cncn2)cc1   \n",
       "\n",
       "     bioactivity_class       MW     LogP  NumHDonors  NumHAcceptors  \\\n",
       "0         intermediate  329.528  4.28820         2.0            2.0   \n",
       "1             inactive  315.501  3.89810         2.0            2.0   \n",
       "2               active  412.306  5.70542         0.0            3.0   \n",
       "3               active  319.383  4.63450         0.0            3.0   \n",
       "4               active  321.811  4.58780         0.0            3.0   \n",
       "...                ...      ...      ...         ...            ...   \n",
       "2831               NaN  286.459  5.46460         0.0            1.0   \n",
       "2832               NaN  286.459  5.54580         1.0            1.0   \n",
       "2833               NaN  531.440  4.20580         0.0            7.0   \n",
       "2834               NaN  296.410  4.02950         0.0            2.0   \n",
       "2835               NaN  285.310  2.65916         0.0            5.0   \n",
       "\n",
       "      standard_value_norm  \n",
       "0                  7100.0  \n",
       "1                 50000.0  \n",
       "2                   238.0  \n",
       "3                    57.0  \n",
       "4                    54.0  \n",
       "...                   ...  \n",
       "2831               7900.0  \n",
       "2832               3700.0  \n",
       "2833               2400.0  \n",
       "2834                 23.0  \n",
       "2835                  1.0  \n",
       "\n",
       "[2836 rows x 8 columns]"
      ]
     },
     "execution_count": 36,
     "metadata": {},
     "output_type": "execute_result"
    }
   ],
   "source": [
    "df_norm = norm_value(df_combined)\n",
    "df_norm"
   ]
  },
  {
   "cell_type": "code",
   "execution_count": 37,
   "metadata": {
    "colab": {
     "base_uri": "https://localhost:8080/",
     "height": 173
    },
    "colab_type": "code",
    "id": "hb1eKrIjRiH9",
    "outputId": "12b12341-df33-4446-e3cc-2a30ee1fe1f8"
   },
   "outputs": [
    {
     "data": {
      "text/plain": [
       "count    2.836000e+03\n",
       "mean     3.249726e+05\n",
       "std      4.997506e+06\n",
       "min      0.000000e+00\n",
       "25%      1.068625e+02\n",
       "50%      1.091340e+03\n",
       "75%      7.617500e+03\n",
       "max      1.000000e+08\n",
       "Name: standard_value_norm, dtype: float64"
      ]
     },
     "execution_count": 37,
     "metadata": {},
     "output_type": "execute_result"
    }
   ],
   "source": [
    "df_norm.standard_value_norm.describe()"
   ]
  },
  {
   "cell_type": "code",
   "execution_count": 74,
   "metadata": {
    "colab": {
     "base_uri": "https://localhost:8080/",
     "height": 487
    },
    "colab_type": "code",
    "id": "UDKZzmK57YnS",
    "outputId": "9dde74a3-1198-4c52-a913-c0bd57fbbb4e"
   },
   "outputs": [
    {
     "name": "stderr",
     "output_type": "stream",
     "text": [
      "/Users/oussama/opt/anaconda3/envs/test/lib/python3.7/site-packages/ipykernel_launcher.py:10: RuntimeWarning: divide by zero encountered in log10\n",
      "  # Remove the CWD from sys.path while we load stuff.\n",
      "/Users/oussama/opt/anaconda3/envs/test/lib/python3.7/site-packages/ipykernel_launcher.py:13: FutureWarning: In a future version of pandas all arguments of DataFrame.drop except for the argument 'labels' will be keyword-only\n",
      "  del sys.path[0]\n"
     ]
    },
    {
     "data": {
      "text/html": [
       "<div>\n",
       "<style scoped>\n",
       "    .dataframe tbody tr th:only-of-type {\n",
       "        vertical-align: middle;\n",
       "    }\n",
       "\n",
       "    .dataframe tbody tr th {\n",
       "        vertical-align: top;\n",
       "    }\n",
       "\n",
       "    .dataframe thead th {\n",
       "        text-align: right;\n",
       "    }\n",
       "</style>\n",
       "<table border=\"1\" class=\"dataframe\">\n",
       "  <thead>\n",
       "    <tr style=\"text-align: right;\">\n",
       "      <th></th>\n",
       "      <th>molecule_chembl_id</th>\n",
       "      <th>canonical_smiles</th>\n",
       "      <th>bioactivity_class</th>\n",
       "      <th>MW</th>\n",
       "      <th>LogP</th>\n",
       "      <th>NumHDonors</th>\n",
       "      <th>NumHAcceptors</th>\n",
       "      <th>pIC50</th>\n",
       "    </tr>\n",
       "  </thead>\n",
       "  <tbody>\n",
       "    <tr>\n",
       "      <th>0</th>\n",
       "      <td>CHEMBL341591</td>\n",
       "      <td>CC12CCC(O)CC1=CCC1C2CCC2(C)C(CC3CN3)CCC12</td>\n",
       "      <td>intermediate</td>\n",
       "      <td>329.528</td>\n",
       "      <td>4.28820</td>\n",
       "      <td>2.0</td>\n",
       "      <td>2.0</td>\n",
       "      <td>5.148742</td>\n",
       "    </tr>\n",
       "    <tr>\n",
       "      <th>1</th>\n",
       "      <td>CHEMBL2111947</td>\n",
       "      <td>C[C@]12CC[C@H]3[C@@H](CC=C4C[C@@H](O)CC[C@@]43...</td>\n",
       "      <td>inactive</td>\n",
       "      <td>315.501</td>\n",
       "      <td>3.89810</td>\n",
       "      <td>2.0</td>\n",
       "      <td>2.0</td>\n",
       "      <td>4.301030</td>\n",
       "    </tr>\n",
       "    <tr>\n",
       "      <th>2</th>\n",
       "      <td>CHEMBL431859</td>\n",
       "      <td>CCn1c(C(c2ccc(F)cc2)n2ccnc2)c(C)c2cc(Br)ccc21</td>\n",
       "      <td>active</td>\n",
       "      <td>412.306</td>\n",
       "      <td>5.70542</td>\n",
       "      <td>0.0</td>\n",
       "      <td>3.0</td>\n",
       "      <td>6.623423</td>\n",
       "    </tr>\n",
       "    <tr>\n",
       "      <th>3</th>\n",
       "      <td>CHEMBL113637</td>\n",
       "      <td>CCn1cc(C(c2ccc(F)cc2)n2ccnc2)c2ccccc21</td>\n",
       "      <td>active</td>\n",
       "      <td>319.383</td>\n",
       "      <td>4.63450</td>\n",
       "      <td>0.0</td>\n",
       "      <td>3.0</td>\n",
       "      <td>7.244125</td>\n",
       "    </tr>\n",
       "    <tr>\n",
       "      <th>4</th>\n",
       "      <td>CHEMBL112021</td>\n",
       "      <td>Clc1ccccc1Cn1cc(Cn2ccnc2)c2ccccc21</td>\n",
       "      <td>active</td>\n",
       "      <td>321.811</td>\n",
       "      <td>4.58780</td>\n",
       "      <td>0.0</td>\n",
       "      <td>3.0</td>\n",
       "      <td>7.267606</td>\n",
       "    </tr>\n",
       "    <tr>\n",
       "      <th>...</th>\n",
       "      <td>...</td>\n",
       "      <td>...</td>\n",
       "      <td>...</td>\n",
       "      <td>...</td>\n",
       "      <td>...</td>\n",
       "      <td>...</td>\n",
       "      <td>...</td>\n",
       "      <td>...</td>\n",
       "    </tr>\n",
       "    <tr>\n",
       "      <th>2831</th>\n",
       "      <td>CHEMBL4874928</td>\n",
       "      <td>C=C[C@@]1(C)CC(=O)C2=C(CC[C@H]3C(C)(C)CCC[C@]2...</td>\n",
       "      <td>NaN</td>\n",
       "      <td>286.459</td>\n",
       "      <td>5.46460</td>\n",
       "      <td>0.0</td>\n",
       "      <td>1.0</td>\n",
       "      <td>5.102373</td>\n",
       "    </tr>\n",
       "    <tr>\n",
       "      <th>2832</th>\n",
       "      <td>CHEMBL4852023</td>\n",
       "      <td>CC(C)c1cc(O)c2c(c1)CC[C@H]1C(C)(C)CCC[C@]21C</td>\n",
       "      <td>NaN</td>\n",
       "      <td>286.459</td>\n",
       "      <td>5.54580</td>\n",
       "      <td>1.0</td>\n",
       "      <td>1.0</td>\n",
       "      <td>5.431798</td>\n",
       "    </tr>\n",
       "    <tr>\n",
       "      <th>2833</th>\n",
       "      <td>CHEMBL75</td>\n",
       "      <td>CC(=O)N1CCN(c2ccc(OC[C@H]3CO[C@](Cn4ccnc4)(c4c...</td>\n",
       "      <td>NaN</td>\n",
       "      <td>531.440</td>\n",
       "      <td>4.20580</td>\n",
       "      <td>0.0</td>\n",
       "      <td>7.0</td>\n",
       "      <td>5.619789</td>\n",
       "    </tr>\n",
       "    <tr>\n",
       "      <th>2834</th>\n",
       "      <td>CHEMBL1200374</td>\n",
       "      <td>C=C1C[C@@H]2[C@H](CC[C@]3(C)C(=O)CC[C@@H]23)[C...</td>\n",
       "      <td>NaN</td>\n",
       "      <td>296.410</td>\n",
       "      <td>4.02950</td>\n",
       "      <td>0.0</td>\n",
       "      <td>2.0</td>\n",
       "      <td>7.638272</td>\n",
       "    </tr>\n",
       "    <tr>\n",
       "      <th>2835</th>\n",
       "      <td>CHEMBL1444</td>\n",
       "      <td>N#Cc1ccc(C(c2ccc(C#N)cc2)n2cncn2)cc1</td>\n",
       "      <td>NaN</td>\n",
       "      <td>285.310</td>\n",
       "      <td>2.65916</td>\n",
       "      <td>0.0</td>\n",
       "      <td>5.0</td>\n",
       "      <td>9.000000</td>\n",
       "    </tr>\n",
       "  </tbody>\n",
       "</table>\n",
       "<p>2836 rows × 8 columns</p>\n",
       "</div>"
      ],
      "text/plain": [
       "     molecule_chembl_id                                   canonical_smiles  \\\n",
       "0          CHEMBL341591          CC12CCC(O)CC1=CCC1C2CCC2(C)C(CC3CN3)CCC12   \n",
       "1         CHEMBL2111947  C[C@]12CC[C@H]3[C@@H](CC=C4C[C@@H](O)CC[C@@]43...   \n",
       "2          CHEMBL431859      CCn1c(C(c2ccc(F)cc2)n2ccnc2)c(C)c2cc(Br)ccc21   \n",
       "3          CHEMBL113637             CCn1cc(C(c2ccc(F)cc2)n2ccnc2)c2ccccc21   \n",
       "4          CHEMBL112021                 Clc1ccccc1Cn1cc(Cn2ccnc2)c2ccccc21   \n",
       "...                 ...                                                ...   \n",
       "2831      CHEMBL4874928  C=C[C@@]1(C)CC(=O)C2=C(CC[C@H]3C(C)(C)CCC[C@]2...   \n",
       "2832      CHEMBL4852023       CC(C)c1cc(O)c2c(c1)CC[C@H]1C(C)(C)CCC[C@]21C   \n",
       "2833           CHEMBL75  CC(=O)N1CCN(c2ccc(OC[C@H]3CO[C@](Cn4ccnc4)(c4c...   \n",
       "2834      CHEMBL1200374  C=C1C[C@@H]2[C@H](CC[C@]3(C)C(=O)CC[C@@H]23)[C...   \n",
       "2835         CHEMBL1444               N#Cc1ccc(C(c2ccc(C#N)cc2)n2cncn2)cc1   \n",
       "\n",
       "     bioactivity_class       MW     LogP  NumHDonors  NumHAcceptors     pIC50  \n",
       "0         intermediate  329.528  4.28820         2.0            2.0  5.148742  \n",
       "1             inactive  315.501  3.89810         2.0            2.0  4.301030  \n",
       "2               active  412.306  5.70542         0.0            3.0  6.623423  \n",
       "3               active  319.383  4.63450         0.0            3.0  7.244125  \n",
       "4               active  321.811  4.58780         0.0            3.0  7.267606  \n",
       "...                ...      ...      ...         ...            ...       ...  \n",
       "2831               NaN  286.459  5.46460         0.0            1.0  5.102373  \n",
       "2832               NaN  286.459  5.54580         1.0            1.0  5.431798  \n",
       "2833               NaN  531.440  4.20580         0.0            7.0  5.619789  \n",
       "2834               NaN  296.410  4.02950         0.0            2.0  7.638272  \n",
       "2835               NaN  285.310  2.65916         0.0            5.0  9.000000  \n",
       "\n",
       "[2836 rows x 8 columns]"
      ]
     },
     "execution_count": 74,
     "metadata": {},
     "output_type": "execute_result"
    }
   ],
   "source": [
    "df_final = pIC50(df_norm)\n",
    "df_final"
   ]
  },
  {
   "cell_type": "code",
   "execution_count": 75,
   "metadata": {
    "colab": {
     "base_uri": "https://localhost:8080/",
     "height": 173
    },
    "colab_type": "code",
    "id": "BoqY53udSTYC",
    "outputId": "65595f1e-9547-4934-e958-b04825cf2316"
   },
   "outputs": [
    {
     "data": {
      "text/plain": [
       "count    2836.000000\n",
       "mean             inf\n",
       "std              NaN\n",
       "min         1.000000\n",
       "25%         5.118191\n",
       "50%         5.962040\n",
       "75%         6.971179\n",
       "max              inf\n",
       "Name: pIC50, dtype: float64"
      ]
     },
     "execution_count": 75,
     "metadata": {},
     "output_type": "execute_result"
    }
   ],
   "source": [
    "df_final.pIC50.describe()"
   ]
  },
  {
   "cell_type": "markdown",
   "metadata": {
    "colab_type": "text",
    "id": "05vHBWvqaQtb"
   },
   "source": [
    "### Supprimer la classe de bioactivité \"intermédiaire\""
   ]
  },
  {
   "cell_type": "code",
   "execution_count": 76,
   "metadata": {
    "colab": {
     "base_uri": "https://localhost:8080/",
     "height": 470
    },
    "colab_type": "code",
    "id": "HmrndhDW3c7Z",
    "outputId": "e3216e27-a94a-4848-8f18-c1c2533ad00f"
   },
   "outputs": [
    {
     "data": {
      "text/html": [
       "<div>\n",
       "<style scoped>\n",
       "    .dataframe tbody tr th:only-of-type {\n",
       "        vertical-align: middle;\n",
       "    }\n",
       "\n",
       "    .dataframe tbody tr th {\n",
       "        vertical-align: top;\n",
       "    }\n",
       "\n",
       "    .dataframe thead th {\n",
       "        text-align: right;\n",
       "    }\n",
       "</style>\n",
       "<table border=\"1\" class=\"dataframe\">\n",
       "  <thead>\n",
       "    <tr style=\"text-align: right;\">\n",
       "      <th></th>\n",
       "      <th>molecule_chembl_id</th>\n",
       "      <th>canonical_smiles</th>\n",
       "      <th>bioactivity_class</th>\n",
       "      <th>MW</th>\n",
       "      <th>LogP</th>\n",
       "      <th>NumHDonors</th>\n",
       "      <th>NumHAcceptors</th>\n",
       "      <th>pIC50</th>\n",
       "    </tr>\n",
       "  </thead>\n",
       "  <tbody>\n",
       "    <tr>\n",
       "      <th>1</th>\n",
       "      <td>CHEMBL2111947</td>\n",
       "      <td>C[C@]12CC[C@H]3[C@@H](CC=C4C[C@@H](O)CC[C@@]43...</td>\n",
       "      <td>inactive</td>\n",
       "      <td>315.501</td>\n",
       "      <td>3.89810</td>\n",
       "      <td>2.0</td>\n",
       "      <td>2.0</td>\n",
       "      <td>4.301030</td>\n",
       "    </tr>\n",
       "    <tr>\n",
       "      <th>2</th>\n",
       "      <td>CHEMBL431859</td>\n",
       "      <td>CCn1c(C(c2ccc(F)cc2)n2ccnc2)c(C)c2cc(Br)ccc21</td>\n",
       "      <td>active</td>\n",
       "      <td>412.306</td>\n",
       "      <td>5.70542</td>\n",
       "      <td>0.0</td>\n",
       "      <td>3.0</td>\n",
       "      <td>6.623423</td>\n",
       "    </tr>\n",
       "    <tr>\n",
       "      <th>3</th>\n",
       "      <td>CHEMBL113637</td>\n",
       "      <td>CCn1cc(C(c2ccc(F)cc2)n2ccnc2)c2ccccc21</td>\n",
       "      <td>active</td>\n",
       "      <td>319.383</td>\n",
       "      <td>4.63450</td>\n",
       "      <td>0.0</td>\n",
       "      <td>3.0</td>\n",
       "      <td>7.244125</td>\n",
       "    </tr>\n",
       "    <tr>\n",
       "      <th>4</th>\n",
       "      <td>CHEMBL112021</td>\n",
       "      <td>Clc1ccccc1Cn1cc(Cn2ccnc2)c2ccccc21</td>\n",
       "      <td>active</td>\n",
       "      <td>321.811</td>\n",
       "      <td>4.58780</td>\n",
       "      <td>0.0</td>\n",
       "      <td>3.0</td>\n",
       "      <td>7.267606</td>\n",
       "    </tr>\n",
       "    <tr>\n",
       "      <th>6</th>\n",
       "      <td>CHEMBL41761</td>\n",
       "      <td>CCn1ccc2cc(C(c3ccc(F)cc3)n3ccnc3)ccc21</td>\n",
       "      <td>active</td>\n",
       "      <td>319.383</td>\n",
       "      <td>4.63450</td>\n",
       "      <td>0.0</td>\n",
       "      <td>3.0</td>\n",
       "      <td>7.387216</td>\n",
       "    </tr>\n",
       "    <tr>\n",
       "      <th>...</th>\n",
       "      <td>...</td>\n",
       "      <td>...</td>\n",
       "      <td>...</td>\n",
       "      <td>...</td>\n",
       "      <td>...</td>\n",
       "      <td>...</td>\n",
       "      <td>...</td>\n",
       "      <td>...</td>\n",
       "    </tr>\n",
       "    <tr>\n",
       "      <th>2831</th>\n",
       "      <td>CHEMBL4874928</td>\n",
       "      <td>C=C[C@@]1(C)CC(=O)C2=C(CC[C@H]3C(C)(C)CCC[C@]2...</td>\n",
       "      <td>NaN</td>\n",
       "      <td>286.459</td>\n",
       "      <td>5.46460</td>\n",
       "      <td>0.0</td>\n",
       "      <td>1.0</td>\n",
       "      <td>5.102373</td>\n",
       "    </tr>\n",
       "    <tr>\n",
       "      <th>2832</th>\n",
       "      <td>CHEMBL4852023</td>\n",
       "      <td>CC(C)c1cc(O)c2c(c1)CC[C@H]1C(C)(C)CCC[C@]21C</td>\n",
       "      <td>NaN</td>\n",
       "      <td>286.459</td>\n",
       "      <td>5.54580</td>\n",
       "      <td>1.0</td>\n",
       "      <td>1.0</td>\n",
       "      <td>5.431798</td>\n",
       "    </tr>\n",
       "    <tr>\n",
       "      <th>2833</th>\n",
       "      <td>CHEMBL75</td>\n",
       "      <td>CC(=O)N1CCN(c2ccc(OC[C@H]3CO[C@](Cn4ccnc4)(c4c...</td>\n",
       "      <td>NaN</td>\n",
       "      <td>531.440</td>\n",
       "      <td>4.20580</td>\n",
       "      <td>0.0</td>\n",
       "      <td>7.0</td>\n",
       "      <td>5.619789</td>\n",
       "    </tr>\n",
       "    <tr>\n",
       "      <th>2834</th>\n",
       "      <td>CHEMBL1200374</td>\n",
       "      <td>C=C1C[C@@H]2[C@H](CC[C@]3(C)C(=O)CC[C@@H]23)[C...</td>\n",
       "      <td>NaN</td>\n",
       "      <td>296.410</td>\n",
       "      <td>4.02950</td>\n",
       "      <td>0.0</td>\n",
       "      <td>2.0</td>\n",
       "      <td>7.638272</td>\n",
       "    </tr>\n",
       "    <tr>\n",
       "      <th>2835</th>\n",
       "      <td>CHEMBL1444</td>\n",
       "      <td>N#Cc1ccc(C(c2ccc(C#N)cc2)n2cncn2)cc1</td>\n",
       "      <td>NaN</td>\n",
       "      <td>285.310</td>\n",
       "      <td>2.65916</td>\n",
       "      <td>0.0</td>\n",
       "      <td>5.0</td>\n",
       "      <td>9.000000</td>\n",
       "    </tr>\n",
       "  </tbody>\n",
       "</table>\n",
       "<p>2058 rows × 8 columns</p>\n",
       "</div>"
      ],
      "text/plain": [
       "     molecule_chembl_id                                   canonical_smiles  \\\n",
       "1         CHEMBL2111947  C[C@]12CC[C@H]3[C@@H](CC=C4C[C@@H](O)CC[C@@]43...   \n",
       "2          CHEMBL431859      CCn1c(C(c2ccc(F)cc2)n2ccnc2)c(C)c2cc(Br)ccc21   \n",
       "3          CHEMBL113637             CCn1cc(C(c2ccc(F)cc2)n2ccnc2)c2ccccc21   \n",
       "4          CHEMBL112021                 Clc1ccccc1Cn1cc(Cn2ccnc2)c2ccccc21   \n",
       "6           CHEMBL41761             CCn1ccc2cc(C(c3ccc(F)cc3)n3ccnc3)ccc21   \n",
       "...                 ...                                                ...   \n",
       "2831      CHEMBL4874928  C=C[C@@]1(C)CC(=O)C2=C(CC[C@H]3C(C)(C)CCC[C@]2...   \n",
       "2832      CHEMBL4852023       CC(C)c1cc(O)c2c(c1)CC[C@H]1C(C)(C)CCC[C@]21C   \n",
       "2833           CHEMBL75  CC(=O)N1CCN(c2ccc(OC[C@H]3CO[C@](Cn4ccnc4)(c4c...   \n",
       "2834      CHEMBL1200374  C=C1C[C@@H]2[C@H](CC[C@]3(C)C(=O)CC[C@@H]23)[C...   \n",
       "2835         CHEMBL1444               N#Cc1ccc(C(c2ccc(C#N)cc2)n2cncn2)cc1   \n",
       "\n",
       "     bioactivity_class       MW     LogP  NumHDonors  NumHAcceptors     pIC50  \n",
       "1             inactive  315.501  3.89810         2.0            2.0  4.301030  \n",
       "2               active  412.306  5.70542         0.0            3.0  6.623423  \n",
       "3               active  319.383  4.63450         0.0            3.0  7.244125  \n",
       "4               active  321.811  4.58780         0.0            3.0  7.267606  \n",
       "6               active  319.383  4.63450         0.0            3.0  7.387216  \n",
       "...                ...      ...      ...         ...            ...       ...  \n",
       "2831               NaN  286.459  5.46460         0.0            1.0  5.102373  \n",
       "2832               NaN  286.459  5.54580         1.0            1.0  5.431798  \n",
       "2833               NaN  531.440  4.20580         0.0            7.0  5.619789  \n",
       "2834               NaN  296.410  4.02950         0.0            2.0  7.638272  \n",
       "2835               NaN  285.310  2.65916         0.0            5.0  9.000000  \n",
       "\n",
       "[2058 rows x 8 columns]"
      ]
     },
     "execution_count": 76,
     "metadata": {},
     "output_type": "execute_result"
    }
   ],
   "source": [
    "df_2class = df_final[df_final.bioactivity_class != 'intermediate']\n",
    "df_2class"
   ]
  },
  {
   "cell_type": "markdown",
   "metadata": {
    "colab_type": "text",
    "id": "p9vA4-hQQ8sA"
   },
   "source": [
    "---"
   ]
  },
  {
   "cell_type": "markdown",
   "metadata": {
    "colab_type": "text",
    "id": "x0vqbQWfxsZu"
   },
   "source": [
    "## Analyse exploratoire des données (chemical space analysis) via les descripteurs Lipinski"
   ]
  },
  {
   "cell_type": "markdown",
   "metadata": {
    "colab_type": "text",
    "id": "18heJagiyHoF"
   },
   "source": [
    "### Libraries"
   ]
  },
  {
   "cell_type": "code",
   "execution_count": 134,
   "metadata": {
    "scrolled": false
   },
   "outputs": [
    {
     "name": "stderr",
     "output_type": "stream",
     "text": [
      "WARNING: pip is being invoked by an old script wrapper. This will fail in a future version of pip.\n",
      "Please see https://github.com/pypa/pip/issues/5599 for advice on fixing the underlying issue.\n",
      "To avoid this problem you can invoke Python with '-m pip' instead of running pip directly.\n"
     ]
    },
    {
     "data": {
      "text/html": [
       "<pre style=\"white-space:pre;overflow-x:auto;line-height:normal;font-family:Menlo,'DejaVu Sans Mono',consolas,'Courier New',monospace\">Collecting seaborn\n",
       "</pre>\n"
      ],
      "text/plain": [
       "Collecting seaborn\n"
      ]
     },
     "metadata": {},
     "output_type": "display_data"
    },
    {
     "data": {
      "text/html": [
       "<pre style=\"white-space:pre;overflow-x:auto;line-height:normal;font-family:Menlo,'DejaVu Sans Mono',consolas,'Courier New',monospace\">  Using cached seaborn-0.12.2-py3-none-any.whl (293 kB)\n",
       "</pre>\n"
      ],
      "text/plain": [
       "  Using cached seaborn-0.12.2-py3-none-any.whl (293 kB)\n"
      ]
     },
     "metadata": {},
     "output_type": "display_data"
    },
    {
     "data": {
      "text/html": [
       "<pre style=\"white-space:pre;overflow-x:auto;line-height:normal;font-family:Menlo,'DejaVu Sans Mono',consolas,'Courier New',monospace\">Requirement already satisfied: numpy!=1.24.0,&gt;=1.17 in /Users/oussama/opt/anaconda3/envs/test/lib/python3.7/site-packages (from seaborn) (1.21.5)\n",
       "</pre>\n"
      ],
      "text/plain": [
       "Requirement already satisfied: numpy!=1.24.0,>=1.17 in /Users/oussama/opt/anaconda3/envs/test/lib/python3.7/site-packages (from seaborn) (1.21.5)\n"
      ]
     },
     "metadata": {},
     "output_type": "display_data"
    },
    {
     "data": {
      "text/html": [
       "<pre style=\"white-space:pre;overflow-x:auto;line-height:normal;font-family:Menlo,'DejaVu Sans Mono',consolas,'Courier New',monospace\">Collecting matplotlib!=3.6.1,&gt;=3.1\n",
       "</pre>\n"
      ],
      "text/plain": [
       "Collecting matplotlib!=3.6.1,>=3.1\n"
      ]
     },
     "metadata": {},
     "output_type": "display_data"
    },
    {
     "data": {
      "text/html": [
       "<pre style=\"white-space:pre;overflow-x:auto;line-height:normal;font-family:Menlo,'DejaVu Sans Mono',consolas,'Courier New',monospace\">  Using cached matplotlib-3.5.3-cp37-cp37m-macosx_10_9_x86_64.whl (7.3 MB)\n",
       "</pre>\n"
      ],
      "text/plain": [
       "  Using cached matplotlib-3.5.3-cp37-cp37m-macosx_10_9_x86_64.whl (7.3 MB)\n"
      ]
     },
     "metadata": {},
     "output_type": "display_data"
    },
    {
     "data": {
      "text/html": [
       "<pre style=\"white-space:pre;overflow-x:auto;line-height:normal;font-family:Menlo,'DejaVu Sans Mono',consolas,'Courier New',monospace\">Requirement already satisfied: pandas&gt;=0.25 in /Users/oussama/opt/anaconda3/envs/test/lib/python3.7/site-packages (from seaborn) (1.3.5)\n",
       "</pre>\n"
      ],
      "text/plain": [
       "Requirement already satisfied: pandas>=0.25 in /Users/oussama/opt/anaconda3/envs/test/lib/python3.7/site-packages (from seaborn) (1.3.5)\n"
      ]
     },
     "metadata": {},
     "output_type": "display_data"
    },
    {
     "data": {
      "text/html": [
       "<pre style=\"white-space:pre;overflow-x:auto;line-height:normal;font-family:Menlo,'DejaVu Sans Mono',consolas,'Courier New',monospace\">Requirement already satisfied: typing_extensions in /Users/oussama/opt/anaconda3/envs/test/lib/python3.7/site-packages (from seaborn) (4.4.0)\n",
       "</pre>\n"
      ],
      "text/plain": [
       "Requirement already satisfied: typing_extensions in /Users/oussama/opt/anaconda3/envs/test/lib/python3.7/site-packages (from seaborn) (4.4.0)\n"
      ]
     },
     "metadata": {},
     "output_type": "display_data"
    },
    {
     "data": {
      "text/html": [
       "<pre style=\"white-space:pre;overflow-x:auto;line-height:normal;font-family:Menlo,'DejaVu Sans Mono',consolas,'Courier New',monospace\">Requirement already satisfied: pillow&gt;=6.2.0 in /Users/oussama/opt/anaconda3/envs/test/lib/python3.7/site-packages (from matplotlib!=3.6.1,&gt;=3.1-&gt;seaborn) (9.3.0)\n",
       "</pre>\n"
      ],
      "text/plain": [
       "Requirement already satisfied: pillow>=6.2.0 in /Users/oussama/opt/anaconda3/envs/test/lib/python3.7/site-packages (from matplotlib!=3.6.1,>=3.1->seaborn) (9.3.0)\n"
      ]
     },
     "metadata": {},
     "output_type": "display_data"
    },
    {
     "data": {
      "text/html": [
       "<pre style=\"white-space:pre;overflow-x:auto;line-height:normal;font-family:Menlo,'DejaVu Sans Mono',consolas,'Courier New',monospace\">Requirement already satisfied: python-dateutil&gt;=2.7 in /Users/oussama/opt/anaconda3/envs/test/lib/python3.7/site-packages (from matplotlib!=3.6.1,&gt;=3.1-&gt;seaborn) (2.8.2)\n",
       "</pre>\n"
      ],
      "text/plain": [
       "Requirement already satisfied: python-dateutil>=2.7 in /Users/oussama/opt/anaconda3/envs/test/lib/python3.7/site-packages (from matplotlib!=3.6.1,>=3.1->seaborn) (2.8.2)\n"
      ]
     },
     "metadata": {},
     "output_type": "display_data"
    },
    {
     "data": {
      "text/html": [
       "<pre style=\"white-space:pre;overflow-x:auto;line-height:normal;font-family:Menlo,'DejaVu Sans Mono',consolas,'Courier New',monospace\">Requirement already satisfied: packaging&gt;=20.0 in /Users/oussama/opt/anaconda3/envs/test/lib/python3.7/site-packages (from matplotlib!=3.6.1,&gt;=3.1-&gt;seaborn) (22.0)\n",
       "</pre>\n"
      ],
      "text/plain": [
       "Requirement already satisfied: packaging>=20.0 in /Users/oussama/opt/anaconda3/envs/test/lib/python3.7/site-packages (from matplotlib!=3.6.1,>=3.1->seaborn) (22.0)\n"
      ]
     },
     "metadata": {},
     "output_type": "display_data"
    },
    {
     "data": {
      "text/html": [
       "<pre style=\"white-space:pre;overflow-x:auto;line-height:normal;font-family:Menlo,'DejaVu Sans Mono',consolas,'Courier New',monospace\">Collecting kiwisolver&gt;=1.0.1\n",
       "</pre>\n"
      ],
      "text/plain": [
       "Collecting kiwisolver>=1.0.1\n"
      ]
     },
     "metadata": {},
     "output_type": "display_data"
    },
    {
     "data": {
      "text/html": [
       "<pre style=\"white-space:pre;overflow-x:auto;line-height:normal;font-family:Menlo,'DejaVu Sans Mono',consolas,'Courier New',monospace\">  Using cached kiwisolver-1.4.4-cp37-cp37m-macosx_10_9_x86_64.whl (65 kB)\n",
       "</pre>\n"
      ],
      "text/plain": [
       "  Using cached kiwisolver-1.4.4-cp37-cp37m-macosx_10_9_x86_64.whl (65 kB)\n"
      ]
     },
     "metadata": {},
     "output_type": "display_data"
    },
    {
     "data": {
      "text/html": [
       "<pre style=\"white-space:pre;overflow-x:auto;line-height:normal;font-family:Menlo,'DejaVu Sans Mono',consolas,'Courier New',monospace\">Collecting fonttools&gt;=4.22.0\n",
       "</pre>\n"
      ],
      "text/plain": [
       "Collecting fonttools>=4.22.0\n"
      ]
     },
     "metadata": {},
     "output_type": "display_data"
    },
    {
     "data": {
      "text/html": [
       "<pre style=\"white-space:pre;overflow-x:auto;line-height:normal;font-family:Menlo,'DejaVu Sans Mono',consolas,'Courier New',monospace\">  Using cached fonttools-4.38.0-py3-none-any.whl (965 kB)\n",
       "</pre>\n"
      ],
      "text/plain": [
       "  Using cached fonttools-4.38.0-py3-none-any.whl (965 kB)\n"
      ]
     },
     "metadata": {},
     "output_type": "display_data"
    },
    {
     "data": {
      "text/html": [
       "<pre style=\"white-space:pre;overflow-x:auto;line-height:normal;font-family:Menlo,'DejaVu Sans Mono',consolas,'Courier New',monospace\">Collecting cycler&gt;=0.10\n",
       "</pre>\n"
      ],
      "text/plain": [
       "Collecting cycler>=0.10\n"
      ]
     },
     "metadata": {},
     "output_type": "display_data"
    },
    {
     "data": {
      "text/html": [
       "<pre style=\"white-space:pre;overflow-x:auto;line-height:normal;font-family:Menlo,'DejaVu Sans Mono',consolas,'Courier New',monospace\">  Using cached cycler-0.11.0-py3-none-any.whl (6.4 kB)\n",
       "</pre>\n"
      ],
      "text/plain": [
       "  Using cached cycler-0.11.0-py3-none-any.whl (6.4 kB)\n"
      ]
     },
     "metadata": {},
     "output_type": "display_data"
    },
    {
     "data": {
      "text/html": [
       "<pre style=\"white-space:pre;overflow-x:auto;line-height:normal;font-family:Menlo,'DejaVu Sans Mono',consolas,'Courier New',monospace\">Collecting pyparsing&gt;=2.2.1\n",
       "</pre>\n"
      ],
      "text/plain": [
       "Collecting pyparsing>=2.2.1\n"
      ]
     },
     "metadata": {},
     "output_type": "display_data"
    },
    {
     "data": {
      "text/html": [
       "<pre style=\"white-space:pre;overflow-x:auto;line-height:normal;font-family:Menlo,'DejaVu Sans Mono',consolas,'Courier New',monospace\">  Using cached pyparsing-3.0.9-py3-none-any.whl (98 kB)\n",
       "</pre>\n"
      ],
      "text/plain": [
       "  Using cached pyparsing-3.0.9-py3-none-any.whl (98 kB)\n"
      ]
     },
     "metadata": {},
     "output_type": "display_data"
    },
    {
     "data": {
      "text/html": [
       "<pre style=\"white-space:pre;overflow-x:auto;line-height:normal;font-family:Menlo,'DejaVu Sans Mono',consolas,'Courier New',monospace\">Requirement already satisfied: pytz&gt;=2017.3 in /Users/oussama/opt/anaconda3/envs/test/lib/python3.7/site-packages (from pandas&gt;=0.25-&gt;seaborn) (2022.7)\n",
       "</pre>\n"
      ],
      "text/plain": [
       "Requirement already satisfied: pytz>=2017.3 in /Users/oussama/opt/anaconda3/envs/test/lib/python3.7/site-packages (from pandas>=0.25->seaborn) (2022.7)\n"
      ]
     },
     "metadata": {},
     "output_type": "display_data"
    },
    {
     "data": {
      "text/html": [
       "<pre style=\"white-space:pre;overflow-x:auto;line-height:normal;font-family:Menlo,'DejaVu Sans Mono',consolas,'Courier New',monospace\">Requirement already satisfied: six&gt;=1.5 in /Users/oussama/opt/anaconda3/envs/test/lib/python3.7/site-packages (from python-dateutil&gt;=2.7-&gt;matplotlib!=3.6.1,&gt;=3.1-&gt;seaborn) (1.16.0)\n",
       "</pre>\n"
      ],
      "text/plain": [
       "Requirement already satisfied: six>=1.5 in /Users/oussama/opt/anaconda3/envs/test/lib/python3.7/site-packages (from python-dateutil>=2.7->matplotlib!=3.6.1,>=3.1->seaborn) (1.16.0)\n"
      ]
     },
     "metadata": {},
     "output_type": "display_data"
    },
    {
     "data": {
      "text/html": [
       "<pre style=\"white-space:pre;overflow-x:auto;line-height:normal;font-family:Menlo,'DejaVu Sans Mono',consolas,'Courier New',monospace\">Installing collected packages: pyparsing, kiwisolver, fonttools, cycler, matplotlib, seaborn\n",
       "</pre>\n"
      ],
      "text/plain": [
       "Installing collected packages: pyparsing, kiwisolver, fonttools, cycler, matplotlib, seaborn\n"
      ]
     },
     "metadata": {},
     "output_type": "display_data"
    },
    {
     "data": {
      "text/html": [
       "<pre style=\"white-space:pre;overflow-x:auto;line-height:normal;font-family:Menlo,'DejaVu Sans Mono',consolas,'Courier New',monospace\">Successfully installed cycler-0.11.0 fonttools-4.38.0 kiwisolver-1.4.4 matplotlib-3.5.3 pyparsing-3.0.9 seaborn-0.12.2\n",
       "</pre>\n"
      ],
      "text/plain": [
       "Successfully installed cycler-0.11.0 fonttools-4.38.0 kiwisolver-1.4.4 matplotlib-3.5.3 pyparsing-3.0.9 seaborn-0.12.2\n"
      ]
     },
     "metadata": {},
     "output_type": "display_data"
    },
    {
     "name": "stderr",
     "output_type": "stream",
     "text": [
      "WARNING: pip is being invoked by an old script wrapper. This will fail in a future version of pip.\n",
      "Please see https://github.com/pypa/pip/issues/5599 for advice on fixing the underlying issue.\n",
      "To avoid this problem you can invoke Python with '-m pip' instead of running pip directly.\n"
     ]
    },
    {
     "data": {
      "text/html": [
       "<pre style=\"white-space:pre;overflow-x:auto;line-height:normal;font-family:Menlo,'DejaVu Sans Mono',consolas,'Courier New',monospace\">Collecting matplotlib\n",
       "</pre>\n"
      ],
      "text/plain": [
       "Collecting matplotlib\n"
      ]
     },
     "metadata": {},
     "output_type": "display_data"
    },
    {
     "data": {
      "text/html": [
       "<pre style=\"white-space:pre;overflow-x:auto;line-height:normal;font-family:Menlo,'DejaVu Sans Mono',consolas,'Courier New',monospace\">  Using cached matplotlib-3.5.3-cp37-cp37m-macosx_10_9_x86_64.whl (7.3 MB)\n",
       "</pre>\n"
      ],
      "text/plain": [
       "  Using cached matplotlib-3.5.3-cp37-cp37m-macosx_10_9_x86_64.whl (7.3 MB)\n"
      ]
     },
     "metadata": {},
     "output_type": "display_data"
    },
    {
     "data": {
      "text/html": [
       "<pre style=\"white-space:pre;overflow-x:auto;line-height:normal;font-family:Menlo,'DejaVu Sans Mono',consolas,'Courier New',monospace\">Requirement already satisfied: pillow&gt;=6.2.0 in /Users/oussama/opt/anaconda3/envs/test/lib/python3.7/site-packages (from matplotlib) (9.3.0)\n",
       "</pre>\n"
      ],
      "text/plain": [
       "Requirement already satisfied: pillow>=6.2.0 in /Users/oussama/opt/anaconda3/envs/test/lib/python3.7/site-packages (from matplotlib) (9.3.0)\n"
      ]
     },
     "metadata": {},
     "output_type": "display_data"
    },
    {
     "data": {
      "text/html": [
       "<pre style=\"white-space:pre;overflow-x:auto;line-height:normal;font-family:Menlo,'DejaVu Sans Mono',consolas,'Courier New',monospace\">Requirement already satisfied: python-dateutil&gt;=2.7 in /Users/oussama/opt/anaconda3/envs/test/lib/python3.7/site-packages (from matplotlib) (2.8.2)\n",
       "</pre>\n"
      ],
      "text/plain": [
       "Requirement already satisfied: python-dateutil>=2.7 in /Users/oussama/opt/anaconda3/envs/test/lib/python3.7/site-packages (from matplotlib) (2.8.2)\n"
      ]
     },
     "metadata": {},
     "output_type": "display_data"
    },
    {
     "data": {
      "text/html": [
       "<pre style=\"white-space:pre;overflow-x:auto;line-height:normal;font-family:Menlo,'DejaVu Sans Mono',consolas,'Courier New',monospace\">Requirement already satisfied: packaging&gt;=20.0 in /Users/oussama/opt/anaconda3/envs/test/lib/python3.7/site-packages (from matplotlib) (22.0)\n",
       "</pre>\n"
      ],
      "text/plain": [
       "Requirement already satisfied: packaging>=20.0 in /Users/oussama/opt/anaconda3/envs/test/lib/python3.7/site-packages (from matplotlib) (22.0)\n"
      ]
     },
     "metadata": {},
     "output_type": "display_data"
    },
    {
     "data": {
      "text/html": [
       "<pre style=\"white-space:pre;overflow-x:auto;line-height:normal;font-family:Menlo,'DejaVu Sans Mono',consolas,'Courier New',monospace\">Requirement already satisfied: numpy&gt;=1.17 in /Users/oussama/opt/anaconda3/envs/test/lib/python3.7/site-packages (from matplotlib) (1.21.5)\n",
       "</pre>\n"
      ],
      "text/plain": [
       "Requirement already satisfied: numpy>=1.17 in /Users/oussama/opt/anaconda3/envs/test/lib/python3.7/site-packages (from matplotlib) (1.21.5)\n"
      ]
     },
     "metadata": {},
     "output_type": "display_data"
    },
    {
     "data": {
      "text/html": [
       "<pre style=\"white-space:pre;overflow-x:auto;line-height:normal;font-family:Menlo,'DejaVu Sans Mono',consolas,'Courier New',monospace\">Collecting kiwisolver&gt;=1.0.1\n",
       "</pre>\n"
      ],
      "text/plain": [
       "Collecting kiwisolver>=1.0.1\n"
      ]
     },
     "metadata": {},
     "output_type": "display_data"
    },
    {
     "data": {
      "text/html": [
       "<pre style=\"white-space:pre;overflow-x:auto;line-height:normal;font-family:Menlo,'DejaVu Sans Mono',consolas,'Courier New',monospace\">  Using cached kiwisolver-1.4.4-cp37-cp37m-macosx_10_9_x86_64.whl (65 kB)\n",
       "</pre>\n"
      ],
      "text/plain": [
       "  Using cached kiwisolver-1.4.4-cp37-cp37m-macosx_10_9_x86_64.whl (65 kB)\n"
      ]
     },
     "metadata": {},
     "output_type": "display_data"
    },
    {
     "data": {
      "text/html": [
       "<pre style=\"white-space:pre;overflow-x:auto;line-height:normal;font-family:Menlo,'DejaVu Sans Mono',consolas,'Courier New',monospace\">Collecting fonttools&gt;=4.22.0\n",
       "</pre>\n"
      ],
      "text/plain": [
       "Collecting fonttools>=4.22.0\n"
      ]
     },
     "metadata": {},
     "output_type": "display_data"
    },
    {
     "data": {
      "text/html": [
       "<pre style=\"white-space:pre;overflow-x:auto;line-height:normal;font-family:Menlo,'DejaVu Sans Mono',consolas,'Courier New',monospace\">  Using cached fonttools-4.38.0-py3-none-any.whl (965 kB)\n",
       "</pre>\n"
      ],
      "text/plain": [
       "  Using cached fonttools-4.38.0-py3-none-any.whl (965 kB)\n"
      ]
     },
     "metadata": {},
     "output_type": "display_data"
    },
    {
     "data": {
      "text/html": [
       "<pre style=\"white-space:pre;overflow-x:auto;line-height:normal;font-family:Menlo,'DejaVu Sans Mono',consolas,'Courier New',monospace\">Collecting cycler&gt;=0.10\n",
       "</pre>\n"
      ],
      "text/plain": [
       "Collecting cycler>=0.10\n"
      ]
     },
     "metadata": {},
     "output_type": "display_data"
    },
    {
     "data": {
      "text/html": [
       "<pre style=\"white-space:pre;overflow-x:auto;line-height:normal;font-family:Menlo,'DejaVu Sans Mono',consolas,'Courier New',monospace\">  Using cached cycler-0.11.0-py3-none-any.whl (6.4 kB)\n",
       "</pre>\n"
      ],
      "text/plain": [
       "  Using cached cycler-0.11.0-py3-none-any.whl (6.4 kB)\n"
      ]
     },
     "metadata": {},
     "output_type": "display_data"
    },
    {
     "data": {
      "text/html": [
       "<pre style=\"white-space:pre;overflow-x:auto;line-height:normal;font-family:Menlo,'DejaVu Sans Mono',consolas,'Courier New',monospace\">Collecting pyparsing&gt;=2.2.1\n",
       "</pre>\n"
      ],
      "text/plain": [
       "Collecting pyparsing>=2.2.1\n"
      ]
     },
     "metadata": {},
     "output_type": "display_data"
    },
    {
     "data": {
      "text/html": [
       "<pre style=\"white-space:pre;overflow-x:auto;line-height:normal;font-family:Menlo,'DejaVu Sans Mono',consolas,'Courier New',monospace\">  Using cached pyparsing-3.0.9-py3-none-any.whl (98 kB)\n",
       "</pre>\n"
      ],
      "text/plain": [
       "  Using cached pyparsing-3.0.9-py3-none-any.whl (98 kB)\n"
      ]
     },
     "metadata": {},
     "output_type": "display_data"
    },
    {
     "data": {
      "text/html": [
       "<pre style=\"white-space:pre;overflow-x:auto;line-height:normal;font-family:Menlo,'DejaVu Sans Mono',consolas,'Courier New',monospace\">Requirement already satisfied: typing-extensions in /Users/oussama/opt/anaconda3/envs/test/lib/python3.7/site-packages (from kiwisolver&gt;=1.0.1-&gt;matplotlib) (4.4.0)\n",
       "</pre>\n"
      ],
      "text/plain": [
       "Requirement already satisfied: typing-extensions in /Users/oussama/opt/anaconda3/envs/test/lib/python3.7/site-packages (from kiwisolver>=1.0.1->matplotlib) (4.4.0)\n"
      ]
     },
     "metadata": {},
     "output_type": "display_data"
    },
    {
     "data": {
      "text/html": [
       "<pre style=\"white-space:pre;overflow-x:auto;line-height:normal;font-family:Menlo,'DejaVu Sans Mono',consolas,'Courier New',monospace\">Requirement already satisfied: six&gt;=1.5 in /Users/oussama/opt/anaconda3/envs/test/lib/python3.7/site-packages (from python-dateutil&gt;=2.7-&gt;matplotlib) (1.16.0)\n",
       "</pre>\n"
      ],
      "text/plain": [
       "Requirement already satisfied: six>=1.5 in /Users/oussama/opt/anaconda3/envs/test/lib/python3.7/site-packages (from python-dateutil>=2.7->matplotlib) (1.16.0)\n"
      ]
     },
     "metadata": {},
     "output_type": "display_data"
    },
    {
     "data": {
      "text/html": [
       "<pre style=\"white-space:pre;overflow-x:auto;line-height:normal;font-family:Menlo,'DejaVu Sans Mono',consolas,'Courier New',monospace\">Installing collected packages: pyparsing, kiwisolver, fonttools, cycler, matplotlib\n",
       "</pre>\n"
      ],
      "text/plain": [
       "Installing collected packages: pyparsing, kiwisolver, fonttools, cycler, matplotlib\n"
      ]
     },
     "metadata": {},
     "output_type": "display_data"
    },
    {
     "data": {
      "text/html": [
       "<pre style=\"white-space:pre;overflow-x:auto;line-height:normal;font-family:Menlo,'DejaVu Sans Mono',consolas,'Courier New',monospace\">Successfully installed cycler-0.11.0 fonttools-4.38.0 kiwisolver-1.4.4 matplotlib-3.5.3 pyparsing-3.0.9\n",
       "</pre>\n"
      ],
      "text/plain": [
       "Successfully installed cycler-0.11.0 fonttools-4.38.0 kiwisolver-1.4.4 matplotlib-3.5.3 pyparsing-3.0.9\n"
      ]
     },
     "metadata": {},
     "output_type": "display_data"
    },
    {
     "name": "stderr",
     "output_type": "stream",
     "text": [
      "WARNING: pip is being invoked by an old script wrapper. This will fail in a future version of pip.\n",
      "Please see https://github.com/pypa/pip/issues/5599 for advice on fixing the underlying issue.\n",
      "To avoid this problem you can invoke Python with '-m pip' instead of running pip directly.\n"
     ]
    },
    {
     "data": {
      "text/html": [
       "<pre style=\"white-space:pre;overflow-x:auto;line-height:normal;font-family:Menlo,'DejaVu Sans Mono',consolas,'Courier New',monospace\">Requirement already satisfied: numpy in /Users/oussama/opt/anaconda3/envs/test/lib/python3.7/site-packages (1.21.5)\n",
       "</pre>\n"
      ],
      "text/plain": [
       "Requirement already satisfied: numpy in /Users/oussama/opt/anaconda3/envs/test/lib/python3.7/site-packages (1.21.5)\n"
      ]
     },
     "metadata": {},
     "output_type": "display_data"
    },
    {
     "name": "stderr",
     "output_type": "stream",
     "text": [
      "WARNING: pip is being invoked by an old script wrapper. This will fail in a future version of pip.\n",
      "Please see https://github.com/pypa/pip/issues/5599 for advice on fixing the underlying issue.\n",
      "To avoid this problem you can invoke Python with '-m pip' instead of running pip directly.\n"
     ]
    },
    {
     "data": {
      "text/html": [
       "<pre style=\"white-space:pre;overflow-x:auto;line-height:normal;font-family:Menlo,'DejaVu Sans Mono',consolas,'Courier New',monospace\">Collecting scipy\n",
       "</pre>\n"
      ],
      "text/plain": [
       "Collecting scipy\n"
      ]
     },
     "metadata": {},
     "output_type": "display_data"
    },
    {
     "data": {
      "text/html": [
       "<pre style=\"white-space:pre;overflow-x:auto;line-height:normal;font-family:Menlo,'DejaVu Sans Mono',consolas,'Courier New',monospace\">  Using cached scipy-1.7.3-cp37-cp37m-macosx_10_9_x86_64.whl (33.0 MB)\n",
       "</pre>\n"
      ],
      "text/plain": [
       "  Using cached scipy-1.7.3-cp37-cp37m-macosx_10_9_x86_64.whl (33.0 MB)\n"
      ]
     },
     "metadata": {},
     "output_type": "display_data"
    },
    {
     "data": {
      "text/html": [
       "<pre style=\"white-space:pre;overflow-x:auto;line-height:normal;font-family:Menlo,'DejaVu Sans Mono',consolas,'Courier New',monospace\">Requirement already satisfied: numpy&lt;1.23.0,&gt;=1.16.5 in /Users/oussama/opt/anaconda3/envs/test/lib/python3.7/site-packages (from scipy) (1.21.5)\n",
       "</pre>\n"
      ],
      "text/plain": [
       "Requirement already satisfied: numpy<1.23.0,>=1.16.5 in /Users/oussama/opt/anaconda3/envs/test/lib/python3.7/site-packages (from scipy) (1.21.5)\n"
      ]
     },
     "metadata": {},
     "output_type": "display_data"
    },
    {
     "data": {
      "text/html": [
       "<pre style=\"white-space:pre;overflow-x:auto;line-height:normal;font-family:Menlo,'DejaVu Sans Mono',consolas,'Courier New',monospace\">Installing collected packages: scipy\n",
       "</pre>\n"
      ],
      "text/plain": [
       "Installing collected packages: scipy\n"
      ]
     },
     "metadata": {},
     "output_type": "display_data"
    },
    {
     "data": {
      "text/html": [
       "<pre style=\"white-space:pre;overflow-x:auto;line-height:normal;font-family:Menlo,'DejaVu Sans Mono',consolas,'Courier New',monospace\">Successfully installed scipy-1.7.3\n",
       "</pre>\n"
      ],
      "text/plain": [
       "Successfully installed scipy-1.7.3\n"
      ]
     },
     "metadata": {},
     "output_type": "display_data"
    },
    {
     "name": "stderr",
     "output_type": "stream",
     "text": [
      "WARNING: pip is being invoked by an old script wrapper. This will fail in a future version of pip.\n",
      "Please see https://github.com/pypa/pip/issues/5599 for advice on fixing the underlying issue.\n",
      "To avoid this problem you can invoke Python with '-m pip' instead of running pip directly.\n"
     ]
    },
    {
     "data": {
      "text/html": [
       "<pre style=\"white-space:pre;overflow-x:auto;line-height:normal;font-family:Menlo,'DejaVu Sans Mono',consolas,'Courier New',monospace\">Collecting sklearn\n",
       "</pre>\n"
      ],
      "text/plain": [
       "Collecting sklearn\n"
      ]
     },
     "metadata": {},
     "output_type": "display_data"
    },
    {
     "data": {
      "text/html": [
       "<pre style=\"white-space:pre;overflow-x:auto;line-height:normal;font-family:Menlo,'DejaVu Sans Mono',consolas,'Courier New',monospace\">  Downloading sklearn-0.0.post1.tar.gz (3.6 kB)\n",
       "</pre>\n"
      ],
      "text/plain": [
       "  Downloading sklearn-0.0.post1.tar.gz (3.6 kB)\n"
      ]
     },
     "metadata": {},
     "output_type": "display_data"
    },
    {
     "data": {
      "text/html": [
       "<pre style=\"white-space:pre;overflow-x:auto;line-height:normal;font-family:Menlo,'DejaVu Sans Mono',consolas,'Courier New',monospace\">  Preparing metadata (setup.py): started\n",
       "</pre>\n"
      ],
      "text/plain": [
       "  Preparing metadata (setup.py): started\n"
      ]
     },
     "metadata": {},
     "output_type": "display_data"
    },
    {
     "data": {
      "text/html": [
       "<pre style=\"white-space:pre;overflow-x:auto;line-height:normal;font-family:Menlo,'DejaVu Sans Mono',consolas,'Courier New',monospace\">  Preparing metadata (setup.py): finished with status 'done'\n",
       "</pre>\n"
      ],
      "text/plain": [
       "  Preparing metadata (setup.py): finished with status 'done'\n"
      ]
     },
     "metadata": {},
     "output_type": "display_data"
    },
    {
     "data": {
      "text/html": [
       "<pre style=\"white-space:pre;overflow-x:auto;line-height:normal;font-family:Menlo,'DejaVu Sans Mono',consolas,'Courier New',monospace\">Building wheels for collected packages: sklearn\n",
       "</pre>\n"
      ],
      "text/plain": [
       "Building wheels for collected packages: sklearn\n"
      ]
     },
     "metadata": {},
     "output_type": "display_data"
    },
    {
     "data": {
      "text/html": [
       "<pre style=\"white-space:pre;overflow-x:auto;line-height:normal;font-family:Menlo,'DejaVu Sans Mono',consolas,'Courier New',monospace\">  Building wheel for sklearn (setup.py): started\n",
       "</pre>\n"
      ],
      "text/plain": [
       "  Building wheel for sklearn (setup.py): started\n"
      ]
     },
     "metadata": {},
     "output_type": "display_data"
    },
    {
     "data": {
      "text/html": [
       "<pre style=\"white-space:pre;overflow-x:auto;line-height:normal;font-family:Menlo,'DejaVu Sans Mono',consolas,'Courier New',monospace\">  Building wheel for sklearn (setup.py): finished with status 'done'\n",
       "</pre>\n"
      ],
      "text/plain": [
       "  Building wheel for sklearn (setup.py): finished with status 'done'\n"
      ]
     },
     "metadata": {},
     "output_type": "display_data"
    },
    {
     "data": {
      "text/html": [
       "<pre style=\"white-space:pre;overflow-x:auto;line-height:normal;font-family:Menlo,'DejaVu Sans Mono',consolas,'Courier New',monospace\">  Created wheel for sklearn: filename=sklearn-0.0.post1-py3-none-any.whl size=2936 sha256=a2ce44aeed59b2936a9f0a155e5b875797f58c90b0960a7e03f279ca7ccee57b\n",
       "</pre>\n"
      ],
      "text/plain": [
       "  Created wheel for sklearn: filename=sklearn-0.0.post1-py3-none-any.whl size=2936 sha256=a2ce44aeed59b2936a9f0a155e5b875797f58c90b0960a7e03f279ca7ccee57b\n"
      ]
     },
     "metadata": {},
     "output_type": "display_data"
    },
    {
     "data": {
      "text/html": [
       "<pre style=\"white-space:pre;overflow-x:auto;line-height:normal;font-family:Menlo,'DejaVu Sans Mono',consolas,'Courier New',monospace\">  Stored in directory: /Users/oussama/Library/Caches/pip/wheels/15/9a/b1/2478e73a520d596fab614693f5cd1beef4ba3db737bed1ac7d\n",
       "</pre>\n"
      ],
      "text/plain": [
       "  Stored in directory: /Users/oussama/Library/Caches/pip/wheels/15/9a/b1/2478e73a520d596fab614693f5cd1beef4ba3db737bed1ac7d\n"
      ]
     },
     "metadata": {},
     "output_type": "display_data"
    },
    {
     "data": {
      "text/html": [
       "<pre style=\"white-space:pre;overflow-x:auto;line-height:normal;font-family:Menlo,'DejaVu Sans Mono',consolas,'Courier New',monospace\">Successfully built sklearn\n",
       "</pre>\n"
      ],
      "text/plain": [
       "Successfully built sklearn\n"
      ]
     },
     "metadata": {},
     "output_type": "display_data"
    },
    {
     "data": {
      "text/html": [
       "<pre style=\"white-space:pre;overflow-x:auto;line-height:normal;font-family:Menlo,'DejaVu Sans Mono',consolas,'Courier New',monospace\">Installing collected packages: sklearn\n",
       "</pre>\n"
      ],
      "text/plain": [
       "Installing collected packages: sklearn\n"
      ]
     },
     "metadata": {},
     "output_type": "display_data"
    },
    {
     "data": {
      "text/html": [
       "<pre style=\"white-space:pre;overflow-x:auto;line-height:normal;font-family:Menlo,'DejaVu Sans Mono',consolas,'Courier New',monospace\">Successfully installed sklearn-0.0.post1\n",
       "</pre>\n"
      ],
      "text/plain": [
       "Successfully installed sklearn-0.0.post1\n"
      ]
     },
     "metadata": {},
     "output_type": "display_data"
    },
    {
     "data": {
      "text/plain": [
       "0"
      ]
     },
     "execution_count": 134,
     "metadata": {},
     "output_type": "execute_result"
    }
   ],
   "source": [
    "import pip\n",
    "pip.main(['install','seaborn'])\n",
    "pip.main(['install','matplotlib'])\n",
    "pip.main(['install','numpy'])\n",
    "pip.main(['install','scipy'])\n",
    "pip.main(['install','sklearn'])"
   ]
  },
  {
   "cell_type": "markdown",
   "metadata": {
    "colab_type": "text",
    "id": "NiarmFbOdG3H"
   },
   "source": [
    "### Courbe de fréquence des 2 classes de bioactivité"
   ]
  },
  {
   "cell_type": "code",
   "execution_count": 54,
   "metadata": {},
   "outputs": [],
   "source": [
    "import seaborn as sns\n",
    "sns.set(style='ticks')\n",
    "import matplotlib.pyplot as plt"
   ]
  },
  {
   "cell_type": "code",
   "execution_count": 55,
   "metadata": {
    "colab": {
     "base_uri": "https://localhost:8080/",
     "height": 367
    },
    "colab_type": "code",
    "id": "w2Ia0iycdMO2",
    "outputId": "34409d5f-d826-4bcb-8167-2d208fbdf5d8"
   },
   "outputs": [
    {
     "data": {
      "image/png": "[encoded data removed]",
      "text/plain": [
       "<Figure size 550x550 with 1 Axes>"
      ]
     },
     "metadata": {},
     "output_type": "display_data"
    }
   ],
   "source": [
    "plt.figure(figsize=(5.5, 5.5))\n",
    "\n",
    "sns.countplot(x='bioactivity_class', data=df_2class, edgecolor='black')\n",
    "\n",
    "plt.xlabel('Bioactivity class', fontsize=14, fontweight='bold')\n",
    "plt.ylabel('Frequency', fontsize=14, fontweight='bold')\n",
    "\n",
    "plt.savefig('plot_bioactivity_class.pdf')"
   ]
  },
  {
   "cell_type": "markdown",
   "metadata": {
    "colab_type": "text",
    "id": "wB68NKVG0j68"
   },
   "source": [
    "### Diagramme de dispersion du MW par rapport au LogP\n",
    "\n",
    "On peut voir que les 2 classes de bioactivité couvrent des espaces chimiques similaires, comme le montre le diagramme de dispersion du MW par rapport au LogP."
   ]
  },
  {
   "cell_type": "code",
   "execution_count": 56,
   "metadata": {
    "colab": {
     "base_uri": "https://localhost:8080/",
     "height": 367
    },
    "colab_type": "code",
    "id": "F79BNwjF0nub",
    "outputId": "beca351e-2b02-49f9-8712-6ffcdcde425f"
   },
   "outputs": [
    {
     "data": {
      "image/png": "[encoded data removed]",
      "text/plain": [
       "<Figure size 550x550 with 1 Axes>"
      ]
     },
     "metadata": {},
     "output_type": "display_data"
    }
   ],
   "source": [
    "plt.figure(figsize=(5.5, 5.5))\n",
    "\n",
    "sns.scatterplot(x='MW', y='LogP', data=df_2class, hue='bioactivity_class', size='pIC50', edgecolor='black', alpha=0.7)\n",
    "\n",
    "plt.xlabel('MW', fontsize=14, fontweight='bold')\n",
    "plt.ylabel('LogP', fontsize=14, fontweight='bold')\n",
    "plt.legend(bbox_to_anchor=(1.05, 1), loc=2, borderaxespad=0)\n",
    "plt.savefig('plot_MW_vs_LogP.pdf')"
   ]
  },
  {
   "cell_type": "markdown",
   "metadata": {
    "colab_type": "text",
    "id": "oLAfyRwHyJfX"
   },
   "source": [
    "### **Box plots**"
   ]
  },
  {
   "cell_type": "markdown",
   "metadata": {
    "colab_type": "text",
    "id": "1n1uIAivyOkY"
   },
   "source": [
    "#### Valeur pIC50"
   ]
  },
  {
   "cell_type": "code",
   "execution_count": 77,
   "metadata": {
    "colab": {
     "base_uri": "https://localhost:8080/",
     "height": 367
    },
    "colab_type": "code",
    "id": "EpPviw0hxue6",
    "outputId": "e152d135-be08-4916-9494-49990106efa9",
    "scrolled": false
   },
   "outputs": [
    {
     "data": {
      "image/png": "[encoded data removed]",
      "text/plain": [
       "<Figure size 550x550 with 1 Axes>"
      ]
     },
     "metadata": {},
     "output_type": "display_data"
    }
   ],
   "source": [
    "plt.figure(figsize=(5.5, 5.5))\n",
    "\n",
    "sns.boxplot(x = 'bioactivity_class', y = 'pIC50', data = df_2class)\n",
    "\n",
    "plt.xlabel('Bioactivity class', fontsize=14, fontweight='bold')\n",
    "plt.ylabel('pIC50 value', fontsize=14, fontweight='bold')\n",
    "\n",
    "plt.savefig('plot_ic50.pdf')"
   ]
  },
  {
   "cell_type": "code",
   "execution_count": 79,
   "metadata": {},
   "outputs": [],
   "source": [
    "df_2class.to_csv('df_2class.csv', index=False)"
   ]
  },
  {
   "cell_type": "markdown",
   "metadata": {},
   "source": [
    "#### Analyse statistique | Test de Shapiro-Wilk"
   ]
  },
  {
   "cell_type": "code",
   "execution_count": 91,
   "metadata": {},
   "outputs": [
    {
     "data": {
      "text/plain": [
       "ShapiroResult(statistic=0.9316189885139465, pvalue=1.0402210940370045e-29)"
      ]
     },
     "execution_count": 91,
     "metadata": {},
     "output_type": "execute_result"
    }
   ],
   "source": [
    "import math\n",
    "import numpy as np\n",
    "from scipy.stats import shapiro \n",
    "from scipy.stats import lognorm\n",
    "\n",
    "#make this example reproducible\n",
    "np.random.seed(1)"
   ]
  },
  {
   "cell_type": "code",
   "execution_count": 92,
   "metadata": {},
   "outputs": [
    {
     "data": {
      "text/plain": [
       "ShapiroResult(statistic=0.9911578297615051, pvalue=7.216369168894232e-10)"
      ]
     },
     "execution_count": 92,
     "metadata": {},
     "output_type": "execute_result"
    }
   ],
   "source": [
    "#perform Shapiro-Wilk test for normality\n",
    "shapiro(df_2class['pIC50'])"
   ]
  },
  {
   "cell_type": "code",
   "execution_count": 93,
   "metadata": {},
   "outputs": [
    {
     "data": {
      "text/plain": [
       "ShapiroResult(statistic=0.8731242418289185, pvalue=5.326827038399915e-38)"
      ]
     },
     "execution_count": 93,
     "metadata": {},
     "output_type": "execute_result"
    }
   ],
   "source": [
    "#perform Shapiro-Wilk test for normality\n",
    "shapiro(df_2class['MW'])"
   ]
  },
  {
   "cell_type": "code",
   "execution_count": 94,
   "metadata": {},
   "outputs": [
    {
     "data": {
      "text/plain": [
       "ShapiroResult(statistic=0.9882413148880005, pvalue=6.157332456402376e-12)"
      ]
     },
     "execution_count": 94,
     "metadata": {},
     "output_type": "execute_result"
    }
   ],
   "source": [
    "#perform Shapiro-Wilk test for normality\n",
    "shapiro(df_2class['LogP'])"
   ]
  },
  {
   "cell_type": "code",
   "execution_count": 95,
   "metadata": {},
   "outputs": [
    {
     "data": {
      "text/plain": [
       "ShapiroResult(statistic=0.652338981628418, pvalue=0.0)"
      ]
     },
     "execution_count": 95,
     "metadata": {},
     "output_type": "execute_result"
    }
   ],
   "source": [
    "#perform Shapiro-Wilk test for normality\n",
    "shapiro(df_2class['NumHDonors'])"
   ]
  },
  {
   "cell_type": "code",
   "execution_count": 96,
   "metadata": {},
   "outputs": [
    {
     "data": {
      "text/plain": [
       "ShapiroResult(statistic=0.9316189885139465, pvalue=1.0402210940370045e-29)"
      ]
     },
     "execution_count": 96,
     "metadata": {},
     "output_type": "execute_result"
    }
   ],
   "source": [
    "#perform Shapiro-Wilk test for normality\n",
    "shapiro(df_2class['NumHAcceptors'])"
   ]
  },
  {
   "cell_type": "markdown",
   "metadata": {
    "colab_type": "text",
    "id": "PsOqKyysCZCv"
   },
   "source": [
    "#### Analyse statistique | Test U de Mann-Whitney (ou Test de Student)"
   ]
  },
  {
   "cell_type": "code",
   "execution_count": 61,
   "metadata": {
    "colab": {},
    "colab_type": "code",
    "id": "LPdV1vDnWBsh"
   },
   "outputs": [],
   "source": [
    "def mannwhitney(descriptor, verbose=False):\n",
    "# https://machinelearningmastery.com/nonparametric-statistical-significance-tests-in-python/\n",
    "  from numpy.random import seed\n",
    "  from numpy.random import randn\n",
    "  from scipy.stats import mannwhitneyu\n",
    "    \n",
    "# seed the random number generator\n",
    "  seed(1)\n",
    "\n",
    "# actives and inactives\n",
    "  selection = [descriptor, 'bioactivity_class']\n",
    "  df = df_2class[selection]\n",
    "  active = df[df.bioactivity_class == 'active']\n",
    "  active = active[descriptor]\n",
    "\n",
    "  selection = [descriptor, 'bioactivity_class']\n",
    "  df = df_2class[selection]\n",
    "  inactive = df[df.bioactivity_class == 'inactive']\n",
    "  inactive = inactive[descriptor]\n",
    "\n",
    "# compare samples\n",
    "  stat, p = mannwhitneyu(active, inactive)\n",
    "  #print('Statistics=%.3f, p=%.3f' % (stat, p))\n",
    "\n",
    "# interpret\n",
    "  alpha = 0.05\n",
    "  if p > alpha:\n",
    "    interpretation = 'Same distribution (fail to reject H0)'\n",
    "  else:\n",
    "    interpretation = 'Different distribution (reject H0)'\n",
    "  \n",
    "  results = pd.DataFrame({'Descriptor':descriptor,\n",
    "                          'Statistics':stat,\n",
    "                          'p':p,\n",
    "                          'alpha':alpha,\n",
    "                          'Interpretation':interpretation}, index=[0])\n",
    "  filename = 'mannwhitneyu_' + descriptor + '.csv'\n",
    "  results.to_csv(filename)\n",
    "\n",
    "  return results"
   ]
  },
  {
   "cell_type": "code",
   "execution_count": 80,
   "metadata": {},
   "outputs": [],
   "source": [
    "\"\"\"\n",
    "def ttest(descriptor, verbose=False):\n",
    "# https://machinelearningmastery.com/nonparametric-statistical-significance-tests-in-python/\n",
    "  from numpy.random import seed\n",
    "  from numpy.random import randn\n",
    "  from scipy.stats import ttest_ind\n",
    "    \n",
    "# seed the random number generator\n",
    "  seed(1)\n",
    "\n",
    "# actives and inactives\n",
    "  selection = [descriptor, 'bioactivity_class']\n",
    "  df = df_2class[selection]\n",
    "  active = df[df.bioactivity_class == 'active']\n",
    "  active = active[descriptor]\n",
    "\n",
    "  selection = [descriptor, 'bioactivity_class']\n",
    "  df = df_2class[selection]\n",
    "  inactive = df[df.bioactivity_class == 'inactive']\n",
    "  inactive = inactive[descriptor]\n",
    "\n",
    "# compare samples\n",
    "  stat, p = ttest_ind(active, inactive)\n",
    "  #print('Statistics=%.3f, p=%.3f' % (stat, p))\n",
    "\n",
    "# interpret\n",
    "  alpha = 0.05\n",
    "  if p > alpha:\n",
    "    interpretation = 'Same distribution (fail to reject H0)'\n",
    "  else:\n",
    "    interpretation = 'Different distribution (reject H0)'\n",
    "  \n",
    "  results = pd.DataFrame({'Descriptor':descriptor,\n",
    "                          'Statistics':stat,\n",
    "                          'p':p,\n",
    "                          'alpha':alpha,\n",
    "                          'Interpretation':interpretation}, index=[0])\n",
    "  filename = 'ttest' + descriptor + '.csv'\n",
    "  results.to_csv(filename)\n",
    "\n",
    "  return results\n",
    "  \"\"\""
   ]
  },
  {
   "cell_type": "code",
   "execution_count": 62,
   "metadata": {
    "colab": {
     "base_uri": "https://localhost:8080/",
     "height": 79
    },
    "colab_type": "code",
    "id": "HZmUgOmdYVm5",
    "outputId": "6996e4db-2720-4df7-8691-12a5c06c4020"
   },
   "outputs": [
    {
     "data": {
      "text/html": [
       "<div>\n",
       "<style scoped>\n",
       "    .dataframe tbody tr th:only-of-type {\n",
       "        vertical-align: middle;\n",
       "    }\n",
       "\n",
       "    .dataframe tbody tr th {\n",
       "        vertical-align: top;\n",
       "    }\n",
       "\n",
       "    .dataframe thead th {\n",
       "        text-align: right;\n",
       "    }\n",
       "</style>\n",
       "<table border=\"1\" class=\"dataframe\">\n",
       "  <thead>\n",
       "    <tr style=\"text-align: right;\">\n",
       "      <th></th>\n",
       "      <th>Descriptor</th>\n",
       "      <th>Statistics</th>\n",
       "      <th>p</th>\n",
       "      <th>alpha</th>\n",
       "      <th>Interpretation</th>\n",
       "    </tr>\n",
       "  </thead>\n",
       "  <tbody>\n",
       "    <tr>\n",
       "      <th>0</th>\n",
       "      <td>pIC50</td>\n",
       "      <td>486500.0</td>\n",
       "      <td>4.739741e-09</td>\n",
       "      <td>0.05</td>\n",
       "      <td>Different distribution (reject H0)</td>\n",
       "    </tr>\n",
       "  </tbody>\n",
       "</table>\n",
       "</div>"
      ],
      "text/plain": [
       "  Descriptor  Statistics             p  alpha  \\\n",
       "0      pIC50    486500.0  4.739741e-09   0.05   \n",
       "\n",
       "                       Interpretation  \n",
       "0  Different distribution (reject H0)  "
      ]
     },
     "execution_count": 62,
     "metadata": {},
     "output_type": "execute_result"
    }
   ],
   "source": [
    "mannwhitney('pIC50')"
   ]
  },
  {
   "cell_type": "code",
   "execution_count": 101,
   "metadata": {},
   "outputs": [],
   "source": [
    "#ttest('pIC50')"
   ]
  },
  {
   "cell_type": "markdown",
   "metadata": {
    "colab_type": "text",
    "id": "o2UlCwPmyTBq"
   },
   "source": [
    "#### **MW**"
   ]
  },
  {
   "cell_type": "code",
   "execution_count": 63,
   "metadata": {
    "colab": {
     "base_uri": "https://localhost:8080/",
     "height": 367
    },
    "colab_type": "code",
    "id": "ZNlEEsDEx3m6",
    "outputId": "50836563-3a3c-4bb4-9ae6-8db38aeaf6f0"
   },
   "outputs": [
    {
     "data": {
      "image/png": "[encoded data removed]",
      "text/plain": [
       "<Figure size 550x550 with 1 Axes>"
      ]
     },
     "metadata": {},
     "output_type": "display_data"
    }
   ],
   "source": [
    "plt.figure(figsize=(5.5, 5.5))\n",
    "\n",
    "sns.boxplot(x = 'bioactivity_class', y = 'MW', data = df_2class)\n",
    "\n",
    "plt.xlabel('Bioactivity class', fontsize=14, fontweight='bold')\n",
    "plt.ylabel('MW', fontsize=14, fontweight='bold')\n",
    "\n",
    "plt.savefig('plot_MW.pdf')"
   ]
  },
  {
   "cell_type": "code",
   "execution_count": 64,
   "metadata": {
    "colab": {
     "base_uri": "https://localhost:8080/",
     "height": 79
    },
    "colab_type": "code",
    "id": "wRl2FvgHYqaG",
    "outputId": "182737ed-20ce-414f-850e-9c11af877d71"
   },
   "outputs": [
    {
     "data": {
      "text/html": [
       "<div>\n",
       "<style scoped>\n",
       "    .dataframe tbody tr th:only-of-type {\n",
       "        vertical-align: middle;\n",
       "    }\n",
       "\n",
       "    .dataframe tbody tr th {\n",
       "        vertical-align: top;\n",
       "    }\n",
       "\n",
       "    .dataframe thead th {\n",
       "        text-align: right;\n",
       "    }\n",
       "</style>\n",
       "<table border=\"1\" class=\"dataframe\">\n",
       "  <thead>\n",
       "    <tr style=\"text-align: right;\">\n",
       "      <th></th>\n",
       "      <th>Descriptor</th>\n",
       "      <th>Statistics</th>\n",
       "      <th>p</th>\n",
       "      <th>alpha</th>\n",
       "      <th>Interpretation</th>\n",
       "    </tr>\n",
       "  </thead>\n",
       "  <tbody>\n",
       "    <tr>\n",
       "      <th>0</th>\n",
       "      <td>MW</td>\n",
       "      <td>456008.5</td>\n",
       "      <td>0.001111</td>\n",
       "      <td>0.05</td>\n",
       "      <td>Different distribution (reject H0)</td>\n",
       "    </tr>\n",
       "  </tbody>\n",
       "</table>\n",
       "</div>"
      ],
      "text/plain": [
       "  Descriptor  Statistics         p  alpha                      Interpretation\n",
       "0         MW    456008.5  0.001111   0.05  Different distribution (reject H0)"
      ]
     },
     "execution_count": 64,
     "metadata": {},
     "output_type": "execute_result"
    }
   ],
   "source": [
    "mannwhitney('MW')"
   ]
  },
  {
   "cell_type": "code",
   "execution_count": 100,
   "metadata": {},
   "outputs": [],
   "source": [
    "#ttest('MW')"
   ]
  },
  {
   "cell_type": "markdown",
   "metadata": {
    "colab_type": "text",
    "id": "z5hyBhGqyc6J"
   },
   "source": [
    "#### **LogP**"
   ]
  },
  {
   "cell_type": "code",
   "execution_count": 65,
   "metadata": {
    "colab": {
     "base_uri": "https://localhost:8080/",
     "height": 367
    },
    "colab_type": "code",
    "id": "liEtkpI4yX9t",
    "outputId": "8aa9b4de-6df6-4da6-ed4c-f9376f290d9f",
    "scrolled": false
   },
   "outputs": [
    {
     "data": {
      "image/png": "[encoded data removed]",
      "text/plain": [
       "<Figure size 550x550 with 1 Axes>"
      ]
     },
     "metadata": {},
     "output_type": "display_data"
    }
   ],
   "source": [
    "plt.figure(figsize=(5.5, 5.5))\n",
    "\n",
    "sns.boxplot(x = 'bioactivity_class', y = 'LogP', data = df_2class)\n",
    "\n",
    "plt.xlabel('Bioactivity class', fontsize=14, fontweight='bold')\n",
    "plt.ylabel('LogP', fontsize=14, fontweight='bold')\n",
    "\n",
    "plt.savefig('plot_LogP.pdf')"
   ]
  },
  {
   "cell_type": "markdown",
   "metadata": {
    "colab_type": "text",
    "id": "2KgV5v_oFLXh"
   },
   "source": [
    "**Statistical analysis | Mann-Whitney U Test**"
   ]
  },
  {
   "cell_type": "code",
   "execution_count": 66,
   "metadata": {
    "colab": {
     "base_uri": "https://localhost:8080/",
     "height": 79
    },
    "colab_type": "code",
    "id": "B61UsGMIFLuE",
    "outputId": "53899c37-0603-4879-c4ed-25c07b4455d9"
   },
   "outputs": [
    {
     "data": {
      "text/html": [
       "<div>\n",
       "<style scoped>\n",
       "    .dataframe tbody tr th:only-of-type {\n",
       "        vertical-align: middle;\n",
       "    }\n",
       "\n",
       "    .dataframe tbody tr th {\n",
       "        vertical-align: top;\n",
       "    }\n",
       "\n",
       "    .dataframe thead th {\n",
       "        text-align: right;\n",
       "    }\n",
       "</style>\n",
       "<table border=\"1\" class=\"dataframe\">\n",
       "  <thead>\n",
       "    <tr style=\"text-align: right;\">\n",
       "      <th></th>\n",
       "      <th>Descriptor</th>\n",
       "      <th>Statistics</th>\n",
       "      <th>p</th>\n",
       "      <th>alpha</th>\n",
       "      <th>Interpretation</th>\n",
       "    </tr>\n",
       "  </thead>\n",
       "  <tbody>\n",
       "    <tr>\n",
       "      <th>0</th>\n",
       "      <td>LogP</td>\n",
       "      <td>430591.0</td>\n",
       "      <td>0.272438</td>\n",
       "      <td>0.05</td>\n",
       "      <td>Same distribution (fail to reject H0)</td>\n",
       "    </tr>\n",
       "  </tbody>\n",
       "</table>\n",
       "</div>"
      ],
      "text/plain": [
       "  Descriptor  Statistics         p  alpha  \\\n",
       "0       LogP    430591.0  0.272438   0.05   \n",
       "\n",
       "                          Interpretation  \n",
       "0  Same distribution (fail to reject H0)  "
      ]
     },
     "execution_count": 66,
     "metadata": {},
     "output_type": "execute_result"
    }
   ],
   "source": [
    "mannwhitney('LogP')"
   ]
  },
  {
   "cell_type": "code",
   "execution_count": 99,
   "metadata": {},
   "outputs": [],
   "source": [
    "#ttest('LogP')"
   ]
  },
  {
   "cell_type": "markdown",
   "metadata": {
    "colab_type": "text",
    "id": "4db7LZLRym2k"
   },
   "source": [
    "#### **NumHDonors**"
   ]
  },
  {
   "cell_type": "code",
   "execution_count": 67,
   "metadata": {
    "colab": {
     "base_uri": "https://localhost:8080/",
     "height": 367
    },
    "colab_type": "code",
    "id": "iru1JPM1yg5A",
    "outputId": "4ab22853-c3de-4d99-ff3a-05b95f232333"
   },
   "outputs": [
    {
     "data": {
      "image/png": "[encoded data removed]",
      "text/plain": [
       "<Figure size 550x550 with 1 Axes>"
      ]
     },
     "metadata": {},
     "output_type": "display_data"
    }
   ],
   "source": [
    "plt.figure(figsize=(5.5, 5.5))\n",
    "\n",
    "sns.boxplot(x = 'bioactivity_class', y = 'NumHDonors', data = df_2class)\n",
    "\n",
    "plt.xlabel('Bioactivity class', fontsize=14, fontweight='bold')\n",
    "plt.ylabel('NumHDonors', fontsize=14, fontweight='bold')\n",
    "\n",
    "plt.savefig('plot_NumHDonors.pdf')"
   ]
  },
  {
   "cell_type": "markdown",
   "metadata": {
    "colab_type": "text",
    "id": "vM5vZWanFe3c"
   },
   "source": [
    "**Statistical analysis | Mann-Whitney U Test**"
   ]
  },
  {
   "cell_type": "code",
   "execution_count": 68,
   "metadata": {
    "colab": {
     "base_uri": "https://localhost:8080/",
     "height": 79
    },
    "colab_type": "code",
    "id": "mS-rOqq7Fd1E",
    "outputId": "6d5609b5-8f4a-4e1b-ac76-841a1d93f212"
   },
   "outputs": [
    {
     "data": {
      "text/html": [
       "<div>\n",
       "<style scoped>\n",
       "    .dataframe tbody tr th:only-of-type {\n",
       "        vertical-align: middle;\n",
       "    }\n",
       "\n",
       "    .dataframe tbody tr th {\n",
       "        vertical-align: top;\n",
       "    }\n",
       "\n",
       "    .dataframe thead th {\n",
       "        text-align: right;\n",
       "    }\n",
       "</style>\n",
       "<table border=\"1\" class=\"dataframe\">\n",
       "  <thead>\n",
       "    <tr style=\"text-align: right;\">\n",
       "      <th></th>\n",
       "      <th>Descriptor</th>\n",
       "      <th>Statistics</th>\n",
       "      <th>p</th>\n",
       "      <th>alpha</th>\n",
       "      <th>Interpretation</th>\n",
       "    </tr>\n",
       "  </thead>\n",
       "  <tbody>\n",
       "    <tr>\n",
       "      <th>0</th>\n",
       "      <td>NumHDonors</td>\n",
       "      <td>449483.0</td>\n",
       "      <td>0.001753</td>\n",
       "      <td>0.05</td>\n",
       "      <td>Different distribution (reject H0)</td>\n",
       "    </tr>\n",
       "  </tbody>\n",
       "</table>\n",
       "</div>"
      ],
      "text/plain": [
       "   Descriptor  Statistics         p  alpha                      Interpretation\n",
       "0  NumHDonors    449483.0  0.001753   0.05  Different distribution (reject H0)"
      ]
     },
     "execution_count": 68,
     "metadata": {},
     "output_type": "execute_result"
    }
   ],
   "source": [
    "mannwhitney('NumHDonors')"
   ]
  },
  {
   "cell_type": "code",
   "execution_count": 98,
   "metadata": {},
   "outputs": [],
   "source": [
    "#ttest('NumHDonors')"
   ]
  },
  {
   "cell_type": "markdown",
   "metadata": {
    "colab_type": "text",
    "id": "yOYQ3QiSyu7-"
   },
   "source": [
    "#### **NumHAcceptors**"
   ]
  },
  {
   "cell_type": "code",
   "execution_count": 69,
   "metadata": {
    "colab": {
     "base_uri": "https://localhost:8080/",
     "height": 367
    },
    "colab_type": "code",
    "id": "yCw6tgNCyxHf",
    "outputId": "e53b4169-d3d6-4b4e-d8cf-d0378ca54ddc"
   },
   "outputs": [
    {
     "data": {
      "image/png": "[encoded data removed]",
      "text/plain": [
       "<Figure size 550x550 with 1 Axes>"
      ]
     },
     "metadata": {},
     "output_type": "display_data"
    }
   ],
   "source": [
    "plt.figure(figsize=(5.5, 5.5))\n",
    "\n",
    "sns.boxplot(x = 'bioactivity_class', y = 'NumHAcceptors', data = df_2class)\n",
    "\n",
    "plt.xlabel('Bioactivity class', fontsize=14, fontweight='bold')\n",
    "plt.ylabel('NumHAcceptors', fontsize=14, fontweight='bold')\n",
    "\n",
    "plt.savefig('plot_NumHAcceptors.pdf')"
   ]
  },
  {
   "cell_type": "code",
   "execution_count": 70,
   "metadata": {
    "colab": {
     "base_uri": "https://localhost:8080/",
     "height": 79
    },
    "colab_type": "code",
    "id": "NEQoDZctFtGG",
    "outputId": "eb994475-ed64-4633-c67b-a88e2c3ecc48"
   },
   "outputs": [
    {
     "data": {
      "text/html": [
       "<div>\n",
       "<style scoped>\n",
       "    .dataframe tbody tr th:only-of-type {\n",
       "        vertical-align: middle;\n",
       "    }\n",
       "\n",
       "    .dataframe tbody tr th {\n",
       "        vertical-align: top;\n",
       "    }\n",
       "\n",
       "    .dataframe thead th {\n",
       "        text-align: right;\n",
       "    }\n",
       "</style>\n",
       "<table border=\"1\" class=\"dataframe\">\n",
       "  <thead>\n",
       "    <tr style=\"text-align: right;\">\n",
       "      <th></th>\n",
       "      <th>Descriptor</th>\n",
       "      <th>Statistics</th>\n",
       "      <th>p</th>\n",
       "      <th>alpha</th>\n",
       "      <th>Interpretation</th>\n",
       "    </tr>\n",
       "  </thead>\n",
       "  <tbody>\n",
       "    <tr>\n",
       "      <th>0</th>\n",
       "      <td>NumHAcceptors</td>\n",
       "      <td>424185.5</td>\n",
       "      <td>0.573403</td>\n",
       "      <td>0.05</td>\n",
       "      <td>Same distribution (fail to reject H0)</td>\n",
       "    </tr>\n",
       "  </tbody>\n",
       "</table>\n",
       "</div>"
      ],
      "text/plain": [
       "      Descriptor  Statistics         p  alpha  \\\n",
       "0  NumHAcceptors    424185.5  0.573403   0.05   \n",
       "\n",
       "                          Interpretation  \n",
       "0  Same distribution (fail to reject H0)  "
      ]
     },
     "execution_count": 70,
     "metadata": {},
     "output_type": "execute_result"
    }
   ],
   "source": [
    "mannwhitney('NumHAcceptors')"
   ]
  },
  {
   "cell_type": "code",
   "execution_count": 97,
   "metadata": {
    "scrolled": true
   },
   "outputs": [],
   "source": [
    "#ttest('NumHAcceptors')"
   ]
  },
  {
   "cell_type": "markdown",
   "metadata": {
    "colab_type": "text",
    "id": "p4QjdHVjKYum"
   },
   "source": [
    "#### Interpréter les résultats statistiques"
   ]
  },
  {
   "cell_type": "markdown",
   "metadata": {
    "colab_type": "text",
    "id": "mSoOBIqfLbDs"
   },
   "source": [
    "##### Box Plots\n",
    "\n",
    "###### Valeurs pIC50\n",
    "\n",
    "En examinant les valeurs pIC50, les actifs et les inactifs présentent une différence statistiquement significative, ce qui est prévisible puisque des valeurs seuils (IC50 < 1 000 nM = Actifs tandis que IC50 > 10 000 nM = Inactifs) ont été utilisées pour définir les actifs et les inactifs.\n",
    "\n",
    "###### Lipinski's descriptors\n",
    "\n",
    "Parmi les 4 descripteurs de Lipinski (MW, LogP, NumHDonors et NumHAcceptors), LogP et NumHAcceptors ne présentent aucune différence entre les actifs et les inactifs tandis que les 2 autres descripteurs (MW, NumHDonors) présentent une différence statistiquement significative entre les actifs et les inactifs."
   ]
  },
  {
   "cell_type": "markdown",
   "metadata": {
    "colab_type": "text",
    "id": "U-rK8l0wWnKK"
   },
   "source": [
    "## **Zip files**"
   ]
  },
  {
   "cell_type": "code",
   "execution_count": 71,
   "metadata": {
    "colab": {
     "base_uri": "https://localhost:8080/",
     "height": 243
    },
    "colab_type": "code",
    "id": "GW1ZSsfJWqbM",
    "outputId": "def6e823-0194-4848-fb5e-0d86e1ad88f4"
   },
   "outputs": [
    {
     "name": "stdout",
     "output_type": "stream",
     "text": [
      "  adding: mannwhitneyu_NumHAcceptors.csv (deflated 11%)\n",
      "  adding: bioactivity_data_preprocessed.csv (deflated 82%)\n",
      "  adding: mannwhitneyu_NumHDonors.csv (deflated 11%)\n",
      "  adding: mannwhitneyu_MW.csv (deflated 9%)\n",
      "  adding: plot_bioactivity_class.pdf (deflated 38%)\n",
      "  adding: plot_LogP.pdf (deflated 38%)\n",
      "  adding: plot_MW.pdf (deflated 36%)\n",
      "  adding: plot_NumHDonors.pdf (deflated 38%)\n",
      "  adding: plot_NumHAcceptors.pdf (deflated 38%)\n",
      "  adding: plot_ic50.pdf (deflated 37%)\n",
      "  adding: mannwhitneyu_pIC50.csv (deflated 10%)\n",
      "  adding: bioactivity_data_raw.csv (deflated 90%)\n",
      "  adding: plot_MW_vs_LogP.pdf (deflated 2%)\n",
      "  adding: mannwhitneyu_LogP.csv (deflated 9%)\n"
     ]
    }
   ],
   "source": [
    "! zip -r results.zip . -i *.csv *.pdf"
   ]
  },
  {
   "cell_type": "markdown",
   "metadata": {
    "colab_type": "text",
    "id": "l0Y7_lgN4jzM"
   },
   "source": [
    "# Préparation du jeu de données"
   ]
  },
  {
   "cell_type": "markdown",
   "metadata": {
    "colab_type": "text",
    "id": "o-4IOizard4P"
   },
   "source": [
    "## **Download PaDEL-Descriptor**"
   ]
  },
  {
   "cell_type": "code",
   "execution_count": 102,
   "metadata": {
    "colab": {
     "base_uri": "https://localhost:8080/",
     "height": 572
    },
    "colab_type": "code",
    "id": "H0mjQ2PcrSe5",
    "outputId": "7cd24f88-a9b5-445e-90fc-a2bde1f2aef8"
   },
   "outputs": [
    {
     "name": "stdout",
     "output_type": "stream",
     "text": [
      "--2023-01-07 11:09:46--  https://github.com/dataprofessor/bioinformatics/raw/master/padel.zip\n",
      "Resolving github.com (github.com)... 140.82.121.4\n",
      "Connecting to github.com (github.com)|140.82.121.4|:443... connected.\n",
      "HTTP request sent, awaiting response... 302 Found\n",
      "Location: https://raw.githubusercontent.com/dataprofessor/bioinformatics/master/padel.zip [following]\n",
      "--2023-01-07 11:09:47--  https://raw.githubusercontent.com/dataprofessor/bioinformatics/master/padel.zip\n",
      "Resolving raw.githubusercontent.com (raw.githubusercontent.com)... 185.199.110.133, 185.199.111.133, 185.199.109.133, ...\n",
      "Connecting to raw.githubusercontent.com (raw.githubusercontent.com)|185.199.110.133|:443... connected.\n",
      "HTTP request sent, awaiting response... 200 OK\n",
      "Length: 25768637 (25M) [application/zip]\n",
      "Saving to: 'padel.zip'\n",
      "\n",
      "padel.zip           100%[===================>]  24.57M   184KB/s    in 2m 19s  \n",
      "\n",
      "2023-01-07 11:12:07 (181 KB/s) - 'padel.zip' saved [25768637/25768637]\n",
      "\n",
      "--2023-01-07 11:12:07--  https://github.com/dataprofessor/bioinformatics/raw/master/padel.sh\n",
      "Resolving github.com (github.com)... 140.82.121.3\n",
      "Connecting to github.com (github.com)|140.82.121.3|:443... connected.\n",
      "HTTP request sent, awaiting response... 302 Found\n",
      "Location: https://raw.githubusercontent.com/dataprofessor/bioinformatics/master/padel.sh [following]\n",
      "--2023-01-07 11:12:08--  https://raw.githubusercontent.com/dataprofessor/bioinformatics/master/padel.sh\n",
      "Resolving raw.githubusercontent.com (raw.githubusercontent.com)... 185.199.110.133, 185.199.111.133, 185.199.109.133, ...\n",
      "Connecting to raw.githubusercontent.com (raw.githubusercontent.com)|185.199.110.133|:443... connected.\n",
      "HTTP request sent, awaiting response... 200 OK\n",
      "Length: 231 [text/plain]\n",
      "Saving to: 'padel.sh'\n",
      "\n",
      "padel.sh            100%[===================>]     231  --.-KB/s    in 0s      \n",
      "\n",
      "2023-01-07 11:12:08 (2.25 MB/s) - 'padel.sh' saved [231/231]\n",
      "\n"
     ]
    }
   ],
   "source": [
    "! wget https://github.com/dataprofessor/bioinformatics/raw/master/padel.zip\n",
    "! wget https://github.com/dataprofessor/bioinformatics/raw/master/padel.sh"
   ]
  },
  {
   "cell_type": "code",
   "execution_count": 103,
   "metadata": {
    "colab": {
     "base_uri": "https://localhost:8080/",
     "height": 1000
    },
    "colab_type": "code",
    "id": "64HnTL4tS-nA",
    "outputId": "b082c979-db9f-48dd-8050-0462b6cf4979"
   },
   "outputs": [
    {
     "name": "stdout",
     "output_type": "stream",
     "text": [
      "Archive:  padel.zip\n",
      "   creating: PaDEL-Descriptor/\n",
      "  inflating: __MACOSX/._PaDEL-Descriptor  \n",
      "  inflating: PaDEL-Descriptor/MACCSFingerprinter.xml  \n",
      "  inflating: __MACOSX/PaDEL-Descriptor/._MACCSFingerprinter.xml  \n",
      "  inflating: PaDEL-Descriptor/AtomPairs2DFingerprinter.xml  \n",
      "  inflating: __MACOSX/PaDEL-Descriptor/._AtomPairs2DFingerprinter.xml  \n",
      "  inflating: PaDEL-Descriptor/EStateFingerprinter.xml  \n",
      "  inflating: __MACOSX/PaDEL-Descriptor/._EStateFingerprinter.xml  \n",
      "  inflating: PaDEL-Descriptor/Fingerprinter.xml  \n",
      "  inflating: __MACOSX/PaDEL-Descriptor/._Fingerprinter.xml  \n",
      "  inflating: PaDEL-Descriptor/.DS_Store  \n",
      "  inflating: __MACOSX/PaDEL-Descriptor/._.DS_Store  \n",
      "   creating: PaDEL-Descriptor/license/\n",
      "  inflating: __MACOSX/PaDEL-Descriptor/._license  \n",
      "  inflating: PaDEL-Descriptor/KlekotaRothFingerprintCount.xml  \n",
      "  inflating: __MACOSX/PaDEL-Descriptor/._KlekotaRothFingerprintCount.xml  \n",
      "  inflating: PaDEL-Descriptor/config  \n",
      "  inflating: __MACOSX/PaDEL-Descriptor/._config  \n",
      "  inflating: PaDEL-Descriptor/PubchemFingerprinter.xml  \n",
      "  inflating: __MACOSX/PaDEL-Descriptor/._PubchemFingerprinter.xml  \n",
      "  inflating: PaDEL-Descriptor/ExtendedFingerprinter.xml  \n",
      "  inflating: __MACOSX/PaDEL-Descriptor/._ExtendedFingerprinter.xml  \n",
      "  inflating: PaDEL-Descriptor/KlekotaRothFingerprinter.xml  \n",
      "  inflating: __MACOSX/PaDEL-Descriptor/._KlekotaRothFingerprinter.xml  \n",
      "  inflating: PaDEL-Descriptor/GraphOnlyFingerprinter.xml  \n",
      "  inflating: __MACOSX/PaDEL-Descriptor/._GraphOnlyFingerprinter.xml  \n",
      "  inflating: PaDEL-Descriptor/SubstructureFingerprinter.xml  \n",
      "  inflating: __MACOSX/PaDEL-Descriptor/._SubstructureFingerprinter.xml  \n",
      "  inflating: PaDEL-Descriptor/Descriptors.xls  \n",
      "  inflating: __MACOSX/PaDEL-Descriptor/._Descriptors.xls  \n",
      "   creating: PaDEL-Descriptor/lib/\n",
      "  inflating: __MACOSX/PaDEL-Descriptor/._lib  \n",
      "  inflating: PaDEL-Descriptor/PaDEL-Descriptor.jar  \n",
      "  inflating: __MACOSX/PaDEL-Descriptor/._PaDEL-Descriptor.jar  \n",
      "  inflating: PaDEL-Descriptor/SubstructureFingerprintCount.xml  \n",
      "  inflating: __MACOSX/PaDEL-Descriptor/._SubstructureFingerprintCount.xml  \n",
      "  inflating: PaDEL-Descriptor/AtomPairs2DFingerprintCount.xml  \n",
      "  inflating: __MACOSX/PaDEL-Descriptor/._AtomPairs2DFingerprintCount.xml  \n",
      "  inflating: PaDEL-Descriptor/descriptors.xml  \n",
      "  inflating: __MACOSX/PaDEL-Descriptor/._descriptors.xml  \n",
      "  inflating: PaDEL-Descriptor/license/lgpl-2.1.txt  \n",
      "  inflating: __MACOSX/PaDEL-Descriptor/license/._lgpl-2.1.txt  \n",
      "  inflating: PaDEL-Descriptor/license/LICENSE.txt  \n",
      "  inflating: __MACOSX/PaDEL-Descriptor/license/._LICENSE.txt  \n",
      "  inflating: PaDEL-Descriptor/license/README - CDK  \n",
      "  inflating: __MACOSX/PaDEL-Descriptor/license/._README - CDK  \n",
      "  inflating: PaDEL-Descriptor/license/lgpl.license  \n",
      "  inflating: __MACOSX/PaDEL-Descriptor/license/._lgpl.license  \n",
      "  inflating: PaDEL-Descriptor/lib/ambit2-core-2.4.7-SNAPSHOT(3).jar  \n",
      "  inflating: __MACOSX/PaDEL-Descriptor/lib/._ambit2-core-2.4.7-SNAPSHOT(3).jar  \n",
      "  inflating: PaDEL-Descriptor/lib/libPaDEL-Jobs(6).jar  \n",
      "  inflating: __MACOSX/PaDEL-Descriptor/lib/._libPaDEL-Jobs(6).jar  \n",
      "  inflating: PaDEL-Descriptor/lib/libPaDEL.jar  \n",
      "  inflating: __MACOSX/PaDEL-Descriptor/lib/._libPaDEL.jar  \n",
      "  inflating: PaDEL-Descriptor/lib/jgrapht-0.6.0(4).jar  \n",
      "  inflating: __MACOSX/PaDEL-Descriptor/lib/._jgrapht-0.6.0(4).jar  \n",
      "  inflating: PaDEL-Descriptor/lib/commons-cli-1.2(2).jar  \n",
      "  inflating: __MACOSX/PaDEL-Descriptor/lib/._commons-cli-1.2(2).jar  \n",
      "  inflating: PaDEL-Descriptor/lib/xom-1.1(1).jar  \n",
      "  inflating: __MACOSX/PaDEL-Descriptor/lib/._xom-1.1(1).jar  \n",
      "  inflating: PaDEL-Descriptor/lib/swing-worker-1.1.jar  \n",
      "  inflating: __MACOSX/PaDEL-Descriptor/lib/._swing-worker-1.1.jar  \n",
      "  inflating: PaDEL-Descriptor/lib/commons-cli-1.2(3).jar  \n",
      "  inflating: __MACOSX/PaDEL-Descriptor/lib/._commons-cli-1.2(3).jar  \n",
      "  inflating: PaDEL-Descriptor/lib/jgrapht-0.6.0(5).jar  \n",
      "  inflating: __MACOSX/PaDEL-Descriptor/lib/._jgrapht-0.6.0(5).jar  \n",
      "  inflating: PaDEL-Descriptor/lib/jama(1).jar  \n",
      "  inflating: __MACOSX/PaDEL-Descriptor/lib/._jama(1).jar  \n",
      "  inflating: PaDEL-Descriptor/lib/appframework-1.0.3.jar  \n",
      "  inflating: __MACOSX/PaDEL-Descriptor/lib/._appframework-1.0.3.jar  \n",
      "  inflating: PaDEL-Descriptor/lib/libPaDEL-Jobs(7).jar  \n",
      "  inflating: __MACOSX/PaDEL-Descriptor/lib/._libPaDEL-Jobs(7).jar  \n",
      "  inflating: PaDEL-Descriptor/lib/vecmath1.2-1.14.jar  \n",
      "  inflating: __MACOSX/PaDEL-Descriptor/lib/._vecmath1.2-1.14.jar  \n",
      "  inflating: PaDEL-Descriptor/lib/ambit2-smarts-2.4.7-SNAPSHOT(6).jar  \n",
      "  inflating: __MACOSX/PaDEL-Descriptor/lib/._ambit2-smarts-2.4.7-SNAPSHOT(6).jar  \n",
      "  inflating: PaDEL-Descriptor/lib/ambit2-core-2.4.7-SNAPSHOT(2).jar  \n",
      "  inflating: __MACOSX/PaDEL-Descriptor/lib/._ambit2-core-2.4.7-SNAPSHOT(2).jar  \n",
      "  inflating: PaDEL-Descriptor/lib/jama(6).jar  \n",
      "  inflating: __MACOSX/PaDEL-Descriptor/lib/._jama(6).jar  \n",
      "  inflating: PaDEL-Descriptor/lib/jgrapht-0.6.0(2).jar  \n",
      "  inflating: __MACOSX/PaDEL-Descriptor/lib/._jgrapht-0.6.0(2).jar  \n",
      "  inflating: PaDEL-Descriptor/lib/libPaDEL-Descriptor(3).jar  \n",
      "  inflating: __MACOSX/PaDEL-Descriptor/lib/._libPaDEL-Descriptor(3).jar  \n",
      "  inflating: PaDEL-Descriptor/lib/commons-cli-1.2(4).jar  \n",
      "  inflating: __MACOSX/PaDEL-Descriptor/lib/._commons-cli-1.2(4).jar  \n",
      "  inflating: PaDEL-Descriptor/lib/ambit2-base-2.4.7-SNAPSHOT.jar  \n",
      "  inflating: __MACOSX/PaDEL-Descriptor/lib/._ambit2-base-2.4.7-SNAPSHOT.jar  \n",
      "  inflating: PaDEL-Descriptor/lib/ambit2-smarts-2.4.7-SNAPSHOT(1).jar  \n",
      "  inflating: __MACOSX/PaDEL-Descriptor/lib/._ambit2-smarts-2.4.7-SNAPSHOT(1).jar  \n",
      "  inflating: PaDEL-Descriptor/lib/commons-cli-1.2.jar  \n",
      "  inflating: __MACOSX/PaDEL-Descriptor/lib/._commons-cli-1.2.jar  \n",
      "  inflating: PaDEL-Descriptor/lib/commons-cli-1.2(8).jar  \n",
      "  inflating: __MACOSX/PaDEL-Descriptor/lib/._commons-cli-1.2(8).jar  \n",
      "  inflating: PaDEL-Descriptor/lib/jgrapht-0.6.0.jar  \n",
      "  inflating: __MACOSX/PaDEL-Descriptor/lib/._jgrapht-0.6.0.jar  \n",
      "  inflating: PaDEL-Descriptor/lib/libPaDEL-Jobs(1).jar  \n",
      "  inflating: __MACOSX/PaDEL-Descriptor/lib/._libPaDEL-Jobs(1).jar  \n",
      "  inflating: PaDEL-Descriptor/lib/libPaDEL-Jobs.jar  \n",
      "  inflating: __MACOSX/PaDEL-Descriptor/lib/._libPaDEL-Jobs.jar  \n",
      "  inflating: PaDEL-Descriptor/lib/ambit2-core-2.4.7-SNAPSHOT(4).jar  \n",
      "  inflating: __MACOSX/PaDEL-Descriptor/lib/._ambit2-core-2.4.7-SNAPSHOT(4).jar  \n",
      "  inflating: PaDEL-Descriptor/lib/xom-1.1.jar  \n",
      "  inflating: __MACOSX/PaDEL-Descriptor/lib/._xom-1.1.jar  \n",
      "  inflating: PaDEL-Descriptor/lib/commons-cli-1.2(5).jar  \n",
      "  inflating: __MACOSX/PaDEL-Descriptor/lib/._commons-cli-1.2(5).jar  \n",
      "  inflating: PaDEL-Descriptor/lib/libPaDEL-Descriptor(2).jar  \n",
      "  inflating: __MACOSX/PaDEL-Descriptor/lib/._libPaDEL-Descriptor(2).jar  \n",
      "  inflating: PaDEL-Descriptor/lib/jgrapht-0.6.0(3).jar  \n",
      "  inflating: __MACOSX/PaDEL-Descriptor/lib/._jgrapht-0.6.0(3).jar  \n",
      "  inflating: PaDEL-Descriptor/lib/jama(7).jar  \n",
      "  inflating: __MACOSX/PaDEL-Descriptor/lib/._jama(7).jar  \n",
      "  inflating: PaDEL-Descriptor/lib/ambit2-core-2.4.7-SNAPSHOT.jar  \n",
      "  inflating: __MACOSX/PaDEL-Descriptor/lib/._ambit2-core-2.4.7-SNAPSHOT.jar  \n",
      "  inflating: PaDEL-Descriptor/lib/commons-cli-1.2(6).jar  \n",
      "  inflating: __MACOSX/PaDEL-Descriptor/lib/._commons-cli-1.2(6).jar  \n",
      "  inflating: PaDEL-Descriptor/lib/libPaDEL-Descriptor(1).jar  \n",
      "  inflating: __MACOSX/PaDEL-Descriptor/lib/._libPaDEL-Descriptor(1).jar  \n",
      "  inflating: PaDEL-Descriptor/lib/jama(4).jar  \n",
      "  inflating: __MACOSX/PaDEL-Descriptor/lib/._jama(4).jar  \n",
      "  inflating: PaDEL-Descriptor/lib/libPaDEL-Jobs(2).jar  \n",
      "  inflating: __MACOSX/PaDEL-Descriptor/lib/._libPaDEL-Jobs(2).jar  \n",
      "  inflating: PaDEL-Descriptor/lib/ambit2-smarts-2.4.7-SNAPSHOT(3).jar  \n",
      "  inflating: __MACOSX/PaDEL-Descriptor/lib/._ambit2-smarts-2.4.7-SNAPSHOT(3).jar  \n",
      "  inflating: PaDEL-Descriptor/lib/ambit2-smarts-2.4.7-SNAPSHOT(2).jar  \n",
      "  inflating: __MACOSX/PaDEL-Descriptor/lib/._ambit2-smarts-2.4.7-SNAPSHOT(2).jar  \n",
      "  inflating: PaDEL-Descriptor/lib/ambit2-smarts-2.4.7-SNAPSHOT.jar  \n",
      "  inflating: __MACOSX/PaDEL-Descriptor/lib/._ambit2-smarts-2.4.7-SNAPSHOT.jar  \n",
      "  inflating: PaDEL-Descriptor/lib/libPaDEL-Jobs(3).jar  \n",
      "  inflating: __MACOSX/PaDEL-Descriptor/lib/._libPaDEL-Jobs(3).jar  \n",
      "  inflating: PaDEL-Descriptor/lib/l2fprod-common-all(1).jar  \n",
      "  inflating: __MACOSX/PaDEL-Descriptor/lib/._l2fprod-common-all(1).jar  \n",
      "  inflating: PaDEL-Descriptor/lib/jama.jar  \n",
      "  inflating: __MACOSX/PaDEL-Descriptor/lib/._jama.jar  \n",
      "  inflating: PaDEL-Descriptor/lib/l2fprod-common-all.jar  \n",
      "  inflating: __MACOSX/PaDEL-Descriptor/lib/._l2fprod-common-all.jar  \n",
      "  inflating: PaDEL-Descriptor/lib/jama(5).jar  \n",
      "  inflating: __MACOSX/PaDEL-Descriptor/lib/._jama(5).jar  \n",
      "  inflating: PaDEL-Descriptor/lib/jgrapht-0.6.0(1).jar  \n",
      "  inflating: __MACOSX/PaDEL-Descriptor/lib/._jgrapht-0.6.0(1).jar  \n",
      "  inflating: PaDEL-Descriptor/lib/commons-cli-1.2(7).jar  \n",
      "  inflating: __MACOSX/PaDEL-Descriptor/lib/._commons-cli-1.2(7).jar  \n",
      "  inflating: PaDEL-Descriptor/lib/libPaDEL-Descriptor.jar  \n",
      "  inflating: __MACOSX/PaDEL-Descriptor/lib/._libPaDEL-Descriptor.jar  \n",
      "  inflating: PaDEL-Descriptor/lib/libPaDEL-Jobs(4).jar  \n",
      "  inflating: __MACOSX/PaDEL-Descriptor/lib/._libPaDEL-Jobs(4).jar  \n"
     ]
    },
    {
     "name": "stdout",
     "output_type": "stream",
     "text": [
      "  inflating: PaDEL-Descriptor/lib/cdk-1.4.15.jar  \n",
      "  inflating: __MACOSX/PaDEL-Descriptor/lib/._cdk-1.4.15.jar  \n",
      "  inflating: PaDEL-Descriptor/lib/ambit2-smarts-2.4.7-SNAPSHOT(5).jar  \n",
      "  inflating: __MACOSX/PaDEL-Descriptor/lib/._ambit2-smarts-2.4.7-SNAPSHOT(5).jar  \n",
      "  inflating: PaDEL-Descriptor/lib/ambit2-core-2.4.7-SNAPSHOT(1).jar  \n",
      "  inflating: __MACOSX/PaDEL-Descriptor/lib/._ambit2-core-2.4.7-SNAPSHOT(1).jar  \n",
      "  inflating: PaDEL-Descriptor/lib/libPaDEL-Jobs(8).jar  \n",
      "  inflating: __MACOSX/PaDEL-Descriptor/lib/._libPaDEL-Jobs(8).jar  \n",
      "  inflating: PaDEL-Descriptor/lib/jgrapht-0.6.0(6).jar  \n",
      "  inflating: __MACOSX/PaDEL-Descriptor/lib/._jgrapht-0.6.0(6).jar  \n",
      "  inflating: PaDEL-Descriptor/lib/jama(2).jar  \n",
      "  inflating: __MACOSX/PaDEL-Descriptor/lib/._jama(2).jar  \n",
      "  inflating: PaDEL-Descriptor/lib/jama(3).jar  \n",
      "  inflating: __MACOSX/PaDEL-Descriptor/lib/._jama(3).jar  \n",
      "  inflating: PaDEL-Descriptor/lib/commons-cli-1.2(1).jar  \n",
      "  inflating: __MACOSX/PaDEL-Descriptor/lib/._commons-cli-1.2(1).jar  \n",
      "  inflating: PaDEL-Descriptor/lib/guava-17.0.jar  \n",
      "  inflating: __MACOSX/PaDEL-Descriptor/lib/._guava-17.0.jar  \n",
      "  inflating: PaDEL-Descriptor/lib/ambit2-smarts-2.4.7-SNAPSHOT(4).jar  \n",
      "  inflating: __MACOSX/PaDEL-Descriptor/lib/._ambit2-smarts-2.4.7-SNAPSHOT(4).jar  \n",
      "  inflating: PaDEL-Descriptor/lib/libPaDEL-Jobs(5).jar  \n",
      "  inflating: __MACOSX/PaDEL-Descriptor/lib/._libPaDEL-Jobs(5).jar  \n"
     ]
    }
   ],
   "source": [
    "! unzip padel.zip"
   ]
  },
  {
   "cell_type": "markdown",
   "metadata": {
    "colab_type": "text",
    "id": "QmxXXFa4wTNG"
   },
   "source": [
    "## Charger les données de bioactivité"
   ]
  },
  {
   "cell_type": "markdown",
   "metadata": {
    "colab_type": "text",
    "id": "fcBvxkPWKFRV"
   },
   "source": [
    "Télécharger les données de bioactivité de ChEMBL prétraitées. Nous utiliserons ici le fichier **df_2class.csv** qui contient essentiellement les valeurs pIC50 que nous utiliserons pour construire un modèle de régression."
   ]
  },
  {
   "cell_type": "code",
   "execution_count": 105,
   "metadata": {
    "colab": {},
    "colab_type": "code",
    "id": "Fpu5C7HlwV9s"
   },
   "outputs": [],
   "source": [
    "import pandas as pd"
   ]
  },
  {
   "cell_type": "code",
   "execution_count": 46,
   "metadata": {
    "colab": {},
    "colab_type": "code",
    "id": "GCcE8J5XwjtB"
   },
   "outputs": [],
   "source": [
    "df3 = pd.read_csv('df_2class.csv')\n",
    "df3 = df3[df3.bioactivity_class.notna()]"
   ]
  },
  {
   "cell_type": "code",
   "execution_count": 47,
   "metadata": {},
   "outputs": [
    {
     "data": {
      "text/html": [
       "<div>\n",
       "<style scoped>\n",
       "    .dataframe tbody tr th:only-of-type {\n",
       "        vertical-align: middle;\n",
       "    }\n",
       "\n",
       "    .dataframe tbody tr th {\n",
       "        vertical-align: top;\n",
       "    }\n",
       "\n",
       "    .dataframe thead th {\n",
       "        text-align: right;\n",
       "    }\n",
       "</style>\n",
       "<table border=\"1\" class=\"dataframe\">\n",
       "  <thead>\n",
       "    <tr style=\"text-align: right;\">\n",
       "      <th></th>\n",
       "      <th>molecule_chembl_id</th>\n",
       "      <th>canonical_smiles</th>\n",
       "      <th>bioactivity_class</th>\n",
       "      <th>MW</th>\n",
       "      <th>LogP</th>\n",
       "      <th>NumHDonors</th>\n",
       "      <th>NumHAcceptors</th>\n",
       "      <th>pIC50</th>\n",
       "    </tr>\n",
       "  </thead>\n",
       "  <tbody>\n",
       "    <tr>\n",
       "      <th>0</th>\n",
       "      <td>CHEMBL2111947</td>\n",
       "      <td>C[C@]12CC[C@H]3[C@@H](CC=C4C[C@@H](O)CC[C@@]43...</td>\n",
       "      <td>inactive</td>\n",
       "      <td>315.501</td>\n",
       "      <td>3.89810</td>\n",
       "      <td>2.0</td>\n",
       "      <td>2.0</td>\n",
       "      <td>4.301030</td>\n",
       "    </tr>\n",
       "    <tr>\n",
       "      <th>1</th>\n",
       "      <td>CHEMBL431859</td>\n",
       "      <td>CCn1c(C(c2ccc(F)cc2)n2ccnc2)c(C)c2cc(Br)ccc21</td>\n",
       "      <td>active</td>\n",
       "      <td>412.306</td>\n",
       "      <td>5.70542</td>\n",
       "      <td>0.0</td>\n",
       "      <td>3.0</td>\n",
       "      <td>6.623423</td>\n",
       "    </tr>\n",
       "    <tr>\n",
       "      <th>2</th>\n",
       "      <td>CHEMBL113637</td>\n",
       "      <td>CCn1cc(C(c2ccc(F)cc2)n2ccnc2)c2ccccc21</td>\n",
       "      <td>active</td>\n",
       "      <td>319.383</td>\n",
       "      <td>4.63450</td>\n",
       "      <td>0.0</td>\n",
       "      <td>3.0</td>\n",
       "      <td>7.244125</td>\n",
       "    </tr>\n",
       "    <tr>\n",
       "      <th>3</th>\n",
       "      <td>CHEMBL112021</td>\n",
       "      <td>Clc1ccccc1Cn1cc(Cn2ccnc2)c2ccccc21</td>\n",
       "      <td>active</td>\n",
       "      <td>321.811</td>\n",
       "      <td>4.58780</td>\n",
       "      <td>0.0</td>\n",
       "      <td>3.0</td>\n",
       "      <td>7.267606</td>\n",
       "    </tr>\n",
       "    <tr>\n",
       "      <th>4</th>\n",
       "      <td>CHEMBL41761</td>\n",
       "      <td>CCn1ccc2cc(C(c3ccc(F)cc3)n3ccnc3)ccc21</td>\n",
       "      <td>active</td>\n",
       "      <td>319.383</td>\n",
       "      <td>4.63450</td>\n",
       "      <td>0.0</td>\n",
       "      <td>3.0</td>\n",
       "      <td>7.387216</td>\n",
       "    </tr>\n",
       "    <tr>\n",
       "      <th>...</th>\n",
       "      <td>...</td>\n",
       "      <td>...</td>\n",
       "      <td>...</td>\n",
       "      <td>...</td>\n",
       "      <td>...</td>\n",
       "      <td>...</td>\n",
       "      <td>...</td>\n",
       "      <td>...</td>\n",
       "    </tr>\n",
       "    <tr>\n",
       "      <th>1977</th>\n",
       "      <td>CHEMBL10137</td>\n",
       "      <td>COc1ccc2c(c1)OC(c1ccccc1)/C(=C\\c1ccncc1)C2=O</td>\n",
       "      <td>inactive</td>\n",
       "      <td>343.382</td>\n",
       "      <td>4.49020</td>\n",
       "      <td>0.0</td>\n",
       "      <td>4.0</td>\n",
       "      <td>6.207608</td>\n",
       "    </tr>\n",
       "    <tr>\n",
       "      <th>1978</th>\n",
       "      <td>CHEMBL4583456</td>\n",
       "      <td>COc1ccc2c(c1)O[C@@H](c1ccccc1)C[C@@H]2n1ccnc1</td>\n",
       "      <td>inactive</td>\n",
       "      <td>306.365</td>\n",
       "      <td>4.00490</td>\n",
       "      <td>0.0</td>\n",
       "      <td>4.0</td>\n",
       "      <td>7.040959</td>\n",
       "    </tr>\n",
       "    <tr>\n",
       "      <th>1979</th>\n",
       "      <td>CHEMBL4540847</td>\n",
       "      <td>Oc1ccc2c(c1)O[C@@H](c1ccccc1)C[C@@H]2n1ccnc1</td>\n",
       "      <td>inactive</td>\n",
       "      <td>292.338</td>\n",
       "      <td>3.70190</td>\n",
       "      <td>1.0</td>\n",
       "      <td>4.0</td>\n",
       "      <td>7.387216</td>\n",
       "    </tr>\n",
       "    <tr>\n",
       "      <th>1980</th>\n",
       "      <td>CHEMBL3622064</td>\n",
       "      <td>N#Cc1ccc(N(Cc2ccc3c(Br)c(OS(N)(=O)=O)ccc3c2)n2...</td>\n",
       "      <td>active</td>\n",
       "      <td>499.350</td>\n",
       "      <td>3.11768</td>\n",
       "      <td>1.0</td>\n",
       "      <td>8.0</td>\n",
       "      <td>9.602060</td>\n",
       "    </tr>\n",
       "    <tr>\n",
       "      <th>1981</th>\n",
       "      <td>CHEMBL3622063</td>\n",
       "      <td>N#Cc1ccc(N(Cc2ccc3c(Cl)c(OS(N)(=O)=O)ccc3c2)n2...</td>\n",
       "      <td>active</td>\n",
       "      <td>454.899</td>\n",
       "      <td>3.00858</td>\n",
       "      <td>1.0</td>\n",
       "      <td>8.0</td>\n",
       "      <td>8.677781</td>\n",
       "    </tr>\n",
       "  </tbody>\n",
       "</table>\n",
       "<p>1982 rows × 8 columns</p>\n",
       "</div>"
      ],
      "text/plain": [
       "     molecule_chembl_id                                   canonical_smiles  \\\n",
       "0         CHEMBL2111947  C[C@]12CC[C@H]3[C@@H](CC=C4C[C@@H](O)CC[C@@]43...   \n",
       "1          CHEMBL431859      CCn1c(C(c2ccc(F)cc2)n2ccnc2)c(C)c2cc(Br)ccc21   \n",
       "2          CHEMBL113637             CCn1cc(C(c2ccc(F)cc2)n2ccnc2)c2ccccc21   \n",
       "3          CHEMBL112021                 Clc1ccccc1Cn1cc(Cn2ccnc2)c2ccccc21   \n",
       "4           CHEMBL41761             CCn1ccc2cc(C(c3ccc(F)cc3)n3ccnc3)ccc21   \n",
       "...                 ...                                                ...   \n",
       "1977        CHEMBL10137       COc1ccc2c(c1)OC(c1ccccc1)/C(=C\\c1ccncc1)C2=O   \n",
       "1978      CHEMBL4583456      COc1ccc2c(c1)O[C@@H](c1ccccc1)C[C@@H]2n1ccnc1   \n",
       "1979      CHEMBL4540847       Oc1ccc2c(c1)O[C@@H](c1ccccc1)C[C@@H]2n1ccnc1   \n",
       "1980      CHEMBL3622064  N#Cc1ccc(N(Cc2ccc3c(Br)c(OS(N)(=O)=O)ccc3c2)n2...   \n",
       "1981      CHEMBL3622063  N#Cc1ccc(N(Cc2ccc3c(Cl)c(OS(N)(=O)=O)ccc3c2)n2...   \n",
       "\n",
       "     bioactivity_class       MW     LogP  NumHDonors  NumHAcceptors     pIC50  \n",
       "0             inactive  315.501  3.89810         2.0            2.0  4.301030  \n",
       "1               active  412.306  5.70542         0.0            3.0  6.623423  \n",
       "2               active  319.383  4.63450         0.0            3.0  7.244125  \n",
       "3               active  321.811  4.58780         0.0            3.0  7.267606  \n",
       "4               active  319.383  4.63450         0.0            3.0  7.387216  \n",
       "...                ...      ...      ...         ...            ...       ...  \n",
       "1977          inactive  343.382  4.49020         0.0            4.0  6.207608  \n",
       "1978          inactive  306.365  4.00490         0.0            4.0  7.040959  \n",
       "1979          inactive  292.338  3.70190         1.0            4.0  7.387216  \n",
       "1980            active  499.350  3.11768         1.0            8.0  9.602060  \n",
       "1981            active  454.899  3.00858         1.0            8.0  8.677781  \n",
       "\n",
       "[1982 rows x 8 columns]"
      ]
     },
     "execution_count": 47,
     "metadata": {},
     "output_type": "execute_result"
    }
   ],
   "source": [
    "df3"
   ]
  },
  {
   "cell_type": "code",
   "execution_count": 48,
   "metadata": {
    "scrolled": false
   },
   "outputs": [
    {
     "data": {
      "text/html": [
       "<div>\n",
       "<style scoped>\n",
       "    .dataframe tbody tr th:only-of-type {\n",
       "        vertical-align: middle;\n",
       "    }\n",
       "\n",
       "    .dataframe tbody tr th {\n",
       "        vertical-align: top;\n",
       "    }\n",
       "\n",
       "    .dataframe thead th {\n",
       "        text-align: right;\n",
       "    }\n",
       "</style>\n",
       "<table border=\"1\" class=\"dataframe\">\n",
       "  <thead>\n",
       "    <tr style=\"text-align: right;\">\n",
       "      <th></th>\n",
       "      <th>molecule_chembl_id</th>\n",
       "      <th>canonical_smiles</th>\n",
       "      <th>bioactivity_class</th>\n",
       "      <th>MW</th>\n",
       "      <th>LogP</th>\n",
       "      <th>NumHDonors</th>\n",
       "      <th>NumHAcceptors</th>\n",
       "      <th>pIC50</th>\n",
       "    </tr>\n",
       "  </thead>\n",
       "  <tbody>\n",
       "    <tr>\n",
       "      <th>1</th>\n",
       "      <td>CHEMBL431859</td>\n",
       "      <td>CCn1c(C(c2ccc(F)cc2)n2ccnc2)c(C)c2cc(Br)ccc21</td>\n",
       "      <td>active</td>\n",
       "      <td>412.306</td>\n",
       "      <td>5.70542</td>\n",
       "      <td>0.0</td>\n",
       "      <td>3.0</td>\n",
       "      <td>6.623423</td>\n",
       "    </tr>\n",
       "    <tr>\n",
       "      <th>2</th>\n",
       "      <td>CHEMBL113637</td>\n",
       "      <td>CCn1cc(C(c2ccc(F)cc2)n2ccnc2)c2ccccc21</td>\n",
       "      <td>active</td>\n",
       "      <td>319.383</td>\n",
       "      <td>4.63450</td>\n",
       "      <td>0.0</td>\n",
       "      <td>3.0</td>\n",
       "      <td>7.244125</td>\n",
       "    </tr>\n",
       "    <tr>\n",
       "      <th>3</th>\n",
       "      <td>CHEMBL112021</td>\n",
       "      <td>Clc1ccccc1Cn1cc(Cn2ccnc2)c2ccccc21</td>\n",
       "      <td>active</td>\n",
       "      <td>321.811</td>\n",
       "      <td>4.58780</td>\n",
       "      <td>0.0</td>\n",
       "      <td>3.0</td>\n",
       "      <td>7.267606</td>\n",
       "    </tr>\n",
       "    <tr>\n",
       "      <th>4</th>\n",
       "      <td>CHEMBL41761</td>\n",
       "      <td>CCn1ccc2cc(C(c3ccc(F)cc3)n3ccnc3)ccc21</td>\n",
       "      <td>active</td>\n",
       "      <td>319.383</td>\n",
       "      <td>4.63450</td>\n",
       "      <td>0.0</td>\n",
       "      <td>3.0</td>\n",
       "      <td>7.387216</td>\n",
       "    </tr>\n",
       "    <tr>\n",
       "      <th>5</th>\n",
       "      <td>CHEMBL111868</td>\n",
       "      <td>Cn1cc(C(c2ccc(F)cc2)n2ccnc2)c2cc(Br)ccc21</td>\n",
       "      <td>active</td>\n",
       "      <td>384.252</td>\n",
       "      <td>4.91410</td>\n",
       "      <td>0.0</td>\n",
       "      <td>3.0</td>\n",
       "      <td>7.105130</td>\n",
       "    </tr>\n",
       "    <tr>\n",
       "      <th>...</th>\n",
       "      <td>...</td>\n",
       "      <td>...</td>\n",
       "      <td>...</td>\n",
       "      <td>...</td>\n",
       "      <td>...</td>\n",
       "      <td>...</td>\n",
       "      <td>...</td>\n",
       "      <td>...</td>\n",
       "    </tr>\n",
       "    <tr>\n",
       "      <th>1972</th>\n",
       "      <td>CHEMBL28668</td>\n",
       "      <td>CCC(C)C1(c2ccc(N)cc2)CCC(=O)NC1=O</td>\n",
       "      <td>active</td>\n",
       "      <td>260.337</td>\n",
       "      <td>1.98930</td>\n",
       "      <td>2.0</td>\n",
       "      <td>3.0</td>\n",
       "      <td>5.522879</td>\n",
       "    </tr>\n",
       "    <tr>\n",
       "      <th>1973</th>\n",
       "      <td>CHEMBL25735</td>\n",
       "      <td>CCCCCC1(c2ccc(N)cc2)CCC(=O)NC1=O</td>\n",
       "      <td>active</td>\n",
       "      <td>274.364</td>\n",
       "      <td>2.52350</td>\n",
       "      <td>2.0</td>\n",
       "      <td>3.0</td>\n",
       "      <td>5.886057</td>\n",
       "    </tr>\n",
       "    <tr>\n",
       "      <th>1974</th>\n",
       "      <td>CHEMBL29230</td>\n",
       "      <td>CC(C)CCC1(c2ccc(N)cc2)CCC(=O)NC1=O</td>\n",
       "      <td>active</td>\n",
       "      <td>274.364</td>\n",
       "      <td>2.37940</td>\n",
       "      <td>2.0</td>\n",
       "      <td>3.0</td>\n",
       "      <td>6.397940</td>\n",
       "    </tr>\n",
       "    <tr>\n",
       "      <th>1980</th>\n",
       "      <td>CHEMBL3622064</td>\n",
       "      <td>N#Cc1ccc(N(Cc2ccc3c(Br)c(OS(N)(=O)=O)ccc3c2)n2...</td>\n",
       "      <td>active</td>\n",
       "      <td>499.350</td>\n",
       "      <td>3.11768</td>\n",
       "      <td>1.0</td>\n",
       "      <td>8.0</td>\n",
       "      <td>9.602060</td>\n",
       "    </tr>\n",
       "    <tr>\n",
       "      <th>1981</th>\n",
       "      <td>CHEMBL3622063</td>\n",
       "      <td>N#Cc1ccc(N(Cc2ccc3c(Cl)c(OS(N)(=O)=O)ccc3c2)n2...</td>\n",
       "      <td>active</td>\n",
       "      <td>454.899</td>\n",
       "      <td>3.00858</td>\n",
       "      <td>1.0</td>\n",
       "      <td>8.0</td>\n",
       "      <td>8.677781</td>\n",
       "    </tr>\n",
       "  </tbody>\n",
       "</table>\n",
       "<p>1374 rows × 8 columns</p>\n",
       "</div>"
      ],
      "text/plain": [
       "     molecule_chembl_id                                   canonical_smiles  \\\n",
       "1          CHEMBL431859      CCn1c(C(c2ccc(F)cc2)n2ccnc2)c(C)c2cc(Br)ccc21   \n",
       "2          CHEMBL113637             CCn1cc(C(c2ccc(F)cc2)n2ccnc2)c2ccccc21   \n",
       "3          CHEMBL112021                 Clc1ccccc1Cn1cc(Cn2ccnc2)c2ccccc21   \n",
       "4           CHEMBL41761             CCn1ccc2cc(C(c3ccc(F)cc3)n3ccnc3)ccc21   \n",
       "5          CHEMBL111868          Cn1cc(C(c2ccc(F)cc2)n2ccnc2)c2cc(Br)ccc21   \n",
       "...                 ...                                                ...   \n",
       "1972        CHEMBL28668                  CCC(C)C1(c2ccc(N)cc2)CCC(=O)NC1=O   \n",
       "1973        CHEMBL25735                   CCCCCC1(c2ccc(N)cc2)CCC(=O)NC1=O   \n",
       "1974        CHEMBL29230                 CC(C)CCC1(c2ccc(N)cc2)CCC(=O)NC1=O   \n",
       "1980      CHEMBL3622064  N#Cc1ccc(N(Cc2ccc3c(Br)c(OS(N)(=O)=O)ccc3c2)n2...   \n",
       "1981      CHEMBL3622063  N#Cc1ccc(N(Cc2ccc3c(Cl)c(OS(N)(=O)=O)ccc3c2)n2...   \n",
       "\n",
       "     bioactivity_class       MW     LogP  NumHDonors  NumHAcceptors     pIC50  \n",
       "1               active  412.306  5.70542         0.0            3.0  6.623423  \n",
       "2               active  319.383  4.63450         0.0            3.0  7.244125  \n",
       "3               active  321.811  4.58780         0.0            3.0  7.267606  \n",
       "4               active  319.383  4.63450         0.0            3.0  7.387216  \n",
       "5               active  384.252  4.91410         0.0            3.0  7.105130  \n",
       "...                ...      ...      ...         ...            ...       ...  \n",
       "1972            active  260.337  1.98930         2.0            3.0  5.522879  \n",
       "1973            active  274.364  2.52350         2.0            3.0  5.886057  \n",
       "1974            active  274.364  2.37940         2.0            3.0  6.397940  \n",
       "1980            active  499.350  3.11768         1.0            8.0  9.602060  \n",
       "1981            active  454.899  3.00858         1.0            8.0  8.677781  \n",
       "\n",
       "[1374 rows x 8 columns]"
      ]
     },
     "execution_count": 48,
     "metadata": {},
     "output_type": "execute_result"
    }
   ],
   "source": [
    "df3.loc[(df3['bioactivity_class'] == 'active')]"
   ]
  },
  {
   "cell_type": "code",
   "execution_count": 49,
   "metadata": {
    "colab": {
     "base_uri": "https://localhost:8080/",
     "height": 467
    },
    "colab_type": "code",
    "id": "60z_N6egNiSJ",
    "outputId": "4419acc9-ced7-4a45-b849-665ed5e0fd99"
   },
   "outputs": [
    {
     "data": {
      "text/html": [
       "<div>\n",
       "<style scoped>\n",
       "    .dataframe tbody tr th:only-of-type {\n",
       "        vertical-align: middle;\n",
       "    }\n",
       "\n",
       "    .dataframe tbody tr th {\n",
       "        vertical-align: top;\n",
       "    }\n",
       "\n",
       "    .dataframe thead th {\n",
       "        text-align: right;\n",
       "    }\n",
       "</style>\n",
       "<table border=\"1\" class=\"dataframe\">\n",
       "  <thead>\n",
       "    <tr style=\"text-align: right;\">\n",
       "      <th></th>\n",
       "      <th>molecule_chembl_id</th>\n",
       "      <th>canonical_smiles</th>\n",
       "      <th>bioactivity_class</th>\n",
       "      <th>MW</th>\n",
       "      <th>LogP</th>\n",
       "      <th>NumHDonors</th>\n",
       "      <th>NumHAcceptors</th>\n",
       "      <th>pIC50</th>\n",
       "    </tr>\n",
       "  </thead>\n",
       "  <tbody>\n",
       "    <tr>\n",
       "      <th>0</th>\n",
       "      <td>CHEMBL2111947</td>\n",
       "      <td>C[C@]12CC[C@H]3[C@@H](CC=C4C[C@@H](O)CC[C@@]43...</td>\n",
       "      <td>inactive</td>\n",
       "      <td>315.501</td>\n",
       "      <td>3.89810</td>\n",
       "      <td>2.0</td>\n",
       "      <td>2.0</td>\n",
       "      <td>4.301030</td>\n",
       "    </tr>\n",
       "    <tr>\n",
       "      <th>9</th>\n",
       "      <td>CHEMBL353068</td>\n",
       "      <td>c1ccc2c(c1)CCC1C(c3cc[nH]n3)C21</td>\n",
       "      <td>inactive</td>\n",
       "      <td>210.280</td>\n",
       "      <td>2.85310</td>\n",
       "      <td>1.0</td>\n",
       "      <td>1.0</td>\n",
       "      <td>4.292430</td>\n",
       "    </tr>\n",
       "    <tr>\n",
       "      <th>10</th>\n",
       "      <td>CHEMBL166709</td>\n",
       "      <td>O=C1/C(=C/c2cccnn2)CCc2ccccc21</td>\n",
       "      <td>inactive</td>\n",
       "      <td>236.274</td>\n",
       "      <td>2.68910</td>\n",
       "      <td>0.0</td>\n",
       "      <td>3.0</td>\n",
       "      <td>3.602060</td>\n",
       "    </tr>\n",
       "    <tr>\n",
       "      <th>11</th>\n",
       "      <td>CHEMBL424556</td>\n",
       "      <td>O=C1/C(=C/c2ccnnc2)CCc2ccccc21</td>\n",
       "      <td>inactive</td>\n",
       "      <td>236.274</td>\n",
       "      <td>2.68910</td>\n",
       "      <td>0.0</td>\n",
       "      <td>3.0</td>\n",
       "      <td>3.987163</td>\n",
       "    </tr>\n",
       "    <tr>\n",
       "      <th>15</th>\n",
       "      <td>CHEMBL433728</td>\n",
       "      <td>c1ccc2c(c1)CCC1C(c3ccsc3)C21</td>\n",
       "      <td>inactive</td>\n",
       "      <td>226.344</td>\n",
       "      <td>4.19150</td>\n",
       "      <td>0.0</td>\n",
       "      <td>1.0</td>\n",
       "      <td>3.602060</td>\n",
       "    </tr>\n",
       "    <tr>\n",
       "      <th>...</th>\n",
       "      <td>...</td>\n",
       "      <td>...</td>\n",
       "      <td>...</td>\n",
       "      <td>...</td>\n",
       "      <td>...</td>\n",
       "      <td>...</td>\n",
       "      <td>...</td>\n",
       "      <td>...</td>\n",
       "    </tr>\n",
       "    <tr>\n",
       "      <th>1975</th>\n",
       "      <td>CHEMBL421149</td>\n",
       "      <td>N#Cc1ccc(Cn2ccnc2)c2oc3ccccc3c(=O)c12</td>\n",
       "      <td>inactive</td>\n",
       "      <td>301.305</td>\n",
       "      <td>3.06268</td>\n",
       "      <td>0.0</td>\n",
       "      <td>5.0</td>\n",
       "      <td>7.366532</td>\n",
       "    </tr>\n",
       "    <tr>\n",
       "      <th>1976</th>\n",
       "      <td>CHEMBL159073</td>\n",
       "      <td>O=c1c2ccccc2oc2c(Cn3ccnc3)ccc([N+](=O)[O-])c12</td>\n",
       "      <td>inactive</td>\n",
       "      <td>321.292</td>\n",
       "      <td>3.09920</td>\n",
       "      <td>0.0</td>\n",
       "      <td>6.0</td>\n",
       "      <td>7.397940</td>\n",
       "    </tr>\n",
       "    <tr>\n",
       "      <th>1977</th>\n",
       "      <td>CHEMBL10137</td>\n",
       "      <td>COc1ccc2c(c1)OC(c1ccccc1)/C(=C\\c1ccncc1)C2=O</td>\n",
       "      <td>inactive</td>\n",
       "      <td>343.382</td>\n",
       "      <td>4.49020</td>\n",
       "      <td>0.0</td>\n",
       "      <td>4.0</td>\n",
       "      <td>6.207608</td>\n",
       "    </tr>\n",
       "    <tr>\n",
       "      <th>1978</th>\n",
       "      <td>CHEMBL4583456</td>\n",
       "      <td>COc1ccc2c(c1)O[C@@H](c1ccccc1)C[C@@H]2n1ccnc1</td>\n",
       "      <td>inactive</td>\n",
       "      <td>306.365</td>\n",
       "      <td>4.00490</td>\n",
       "      <td>0.0</td>\n",
       "      <td>4.0</td>\n",
       "      <td>7.040959</td>\n",
       "    </tr>\n",
       "    <tr>\n",
       "      <th>1979</th>\n",
       "      <td>CHEMBL4540847</td>\n",
       "      <td>Oc1ccc2c(c1)O[C@@H](c1ccccc1)C[C@@H]2n1ccnc1</td>\n",
       "      <td>inactive</td>\n",
       "      <td>292.338</td>\n",
       "      <td>3.70190</td>\n",
       "      <td>1.0</td>\n",
       "      <td>4.0</td>\n",
       "      <td>7.387216</td>\n",
       "    </tr>\n",
       "  </tbody>\n",
       "</table>\n",
       "<p>608 rows × 8 columns</p>\n",
       "</div>"
      ],
      "text/plain": [
       "     molecule_chembl_id                                   canonical_smiles  \\\n",
       "0         CHEMBL2111947  C[C@]12CC[C@H]3[C@@H](CC=C4C[C@@H](O)CC[C@@]43...   \n",
       "9          CHEMBL353068                    c1ccc2c(c1)CCC1C(c3cc[nH]n3)C21   \n",
       "10         CHEMBL166709                     O=C1/C(=C/c2cccnn2)CCc2ccccc21   \n",
       "11         CHEMBL424556                     O=C1/C(=C/c2ccnnc2)CCc2ccccc21   \n",
       "15         CHEMBL433728                       c1ccc2c(c1)CCC1C(c3ccsc3)C21   \n",
       "...                 ...                                                ...   \n",
       "1975       CHEMBL421149              N#Cc1ccc(Cn2ccnc2)c2oc3ccccc3c(=O)c12   \n",
       "1976       CHEMBL159073     O=c1c2ccccc2oc2c(Cn3ccnc3)ccc([N+](=O)[O-])c12   \n",
       "1977        CHEMBL10137       COc1ccc2c(c1)OC(c1ccccc1)/C(=C\\c1ccncc1)C2=O   \n",
       "1978      CHEMBL4583456      COc1ccc2c(c1)O[C@@H](c1ccccc1)C[C@@H]2n1ccnc1   \n",
       "1979      CHEMBL4540847       Oc1ccc2c(c1)O[C@@H](c1ccccc1)C[C@@H]2n1ccnc1   \n",
       "\n",
       "     bioactivity_class       MW     LogP  NumHDonors  NumHAcceptors     pIC50  \n",
       "0             inactive  315.501  3.89810         2.0            2.0  4.301030  \n",
       "9             inactive  210.280  2.85310         1.0            1.0  4.292430  \n",
       "10            inactive  236.274  2.68910         0.0            3.0  3.602060  \n",
       "11            inactive  236.274  2.68910         0.0            3.0  3.987163  \n",
       "15            inactive  226.344  4.19150         0.0            1.0  3.602060  \n",
       "...                ...      ...      ...         ...            ...       ...  \n",
       "1975          inactive  301.305  3.06268         0.0            5.0  7.366532  \n",
       "1976          inactive  321.292  3.09920         0.0            6.0  7.397940  \n",
       "1977          inactive  343.382  4.49020         0.0            4.0  6.207608  \n",
       "1978          inactive  306.365  4.00490         0.0            4.0  7.040959  \n",
       "1979          inactive  292.338  3.70190         1.0            4.0  7.387216  \n",
       "\n",
       "[608 rows x 8 columns]"
      ]
     },
     "execution_count": 49,
     "metadata": {},
     "output_type": "execute_result"
    }
   ],
   "source": [
    "df3.loc[(df3['bioactivity_class'] == 'inactive')]"
   ]
  },
  {
   "cell_type": "code",
   "execution_count": 50,
   "metadata": {
    "colab": {},
    "colab_type": "code",
    "id": "BJDJkY43R-9F"
   },
   "outputs": [],
   "source": [
    "selection = ['canonical_smiles','molecule_chembl_id']\n",
    "df3_selection = df3[selection]\n",
    "df3_selection.to_csv('molecule.smi', sep='\\t', index=False, header=False)"
   ]
  },
  {
   "cell_type": "code",
   "execution_count": 51,
   "metadata": {
    "colab": {
     "base_uri": "https://localhost:8080/",
     "height": 104
    },
    "colab_type": "code",
    "id": "nRSCoPVDSkf5",
    "outputId": "2be43c1d-d8b8-42a8-93fc-4c1b29855a8a"
   },
   "outputs": [
    {
     "name": "stdout",
     "output_type": "stream",
     "text": [
      "C[C@]12CC[C@H]3[C@@H](CC=C4C[C@@H](O)CC[C@@]43C)[C@@H]1CC[C@@H]2[C@H]1CN1\tCHEMBL2111947\r\n",
      "CCn1c(C(c2ccc(F)cc2)n2ccnc2)c(C)c2cc(Br)ccc21\tCHEMBL431859\r\n",
      "CCn1cc(C(c2ccc(F)cc2)n2ccnc2)c2ccccc21\tCHEMBL113637\r\n",
      "Clc1ccccc1Cn1cc(Cn2ccnc2)c2ccccc21\tCHEMBL112021\r\n",
      "CCn1ccc2cc(C(c3ccc(F)cc3)n3ccnc3)ccc21\tCHEMBL41761\r\n"
     ]
    }
   ],
   "source": [
    "! cat molecule.smi | head -5\n",
    "# A gauche : la notation Smiles (informations chimiques qui se rapportent à la structure chimique)\n",
    "# A droite : le nom de la molécule"
   ]
  },
  {
   "cell_type": "code",
   "execution_count": 52,
   "metadata": {
    "colab": {
     "base_uri": "https://localhost:8080/",
     "height": 35
    },
    "colab_type": "code",
    "id": "GlYaJ9pzUGjS",
    "outputId": "6dab2be5-172a-4efb-8b42-7ceef402bfa3"
   },
   "outputs": [
    {
     "name": "stdout",
     "output_type": "stream",
     "text": [
      "    1982\r\n"
     ]
    }
   ],
   "source": [
    "! cat molecule.smi | wc -l"
   ]
  },
  {
   "cell_type": "markdown",
   "metadata": {
    "colab_type": "text",
    "id": "YzN_S4Quro5S"
   },
   "source": [
    "## Calculer les descripteurs d'empreintes\n"
   ]
  },
  {
   "cell_type": "markdown",
   "metadata": {
    "colab_type": "text",
    "id": "JsgTV-ByxdMa"
   },
   "source": [
    "### Calculer les descripteurs PaDEL\n",
    "\n",
    "Rappels :\n",
    "- les descripteurs Lepinksi décrivent les features **globales** de chaque molécule (taille moléculaire, solutibilié, nombre de donneurs et accepteurs de liaison hydrogène)\n",
    "- les descripteurs Pubchem décrivent les features **locales** de chaque molécule (empreintes uniques)"
   ]
  },
  {
   "cell_type": "code",
   "execution_count": 53,
   "metadata": {
    "colab": {
     "base_uri": "https://localhost:8080/",
     "height": 55
    },
    "colab_type": "code",
    "id": "hSCopQvEiSMj",
    "outputId": "77fe3614-69ef-4bd1-9dca-2a9b2c975fbb"
   },
   "outputs": [
    {
     "name": "stdout",
     "output_type": "stream",
     "text": [
      "java -Xms1G -Xmx1G -Djava.awt.headless=true -jar ./PaDEL-Descriptor/PaDEL-Descriptor.jar -removesalt -standardizenitro -fingerprints -descriptortypes ./PaDEL-Descriptor/PubchemFingerprinter.xml -dir ./ -file descriptors_output.csv\r\n"
     ]
    }
   ],
   "source": [
    "! cat padel.sh\n",
    "# Fichier contenant les instructions (retirer les sels et petits acides organiques de la structure chimique)"
   ]
  },
  {
   "cell_type": "code",
   "execution_count": 54,
   "metadata": {
    "colab": {
     "base_uri": "https://localhost:8080/",
     "height": 1000
    },
    "colab_type": "code",
    "id": "6kN9jrGpS5nE",
    "outputId": "456a4161-b3dd-44b9-bc82-2523976f25ea"
   },
   "outputs": [
    {
     "name": "stdout",
     "output_type": "stream",
     "text": [
      "Processing CHEMBL2111947 in molecule.smi (1/1982). \n",
      "Processing CHEMBL431859 in molecule.smi (2/1982). \n",
      "Processing CHEMBL113637 in molecule.smi (3/1982). \n",
      "Processing CHEMBL112021 in molecule.smi (4/1982). \n",
      "Processing CHEMBL41761 in molecule.smi (5/1982). \n",
      "Processing CHEMBL111868 in molecule.smi (6/1982). \n",
      "Processing CHEMBL111888 in molecule.smi (7/1982). \n",
      "Processing CHEMBL112074 in molecule.smi (8/1982). \n",
      "Processing CHEMBL433728 in molecule.smi (16/1982). Average speed: 0,53 s/mol.\n",
      "Processing CHEMBL1629805 in molecule.smi (15/1982). Average speed: 2,11 s/mol.\n",
      "Processing CHEMBL353068 in molecule.smi (10/1982). Average speed: 2,08 s/mol.\n",
      "Processing CHEMBL324326 in molecule.smi (9/1982). Average speed: 4,15 s/mol.\n",
      "Processing CHEMBL166709 in molecule.smi (11/1982). Average speed: 2,10 s/mol.\n",
      "Processing CHEMBL169251 in molecule.smi (14/1982). Average speed: 2,10 s/mol.\n",
      "Processing CHEMBL1630261 in molecule.smi (13/1982). Average speed: 2,10 s/mol.\n",
      "Processing CHEMBL424556 in molecule.smi (12/1982). Average speed: 2,10 s/mol.\n",
      "Processing CHEMBL169449 in molecule.smi (18/1982). Average speed: 0,55 s/mol.\n",
      "Processing CHEMBL38877 in molecule.smi (17/1982). Average speed: 0,55 s/mol.\n",
      "Processing CHEMBL39275 in molecule.smi (19/1982). Average speed: 0,55 s/mol.\n",
      "Processing CHEMBL289116 in molecule.smi (22/1982). Average speed: 0,42 s/mol.\n",
      "Processing CHEMBL289116 in molecule.smi (23/1982). Average speed: 0,42 s/mol.\n",
      "Processing CHEMBL2112738 in molecule.smi (21/1982). Average speed: 0,42 s/mol.\n",
      "Processing CHEMBL39513 in molecule.smi (20/1982). Average speed: 0,42 s/mol.\n",
      "Processing CHEMBL488 in molecule.smi (26/1982). Average speed: 0,32 s/mol.\n",
      "Processing CHEMBL168434 in molecule.smi (27/1982). Average speed: 0,32 s/mol.\n",
      "Processing CHEMBL2112739 in molecule.smi (29/1982). Average speed: 0,32 s/mol.\n",
      "Processing CHEMBL440930 in molecule.smi (30/1982). Average speed: 0,32 s/mol.\n",
      "Processing CHEMBL39782 in molecule.smi (24/1982). Average speed: 0,39 s/mol.\n",
      "Processing CHEMBL304903 in molecule.smi (25/1982). Average speed: 0,32 s/mol.\n",
      "Processing CHEMBL352645 in molecule.smi (28/1982). Average speed: 0,32 s/mol.\n",
      "Processing CHEMBL1629804 in molecule.smi (32/1982). Average speed: 0,23 s/mol.\n",
      "Processing CHEMBL1630274 in molecule.smi (31/1982). Average speed: 0,26 s/mol.\n",
      "Processing CHEMBL39661 in molecule.smi (33/1982). Average speed: 0,23 s/mol.\n",
      "Processing CHEMBL166789 in molecule.smi (34/1982). Average speed: 0,24 s/mol.\n",
      "Processing CHEMBL3349856 in molecule.smi (35/1982). Average speed: 0,23 s/mol.\n",
      "Processing CHEMBL1630275 in molecule.smi (36/1982). Average speed: 0,21 s/mol.\n",
      "Processing CHEMBL1630267 in molecule.smi (37/1982). Average speed: 0,21 s/mol.\n",
      "Processing CHEMBL38510 in molecule.smi (38/1982). Average speed: 0,20 s/mol.\n",
      "Processing CHEMBL415753 in molecule.smi (39/1982). Average speed: 0,19 s/mol.\n",
      "Processing CHEMBL3349864 in molecule.smi (40/1982). Average speed: 0,19 s/mol.\n",
      "Processing CHEMBL1629806 in molecule.smi (41/1982). Average speed: 0,19 s/mol.\n",
      "Processing CHEMBL169664 in molecule.smi (42/1982). Average speed: 0,18 s/mol.\n",
      "Processing CHEMBL168762 in molecule.smi (43/1982). Average speed: 0,18 s/mol.\n",
      "Processing CHEMBL39781 in molecule.smi (44/1982). Average speed: 0,18 s/mol.\n",
      "Processing CHEMBL413344 in molecule.smi (45/1982). Average speed: 0,18 s/mol.\n",
      "Processing CHEMBL168444 in molecule.smi (46/1982). Average speed: 0,17 s/mol.\n",
      "Processing CHEMBL168700 in molecule.smi (47/1982). Average speed: 0,17 s/mol.\n",
      "Processing CHEMBL355681 in molecule.smi (48/1982). Average speed: 0,17 s/mol.\n",
      "Processing CHEMBL2111917 in molecule.smi (49/1982). Average speed: 0,16 s/mol.\n",
      "Processing CHEMBL39840 in molecule.smi (50/1982). Average speed: 0,16 s/mol.\n",
      "Processing CHEMBL28689 in molecule.smi (52/1982). Average speed: 0,15 s/mol.\n",
      "Processing CHEMBL424203 in molecule.smi (51/1982). Average speed: 0,15 s/mol.\n",
      "Processing CHEMBL166974 in molecule.smi (53/1982). Average speed: 0,15 s/mol.\n",
      "Processing CHEMBL2311169 in molecule.smi (54/1982). Average speed: 0,15 s/mol.\n",
      "Processing CHEMBL38472 in molecule.smi (55/1982). Average speed: 0,15 s/mol.\n",
      "Processing CHEMBL38472 in molecule.smi (56/1982). Average speed: 0,14 s/mol.\n",
      "Processing CHEMBL276140 in molecule.smi (57/1982). Average speed: 0,14 s/mol.\n",
      "Processing CHEMBL297784 in molecule.smi (58/1982). Average speed: 0,14 s/mol.\n",
      "Processing CHEMBL14563 in molecule.smi (59/1982). Average speed: 0,14 s/mol.\n",
      "Processing CHEMBL274318 in molecule.smi (60/1982). Average speed: 0,14 s/mol.\n",
      "Processing CHEMBL113739 in molecule.smi (61/1982). Average speed: 0,13 s/mol.\n",
      "Processing CHEMBL113121 in molecule.smi (62/1982). Average speed: 0,13 s/mol.\n",
      "Processing CHEMBL10137 in molecule.smi (63/1982). Average speed: 0,13 s/mol.\n",
      "Processing CHEMBL113082 in molecule.smi (64/1982). Average speed: 0,13 s/mol.\n",
      "Processing CHEMBL10026 in molecule.smi (65/1982). Average speed: 0,13 s/mol.\n",
      "Processing CHEMBL2105261 in molecule.smi (66/1982). Average speed: 0,12 s/mol.\n",
      "Processing CHEMBL109211 in molecule.smi (67/1982). Average speed: 0,13 s/mol.\n",
      "Processing CHEMBL27879 in molecule.smi (68/1982). Average speed: 0,12 s/mol.\n",
      "Processing CHEMBL27386 in molecule.smi (69/1982). Average speed: 0,13 s/mol.\n",
      "Processing CHEMBL488 in molecule.smi (70/1982). Average speed: 0,12 s/mol.\n",
      "Processing CHEMBL281947 in molecule.smi (71/1982). Average speed: 0,12 s/mol.\n",
      "Processing CHEMBL281947 in molecule.smi (72/1982). Average speed: 0,12 s/mol.\n",
      "Processing CHEMBL27546 in molecule.smi (73/1982). Average speed: 0,12 s/mol.\n",
      "Processing CHEMBL286506 in molecule.smi (74/1982). Average speed: 0,12 s/mol.\n",
      "Processing CHEMBL281947 in molecule.smi (75/1982). Average speed: 0,12 s/mol.\n",
      "Processing CHEMBL281947 in molecule.smi (76/1982). Average speed: 0,12 s/mol.\n",
      "Processing CHEMBL281947 in molecule.smi (77/1982). Average speed: 0,11 s/mol.\n",
      "Processing CHEMBL26651 in molecule.smi (78/1982). Average speed: 0,11 s/mol.\n",
      "Processing CHEMBL27591 in molecule.smi (79/1982). Average speed: 0,11 s/mol.\n",
      "Processing CHEMBL28173 in molecule.smi (80/1982). Average speed: 0,11 s/mol.\n",
      "Processing CHEMBL28290 in molecule.smi (81/1982). Average speed: 0,11 s/mol.\n",
      "Processing CHEMBL27467 in molecule.smi (82/1982). Average speed: 0,11 s/mol.\n",
      "Processing CHEMBL27467 in molecule.smi (83/1982). Average speed: 0,11 s/mol.\n",
      "Processing CHEMBL27698 in molecule.smi (84/1982). Average speed: 0,11 s/mol.\n",
      "Processing CHEMBL27767 in molecule.smi (85/1982). Average speed: 0,11 s/mol.\n",
      "Processing CHEMBL29482 in molecule.smi (86/1982). Average speed: 0,11 s/mol.\n",
      "Processing CHEMBL311077 in molecule.smi (87/1982). Average speed: 0,11 s/mol.\n",
      "Processing CHEMBL424162 in molecule.smi (88/1982). Average speed: 0,11 s/mol.\n",
      "Processing CHEMBL349514 in molecule.smi (89/1982). Average speed: 0,10 s/mol.\n",
      "Processing CHEMBL349704 in molecule.smi (91/1982). Average speed: 0,10 s/mol.\n",
      "Processing CHEMBL2112309 in molecule.smi (90/1982). Average speed: 0,10 s/mol.\n",
      "Processing CHEMBL165279 in molecule.smi (92/1982). Average speed: 0,10 s/mol.\n",
      "Processing CHEMBL443530 in molecule.smi (93/1982). Average speed: 0,10 s/mol.\n",
      "Processing CHEMBL352891 in molecule.smi (94/1982). Average speed: 0,10 s/mol.\n",
      "Processing CHEMBL81255 in molecule.smi (95/1982). Average speed: 0,10 s/mol.\n",
      "Processing CHEMBL31760 in molecule.smi (96/1982). Average speed: 0,10 s/mol.\n",
      "Processing CHEMBL349919 in molecule.smi (97/1982). Average speed: 0,10 s/mol.\n",
      "Processing CHEMBL349963 in molecule.smi (98/1982). Average speed: 0,10 s/mol.\n",
      "Processing CHEMBL353571 in molecule.smi (99/1982). Average speed: 0,10 s/mol.\n",
      "Processing CHEMBL164746 in molecule.smi (100/1982). Average speed: 0,10 s/mol.\n",
      "Processing CHEMBL1629805 in molecule.smi (101/1982). Average speed: 0,10 s/mol.\n",
      "Processing CHEMBL166017 in molecule.smi (102/1982). Average speed: 0,10 s/mol.\n",
      "Processing CHEMBL164821 in molecule.smi (103/1982). Average speed: 0,10 s/mol.\n",
      "Processing CHEMBL164993 in molecule.smi (104/1982). Average speed: 0,10 s/mol.\n",
      "Processing CHEMBL165925 in molecule.smi (105/1982). Average speed: 0,10 s/mol.\n",
      "Processing CHEMBL165218 in molecule.smi (106/1982). Average speed: 0,10 s/mol.\n",
      "Processing CHEMBL350713 in molecule.smi (107/1982). Average speed: 0,09 s/mol.\n",
      "Processing CHEMBL31456 in molecule.smi (108/1982). Average speed: 0,09 s/mol.\n"
     ]
    },
    {
     "name": "stdout",
     "output_type": "stream",
     "text": [
      "Processing CHEMBL31215 in molecule.smi (109/1982). Average speed: 0,09 s/mol.\n",
      "Processing CHEMBL350074 in molecule.smi (110/1982). Average speed: 0,09 s/mol.\n",
      "Processing CHEMBL166032 in molecule.smi (111/1982). Average speed: 0,09 s/mol.\n",
      "Processing CHEMBL164543 in molecule.smi (112/1982). Average speed: 0,09 s/mol.\n",
      "Processing CHEMBL82981 in molecule.smi (113/1982). Average speed: 0,09 s/mol.\n",
      "Processing CHEMBL165552 in molecule.smi (114/1982). Average speed: 0,09 s/mol.\n",
      "Processing CHEMBL1629804 in molecule.smi (115/1982). Average speed: 0,09 s/mol.\n",
      "Processing CHEMBL351850 in molecule.smi (117/1982). Average speed: 0,09 s/mol.\n",
      "Processing CHEMBL285809 in molecule.smi (116/1982). Average speed: 0,09 s/mol.\n",
      "Processing CHEMBL287677 in molecule.smi (119/1982). Average speed: 0,09 s/mol.\n",
      "Processing CHEMBL166148 in molecule.smi (118/1982). Average speed: 0,09 s/mol.\n",
      "Processing CHEMBL349851 in molecule.smi (121/1982). Average speed: 0,09 s/mol.\n",
      "Processing CHEMBL31224 in molecule.smi (120/1982). Average speed: 0,09 s/mol.\n",
      "Processing CHEMBL440691 in molecule.smi (122/1982). Average speed: 0,09 s/mol.\n",
      "Processing CHEMBL132530 in molecule.smi (123/1982). Average speed: 0,09 s/mol.\n",
      "Processing CHEMBL166060 in molecule.smi (124/1982). Average speed: 0,09 s/mol.\n",
      "Processing CHEMBL439950 in molecule.smi (125/1982). Average speed: 0,09 s/mol.\n",
      "Processing CHEMBL165106 in molecule.smi (126/1982). Average speed: 0,09 s/mol.\n",
      "Processing CHEMBL424185 in molecule.smi (127/1982). Average speed: 0,09 s/mol.\n",
      "Processing CHEMBL165342 in molecule.smi (128/1982). Average speed: 0,09 s/mol.\n",
      "Processing CHEMBL91818 in molecule.smi (129/1982). Average speed: 0,09 s/mol.\n",
      "Processing CHEMBL90585 in molecule.smi (130/1982). Average speed: 0,09 s/mol.\n",
      "Processing CHEMBL488 in molecule.smi (131/1982). Average speed: 0,09 s/mol.\n",
      "Processing CHEMBL91101 in molecule.smi (132/1982). Average speed: 0,09 s/mol.\n",
      "Processing CHEMBL93828 in molecule.smi (133/1982). Average speed: 0,09 s/mol.\n",
      "Processing CHEMBL93666 in molecule.smi (134/1982). Average speed: 0,08 s/mol.\n",
      "Processing CHEMBL90427 in molecule.smi (136/1982). Average speed: 0,08 s/mol.\n",
      "Processing CHEMBL92488 in molecule.smi (135/1982). Average speed: 0,08 s/mol.\n",
      "Processing CHEMBL1629804 in molecule.smi (137/1982). Average speed: 0,08 s/mol.\n",
      "Processing CHEMBL307006 in molecule.smi (138/1982). Average speed: 0,08 s/mol.\n",
      "Processing CHEMBL73367 in molecule.smi (139/1982). Average speed: 0,08 s/mol.\n",
      "Processing CHEMBL305630 in molecule.smi (140/1982). Average speed: 0,08 s/mol.\n",
      "Processing CHEMBL70317 in molecule.smi (141/1982). Average speed: 0,08 s/mol.\n",
      "Processing CHEMBL307690 in molecule.smi (142/1982). Average speed: 0,08 s/mol.\n",
      "Processing CHEMBL73279 in molecule.smi (143/1982). Average speed: 0,08 s/mol.\n",
      "Processing CHEMBL69891 in molecule.smi (144/1982). Average speed: 0,08 s/mol.\n",
      "Processing CHEMBL72056 in molecule.smi (145/1982). Average speed: 0,08 s/mol.\n",
      "Processing CHEMBL307643 in molecule.smi (146/1982). Average speed: 0,08 s/mol.\n",
      "Processing CHEMBL310735 in molecule.smi (147/1982). Average speed: 0,08 s/mol.\n",
      "Processing CHEMBL73368 in molecule.smi (148/1982). Average speed: 0,08 s/mol.\n",
      "Processing CHEMBL308537 in molecule.smi (149/1982). Average speed: 0,08 s/mol.\n",
      "Processing CHEMBL305205 in molecule.smi (152/1982). Average speed: 0,08 s/mol.\n",
      "Processing CHEMBL70959 in molecule.smi (151/1982). Average speed: 0,08 s/mol.\n",
      "Processing CHEMBL307581 in molecule.smi (150/1982). Average speed: 0,08 s/mol.\n",
      "Processing CHEMBL73071 in molecule.smi (153/1982). Average speed: 0,08 s/mol.\n",
      "Processing CHEMBL72415 in molecule.smi (154/1982). Average speed: 0,08 s/mol.\n",
      "Processing CHEMBL74295 in molecule.smi (155/1982). Average speed: 0,08 s/mol.\n",
      "Processing CHEMBL70436 in molecule.smi (156/1982). Average speed: 0,08 s/mol.\n",
      "Processing CHEMBL72538 in molecule.smi (157/1982). Average speed: 0,08 s/mol.\n",
      "Processing CHEMBL306022 in molecule.smi (158/1982). Average speed: 0,08 s/mol.\n",
      "Processing CHEMBL72228 in molecule.smi (159/1982). Average speed: 0,08 s/mol.\n",
      "Processing CHEMBL73993 in molecule.smi (160/1982). Average speed: 0,08 s/mol.\n",
      "Processing CHEMBL304770 in molecule.smi (161/1982). Average speed: 0,08 s/mol.\n",
      "Processing CHEMBL73219 in molecule.smi (162/1982). Average speed: 0,08 s/mol.\n",
      "Processing CHEMBL74339 in molecule.smi (163/1982). Average speed: 0,08 s/mol.\n",
      "Processing CHEMBL430879 in molecule.smi (165/1982). Average speed: 0,08 s/mol.\n",
      "Processing CHEMBL304305 in molecule.smi (164/1982). Average speed: 0,08 s/mol.\n",
      "Processing CHEMBL325346 in molecule.smi (166/1982). Average speed: 0,08 s/mol.\n",
      "Processing CHEMBL322322 in molecule.smi (167/1982). Average speed: 0,08 s/mol.\n",
      "Processing CHEMBL108483 in molecule.smi (168/1982). Average speed: 0,08 s/mol.\n",
      "Processing CHEMBL99057 in molecule.smi (169/1982). Average speed: 0,08 s/mol.\n",
      "Processing CHEMBL108425 in molecule.smi (170/1982). Average speed: 0,08 s/mol.\n",
      "Processing CHEMBL317581 in molecule.smi (171/1982). Average speed: 0,08 s/mol.\n",
      "Processing CHEMBL134442 in molecule.smi (172/1982). Average speed: 0,08 s/mol.\n",
      "Processing CHEMBL135095 in molecule.smi (173/1982). Average speed: 0,08 s/mol.\n",
      "Processing CHEMBL3084923 in molecule.smi (174/1982). Average speed: 0,08 s/mol.\n",
      "Processing CHEMBL131984 in molecule.smi (175/1982). Average speed: 0,08 s/mol.\n",
      "Processing CHEMBL132072 in molecule.smi (176/1982). Average speed: 0,08 s/mol.\n",
      "Processing CHEMBL135037 in molecule.smi (177/1982). Average speed: 0,08 s/mol.\n",
      "Processing CHEMBL337251 in molecule.smi (178/1982). Average speed: 0,08 s/mol.\n",
      "Processing CHEMBL135070 in molecule.smi (179/1982). Average speed: 0,08 s/mol.\n",
      "Processing CHEMBL132066 in molecule.smi (180/1982). Average speed: 0,08 s/mol.\n",
      "Processing CHEMBL488 in molecule.smi (181/1982). Average speed: 0,08 s/mol.\n",
      "Processing CHEMBL41429 in molecule.smi (182/1982). Average speed: 0,08 s/mol.\n",
      "Processing CHEMBL63297 in molecule.smi (183/1982). Average speed: 0,08 s/mol.\n",
      "Processing CHEMBL416616 in molecule.smi (184/1982). Average speed: 0,08 s/mol.\n",
      "Processing CHEMBL65328 in molecule.smi (185/1982). Average speed: 0,08 s/mol.\n",
      "Processing CHEMBL294361 in molecule.smi (186/1982). Average speed: 0,08 s/mol.\n",
      "Processing CHEMBL63336 in molecule.smi (187/1982). Average speed: 0,07 s/mol.\n",
      "Processing CHEMBL304222 in molecule.smi (188/1982). Average speed: 0,07 s/mol.\n",
      "Processing CHEMBL39423 in molecule.smi (189/1982). Average speed: 0,07 s/mol.\n",
      "Processing CHEMBL488 in molecule.smi (190/1982). Average speed: 0,07 s/mol.\n",
      "Processing CHEMBL288695 in molecule.smi (191/1982). Average speed: 0,07 s/mol.\n",
      "Processing CHEMBL66673 in molecule.smi (192/1982). Average speed: 0,07 s/mol.\n",
      "Processing CHEMBL291646 in molecule.smi (193/1982). Average speed: 0,07 s/mol.\n",
      "Processing CHEMBL287950 in molecule.smi (194/1982). Average speed: 0,07 s/mol.\n",
      "Processing CHEMBL39403 in molecule.smi (195/1982). Average speed: 0,07 s/mol.\n",
      "Processing CHEMBL67842 in molecule.smi (197/1982). Average speed: 0,07 s/mol.\n",
      "Processing CHEMBL488 in molecule.smi (196/1982). Average speed: 0,07 s/mol.\n",
      "Processing CHEMBL294360 in molecule.smi (198/1982). Average speed: 0,07 s/mol.\n",
      "Processing CHEMBL287967 in molecule.smi (199/1982). Average speed: 0,07 s/mol.\n",
      "Processing CHEMBL65590 in molecule.smi (200/1982). Average speed: 0,07 s/mol.\n",
      "Processing CHEMBL304583 in molecule.smi (201/1982). Average speed: 0,07 s/mol.\n",
      "Processing CHEMBL294361 in molecule.smi (202/1982). Average speed: 0,07 s/mol.\n",
      "Processing CHEMBL66867 in molecule.smi (203/1982). Average speed: 0,07 s/mol.\n",
      "Processing CHEMBL289945 in molecule.smi (204/1982). Average speed: 0,07 s/mol.\n",
      "Processing CHEMBL65549 in molecule.smi (205/1982). Average speed: 0,07 s/mol.\n",
      "Processing CHEMBL294357 in molecule.smi (206/1982). Average speed: 0,07 s/mol.\n",
      "Processing CHEMBL419619 in molecule.smi (207/1982). Average speed: 0,07 s/mol.\n",
      "Processing CHEMBL304903 in molecule.smi (208/1982). Average speed: 0,07 s/mol.\n",
      "Processing CHEMBL422610 in molecule.smi (209/1982). Average speed: 0,07 s/mol.\n",
      "Processing CHEMBL131414 in molecule.smi (210/1982). Average speed: 0,07 s/mol.\n",
      "Processing CHEMBL129883 in molecule.smi (211/1982). Average speed: 0,07 s/mol.\n",
      "Processing CHEMBL132530 in molecule.smi (212/1982). Average speed: 0,07 s/mol.\n",
      "Processing CHEMBL133240 in molecule.smi (214/1982). Average speed: 0,07 s/mol.\n",
      "Processing CHEMBL336383 in molecule.smi (213/1982). Average speed: 0,07 s/mol.\n"
     ]
    },
    {
     "name": "stdout",
     "output_type": "stream",
     "text": [
      "Processing CHEMBL132563 in molecule.smi (215/1982). Average speed: 0,07 s/mol.\n",
      "Processing CHEMBL176452 in molecule.smi (216/1982). Average speed: 0,07 s/mol.\n",
      "Processing CHEMBL172263 in molecule.smi (217/1982). Average speed: 0,07 s/mol.\n",
      "Processing CHEMBL172263 in molecule.smi (218/1982). Average speed: 0,07 s/mol.\n",
      "Processing CHEMBL174308 in molecule.smi (219/1982). Average speed: 0,07 s/mol.\n",
      "Processing CHEMBL174407 in molecule.smi (220/1982). Average speed: 0,07 s/mol.\n",
      "Processing CHEMBL174407 in molecule.smi (221/1982). Average speed: 0,07 s/mol.\n",
      "Processing CHEMBL26651 in molecule.smi (223/1982). Average speed: 0,07 s/mol.\n",
      "Processing CHEMBL368631 in molecule.smi (222/1982). Average speed: 0,07 s/mol.\n",
      "Processing CHEMBL287574 in molecule.smi (224/1982). Average speed: 0,07 s/mol.\n",
      "Processing CHEMBL369603 in molecule.smi (225/1982). Average speed: 0,07 s/mol.\n",
      "Processing CHEMBL354401 in molecule.smi (226/1982). Average speed: 0,07 s/mol.\n",
      "Processing CHEMBL488 in molecule.smi (227/1982). Average speed: 0,07 s/mol.\n",
      "Processing CHEMBL488 in molecule.smi (228/1982). Average speed: 0,07 s/mol.\n",
      "Processing CHEMBL368732 in molecule.smi (229/1982). Average speed: 0,07 s/mol.\n",
      "Processing CHEMBL368732 in molecule.smi (230/1982). Average speed: 0,07 s/mol.\n",
      "Processing CHEMBL268918 in molecule.smi (231/1982). Average speed: 0,07 s/mol.\n",
      "Processing CHEMBL268209 in molecule.smi (232/1982). Average speed: 0,07 s/mol.\n",
      "Processing CHEMBL8333 in molecule.smi (233/1982). Average speed: 0,07 s/mol.\n",
      "Processing CHEMBL266532 in molecule.smi (234/1982). Average speed: 0,07 s/mol.\n",
      "Processing CHEMBL1078534 in molecule.smi (235/1982). Average speed: 0,07 s/mol.\n",
      "Processing CHEMBL267668 in molecule.smi (236/1982). Average speed: 0,07 s/mol.\n",
      "Processing CHEMBL8254 in molecule.smi (237/1982). Average speed: 0,07 s/mol.\n",
      "Processing CHEMBL8417 in molecule.smi (238/1982). Average speed: 0,07 s/mol.\n",
      "Processing CHEMBL1078534 in molecule.smi (239/1982). Average speed: 0,07 s/mol.\n",
      "Processing CHEMBL8315 in molecule.smi (240/1982). Average speed: 0,07 s/mol.\n",
      "Processing CHEMBL8646 in molecule.smi (242/1982). Average speed: 0,07 s/mol.\n",
      "Processing CHEMBL274878 in molecule.smi (241/1982). Average speed: 0,07 s/mol.\n",
      "Processing CHEMBL8498 in molecule.smi (243/1982). Average speed: 0,07 s/mol.\n",
      "Processing CHEMBL8313 in molecule.smi (244/1982). Average speed: 0,07 s/mol.\n",
      "Processing CHEMBL2112301 in molecule.smi (245/1982). Average speed: 0,07 s/mol.\n",
      "Processing CHEMBL26279 in molecule.smi (246/1982). Average speed: 0,07 s/mol.\n",
      "Processing CHEMBL24233 in molecule.smi (247/1982). Average speed: 0,07 s/mol.\n",
      "Processing CHEMBL23485 in molecule.smi (248/1982). Average speed: 0,07 s/mol.\n",
      "Processing CHEMBL24115 in molecule.smi (249/1982). Average speed: 0,07 s/mol.\n",
      "Processing CHEMBL23646 in molecule.smi (250/1982). Average speed: 0,07 s/mol.\n",
      "Processing CHEMBL285155 in molecule.smi (251/1982). Average speed: 0,07 s/mol.\n",
      "Processing CHEMBL23484 in molecule.smi (252/1982). Average speed: 0,07 s/mol.\n",
      "Processing CHEMBL23364 in molecule.smi (253/1982). Average speed: 0,07 s/mol.\n",
      "Processing CHEMBL84230 in molecule.smi (254/1982). Average speed: 0,07 s/mol.\n",
      "Processing CHEMBL22485 in molecule.smi (255/1982). Average speed: 0,07 s/mol.\n",
      "Processing CHEMBL23365 in molecule.smi (256/1982). Average speed: 0,07 s/mol.\n",
      "Processing CHEMBL24593 in molecule.smi (257/1982). Average speed: 0,07 s/mol.\n",
      "Processing CHEMBL26065 in molecule.smi (259/1982). Average speed: 0,07 s/mol.\n",
      "Processing CHEMBL254328 in molecule.smi (260/1982). Average speed: 0,07 s/mol.\n",
      "Processing CHEMBL284934 in molecule.smi (258/1982). Average speed: 0,07 s/mol.\n",
      "Processing CHEMBL23150 in molecule.smi (261/1982). Average speed: 0,07 s/mol.\n",
      "Processing CHEMBL159073 in molecule.smi (262/1982). Average speed: 0,07 s/mol.\n",
      "Processing CHEMBL163420 in molecule.smi (263/1982). Average speed: 0,07 s/mol.\n",
      "Processing CHEMBL2113619 in molecule.smi (264/1982). Average speed: 0,07 s/mol.\n",
      "Processing CHEMBL9298 in molecule.smi (265/1982). Average speed: 0,07 s/mol.\n",
      "Processing CHEMBL442373 in molecule.smi (266/1982). Average speed: 0,07 s/mol.\n",
      "Processing CHEMBL488 in molecule.smi (267/1982). Average speed: 0,07 s/mol.\n",
      "Processing CHEMBL55144 in molecule.smi (268/1982). Average speed: 0,07 s/mol.\n",
      "Processing CHEMBL421149 in molecule.smi (270/1982). Average speed: 0,07 s/mol.\n",
      "Processing CHEMBL291700 in molecule.smi (269/1982). Average speed: 0,07 s/mol.\n",
      "Processing CHEMBL299066 in molecule.smi (271/1982). Average speed: 0,06 s/mol.\n",
      "Processing CHEMBL41517 in molecule.smi (272/1982). Average speed: 0,06 s/mol.\n",
      "Processing CHEMBL41033 in molecule.smi (273/1982). Average speed: 0,06 s/mol.\n",
      "Processing CHEMBL57513 in molecule.smi (274/1982). Average speed: 0,06 s/mol.\n",
      "Processing CHEMBL301608 in molecule.smi (275/1982). Average speed: 0,06 s/mol.\n",
      "Processing CHEMBL1203766 in molecule.smi (277/1982). Average speed: 0,06 s/mol.\n",
      "Processing CHEMBL350922 in molecule.smi (276/1982). Average speed: 0,06 s/mol.\n",
      "Processing CHEMBL54803 in molecule.smi (278/1982). Average speed: 0,06 s/mol.\n",
      "Processing CHEMBL307160 in molecule.smi (279/1982). Average speed: 0,06 s/mol.\n",
      "Processing CHEMBL53644 in molecule.smi (280/1982). Average speed: 0,06 s/mol.\n",
      "Processing CHEMBL163413 in molecule.smi (281/1982). Average speed: 0,06 s/mol.\n",
      "Processing CHEMBL1203760 in molecule.smi (282/1982). Average speed: 0,06 s/mol.\n",
      "Processing CHEMBL162496 in molecule.smi (283/1982). Average speed: 0,06 s/mol.\n",
      "Processing CHEMBL290309 in molecule.smi (284/1982). Average speed: 0,06 s/mol.\n",
      "Processing CHEMBL298720 in molecule.smi (286/1982). Average speed: 0,06 s/mol.\n",
      "Processing CHEMBL292899 in molecule.smi (285/1982). Average speed: 0,06 s/mol.\n",
      "Processing CHEMBL355905 in molecule.smi (287/1982). Average speed: 0,06 s/mol.\n",
      "Processing CHEMBL1203757 in molecule.smi (288/1982). Average speed: 0,06 s/mol.\n",
      "Processing CHEMBL468419 in molecule.smi (289/1982). Average speed: 0,06 s/mol.\n",
      "Processing CHEMBL468419 in molecule.smi (290/1982). Average speed: 0,06 s/mol.\n",
      "Processing CHEMBL78322 in molecule.smi (291/1982). Average speed: 0,06 s/mol.\n",
      "Processing CHEMBL2113524 in molecule.smi (292/1982). Average speed: 0,06 s/mol.\n",
      "Processing CHEMBL161230 in molecule.smi (293/1982). Average speed: 0,06 s/mol.\n",
      "Processing CHEMBL52509 in molecule.smi (294/1982). Average speed: 0,06 s/mol.\n",
      "Processing CHEMBL9298 in molecule.smi (295/1982). Average speed: 0,06 s/mol.\n",
      "Processing CHEMBL39248 in molecule.smi (297/1982). Average speed: 0,06 s/mol.\n",
      "Processing CHEMBL1203762 in molecule.smi (296/1982). Average speed: 0,06 s/mol.\n",
      "Processing CHEMBL132530 in molecule.smi (298/1982). Average speed: 0,06 s/mol.\n",
      "Processing CHEMBL300109 in molecule.smi (299/1982). Average speed: 0,06 s/mol.\n",
      "Processing CHEMBL162834 in molecule.smi (300/1982). Average speed: 0,06 s/mol.\n",
      "Processing CHEMBL488 in molecule.smi (301/1982). Average speed: 0,06 s/mol.\n",
      "Processing CHEMBL53068 in molecule.smi (303/1982). Average speed: 0,06 s/mol.\n",
      "Processing CHEMBL288190 in molecule.smi (302/1982). Average speed: 0,06 s/mol.\n",
      "Processing CHEMBL158984 in molecule.smi (304/1982). Average speed: 0,06 s/mol.\n",
      "Processing CHEMBL9298 in molecule.smi (305/1982). Average speed: 0,06 s/mol.\n",
      "Processing CHEMBL123494 in molecule.smi (306/1982). Average speed: 0,06 s/mol.\n",
      "Processing CHEMBL9687 in molecule.smi (307/1982). Average speed: 0,06 s/mol.\n",
      "Processing CHEMBL488 in molecule.smi (308/1982). Average speed: 0,06 s/mol.\n",
      "Processing CHEMBL488 in molecule.smi (309/1982). Average speed: 0,06 s/mol.\n",
      "Processing CHEMBL9298 in molecule.smi (310/1982). Average speed: 0,06 s/mol.\n",
      "Processing CHEMBL338746 in molecule.smi (311/1982). Average speed: 0,06 s/mol.\n",
      "Processing CHEMBL333185 in molecule.smi (312/1982). Average speed: 0,06 s/mol.\n",
      "Processing CHEMBL9165 in molecule.smi (313/1982). Average speed: 0,06 s/mol.\n",
      "Processing CHEMBL305483 in molecule.smi (314/1982). Average speed: 0,06 s/mol.\n",
      "Processing CHEMBL9179 in molecule.smi (315/1982). Average speed: 0,06 s/mol.\n",
      "Processing CHEMBL124118 in molecule.smi (316/1982). Average speed: 0,06 s/mol.\n",
      "Processing CHEMBL269761 in molecule.smi (317/1982). Average speed: 0,06 s/mol.\n",
      "Processing CHEMBL330452 in molecule.smi (318/1982). Average speed: 0,06 s/mol.\n",
      "Processing CHEMBL1096024 in molecule.smi (319/1982). Average speed: 0,06 s/mol.\n",
      "Processing CHEMBL331522 in molecule.smi (320/1982). Average speed: 0,06 s/mol.\n"
     ]
    },
    {
     "name": "stdout",
     "output_type": "stream",
     "text": [
      "Processing CHEMBL97542 in molecule.smi (321/1982). Average speed: 0,06 s/mol.\n",
      "Processing CHEMBL151691 in molecule.smi (322/1982). Average speed: 0,06 s/mol.\n",
      "Processing CHEMBL151691 in molecule.smi (323/1982). Average speed: 0,06 s/mol.\n",
      "Processing CHEMBL2111801 in molecule.smi (324/1982). Average speed: 0,06 s/mol.\n",
      "Processing CHEMBL70901 in molecule.smi (325/1982). Average speed: 0,06 s/mol.\n",
      "Processing CHEMBL70901 in molecule.smi (326/1982). Average speed: 0,06 s/mol.\n",
      "Processing CHEMBL149238 in molecule.smi (327/1982). Average speed: 0,06 s/mol.\n",
      "Processing CHEMBL149238 in molecule.smi (328/1982). Average speed: 0,06 s/mol.\n",
      "Processing CHEMBL95919 in molecule.smi (329/1982). Average speed: 0,06 s/mol.\n",
      "Processing CHEMBL113647 in molecule.smi (330/1982). Average speed: 0,06 s/mol.\n",
      "Processing CHEMBL110524 in molecule.smi (331/1982). Average speed: 0,06 s/mol.\n",
      "Processing CHEMBL112908 in molecule.smi (332/1982). Average speed: 0,06 s/mol.\n",
      "Processing CHEMBL112509 in molecule.smi (333/1982). Average speed: 0,06 s/mol.\n",
      "Processing CHEMBL114447 in molecule.smi (335/1982). Average speed: 0,06 s/mol.\n",
      "Processing CHEMBL157101 in molecule.smi (334/1982). Average speed: 0,06 s/mol.\n",
      "Processing CHEMBL113242 in molecule.smi (336/1982). Average speed: 0,06 s/mol.\n",
      "Processing CHEMBL431843 in molecule.smi (337/1982). Average speed: 0,06 s/mol.\n",
      "Processing CHEMBL102981 in molecule.smi (338/1982). Average speed: 0,06 s/mol.\n",
      "Processing CHEMBL441404 in molecule.smi (339/1982). Average speed: 0,06 s/mol.\n",
      "Processing CHEMBL313485 in molecule.smi (340/1982). Average speed: 0,06 s/mol.\n",
      "Processing CHEMBL105298 in molecule.smi (341/1982). Average speed: 0,06 s/mol.\n",
      "Processing CHEMBL24897 in molecule.smi (342/1982). Average speed: 0,06 s/mol.\n",
      "Processing CHEMBL24410 in molecule.smi (343/1982). Average speed: 0,06 s/mol.\n",
      "Processing CHEMBL104126 in molecule.smi (345/1982). Average speed: 0,06 s/mol.\n",
      "Processing CHEMBL321729 in molecule.smi (344/1982). Average speed: 0,06 s/mol.\n",
      "Processing CHEMBL314351 in molecule.smi (346/1982). Average speed: 0,06 s/mol.\n",
      "Processing CHEMBL1629804 in molecule.smi (347/1982). Average speed: 0,06 s/mol.\n",
      "Processing CHEMBL104047 in molecule.smi (348/1982). Average speed: 0,06 s/mol.\n",
      "Processing CHEMBL312960 in molecule.smi (349/1982). Average speed: 0,06 s/mol.\n",
      "Processing CHEMBL302741 in molecule.smi (350/1982). Average speed: 0,06 s/mol.\n",
      "Processing CHEMBL105044 in molecule.smi (351/1982). Average speed: 0,06 s/mol.\n",
      "Processing CHEMBL102536 in molecule.smi (352/1982). Average speed: 0,06 s/mol.\n",
      "Processing CHEMBL334391 in molecule.smi (353/1982). Average speed: 0,06 s/mol.\n",
      "Processing CHEMBL2311169 in molecule.smi (354/1982). Average speed: 0,06 s/mol.\n",
      "Processing CHEMBL71117 in molecule.smi (355/1982). Average speed: 0,06 s/mol.\n",
      "Processing CHEMBL308829 in molecule.smi (356/1982). Average speed: 0,06 s/mol.\n",
      "Processing CHEMBL330452 in molecule.smi (357/1982). Average speed: 0,06 s/mol.\n",
      "Processing CHEMBL488 in molecule.smi (358/1982). Average speed: 0,06 s/mol.\n",
      "Processing CHEMBL321729 in molecule.smi (359/1982). Average speed: 0,06 s/mol.\n",
      "Processing CHEMBL314991 in molecule.smi (360/1982). Average speed: 0,06 s/mol.\n",
      "Processing CHEMBL104566 in molecule.smi (361/1982). Average speed: 0,06 s/mol.\n",
      "Processing CHEMBL89102 in molecule.smi (362/1982). Average speed: 0,06 s/mol.\n",
      "Processing CHEMBL71736 in molecule.smi (363/1982). Average speed: 0,06 s/mol.\n",
      "Processing CHEMBL25695 in molecule.smi (364/1982). Average speed: 0,06 s/mol.\n",
      "Processing CHEMBL336387 in molecule.smi (365/1982). Average speed: 0,06 s/mol.\n",
      "Processing CHEMBL102884 in molecule.smi (366/1982). Average speed: 0,06 s/mol.\n",
      "Processing CHEMBL71152 in molecule.smi (367/1982). Average speed: 0,06 s/mol.\n",
      "Processing CHEMBL102409 in molecule.smi (368/1982). Average speed: 0,06 s/mol.\n",
      "Processing CHEMBL262723 in molecule.smi (369/1982). Average speed: 0,06 s/mol.\n",
      "Processing CHEMBL302530 in molecule.smi (370/1982). Average speed: 0,06 s/mol.\n",
      "Processing CHEMBL281871 in molecule.smi (371/1982). Average speed: 0,06 s/mol.\n",
      "Processing CHEMBL314125 in molecule.smi (372/1982). Average speed: 0,06 s/mol.\n",
      "Processing CHEMBL103040 in molecule.smi (373/1982). Average speed: 0,06 s/mol.\n",
      "Processing CHEMBL71363 in molecule.smi (374/1982). Average speed: 0,06 s/mol.\n",
      "Processing CHEMBL88412 in molecule.smi (375/1982). Average speed: 0,06 s/mol.\n",
      "Processing CHEMBL289116 in molecule.smi (376/1982). Average speed: 0,06 s/mol.\n",
      "Processing CHEMBL24580 in molecule.smi (377/1982). Average speed: 0,06 s/mol.\n",
      "Processing CHEMBL71169 in molecule.smi (378/1982). Average speed: 0,06 s/mol.\n",
      "Processing CHEMBL25059 in molecule.smi (379/1982). Average speed: 0,06 s/mol.\n",
      "Processing CHEMBL101743 in molecule.smi (380/1982). Average speed: 0,06 s/mol.\n",
      "Processing CHEMBL88842 in molecule.smi (381/1982). Average speed: 0,06 s/mol.\n",
      "Processing CHEMBL319026 in molecule.smi (382/1982). Average speed: 0,06 s/mol.\n",
      "Processing CHEMBL319026 in molecule.smi (383/1982). Average speed: 0,06 s/mol.\n",
      "Processing CHEMBL421491 in molecule.smi (384/1982). Average speed: 0,06 s/mol.\n",
      "Processing CHEMBL102536 in molecule.smi (386/1982). Average speed: 0,06 s/mol.\n",
      "Processing CHEMBL68674 in molecule.smi (387/1982). Average speed: 0,06 s/mol.\n",
      "Processing CHEMBL71082 in molecule.smi (385/1982). Average speed: 0,06 s/mol.\n",
      "Processing CHEMBL335408 in molecule.smi (388/1982). Average speed: 0,06 s/mol.\n",
      "Processing CHEMBL284238 in molecule.smi (389/1982). Average speed: 0,06 s/mol.\n",
      "Processing CHEMBL3245349 in molecule.smi (390/1982). Average speed: 0,06 s/mol.\n",
      "Processing CHEMBL105289 in molecule.smi (391/1982). Average speed: 0,06 s/mol.\n",
      "Processing CHEMBL444844 in molecule.smi (392/1982). Average speed: 0,06 s/mol.\n",
      "Processing CHEMBL88918 in molecule.smi (393/1982). Average speed: 0,06 s/mol.\n",
      "Processing CHEMBL102510 in molecule.smi (394/1982). Average speed: 0,06 s/mol.\n",
      "Processing CHEMBL70367 in molecule.smi (395/1982). Average speed: 0,06 s/mol.\n",
      "Processing CHEMBL302305 in molecule.smi (396/1982). Average speed: 0,06 s/mol.\n",
      "Processing CHEMBL103040 in molecule.smi (397/1982). Average speed: 0,06 s/mol.\n",
      "Processing CHEMBL327239 in molecule.smi (398/1982). Average speed: 0,06 s/mol.\n",
      "Processing CHEMBL157101 in molecule.smi (399/1982). Average speed: 0,06 s/mol.\n",
      "Processing CHEMBL328863 in molecule.smi (400/1982). Average speed: 0,06 s/mol.\n",
      "Processing CHEMBL29863 in molecule.smi (401/1982). Average speed: 0,06 s/mol.\n",
      "Processing CHEMBL29338 in molecule.smi (402/1982). Average speed: 0,06 s/mol.\n",
      "Processing CHEMBL287647 in molecule.smi (403/1982). Average speed: 0,06 s/mol.\n",
      "Processing CHEMBL282573 in molecule.smi (404/1982). Average speed: 0,06 s/mol.\n",
      "Processing CHEMBL29138 in molecule.smi (405/1982). Average speed: 0,06 s/mol.\n",
      "Processing CHEMBL28668 in molecule.smi (406/1982). Average speed: 0,06 s/mol.\n",
      "Processing CHEMBL29864 in molecule.smi (407/1982). Average speed: 0,06 s/mol.\n",
      "Processing CHEMBL29230 in molecule.smi (408/1982). Average speed: 0,06 s/mol.\n",
      "Processing CHEMBL29339 in molecule.smi (409/1982). Average speed: 0,06 s/mol.\n",
      "Processing CHEMBL177468 in molecule.smi (410/1982). Average speed: 0,06 s/mol.\n",
      "Processing CHEMBL178036 in molecule.smi (411/1982). Average speed: 0,06 s/mol.\n",
      "Processing CHEMBL177413 in molecule.smi (412/1982). Average speed: 0,06 s/mol.\n",
      "Processing CHEMBL177274 in molecule.smi (413/1982). Average speed: 0,06 s/mol.\n",
      "Processing CHEMBL367483 in molecule.smi (414/1982). Average speed: 0,06 s/mol.\n",
      "Processing CHEMBL177921 in molecule.smi (415/1982). Average speed: 0,06 s/mol.\n",
      "Processing CHEMBL175091 in molecule.smi (416/1982). Average speed: 0,06 s/mol.\n",
      "Processing CHEMBL175144 in molecule.smi (417/1982). Average speed: 0,06 s/mol.\n",
      "Processing CHEMBL359817 in molecule.smi (418/1982). Average speed: 0,06 s/mol.\n",
      "Processing CHEMBL179247 in molecule.smi (421/1982). Average speed: 0,05 s/mol.\n",
      "Processing CHEMBL362187 in molecule.smi (419/1982). Average speed: 0,06 s/mol.\n",
      "Processing CHEMBL367719 in molecule.smi (420/1982). Average speed: 0,05 s/mol.\n",
      "Processing CHEMBL362441 in molecule.smi (423/1982). Average speed: 0,05 s/mol.\n",
      "Processing CHEMBL176118 in molecule.smi (422/1982). Average speed: 0,05 s/mol.\n",
      "Processing CHEMBL177268 in molecule.smi (425/1982). Average speed: 0,05 s/mol.\n",
      "Processing CHEMBL425323 in molecule.smi (424/1982). Average speed: 0,05 s/mol.\n",
      "Processing CHEMBL175550 in molecule.smi (426/1982). Average speed: 0,05 s/mol.\n",
      "Processing CHEMBL366570 in molecule.smi (427/1982). Average speed: 0,05 s/mol.\n"
     ]
    },
    {
     "name": "stdout",
     "output_type": "stream",
     "text": [
      "Processing CHEMBL176076 in molecule.smi (429/1982). Average speed: 0,05 s/mol.\n",
      "Processing CHEMBL176009 in molecule.smi (428/1982). Average speed: 0,05 s/mol.\n",
      "Processing CHEMBL176287 in molecule.smi (430/1982). Average speed: 0,05 s/mol.\n",
      "Processing CHEMBL175791 in molecule.smi (431/1982). Average speed: 0,05 s/mol.\n",
      "Processing CHEMBL175962 in molecule.smi (432/1982). Average speed: 0,05 s/mol.\n",
      "Processing CHEMBL179144 in molecule.smi (433/1982). Average speed: 0,05 s/mol.\n",
      "Processing CHEMBL175799 in molecule.smi (434/1982). Average speed: 0,05 s/mol.\n",
      "Processing CHEMBL366773 in molecule.smi (435/1982). Average speed: 0,05 s/mol.\n",
      "Processing CHEMBL179222 in molecule.smi (436/1982). Average speed: 0,05 s/mol.\n",
      "Processing CHEMBL359942 in molecule.smi (437/1982). Average speed: 0,05 s/mol.\n",
      "Processing CHEMBL175609 in molecule.smi (438/1982). Average speed: 0,05 s/mol.\n",
      "Processing CHEMBL175979 in molecule.smi (439/1982). Average speed: 0,05 s/mol.\n",
      "Processing CHEMBL185165 in molecule.smi (440/1982). Average speed: 0,05 s/mol.\n",
      "Processing CHEMBL184952 in molecule.smi (441/1982). Average speed: 0,05 s/mol.\n",
      "Processing CHEMBL95919 in molecule.smi (442/1982). Average speed: 0,05 s/mol.\n",
      "Processing CHEMBL264724 in molecule.smi (443/1982). Average speed: 0,05 s/mol.\n",
      "Processing CHEMBL189170 in molecule.smi (444/1982). Average speed: 0,05 s/mol.\n",
      "Processing CHEMBL185809 in molecule.smi (445/1982). Average speed: 0,05 s/mol.\n",
      "Processing CHEMBL362906 in molecule.smi (446/1982). Average speed: 0,05 s/mol.\n",
      "Processing CHEMBL184051 in molecule.smi (447/1982). Average speed: 0,05 s/mol.\n",
      "Processing CHEMBL188664 in molecule.smi (448/1982). Average speed: 0,05 s/mol.\n",
      "Processing CHEMBL186079 in molecule.smi (449/1982). Average speed: 0,05 s/mol.\n",
      "Processing CHEMBL184749 in molecule.smi (450/1982). Average speed: 0,05 s/mol.\n",
      "Processing CHEMBL364326 in molecule.smi (451/1982). Average speed: 0,05 s/mol.\n",
      "Processing CHEMBL187068 in molecule.smi (452/1982). Average speed: 0,05 s/mol.\n",
      "Processing CHEMBL488 in molecule.smi (453/1982). Average speed: 0,05 s/mol.\n",
      "Processing CHEMBL131921 in molecule.smi (454/1982). Average speed: 0,05 s/mol.\n",
      "Processing CHEMBL192306 in molecule.smi (455/1982). Average speed: 0,05 s/mol.\n",
      "Processing CHEMBL192306 in molecule.smi (456/1982). Average speed: 0,05 s/mol.\n",
      "Processing CHEMBL189472 in molecule.smi (457/1982). Average speed: 0,05 s/mol.\n",
      "Processing CHEMBL363493 in molecule.smi (458/1982). Average speed: 0,05 s/mol.\n",
      "Processing CHEMBL363493 in molecule.smi (459/1982). Average speed: 0,05 s/mol.\n",
      "Processing CHEMBL189274 in molecule.smi (460/1982). Average speed: 0,05 s/mol.\n",
      "Processing CHEMBL131921 in molecule.smi (461/1982). Average speed: 0,05 s/mol.\n",
      "Processing CHEMBL363621 in molecule.smi (462/1982). Average speed: 0,05 s/mol.\n",
      "Processing CHEMBL193606 in molecule.smi (463/1982). Average speed: 0,05 s/mol.\n",
      "Processing CHEMBL194440 in molecule.smi (464/1982). Average speed: 0,05 s/mol.\n",
      "Processing CHEMBL193496 in molecule.smi (465/1982). Average speed: 0,05 s/mol.\n",
      "Processing CHEMBL365314 in molecule.smi (466/1982). Average speed: 0,05 s/mol.\n",
      "Processing CHEMBL370281 in molecule.smi (467/1982). Average speed: 0,05 s/mol.\n",
      "Processing CHEMBL371742 in molecule.smi (468/1982). Average speed: 0,05 s/mol.\n",
      "Processing CHEMBL192077 in molecule.smi (469/1982). Average speed: 0,05 s/mol.\n",
      "Processing CHEMBL364956 in molecule.smi (470/1982). Average speed: 0,05 s/mol.\n",
      "Processing CHEMBL371275 in molecule.smi (471/1982). Average speed: 0,05 s/mol.\n",
      "Processing CHEMBL194928 in molecule.smi (472/1982). Average speed: 0,05 s/mol.\n",
      "Processing CHEMBL370317 in molecule.smi (473/1982). Average speed: 0,05 s/mol.\n",
      "Processing CHEMBL381194 in molecule.smi (474/1982). Average speed: 0,05 s/mol.\n",
      "Processing CHEMBL193555 in molecule.smi (475/1982). Average speed: 0,05 s/mol.\n",
      "Processing CHEMBL362968 in molecule.smi (476/1982). Average speed: 0,05 s/mol.\n",
      "Processing CHEMBL195571 in molecule.smi (477/1982). Average speed: 0,05 s/mol.\n",
      "Processing CHEMBL193534 in molecule.smi (478/1982). Average speed: 0,05 s/mol.\n",
      "Processing CHEMBL193343 in molecule.smi (479/1982). Average speed: 0,05 s/mol.\n",
      "Processing CHEMBL197576 in molecule.smi (480/1982). Average speed: 0,05 s/mol.\n",
      "Processing CHEMBL196328 in molecule.smi (481/1982). Average speed: 0,05 s/mol.\n",
      "Processing CHEMBL371430 in molecule.smi (482/1982). Average speed: 0,05 s/mol.\n",
      "Processing CHEMBL438802 in molecule.smi (483/1982). Average speed: 0,05 s/mol.\n",
      "Processing CHEMBL195996 in molecule.smi (484/1982). Average speed: 0,05 s/mol.\n",
      "Processing CHEMBL194472 in molecule.smi (485/1982). Average speed: 0,05 s/mol.\n",
      "Processing CHEMBL9298 in molecule.smi (486/1982). Average speed: 0,05 s/mol.\n",
      "Processing CHEMBL194641 in molecule.smi (487/1982). Average speed: 0,05 s/mol.\n",
      "Processing CHEMBL1629802 in molecule.smi (488/1982). Average speed: 0,05 s/mol.\n",
      "Processing CHEMBL1630280 in molecule.smi (489/1982). Average speed: 0,05 s/mol.\n",
      "Processing CHEMBL202231 in molecule.smi (490/1982). Average speed: 0,05 s/mol.\n",
      "Processing CHEMBL446706 in molecule.smi (491/1982). Average speed: 0,05 s/mol.\n",
      "Processing CHEMBL202065 in molecule.smi (493/1982). Average speed: 0,05 s/mol.\n",
      "Processing CHEMBL371663 in molecule.smi (492/1982). Average speed: 0,05 s/mol.\n",
      "Processing CHEMBL201831 in molecule.smi (494/1982). Average speed: 0,05 s/mol.\n",
      "Processing CHEMBL199334 in molecule.smi (495/1982). Average speed: 0,05 s/mol.\n",
      "Processing CHEMBL197650 in molecule.smi (496/1982). Average speed: 0,05 s/mol.\n",
      "Processing CHEMBL379019 in molecule.smi (497/1982). Average speed: 0,05 s/mol.\n",
      "Processing CHEMBL382902 in molecule.smi (498/1982). Average speed: 0,05 s/mol.\n",
      "Processing CHEMBL198291 in molecule.smi (499/1982). Average speed: 0,05 s/mol.\n",
      "Processing CHEMBL202020 in molecule.smi (501/1982). Average speed: 0,05 s/mol.\n",
      "Processing CHEMBL382500 in molecule.smi (500/1982). Average speed: 0,05 s/mol.\n",
      "Processing CHEMBL381883 in molecule.smi (502/1982). Average speed: 0,05 s/mol.\n",
      "Processing CHEMBL202452 in molecule.smi (503/1982). Average speed: 0,05 s/mol.\n",
      "Processing CHEMBL202470 in molecule.smi (504/1982). Average speed: 0,05 s/mol.\n",
      "Processing CHEMBL202469 in molecule.smi (505/1982). Average speed: 0,05 s/mol.\n",
      "Processing CHEMBL202030 in molecule.smi (506/1982). Average speed: 0,05 s/mol.\n",
      "Processing CHEMBL202474 in molecule.smi (507/1982). Average speed: 0,05 s/mol.\n",
      "Processing CHEMBL202473 in molecule.smi (508/1982). Average speed: 0,05 s/mol.\n",
      "Processing CHEMBL437497 in molecule.smi (509/1982). Average speed: 0,05 s/mol.\n",
      "Processing CHEMBL204502 in molecule.smi (510/1982). Average speed: 0,05 s/mol.\n",
      "Processing CHEMBL204501 in molecule.smi (511/1982). Average speed: 0,05 s/mol.\n",
      "Processing CHEMBL274387 in molecule.smi (513/1982). Average speed: 0,05 s/mol.\n",
      "Processing CHEMBL203869 in molecule.smi (512/1982). Average speed: 0,05 s/mol.\n",
      "Processing CHEMBL382679 in molecule.smi (514/1982). Average speed: 0,05 s/mol.\n",
      "Processing CHEMBL488 in molecule.smi (515/1982). Average speed: 0,05 s/mol.\n",
      "Processing CHEMBL204483 in molecule.smi (516/1982). Average speed: 0,05 s/mol.\n",
      "Processing CHEMBL205177 in molecule.smi (517/1982). Average speed: 0,05 s/mol.\n",
      "Processing CHEMBL41761 in molecule.smi (518/1982). Average speed: 0,05 s/mol.\n",
      "Processing CHEMBL203981 in molecule.smi (519/1982). Average speed: 0,05 s/mol.\n",
      "Processing CHEMBL204039 in molecule.smi (520/1982). Average speed: 0,05 s/mol.\n",
      "Processing CHEMBL204039 in molecule.smi (521/1982). Average speed: 0,05 s/mol.\n",
      "Processing CHEMBL205782 in molecule.smi (522/1982). Average speed: 0,05 s/mol.\n",
      "Processing CHEMBL205503 in molecule.smi (523/1982). Average speed: 0,05 s/mol.\n",
      "Processing CHEMBL206351 in molecule.smi (524/1982). Average speed: 0,05 s/mol.\n",
      "Processing CHEMBL206300 in molecule.smi (525/1982). Average speed: 0,05 s/mol.\n",
      "Processing CHEMBL205881 in molecule.smi (526/1982). Average speed: 0,05 s/mol.\n",
      "Processing CHEMBL157101 in molecule.smi (527/1982). Average speed: 0,05 s/mol.\n",
      "Processing CHEMBL212473 in molecule.smi (528/1982). Average speed: 0,05 s/mol.\n",
      "Processing CHEMBL212473 in molecule.smi (529/1982). Average speed: 0,05 s/mol.\n",
      "Processing CHEMBL9298 in molecule.smi (530/1982). Average speed: 0,05 s/mol.\n",
      "Processing CHEMBL377766 in molecule.smi (531/1982). Average speed: 0,05 s/mol.\n"
     ]
    },
    {
     "name": "stdout",
     "output_type": "stream",
     "text": [
      "Processing CHEMBL213588 in molecule.smi (532/1982). Average speed: 0,05 s/mol.\n",
      "Processing CHEMBL377626 in molecule.smi (533/1982). Average speed: 0,05 s/mol.\n",
      "Processing CHEMBL209047 in molecule.smi (534/1982). Average speed: 0,05 s/mol.\n",
      "Processing CHEMBL158635 in molecule.smi (535/1982). Average speed: 0,05 s/mol.\n",
      "Processing CHEMBL213587 in molecule.smi (536/1982). Average speed: 0,05 s/mol.\n",
      "Processing CHEMBL377766 in molecule.smi (537/1982). Average speed: 0,05 s/mol.\n",
      "Processing CHEMBL209731 in molecule.smi (538/1982). Average speed: 0,05 s/mol.\n",
      "Processing CHEMBL376473 in molecule.smi (539/1982). Average speed: 0,05 s/mol.\n",
      "Processing CHEMBL222250 in molecule.smi (540/1982). Average speed: 0,05 s/mol.\n",
      "Processing CHEMBL376649 in molecule.smi (541/1982). Average speed: 0,05 s/mol.\n",
      "Processing CHEMBL222260 in molecule.smi (542/1982). Average speed: 0,05 s/mol.\n",
      "Processing CHEMBL223368 in molecule.smi (543/1982). Average speed: 0,05 s/mol.\n",
      "Processing CHEMBL374535 in molecule.smi (544/1982). Average speed: 0,05 s/mol.\n",
      "Processing CHEMBL56367 in molecule.smi (545/1982). Average speed: 0,05 s/mol.\n",
      "Processing CHEMBL157101 in molecule.smi (546/1982). Average speed: 0,05 s/mol.\n",
      "Processing CHEMBL387518 in molecule.smi (547/1982). Average speed: 0,05 s/mol.\n",
      "Processing CHEMBL223874 in molecule.smi (548/1982). Average speed: 0,05 s/mol.\n",
      "Processing CHEMBL387892 in molecule.smi (549/1982). Average speed: 0,05 s/mol.\n",
      "Processing CHEMBL427247 in molecule.smi (550/1982). Average speed: 0,05 s/mol.\n",
      "Processing CHEMBL225472 in molecule.smi (551/1982). Average speed: 0,05 s/mol.\n",
      "Processing CHEMBL388604 in molecule.smi (552/1982). Average speed: 0,05 s/mol.\n",
      "Processing CHEMBL225178 in molecule.smi (553/1982). Average speed: 0,05 s/mol.\n",
      "Processing CHEMBL375046 in molecule.smi (555/1982). Average speed: 0,05 s/mol.\n",
      "Processing CHEMBL437731 in molecule.smi (554/1982). Average speed: 0,05 s/mol.\n",
      "Processing CHEMBL224649 in molecule.smi (557/1982). Average speed: 0,05 s/mol.\n",
      "Processing CHEMBL224228 in molecule.smi (556/1982). Average speed: 0,05 s/mol.\n",
      "Processing CHEMBL224786 in molecule.smi (558/1982). Average speed: 0,05 s/mol.\n",
      "Processing CHEMBL224787 in molecule.smi (559/1982). Average speed: 0,05 s/mol.\n",
      "Processing CHEMBL225499 in molecule.smi (560/1982). Average speed: 0,05 s/mol.\n",
      "Processing CHEMBL224600 in molecule.smi (561/1982). Average speed: 0,05 s/mol.\n",
      "Processing CHEMBL375292 in molecule.smi (562/1982). Average speed: 0,05 s/mol.\n",
      "Processing CHEMBL376371 in molecule.smi (563/1982). Average speed: 0,05 s/mol.\n",
      "Processing CHEMBL427247 in molecule.smi (564/1982). Average speed: 0,05 s/mol.\n",
      "Processing CHEMBL225472 in molecule.smi (565/1982). Average speed: 0,05 s/mol.\n",
      "Processing CHEMBL388604 in molecule.smi (566/1982). Average speed: 0,05 s/mol.\n",
      "Processing CHEMBL437731 in molecule.smi (567/1982). Average speed: 0,05 s/mol.\n",
      "Processing CHEMBL375046 in molecule.smi (568/1982). Average speed: 0,05 s/mol.\n",
      "Processing CHEMBL390152 in molecule.smi (569/1982). Average speed: 0,05 s/mol.\n",
      "Processing CHEMBL223983 in molecule.smi (570/1982). Average speed: 0,05 s/mol.\n",
      "Processing CHEMBL224786 in molecule.smi (571/1982). Average speed: 0,05 s/mol.\n",
      "Processing CHEMBL224787 in molecule.smi (572/1982). Average speed: 0,05 s/mol.\n",
      "Processing CHEMBL225499 in molecule.smi (573/1982). Average speed: 0,05 s/mol.\n",
      "Processing CHEMBL224600 in molecule.smi (574/1982). Average speed: 0,05 s/mol.\n",
      "Processing CHEMBL390569 in molecule.smi (575/1982). Average speed: 0,05 s/mol.\n",
      "Processing CHEMBL376371 in molecule.smi (576/1982). Average speed: 0,05 s/mol.\n",
      "Processing CHEMBL31215 in molecule.smi (577/1982). Average speed: 0,05 s/mol.\n",
      "Processing CHEMBL224665 in molecule.smi (578/1982). Average speed: 0,05 s/mol.\n",
      "Processing CHEMBL224665 in molecule.smi (579/1982). Average speed: 0,05 s/mol.\n",
      "Processing CHEMBL31215 in molecule.smi (580/1982). Average speed: 0,05 s/mol.\n",
      "Processing CHEMBL26065 in molecule.smi (581/1982). Average speed: 0,05 s/mol.\n",
      "Processing CHEMBL451201 in molecule.smi (582/1982). Average speed: 0,05 s/mol.\n",
      "Processing CHEMBL225079 in molecule.smi (583/1982). Average speed: 0,05 s/mol.\n",
      "Processing CHEMBL225079 in molecule.smi (584/1982). Average speed: 0,05 s/mol.\n",
      "Processing CHEMBL376786 in molecule.smi (585/1982). Average speed: 0,05 s/mol.\n",
      "Processing CHEMBL522917 in molecule.smi (586/1982). Average speed: 0,05 s/mol.\n",
      "Processing CHEMBL522917 in molecule.smi (587/1982). Average speed: 0,05 s/mol.\n",
      "Processing CHEMBL525379 in molecule.smi (588/1982). Average speed: 0,05 s/mol.\n",
      "Processing CHEMBL525379 in molecule.smi (589/1982). Average speed: 0,05 s/mol.\n",
      "Processing CHEMBL285155 in molecule.smi (590/1982). Average speed: 0,05 s/mol.\n",
      "Processing CHEMBL442262 in molecule.smi (591/1982). Average speed: 0,05 s/mol.\n",
      "Processing CHEMBL23334 in molecule.smi (592/1982). Average speed: 0,05 s/mol.\n",
      "Processing CHEMBL288093 in molecule.smi (593/1982). Average speed: 0,05 s/mol.\n",
      "Processing CHEMBL23150 in molecule.smi (594/1982). Average speed: 0,05 s/mol.\n",
      "Processing CHEMBL376039 in molecule.smi (595/1982). Average speed: 0,05 s/mol.\n",
      "Processing CHEMBL388959 in molecule.smi (596/1982). Average speed: 0,05 s/mol.\n",
      "Processing CHEMBL91992 in molecule.smi (597/1982). Average speed: 0,05 s/mol.\n",
      "Processing CHEMBL92488 in molecule.smi (598/1982). Average speed: 0,05 s/mol.\n",
      "Processing CHEMBL419131 in molecule.smi (599/1982). Average speed: 0,05 s/mol.\n",
      "Processing CHEMBL328217 in molecule.smi (600/1982). Average speed: 0,05 s/mol.\n",
      "Processing CHEMBL90585 in molecule.smi (601/1982). Average speed: 0,05 s/mol.\n",
      "Processing CHEMBL388515 in molecule.smi (602/1982). Average speed: 0,05 s/mol.\n",
      "Processing CHEMBL224462 in molecule.smi (603/1982). Average speed: 0,05 s/mol.\n",
      "Processing CHEMBL388187 in molecule.smi (604/1982). Average speed: 0,05 s/mol.\n",
      "Processing CHEMBL223555 in molecule.smi (605/1982). Average speed: 0,05 s/mol.\n",
      "Processing CHEMBL223554 in molecule.smi (606/1982). Average speed: 0,05 s/mol.\n",
      "Processing CHEMBL223452 in molecule.smi (607/1982). Average speed: 0,05 s/mol.\n",
      "Processing CHEMBL224790 in molecule.smi (608/1982). Average speed: 0,05 s/mol.\n",
      "Processing CHEMBL224789 in molecule.smi (609/1982). Average speed: 0,05 s/mol.\n",
      "Processing CHEMBL1444 in molecule.smi (610/1982). Average speed: 0,05 s/mol.\n",
      "Processing CHEMBL225053 in molecule.smi (611/1982). Average speed: 0,05 s/mol.\n",
      "Processing CHEMBL225128 in molecule.smi (612/1982). Average speed: 0,05 s/mol.\n",
      "Processing CHEMBL349822 in molecule.smi (613/1982). Average speed: 0,05 s/mol.\n",
      "Processing CHEMBL223176 in molecule.smi (614/1982). Average speed: 0,05 s/mol.\n",
      "Processing CHEMBL163922 in molecule.smi (615/1982). Average speed: 0,05 s/mol.\n",
      "Processing CHEMBL374934 in molecule.smi (616/1982). Average speed: 0,05 s/mol.\n",
      "Processing CHEMBL224391 in molecule.smi (617/1982). Average speed: 0,05 s/mol.\n",
      "Processing CHEMBL31456 in molecule.smi (618/1982). Average speed: 0,05 s/mol.\n",
      "Processing CHEMBL285809 in molecule.smi (619/1982). Average speed: 0,05 s/mol.\n",
      "Processing CHEMBL31224 in molecule.smi (620/1982). Average speed: 0,05 s/mol.\n",
      "Processing CHEMBL31760 in molecule.smi (621/1982). Average speed: 0,05 s/mol.\n",
      "Processing CHEMBL307160 in molecule.smi (623/1982). Average speed: 0,05 s/mol.\n",
      "Processing CHEMBL350922 in molecule.smi (622/1982). Average speed: 0,05 s/mol.\n",
      "Processing CHEMBL442373 in molecule.smi (624/1982). Average speed: 0,05 s/mol.\n",
      "Processing CHEMBL421829 in molecule.smi (625/1982). Average speed: 0,05 s/mol.\n",
      "Processing CHEMBL159073 in molecule.smi (626/1982). Average speed: 0,05 s/mol.\n",
      "Processing CHEMBL421149 in molecule.smi (627/1982). Average speed: 0,05 s/mol.\n",
      "Processing CHEMBL158635 in molecule.smi (628/1982). Average speed: 0,05 s/mol.\n",
      "Processing CHEMBL223607 in molecule.smi (629/1982). Average speed: 0,05 s/mol.\n",
      "Processing CHEMBL158984 in molecule.smi (630/1982). Average speed: 0,05 s/mol.\n",
      "Processing CHEMBL161530 in molecule.smi (631/1982). Average speed: 0,05 s/mol.\n",
      "Processing CHEMBL351167 in molecule.smi (632/1982). Average speed: 0,05 s/mol.\n",
      "Processing CHEMBL161230 in molecule.smi (633/1982). Average speed: 0,05 s/mol.\n",
      "Processing CHEMBL2096873 in molecule.smi (634/1982). Average speed: 0,05 s/mol.\n",
      "Processing CHEMBL225497 in molecule.smi (635/1982). Average speed: 0,05 s/mol.\n"
     ]
    },
    {
     "name": "stdout",
     "output_type": "stream",
     "text": [
      "Processing CHEMBL2096872 in molecule.smi (636/1982). Average speed: 0,05 s/mol.\n",
      "Processing CHEMBL223717 in molecule.smi (637/1982). Average speed: 0,05 s/mol.\n",
      "Processing CHEMBL519436 in molecule.smi (638/1982). Average speed: 0,05 s/mol.\n",
      "Processing CHEMBL224060 in molecule.smi (639/1982). Average speed: 0,05 s/mol.\n",
      "Processing CHEMBL389433 in molecule.smi (640/1982). Average speed: 0,05 s/mol.\n",
      "Processing CHEMBL1399 in molecule.smi (641/1982). Average speed: 0,05 s/mol.\n",
      "Processing CHEMBL229944 in molecule.smi (642/1982). Average speed: 0,05 s/mol.\n",
      "Processing CHEMBL488 in molecule.smi (643/1982). Average speed: 0,05 s/mol.\n",
      "Processing CHEMBL228985 in molecule.smi (644/1982). Average speed: 0,05 s/mol.\n",
      "Processing CHEMBL390364 in molecule.smi (645/1982). Average speed: 0,05 s/mol.\n",
      "Processing CHEMBL229908 in molecule.smi (646/1982). Average speed: 0,05 s/mol.\n",
      "Processing CHEMBL229907 in molecule.smi (647/1982). Average speed: 0,05 s/mol.\n",
      "Processing CHEMBL229906 in molecule.smi (648/1982). Average speed: 0,05 s/mol.\n",
      "Processing CHEMBL229905 in molecule.smi (649/1982). Average speed: 0,05 s/mol.\n",
      "Processing CHEMBL1162951 in molecule.smi (650/1982). Average speed: 0,05 s/mol.\n",
      "Processing CHEMBL388375 in molecule.smi (651/1982). Average speed: 0,05 s/mol.\n",
      "Processing CHEMBL229635 in molecule.smi (652/1982). Average speed: 0,05 s/mol.\n",
      "Processing CHEMBL229633 in molecule.smi (653/1982). Average speed: 0,05 s/mol.\n",
      "Processing CHEMBL388374 in molecule.smi (654/1982). Average speed: 0,05 s/mol.\n",
      "Processing CHEMBL229841 in molecule.smi (655/1982). Average speed: 0,05 s/mol.\n",
      "Processing CHEMBL229790 in molecule.smi (656/1982). Average speed: 0,05 s/mol.\n",
      "Processing CHEMBL390731 in molecule.smi (657/1982). Average speed: 0,05 s/mol.\n",
      "Processing CHEMBL229789 in molecule.smi (658/1982). Average speed: 0,05 s/mol.\n",
      "Processing CHEMBL389925 in molecule.smi (659/1982). Average speed: 0,05 s/mol.\n",
      "Processing CHEMBL425670 in molecule.smi (660/1982). Average speed: 0,05 s/mol.\n",
      "Processing CHEMBL229893 in molecule.smi (661/1982). Average speed: 0,05 s/mol.\n",
      "Processing CHEMBL229885 in molecule.smi (663/1982). Average speed: 0,05 s/mol.\n",
      "Processing CHEMBL558103 in molecule.smi (662/1982). Average speed: 0,05 s/mol.\n",
      "Processing CHEMBL229945 in molecule.smi (664/1982). Average speed: 0,05 s/mol.\n",
      "Processing CHEMBL229094 in molecule.smi (665/1982). Average speed: 0,05 s/mol.\n",
      "Processing CHEMBL226947 in molecule.smi (666/1982). Average speed: 0,05 s/mol.\n",
      "Processing CHEMBL226946 in molecule.smi (667/1982). Average speed: 0,05 s/mol.\n",
      "Processing CHEMBL226891 in molecule.smi (668/1982). Average speed: 0,05 s/mol.\n",
      "Processing CHEMBL226843 in molecule.smi (669/1982). Average speed: 0,05 s/mol.\n",
      "Processing CHEMBL226842 in molecule.smi (670/1982). Average speed: 0,05 s/mol.\n",
      "Processing CHEMBL226841 in molecule.smi (671/1982). Average speed: 0,05 s/mol.\n",
      "Processing CHEMBL226791 in molecule.smi (672/1982). Average speed: 0,05 s/mol.\n",
      "Processing CHEMBL226790 in molecule.smi (673/1982). Average speed: 0,05 s/mol.\n",
      "Processing CHEMBL226789 in molecule.smi (674/1982). Average speed: 0,05 s/mol.\n",
      "Processing CHEMBL388291 in molecule.smi (675/1982). Average speed: 0,05 s/mol.\n",
      "Processing CHEMBL226737 in molecule.smi (676/1982). Average speed: 0,05 s/mol.\n",
      "Processing CHEMBL226736 in molecule.smi (677/1982). Average speed: 0,05 s/mol.\n",
      "Processing CHEMBL390496 in molecule.smi (678/1982). Average speed: 0,05 s/mol.\n",
      "Processing CHEMBL244795 in molecule.smi (679/1982). Average speed: 0,05 s/mol.\n",
      "Processing CHEMBL9298 in molecule.smi (680/1982). Average speed: 0,05 s/mol.\n",
      "Processing CHEMBL242454 in molecule.smi (681/1982). Average speed: 0,05 s/mol.\n",
      "Processing CHEMBL243755 in molecule.smi (682/1982). Average speed: 0,05 s/mol.\n",
      "Processing CHEMBL388930 in molecule.smi (683/1982). Average speed: 0,05 s/mol.\n",
      "Processing CHEMBL243960 in molecule.smi (684/1982). Average speed: 0,05 s/mol.\n",
      "Processing CHEMBL397728 in molecule.smi (685/1982). Average speed: 0,05 s/mol.\n",
      "Processing CHEMBL274318 in molecule.smi (686/1982). Average speed: 0,05 s/mol.\n",
      "Processing CHEMBL283196 in molecule.smi (687/1982). Average speed: 0,05 s/mol.\n",
      "Processing CHEMBL404225 in molecule.smi (688/1982). Average speed: 0,05 s/mol.\n",
      "Processing CHEMBL256665 in molecule.smi (689/1982). Average speed: 0,05 s/mol.\n",
      "Processing CHEMBL255108 in molecule.smi (690/1982). Average speed: 0,05 s/mol.\n",
      "Processing CHEMBL252642 in molecule.smi (691/1982). Average speed: 0,05 s/mol.\n",
      "Processing CHEMBL7162 in molecule.smi (692/1982). Average speed: 0,05 s/mol.\n",
      "Processing CHEMBL271794 in molecule.smi (693/1982). Average speed: 0,05 s/mol.\n",
      "Processing CHEMBL271129 in molecule.smi (695/1982). Average speed: 0,05 s/mol.\n",
      "Processing CHEMBL270915 in molecule.smi (694/1982). Average speed: 0,05 s/mol.\n",
      "Processing CHEMBL270917 in molecule.smi (696/1982). Average speed: 0,05 s/mol.\n",
      "Processing CHEMBL405881 in molecule.smi (697/1982). Average speed: 0,05 s/mol.\n",
      "Processing CHEMBL407092 in molecule.smi (698/1982). Average speed: 0,05 s/mol.\n",
      "Processing CHEMBL260098 in molecule.smi (699/1982). Average speed: 0,05 s/mol.\n",
      "Processing CHEMBL270301 in molecule.smi (700/1982). Average speed: 0,05 s/mol.\n",
      "Processing CHEMBL409448 in molecule.smi (701/1982). Average speed: 0,05 s/mol.\n",
      "Processing CHEMBL260955 in molecule.smi (702/1982). Average speed: 0,05 s/mol.\n",
      "Processing CHEMBL407953 in molecule.smi (703/1982). Average speed: 0,05 s/mol.\n",
      "Processing CHEMBL222189 in molecule.smi (704/1982). Average speed: 0,05 s/mol.\n",
      "Processing CHEMBL220885 in molecule.smi (705/1982). Average speed: 0,05 s/mol.\n",
      "Processing CHEMBL436515 in molecule.smi (706/1982). Average speed: 0,05 s/mol.\n",
      "Processing CHEMBL374651 in molecule.smi (707/1982). Average speed: 0,05 s/mol.\n",
      "Processing CHEMBL426541 in molecule.smi (708/1982). Average speed: 0,05 s/mol.\n",
      "Processing CHEMBL220793 in molecule.smi (709/1982). Average speed: 0,05 s/mol.\n",
      "Processing CHEMBL220829 in molecule.smi (710/1982). Average speed: 0,05 s/mol.\n",
      "Processing CHEMBL220792 in molecule.smi (711/1982). Average speed: 0,05 s/mol.\n",
      "Processing CHEMBL223162 in molecule.smi (712/1982). Average speed: 0,05 s/mol.\n",
      "Processing CHEMBL374535 in molecule.smi (713/1982). Average speed: 0,05 s/mol.\n",
      "Processing CHEMBL223161 in molecule.smi (714/1982). Average speed: 0,05 s/mol.\n",
      "Processing CHEMBL376303 in molecule.smi (715/1982). Average speed: 0,05 s/mol.\n",
      "Processing CHEMBL223109 in molecule.smi (716/1982). Average speed: 0,05 s/mol.\n",
      "Processing CHEMBL222250 in molecule.smi (717/1982). Average speed: 0,05 s/mol.\n",
      "Processing CHEMBL223108 in molecule.smi (718/1982). Average speed: 0,05 s/mol.\n",
      "Processing CHEMBL203869 in molecule.smi (719/1982). Average speed: 0,05 s/mol.\n",
      "Processing CHEMBL274387 in molecule.smi (720/1982). Average speed: 0,05 s/mol.\n",
      "Processing CHEMBL202470 in molecule.smi (721/1982). Average speed: 0,05 s/mol.\n",
      "Processing CHEMBL202469 in molecule.smi (722/1982). Average speed: 0,05 s/mol.\n",
      "Processing CHEMBL202452 in molecule.smi (723/1982). Average speed: 0,05 s/mol.\n",
      "Processing CHEMBL202471 in molecule.smi (724/1982). Average speed: 0,05 s/mol.\n",
      "Processing CHEMBL382482 in molecule.smi (725/1982). Average speed: 0,05 s/mol.\n",
      "Processing CHEMBL204184 in molecule.smi (726/1982). Average speed: 0,05 s/mol.\n",
      "Processing CHEMBL202030 in molecule.smi (727/1982). Average speed: 0,05 s/mol.\n",
      "Processing CHEMBL202474 in molecule.smi (728/1982). Average speed: 0,05 s/mol.\n",
      "Processing CHEMBL204502 in molecule.smi (729/1982). Average speed: 0,05 s/mol.\n",
      "Processing CHEMBL204501 in molecule.smi (730/1982). Average speed: 0,05 s/mol.\n",
      "Processing CHEMBL202473 in molecule.smi (731/1982). Average speed: 0,05 s/mol.\n",
      "Processing CHEMBL437497 in molecule.smi (732/1982). Average speed: 0,05 s/mol.\n",
      "Processing CHEMBL372835 in molecule.smi (733/1982). Average speed: 0,05 s/mol.\n",
      "Processing CHEMBL381883 in molecule.smi (734/1982). Average speed: 0,05 s/mol.\n",
      "Processing CHEMBL204183 in molecule.smi (735/1982). Average speed: 0,05 s/mol.\n",
      "Processing CHEMBL220886 in molecule.smi (736/1982). Average speed: 0,05 s/mol.\n",
      "Processing CHEMBL206300 in molecule.smi (737/1982). Average speed: 0,05 s/mol.\n",
      "Processing CHEMBL67842 in molecule.smi (738/1982). Average speed: 0,05 s/mol.\n",
      "Processing CHEMBL201831 in molecule.smi (739/1982). Average speed: 0,05 s/mol.\n",
      "Processing CHEMBL65590 in molecule.smi (740/1982). Average speed: 0,05 s/mol.\n",
      "Processing CHEMBL24593 in molecule.smi (741/1982). Average speed: 0,05 s/mol.\n"
     ]
    },
    {
     "name": "stdout",
     "output_type": "stream",
     "text": [
      "Processing CHEMBL157925 in molecule.smi (742/1982). Average speed: 0,05 s/mol.\n",
      "Processing CHEMBL195996 in molecule.smi (743/1982). Average speed: 0,05 s/mol.\n",
      "Processing CHEMBL438549 in molecule.smi (744/1982). Average speed: 0,05 s/mol.\n",
      "Processing CHEMBL465435 in molecule.smi (745/1982). Average speed: 0,05 s/mol.\n",
      "Processing CHEMBL165 in molecule.smi (746/1982). Average speed: 0,05 s/mol.\n",
      "Processing CHEMBL512578 in molecule.smi (748/1982). Average speed: 0,05 s/mol.\n",
      "Processing CHEMBL227113 in molecule.smi (747/1982). Average speed: 0,05 s/mol.\n",
      "Processing CHEMBL463435 in molecule.smi (749/1982). Average speed: 0,05 s/mol.\n",
      "Processing CHEMBL463241 in molecule.smi (750/1982). Average speed: 0,05 s/mol.\n",
      "Processing CHEMBL394855 in molecule.smi (751/1982). Average speed: 0,05 s/mol.\n",
      "Processing CHEMBL253467 in molecule.smi (752/1982). Average speed: 0,05 s/mol.\n",
      "Processing CHEMBL464428 in molecule.smi (753/1982). Average speed: 0,05 s/mol.\n",
      "Processing CHEMBL115452 in molecule.smi (754/1982). Average speed: 0,05 s/mol.\n",
      "Processing CHEMBL465845 in molecule.smi (755/1982). Average speed: 0,05 s/mol.\n",
      "Processing CHEMBL464472 in molecule.smi (756/1982). Average speed: 0,05 s/mol.\n",
      "Processing CHEMBL463454 in molecule.smi (757/1982). Average speed: 0,05 s/mol.\n",
      "Processing CHEMBL463453 in molecule.smi (758/1982). Average speed: 0,05 s/mol.\n",
      "Processing CHEMBL463452 in molecule.smi (759/1982). Average speed: 0,05 s/mol.\n",
      "Processing CHEMBL9323 in molecule.smi (760/1982). Average speed: 0,05 s/mol.\n",
      "Processing CHEMBL469444 in molecule.smi (761/1982). Average speed: 0,05 s/mol.\n",
      "Processing CHEMBL463256 in molecule.smi (762/1982). Average speed: 0,05 s/mol.\n",
      "Processing CHEMBL463168 in molecule.smi (763/1982). Average speed: 0,05 s/mol.\n",
      "Processing CHEMBL463255 in molecule.smi (764/1982). Average speed: 0,05 s/mol.\n",
      "Processing CHEMBL457263 in molecule.smi (765/1982). Average speed: 0,05 s/mol.\n",
      "Processing CHEMBL453448 in molecule.smi (766/1982). Average speed: 0,05 s/mol.\n",
      "Processing CHEMBL456062 in molecule.smi (767/1982). Average speed: 0,05 s/mol.\n",
      "Processing CHEMBL488 in molecule.smi (768/1982). Average speed: 0,05 s/mol.\n",
      "Processing CHEMBL465881 in molecule.smi (769/1982). Average speed: 0,05 s/mol.\n",
      "Processing CHEMBL465880 in molecule.smi (770/1982). Average speed: 0,05 s/mol.\n",
      "Processing CHEMBL9352 in molecule.smi (772/1982). Average speed: 0,05 s/mol.\n",
      "Processing CHEMBL465879 in molecule.smi (771/1982). Average speed: 0,05 s/mol.\n",
      "Processing CHEMBL464007 in molecule.smi (773/1982). Average speed: 0,05 s/mol.\n",
      "Processing CHEMBL457686 in molecule.smi (774/1982). Average speed: 0,05 s/mol.\n",
      "Processing CHEMBL458395 in molecule.smi (775/1982). Average speed: 0,05 s/mol.\n",
      "Processing CHEMBL457680 in molecule.smi (776/1982). Average speed: 0,05 s/mol.\n",
      "Processing CHEMBL457679 in molecule.smi (777/1982). Average speed: 0,05 s/mol.\n",
      "Processing CHEMBL457678 in molecule.smi (778/1982). Average speed: 0,05 s/mol.\n",
      "Processing CHEMBL458188 in molecule.smi (779/1982). Average speed: 0,05 s/mol.\n",
      "Processing CHEMBL514745 in molecule.smi (780/1982). Average speed: 0,05 s/mol.\n",
      "Processing CHEMBL463638 in molecule.smi (781/1982). Average speed: 0,05 s/mol.\n",
      "Processing CHEMBL458187 in molecule.smi (782/1982). Average speed: 0,05 s/mol.\n",
      "Processing CHEMBL9298 in molecule.smi (783/1982). Average speed: 0,05 s/mol.\n",
      "Processing CHEMBL169 in molecule.smi (784/1982). Average speed: 0,05 s/mol.\n",
      "Processing CHEMBL487887 in molecule.smi (785/1982). Average speed: 0,05 s/mol.\n",
      "Processing CHEMBL132530 in molecule.smi (786/1982). Average speed: 0,05 s/mol.\n",
      "Processing CHEMBL264924 in molecule.smi (787/1982). Average speed: 0,05 s/mol.\n",
      "Processing CHEMBL270215 in molecule.smi (788/1982). Average speed: 0,05 s/mol.\n",
      "Processing CHEMBL454421 in molecule.smi (789/1982). Average speed: 0,05 s/mol.\n",
      "Processing CHEMBL486853 in molecule.smi (790/1982). Average speed: 0,05 s/mol.\n",
      "Processing CHEMBL487888 in molecule.smi (791/1982). Average speed: 0,05 s/mol.\n",
      "Processing CHEMBL28 in molecule.smi (792/1982). Average speed: 0,05 s/mol.\n",
      "Processing CHEMBL169 in molecule.smi (793/1982). Average speed: 0,05 s/mol.\n",
      "Processing CHEMBL410525 in molecule.smi (794/1982). Average speed: 0,05 s/mol.\n",
      "Processing CHEMBL459502 in molecule.smi (795/1982). Average speed: 0,05 s/mol.\n",
      "Processing CHEMBL459503 in molecule.smi (796/1982). Average speed: 0,05 s/mol.\n",
      "Processing CHEMBL513615 in molecule.smi (797/1982). Average speed: 0,05 s/mol.\n",
      "Processing CHEMBL496777 in molecule.smi (798/1982). Average speed: 0,05 s/mol.\n",
      "Processing CHEMBL495565 in molecule.smi (799/1982). Average speed: 0,05 s/mol.\n",
      "Processing CHEMBL495563 in molecule.smi (800/1982). Average speed: 0,05 s/mol.\n",
      "Processing CHEMBL495566 in molecule.smi (801/1982). Average speed: 0,05 s/mol.\n",
      "Processing CHEMBL495567 in molecule.smi (802/1982). Average speed: 0,05 s/mol.\n",
      "Processing CHEMBL523231 in molecule.smi (803/1982). Average speed: 0,05 s/mol.\n",
      "Processing CHEMBL523232 in molecule.smi (805/1982). Average speed: 0,05 s/mol.\n",
      "Processing CHEMBL495777 in molecule.smi (804/1982). Average speed: 0,05 s/mol.\n",
      "Processing CHEMBL509750 in molecule.smi (806/1982). Average speed: 0,05 s/mol.\n",
      "Processing CHEMBL497614 in molecule.smi (807/1982). Average speed: 0,05 s/mol.\n",
      "Processing CHEMBL495574 in molecule.smi (808/1982). Average speed: 0,05 s/mol.\n",
      "Processing CHEMBL1444 in molecule.smi (809/1982). Average speed: 0,05 s/mol.\n",
      "Processing CHEMBL224665 in molecule.smi (810/1982). Average speed: 0,05 s/mol.\n",
      "Processing CHEMBL159073 in molecule.smi (811/1982). Average speed: 0,05 s/mol.\n",
      "Processing CHEMBL421149 in molecule.smi (812/1982). Average speed: 0,05 s/mol.\n",
      "Processing CHEMBL377766 in molecule.smi (813/1982). Average speed: 0,05 s/mol.\n",
      "Processing CHEMBL212168 in molecule.smi (814/1982). Average speed: 0,05 s/mol.\n",
      "Processing CHEMBL293122 in molecule.smi (815/1982). Average speed: 0,05 s/mol.\n",
      "Processing CHEMBL363493 in molecule.smi (816/1982). Average speed: 0,05 s/mol.\n",
      "Processing CHEMBL186079 in molecule.smi (817/1982). Average speed: 0,05 s/mol.\n",
      "Processing CHEMBL158635 in molecule.smi (818/1982). Average speed: 0,05 s/mol.\n",
      "Processing CHEMBL184749 in molecule.smi (819/1982). Average speed: 0,05 s/mol.\n",
      "Processing CHEMBL451201 in molecule.smi (820/1982). Average speed: 0,05 s/mol.\n",
      "Processing CHEMBL224649 in molecule.smi (821/1982). Average speed: 0,05 s/mol.\n",
      "Processing CHEMBL57513 in molecule.smi (822/1982). Average speed: 0,05 s/mol.\n",
      "Processing CHEMBL225178 in molecule.smi (823/1982). Average speed: 0,05 s/mol.\n",
      "Processing CHEMBL192306 in molecule.smi (824/1982). Average speed: 0,05 s/mol.\n",
      "Processing CHEMBL78322 in molecule.smi (825/1982). Average speed: 0,05 s/mol.\n",
      "Processing CHEMBL307160 in molecule.smi (826/1982). Average speed: 0,05 s/mol.\n",
      "Processing CHEMBL351167 in molecule.smi (827/1982). Average speed: 0,05 s/mol.\n",
      "Processing CHEMBL224228 in molecule.smi (828/1982). Average speed: 0,05 s/mol.\n",
      "Processing CHEMBL56059 in molecule.smi (830/1982). Average speed: 0,05 s/mol.\n",
      "Processing CHEMBL298720 in molecule.smi (829/1982). Average speed: 0,05 s/mol.\n",
      "Processing CHEMBL387892 in molecule.smi (831/1982). Average speed: 0,05 s/mol.\n",
      "Processing CHEMBL225447 in molecule.smi (832/1982). Average speed: 0,05 s/mol.\n",
      "Processing CHEMBL184051 in molecule.smi (833/1982). Average speed: 0,05 s/mol.\n",
      "Processing CHEMBL361653 in molecule.smi (835/1982). Average speed: 0,05 s/mol.\n",
      "Processing CHEMBL299066 in molecule.smi (834/1982). Average speed: 0,05 s/mol.\n",
      "Processing CHEMBL460382 in molecule.smi (836/1982). Average speed: 0,05 s/mol.\n",
      "Processing CHEMBL157925 in molecule.smi (837/1982). Average speed: 0,05 s/mol.\n",
      "Processing CHEMBL55558 in molecule.smi (838/1982). Average speed: 0,05 s/mol.\n",
      "Processing CHEMBL209047 in molecule.smi (839/1982). Average speed: 0,05 s/mol.\n",
      "Processing CHEMBL189274 in molecule.smi (840/1982). Average speed: 0,05 s/mol.\n",
      "Processing CHEMBL224786 in molecule.smi (841/1982). Average speed: 0,05 s/mol.\n",
      "Processing CHEMBL190099 in molecule.smi (842/1982). Average speed: 0,05 s/mol.\n",
      "Processing CHEMBL387518 in molecule.smi (843/1982). Average speed: 0,05 s/mol.\n",
      "Processing CHEMBL190208 in molecule.smi (844/1982). Average speed: 0,05 s/mol.\n",
      "Processing CHEMBL522733 in molecule.smi (846/1982). Average speed: 0,05 s/mol.\n",
      "Processing CHEMBL191488 in molecule.smi (845/1982). Average speed: 0,05 s/mol.\n"
     ]
    },
    {
     "name": "stdout",
     "output_type": "stream",
     "text": [
      "Processing CHEMBL493174 in molecule.smi (848/1982). Average speed: 0,05 s/mol.\n",
      "Processing CHEMBL424414 in molecule.smi (847/1982). Average speed: 0,05 s/mol.\n",
      "Processing CHEMBL454226 in molecule.smi (849/1982). Average speed: 0,05 s/mol.\n",
      "Processing CHEMBL493181 in molecule.smi (850/1982). Average speed: 0,05 s/mol.\n",
      "Processing CHEMBL492762 in molecule.smi (851/1982). Average speed: 0,05 s/mol.\n",
      "Processing CHEMBL492382 in molecule.smi (852/1982). Average speed: 0,05 s/mol.\n",
      "Processing CHEMBL455593 in molecule.smi (853/1982). Average speed: 0,05 s/mol.\n",
      "Processing CHEMBL449065 in molecule.smi (855/1982). Average speed: 0,05 s/mol.\n",
      "Processing CHEMBL488 in molecule.smi (854/1982). Average speed: 0,05 s/mol.\n",
      "Processing CHEMBL9298 in molecule.smi (856/1982). Average speed: 0,05 s/mol.\n",
      "Processing CHEMBL454580 in molecule.smi (857/1982). Average speed: 0,05 s/mol.\n",
      "Processing CHEMBL389924 in molecule.smi (858/1982). Average speed: 0,05 s/mol.\n",
      "Processing CHEMBL389924 in molecule.smi (859/1982). Average speed: 0,05 s/mol.\n",
      "Processing CHEMBL164 in molecule.smi (860/1982). Average speed: 0,05 s/mol.\n",
      "Processing CHEMBL28 in molecule.smi (861/1982). Average speed: 0,05 s/mol.\n",
      "Processing CHEMBL478647 in molecule.smi (862/1982). Average speed: 0,05 s/mol.\n",
      "Processing CHEMBL518586 in molecule.smi (863/1982). Average speed: 0,05 s/mol.\n",
      "Processing CHEMBL475944 in molecule.smi (864/1982). Average speed: 0,05 s/mol.\n",
      "Processing CHEMBL514514 in molecule.smi (865/1982). Average speed: 0,05 s/mol.\n",
      "Processing CHEMBL475943 in molecule.smi (866/1982). Average speed: 0,05 s/mol.\n",
      "Processing CHEMBL517347 in molecule.smi (867/1982). Average speed: 0,05 s/mol.\n",
      "Processing CHEMBL476143 in molecule.smi (868/1982). Average speed: 0,05 s/mol.\n",
      "Processing CHEMBL476979 in molecule.smi (869/1982). Average speed: 0,05 s/mol.\n",
      "Processing CHEMBL9298 in molecule.smi (870/1982). Average speed: 0,05 s/mol.\n",
      "Processing CHEMBL517816 in molecule.smi (871/1982). Average speed: 0,05 s/mol.\n",
      "Processing CHEMBL478023 in molecule.smi (872/1982). Average speed: 0,05 s/mol.\n",
      "Processing CHEMBL491010 in molecule.smi (873/1982). Average speed: 0,05 s/mol.\n",
      "Processing CHEMBL489360 in molecule.smi (874/1982). Average speed: 0,05 s/mol.\n",
      "Processing CHEMBL489359 in molecule.smi (875/1982). Average speed: 0,05 s/mol.\n",
      "Processing CHEMBL521600 in molecule.smi (876/1982). Average speed: 0,05 s/mol.\n",
      "Processing CHEMBL523813 in molecule.smi (877/1982). Average speed: 0,05 s/mol.\n",
      "Processing CHEMBL522089 in molecule.smi (878/1982). Average speed: 0,05 s/mol.\n",
      "Processing CHEMBL489189 in molecule.smi (879/1982). Average speed: 0,05 s/mol.\n",
      "Processing CHEMBL489188 in molecule.smi (880/1982). Average speed: 0,05 s/mol.\n",
      "Processing CHEMBL489187 in molecule.smi (881/1982). Average speed: 0,05 s/mol.\n",
      "Processing CHEMBL491222 in molecule.smi (882/1982). Average speed: 0,05 s/mol.\n",
      "Processing CHEMBL491023 in molecule.smi (883/1982). Average speed: 0,05 s/mol.\n",
      "Processing CHEMBL523973 in molecule.smi (884/1982). Average speed: 0,05 s/mol.\n",
      "Processing CHEMBL491825 in molecule.smi (885/1982). Average speed: 0,05 s/mol.\n",
      "Processing CHEMBL491824 in molecule.smi (886/1982). Average speed: 0,05 s/mol.\n",
      "Processing CHEMBL490194 in molecule.smi (887/1982). Average speed: 0,05 s/mol.\n",
      "Processing CHEMBL491215 in molecule.smi (888/1982). Average speed: 0,05 s/mol.\n",
      "Processing CHEMBL491214 in molecule.smi (889/1982). Average speed: 0,05 s/mol.\n",
      "Processing CHEMBL491213 in molecule.smi (890/1982). Average speed: 0,05 s/mol.\n",
      "Processing CHEMBL491013 in molecule.smi (891/1982). Average speed: 0,05 s/mol.\n",
      "Processing CHEMBL490187 in molecule.smi (892/1982). Average speed: 0,05 s/mol.\n",
      "Processing CHEMBL490795 in molecule.smi (894/1982). Average speed: 0,05 s/mol.\n",
      "Processing CHEMBL521591 in molecule.smi (893/1982). Average speed: 0,05 s/mol.\n",
      "Processing CHEMBL490794 in molecule.smi (895/1982). Average speed: 0,05 s/mol.\n",
      "Processing CHEMBL516275 in molecule.smi (896/1982). Average speed: 0,05 s/mol.\n",
      "Processing CHEMBL478648 in molecule.smi (897/1982). Average speed: 0,05 s/mol.\n",
      "Processing CHEMBL367149 in molecule.smi (898/1982). Average speed: 0,05 s/mol.\n",
      "Processing CHEMBL496634 in molecule.smi (899/1982). Average speed: 0,05 s/mol.\n",
      "Processing CHEMBL460026 in molecule.smi (900/1982). Average speed: 0,05 s/mol.\n",
      "Processing CHEMBL15594 in molecule.smi (901/1982). Average speed: 0,05 s/mol.\n",
      "Processing CHEMBL8739 in molecule.smi (902/1982). Average speed: 0,05 s/mol.\n",
      "Processing CHEMBL267476 in molecule.smi (903/1982). Average speed: 0,05 s/mol.\n",
      "Processing CHEMBL1399 in molecule.smi (904/1982). Average speed: 0,05 s/mol.\n",
      "Processing CHEMBL1444 in molecule.smi (905/1982). Average speed: 0,05 s/mol.\n",
      "Processing CHEMBL488 in molecule.smi (906/1982). Average speed: 0,05 s/mol.\n",
      "Processing CHEMBL468419 in molecule.smi (907/1982). Average speed: 0,05 s/mol.\n",
      "Processing CHEMBL513168 in molecule.smi (908/1982). Average speed: 0,05 s/mol.\n",
      "Processing CHEMBL468410 in molecule.smi (909/1982). Average speed: 0,05 s/mol.\n",
      "Processing CHEMBL205177 in molecule.smi (910/1982). Average speed: 0,05 s/mol.\n",
      "Processing CHEMBL480321 in molecule.smi (911/1982). Average speed: 0,05 s/mol.\n",
      "Processing CHEMBL479942 in molecule.smi (912/1982). Average speed: 0,05 s/mol.\n",
      "Processing CHEMBL1444 in molecule.smi (913/1982). Average speed: 0,05 s/mol.\n",
      "Processing CHEMBL479559 in molecule.smi (914/1982). Average speed: 0,05 s/mol.\n",
      "Processing CHEMBL518761 in molecule.smi (915/1982). Average speed: 0,05 s/mol.\n",
      "Processing CHEMBL479551 in molecule.smi (916/1982). Average speed: 0,05 s/mol.\n",
      "Processing CHEMBL479366 in molecule.smi (917/1982). Average speed: 0,05 s/mol.\n",
      "Processing CHEMBL479928 in molecule.smi (918/1982). Average speed: 0,05 s/mol.\n",
      "Processing CHEMBL479737 in molecule.smi (919/1982). Average speed: 0,05 s/mol.\n",
      "Processing CHEMBL286738 in molecule.smi (920/1982). Average speed: 0,05 s/mol.\n",
      "Processing CHEMBL500976 in molecule.smi (921/1982). Average speed: 0,05 s/mol.\n",
      "Processing CHEMBL453736 in molecule.smi (922/1982). Average speed: 0,05 s/mol.\n",
      "Processing CHEMBL481091 in molecule.smi (923/1982). Average speed: 0,05 s/mol.\n",
      "Processing CHEMBL479385 in molecule.smi (924/1982). Average speed: 0,05 s/mol.\n",
      "Processing CHEMBL480516 in molecule.smi (926/1982). Average speed: 0,05 s/mol.\n",
      "Processing CHEMBL519937 in molecule.smi (925/1982). Average speed: 0,05 s/mol.\n",
      "Processing CHEMBL480515 in molecule.smi (927/1982). Average speed: 0,05 s/mol.\n",
      "Processing CHEMBL480451 in molecule.smi (928/1982). Average speed: 0,05 s/mol.\n",
      "Processing CHEMBL455832 in molecule.smi (930/1982). Average speed: 0,05 s/mol.\n",
      "Processing CHEMBL480514 in molecule.smi (929/1982). Average speed: 0,05 s/mol.\n",
      "Processing CHEMBL481092 in molecule.smi (931/1982). Average speed: 0,05 s/mol.\n",
      "Processing CHEMBL100749 in molecule.smi (932/1982). Average speed: 0,05 s/mol.\n",
      "Processing CHEMBL224060 in molecule.smi (933/1982). Average speed: 0,05 s/mol.\n",
      "Processing CHEMBL519436 in molecule.smi (934/1982). Average speed: 0,05 s/mol.\n",
      "Processing CHEMBL480718 in molecule.smi (935/1982). Average speed: 0,05 s/mol.\n",
      "Processing CHEMBL365735 in molecule.smi (936/1982). Average speed: 0,05 s/mol.\n",
      "Processing CHEMBL362968 in molecule.smi (937/1982). Average speed: 0,05 s/mol.\n",
      "Processing CHEMBL196796 in molecule.smi (938/1982). Average speed: 0,05 s/mol.\n",
      "Processing CHEMBL9298 in molecule.smi (939/1982). Average speed: 0,05 s/mol.\n",
      "Processing CHEMBL13784 in molecule.smi (940/1982). Average speed: 0,05 s/mol.\n",
      "Processing CHEMBL377770 in molecule.smi (941/1982). Average speed: 0,05 s/mol.\n",
      "Processing CHEMBL349822 in molecule.smi (943/1982). Average speed: 0,05 s/mol.\n",
      "Processing CHEMBL441367 in molecule.smi (942/1982). Average speed: 0,05 s/mol.\n",
      "Processing CHEMBL212741 in molecule.smi (944/1982). Average speed: 0,05 s/mol.\n",
      "Processing CHEMBL76904 in molecule.smi (945/1982). Average speed: 0,05 s/mol.\n",
      "Processing CHEMBL441367 in molecule.smi (946/1982). Average speed: 0,05 s/mol.\n",
      "Processing CHEMBL586557 in molecule.smi (947/1982). Average speed: 0,05 s/mol.\n",
      "Processing CHEMBL576579 in molecule.smi (948/1982). Average speed: 0,05 s/mol.\n",
      "Processing CHEMBL157101 in molecule.smi (949/1982). Average speed: 0,05 s/mol.\n",
      "Processing CHEMBL574960 in molecule.smi (950/1982). Average speed: 0,05 s/mol.\n",
      "Processing CHEMBL572637 in molecule.smi (951/1982). Average speed: 0,05 s/mol.\n"
     ]
    },
    {
     "name": "stdout",
     "output_type": "stream",
     "text": [
      "Processing CHEMBL583989 in molecule.smi (952/1982). Average speed: 0,05 s/mol.\n",
      "Processing CHEMBL582837 in molecule.smi (953/1982). Average speed: 0,05 s/mol.\n",
      "Processing CHEMBL583310 in molecule.smi (954/1982). Average speed: 0,05 s/mol.\n",
      "Processing CHEMBL488 in molecule.smi (955/1982). Average speed: 0,05 s/mol.\n",
      "Processing CHEMBL132530 in molecule.smi (956/1982). Average speed: 0,05 s/mol.\n",
      "Processing CHEMBL583076 in molecule.smi (957/1982). Average speed: 0,05 s/mol.\n",
      "Processing CHEMBL604716 in molecule.smi (958/1982). Average speed: 0,05 s/mol.\n",
      "Processing CHEMBL599239 in molecule.smi (959/1982). Average speed: 0,05 s/mol.\n",
      "Processing CHEMBL596779 in molecule.smi (960/1982). Average speed: 0,05 s/mol.\n",
      "Processing CHEMBL592131 in molecule.smi (961/1982). Average speed: 0,05 s/mol.\n",
      "Processing CHEMBL1444 in molecule.smi (962/1982). Average speed: 0,05 s/mol.\n",
      "Processing CHEMBL1399 in molecule.smi (963/1982). Average speed: 0,05 s/mol.\n",
      "Processing CHEMBL598212 in molecule.smi (964/1982). Average speed: 0,05 s/mol.\n",
      "Processing CHEMBL598199 in molecule.smi (965/1982). Average speed: 0,05 s/mol.\n",
      "Processing CHEMBL599238 in molecule.smi (966/1982). Average speed: 0,05 s/mol.\n",
      "Processing CHEMBL597403 in molecule.smi (967/1982). Average speed: 0,05 s/mol.\n",
      "Processing CHEMBL598009 in molecule.smi (968/1982). Average speed: 0,05 s/mol.\n",
      "Processing CHEMBL598628 in molecule.smi (969/1982). Average speed: 0,05 s/mol.\n",
      "Processing CHEMBL599442 in molecule.smi (970/1982). Average speed: 0,05 s/mol.\n",
      "Processing CHEMBL592376 in molecule.smi (971/1982). Average speed: 0,05 s/mol.\n",
      "Processing CHEMBL598629 in molecule.smi (972/1982). Average speed: 0,05 s/mol.\n",
      "Processing CHEMBL598627 in molecule.smi (973/1982). Average speed: 0,05 s/mol.\n",
      "Processing CHEMBL609618 in molecule.smi (974/1982). Average speed: 0,05 s/mol.\n",
      "Processing CHEMBL286738 in molecule.smi (975/1982). Average speed: 0,05 s/mol.\n",
      "Processing CHEMBL598211 in molecule.smi (976/1982). Average speed: 0,05 s/mol.\n",
      "Processing CHEMBL592852 in molecule.smi (977/1982). Average speed: 0,05 s/mol.\n",
      "Processing CHEMBL597606 in molecule.smi (978/1982). Average speed: 0,05 s/mol.\n",
      "Processing CHEMBL597808 in molecule.smi (979/1982). Average speed: 0,05 s/mol.\n",
      "Processing CHEMBL599864 in molecule.smi (980/1982). Average speed: 0,05 s/mol.\n",
      "Processing CHEMBL609332 in molecule.smi (982/1982). Average speed: 0,05 s/mol.\n",
      "Processing CHEMBL589247 in molecule.smi (981/1982). Average speed: 0,05 s/mol.\n",
      "Processing CHEMBL599455 in molecule.smi (983/1982). Average speed: 0,05 s/mol.\n",
      "Processing CHEMBL599456 in molecule.smi (984/1982). Average speed: 0,05 s/mol.\n",
      "Processing CHEMBL609333 in molecule.smi (985/1982). Average speed: 0,05 s/mol.\n",
      "Processing CHEMBL601840 in molecule.smi (986/1982). Average speed: 0,05 s/mol.\n",
      "Processing CHEMBL598846 in molecule.smi (987/1982). Average speed: 0,05 s/mol.\n",
      "Processing CHEMBL598847 in molecule.smi (988/1982). Average speed: 0,05 s/mol.\n",
      "Processing CHEMBL608153 in molecule.smi (989/1982). Average speed: 0,05 s/mol.\n",
      "Processing CHEMBL607855 in molecule.smi (990/1982). Average speed: 0,05 s/mol.\n",
      "Processing CHEMBL598020 in molecule.smi (991/1982). Average speed: 0,05 s/mol.\n",
      "Processing CHEMBL589738 in molecule.smi (992/1982). Average speed: 0,05 s/mol.\n",
      "Processing CHEMBL598223 in molecule.smi (993/1982). Average speed: 0,05 s/mol.\n",
      "Processing CHEMBL598224 in molecule.smi (994/1982). Average speed: 0,05 s/mol.\n",
      "Processing CHEMBL605418 in molecule.smi (995/1982). Average speed: 0,05 s/mol.\n",
      "Processing CHEMBL597416 in molecule.smi (996/1982). Average speed: 0,05 s/mol.\n",
      "Processing CHEMBL589974 in molecule.smi (997/1982). Average speed: 0,05 s/mol.\n",
      "Processing CHEMBL1088570 in molecule.smi (998/1982). Average speed: 0,05 s/mol.\n",
      "Processing CHEMBL224060 in molecule.smi (999/1982). Average speed: 0,05 s/mol.\n",
      "Processing CHEMBL516643 in molecule.smi (1000/1982). Average speed: 0,05 s/mol.\n",
      "Processing CHEMBL29482 in molecule.smi (1001/1982). Average speed: 0,05 s/mol.\n",
      "Processing CHEMBL9298 in molecule.smi (1002/1982). Average speed: 0,05 s/mol.\n",
      "Processing CHEMBL1097041 in molecule.smi (1003/1982). Average speed: 0,05 s/mol.\n",
      "Processing CHEMBL1399 in molecule.smi (1004/1982). Average speed: 0,05 s/mol.\n",
      "Processing CHEMBL1097042 in molecule.smi (1005/1982). Average speed: 0,05 s/mol.\n",
      "Processing CHEMBL1097043 in molecule.smi (1006/1982). Average speed: 0,05 s/mol.\n",
      "Processing CHEMBL1095413 in molecule.smi (1007/1982). Average speed: 0,05 s/mol.\n",
      "Processing CHEMBL294361 in molecule.smi (1008/1982). Average speed: 0,05 s/mol.\n",
      "Processing CHEMBL1094426 in molecule.smi (1009/1982). Average speed: 0,05 s/mol.\n",
      "Processing CHEMBL223874 in molecule.smi (1010/1982). Average speed: 0,05 s/mol.\n",
      "Processing CHEMBL1094427 in molecule.smi (1011/1982). Average speed: 0,05 s/mol.\n",
      "Processing CHEMBL1094428 in molecule.smi (1012/1982). Average speed: 0,05 s/mol.\n",
      "Processing CHEMBL1098737 in molecule.smi (1013/1982). Average speed: 0,05 s/mol.\n",
      "Processing CHEMBL1098424 in molecule.smi (1014/1982). Average speed: 0,05 s/mol.\n",
      "Processing CHEMBL1098425 in molecule.smi (1015/1982). Average speed: 0,05 s/mol.\n",
      "Processing CHEMBL300109 in molecule.smi (1016/1982). Average speed: 0,05 s/mol.\n",
      "Processing CHEMBL1098426 in molecule.smi (1017/1982). Average speed: 0,05 s/mol.\n",
      "Processing CHEMBL389433 in molecule.smi (1018/1982). Average speed: 0,05 s/mol.\n",
      "Processing CHEMBL1444 in molecule.smi (1019/1982). Average speed: 0,05 s/mol.\n",
      "Processing CHEMBL283196 in molecule.smi (1020/1982). Average speed: 0,05 s/mol.\n",
      "Processing CHEMBL93828 in molecule.smi (1021/1982). Average speed: 0,05 s/mol.\n",
      "Processing CHEMBL1096744 in molecule.smi (1022/1982). Average speed: 0,05 s/mol.\n",
      "Processing CHEMBL28 in molecule.smi (1023/1982). Average speed: 0,05 s/mol.\n",
      "Processing CHEMBL1098382 in molecule.smi (1024/1982). Average speed: 0,05 s/mol.\n",
      "Processing CHEMBL117 in molecule.smi (1025/1982). Average speed: 0,05 s/mol.\n",
      "Processing CHEMBL1097371 in molecule.smi (1026/1982). Average speed: 0,05 s/mol.\n",
      "Processing CHEMBL294878 in molecule.smi (1027/1982). Average speed: 0,05 s/mol.\n",
      "Processing CHEMBL9352 in molecule.smi (1028/1982). Average speed: 0,05 s/mol.\n",
      "Processing CHEMBL1096024 in molecule.smi (1029/1982). Average speed: 0,05 s/mol.\n",
      "Processing CHEMBL50 in molecule.smi (1030/1982). Average speed: 0,05 s/mol.\n",
      "Processing CHEMBL1097763 in molecule.smi (1031/1982). Average speed: 0,05 s/mol.\n",
      "Processing CHEMBL276915 in molecule.smi (1032/1982). Average speed: 0,05 s/mol.\n",
      "Processing CHEMBL1094154 in molecule.smi (1033/1982). Average speed: 0,05 s/mol.\n",
      "Processing CHEMBL9165 in molecule.smi (1034/1982). Average speed: 0,05 s/mol.\n",
      "Processing CHEMBL52 in molecule.smi (1035/1982). Average speed: 0,05 s/mol.\n",
      "Processing CHEMBL1083353 in molecule.smi (1036/1982). Average speed: 0,05 s/mol.\n",
      "Processing CHEMBL1083663 in molecule.smi (1037/1982). Average speed: 0,05 s/mol.\n",
      "Processing CHEMBL1083970 in molecule.smi (1038/1982). Average speed: 0,05 s/mol.\n",
      "Processing CHEMBL1083652 in molecule.smi (1039/1982). Average speed: 0,05 s/mol.\n",
      "Processing CHEMBL1082760 in molecule.smi (1040/1982). Average speed: 0,05 s/mol.\n",
      "Processing CHEMBL350922 in molecule.smi (1041/1982). Average speed: 0,05 s/mol.\n",
      "Processing CHEMBL1083354 in molecule.smi (1042/1982). Average speed: 0,05 s/mol.\n",
      "Processing CHEMBL1170662 in molecule.smi (1043/1982). Average speed: 0,05 s/mol.\n",
      "Processing CHEMBL1173641 in molecule.smi (1044/1982). Average speed: 0,05 s/mol.\n",
      "Processing CHEMBL1173573 in molecule.smi (1045/1982). Average speed: 0,05 s/mol.\n",
      "Processing CHEMBL1171818 in molecule.smi (1046/1982). Average speed: 0,05 s/mol.\n",
      "Processing CHEMBL1171680 in molecule.smi (1047/1982). Average speed: 0,05 s/mol.\n",
      "Processing CHEMBL1172396 in molecule.smi (1048/1982). Average speed: 0,05 s/mol.\n",
      "Processing CHEMBL1171628 in molecule.smi (1049/1982). Average speed: 0,05 s/mol.\n",
      "Processing CHEMBL162549 in molecule.smi (1050/1982). Average speed: 0,05 s/mol.\n",
      "Processing CHEMBL1170678 in molecule.smi (1051/1982). Average speed: 0,05 s/mol.\n",
      "Processing CHEMBL1170893 in molecule.smi (1052/1982). Average speed: 0,05 s/mol.\n",
      "Processing CHEMBL1172882 in molecule.smi (1053/1982). Average speed: 0,05 s/mol.\n",
      "Processing CHEMBL1171987 in molecule.smi (1054/1982). Average speed: 0,05 s/mol.\n",
      "Processing CHEMBL1215664 in molecule.smi (1055/1982). Average speed: 0,05 s/mol.\n"
     ]
    },
    {
     "name": "stdout",
     "output_type": "stream",
     "text": [
      "Processing CHEMBL1215665 in molecule.smi (1056/1982). Average speed: 0,05 s/mol.\n",
      "Processing CHEMBL1171987 in molecule.smi (1057/1982). Average speed: 0,05 s/mol.\n",
      "Processing CHEMBL1173327 in molecule.smi (1058/1982). Average speed: 0,05 s/mol.\n",
      "Processing CHEMBL1172882 in molecule.smi (1059/1982). Average speed: 0,05 s/mol.\n",
      "Processing CHEMBL1172779 in molecule.smi (1060/1982). Average speed: 0,05 s/mol.\n",
      "Processing CHEMBL1173260 in molecule.smi (1061/1982). Average speed: 0,05 s/mol.\n",
      "Processing CHEMBL364080 in molecule.smi (1062/1982). Average speed: 0,05 s/mol.\n",
      "Processing CHEMBL363621 in molecule.smi (1063/1982). Average speed: 0,05 s/mol.\n",
      "Processing CHEMBL193606 in molecule.smi (1064/1982). Average speed: 0,05 s/mol.\n",
      "Processing CHEMBL365120 in molecule.smi (1065/1982). Average speed: 0,05 s/mol.\n",
      "Processing CHEMBL193997 in molecule.smi (1066/1982). Average speed: 0,05 s/mol.\n",
      "Processing CHEMBL383806 in molecule.smi (1067/1982). Average speed: 0,05 s/mol.\n",
      "Processing CHEMBL383807 in molecule.smi (1068/1982). Average speed: 0,05 s/mol.\n",
      "Processing CHEMBL193652 in molecule.smi (1069/1982). Average speed: 0,05 s/mol.\n",
      "Processing CHEMBL194440 in molecule.smi (1070/1982). Average speed: 0,05 s/mol.\n",
      "Processing CHEMBL176118 in molecule.smi (1071/1982). Average speed: 0,05 s/mol.\n",
      "Processing CHEMBL176609 in molecule.smi (1072/1982). Average speed: 0,05 s/mol.\n",
      "Processing CHEMBL176101 in molecule.smi (1073/1982). Average speed: 0,05 s/mol.\n",
      "Processing CHEMBL362441 in molecule.smi (1074/1982). Average speed: 0,05 s/mol.\n",
      "Processing CHEMBL176098 in molecule.smi (1075/1982). Average speed: 0,05 s/mol.\n",
      "Processing CHEMBL366669 in molecule.smi (1076/1982). Average speed: 0,05 s/mol.\n",
      "Processing CHEMBL425323 in molecule.smi (1077/1982). Average speed: 0,05 s/mol.\n",
      "Processing CHEMBL176886 in molecule.smi (1078/1982). Average speed: 0,05 s/mol.\n",
      "Processing CHEMBL175550 in molecule.smi (1079/1982). Average speed: 0,05 s/mol.\n",
      "Processing CHEMBL366570 in molecule.smi (1080/1982). Average speed: 0,05 s/mol.\n",
      "Processing CHEMBL368305 in molecule.smi (1081/1982). Average speed: 0,04 s/mol.\n",
      "Processing CHEMBL176009 in molecule.smi (1082/1982). Average speed: 0,05 s/mol.\n",
      "Processing CHEMBL366490 in molecule.smi (1083/1982). Average speed: 0,05 s/mol.\n",
      "Processing CHEMBL176076 in molecule.smi (1084/1982). Average speed: 0,05 s/mol.\n",
      "Processing CHEMBL176287 in molecule.smi (1085/1982). Average speed: 0,05 s/mol.\n",
      "Processing CHEMBL369623 in molecule.smi (1086/1982). Average speed: 0,05 s/mol.\n",
      "Processing CHEMBL175962 in molecule.smi (1087/1982). Average speed: 0,04 s/mol.\n",
      "Processing CHEMBL179149 in molecule.smi (1088/1982). Average speed: 0,04 s/mol.\n",
      "Processing CHEMBL360026 in molecule.smi (1089/1982). Average speed: 0,04 s/mol.\n",
      "Processing CHEMBL424960 in molecule.smi (1090/1982). Average speed: 0,04 s/mol.\n",
      "Processing CHEMBL175554 in molecule.smi (1092/1982). Average speed: 0,04 s/mol.\n",
      "Processing CHEMBL179144 in molecule.smi (1091/1982). Average speed: 0,04 s/mol.\n",
      "Processing CHEMBL175799 in molecule.smi (1093/1982). Average speed: 0,04 s/mol.\n",
      "Processing CHEMBL366773 in molecule.smi (1094/1982). Average speed: 0,04 s/mol.\n",
      "Processing CHEMBL179222 in molecule.smi (1095/1982). Average speed: 0,04 s/mol.\n",
      "Processing CHEMBL175609 in molecule.smi (1096/1982). Average speed: 0,04 s/mol.\n",
      "Processing CHEMBL175979 in molecule.smi (1097/1982). Average speed: 0,04 s/mol.\n",
      "Processing CHEMBL193496 in molecule.smi (1098/1982). Average speed: 0,04 s/mol.\n",
      "Processing CHEMBL365314 in molecule.smi (1099/1982). Average speed: 0,04 s/mol.\n",
      "Processing CHEMBL370281 in molecule.smi (1100/1982). Average speed: 0,04 s/mol.\n",
      "Processing CHEMBL193858 in molecule.smi (1101/1982). Average speed: 0,04 s/mol.\n",
      "Processing CHEMBL371742 in molecule.smi (1102/1982). Average speed: 0,04 s/mol.\n",
      "Processing CHEMBL192155 in molecule.smi (1103/1982). Average speed: 0,04 s/mol.\n",
      "Processing CHEMBL195354 in molecule.smi (1104/1982). Average speed: 0,04 s/mol.\n",
      "Processing CHEMBL195248 in molecule.smi (1105/1982). Average speed: 0,04 s/mol.\n",
      "Processing CHEMBL370530 in molecule.smi (1106/1982). Average speed: 0,04 s/mol.\n",
      "Processing CHEMBL363849 in molecule.smi (1107/1982). Average speed: 0,04 s/mol.\n",
      "Processing CHEMBL370317 in molecule.smi (1108/1982). Average speed: 0,04 s/mol.\n",
      "Processing CHEMBL373074 in molecule.smi (1109/1982). Average speed: 0,04 s/mol.\n",
      "Processing CHEMBL364080 in molecule.smi (1110/1982). Average speed: 0,04 s/mol.\n",
      "Processing CHEMBL363621 in molecule.smi (1111/1982). Average speed: 0,04 s/mol.\n",
      "Processing CHEMBL193606 in molecule.smi (1112/1982). Average speed: 0,04 s/mol.\n",
      "Processing CHEMBL365120 in molecule.smi (1113/1982). Average speed: 0,04 s/mol.\n",
      "Processing CHEMBL193997 in molecule.smi (1114/1982). Average speed: 0,04 s/mol.\n",
      "Processing CHEMBL383806 in molecule.smi (1115/1982). Average speed: 0,04 s/mol.\n",
      "Processing CHEMBL383807 in molecule.smi (1116/1982). Average speed: 0,04 s/mol.\n",
      "Processing CHEMBL194440 in molecule.smi (1117/1982). Average speed: 0,04 s/mol.\n",
      "Processing CHEMBL176118 in molecule.smi (1118/1982). Average speed: 0,04 s/mol.\n",
      "Processing CHEMBL366669 in molecule.smi (1119/1982). Average speed: 0,04 s/mol.\n",
      "Processing CHEMBL176886 in molecule.smi (1120/1982). Average speed: 0,04 s/mol.\n",
      "Processing CHEMBL366570 in molecule.smi (1121/1982). Average speed: 0,04 s/mol.\n",
      "Processing CHEMBL368305 in molecule.smi (1122/1982). Average speed: 0,04 s/mol.\n",
      "Processing CHEMBL176009 in molecule.smi (1123/1982). Average speed: 0,04 s/mol.\n",
      "Processing CHEMBL366490 in molecule.smi (1124/1982). Average speed: 0,04 s/mol.\n",
      "Processing CHEMBL176076 in molecule.smi (1125/1982). Average speed: 0,04 s/mol.\n",
      "Processing CHEMBL176287 in molecule.smi (1126/1982). Average speed: 0,04 s/mol.\n",
      "Processing CHEMBL369623 in molecule.smi (1127/1982). Average speed: 0,04 s/mol.\n",
      "Processing CHEMBL179149 in molecule.smi (1128/1982). Average speed: 0,04 s/mol.\n",
      "Processing CHEMBL360026 in molecule.smi (1129/1982). Average speed: 0,04 s/mol.\n",
      "Processing CHEMBL424960 in molecule.smi (1130/1982). Average speed: 0,04 s/mol.\n",
      "Processing CHEMBL179144 in molecule.smi (1131/1982). Average speed: 0,04 s/mol.\n",
      "Processing CHEMBL175554 in molecule.smi (1132/1982). Average speed: 0,04 s/mol.\n",
      "Processing CHEMBL175799 in molecule.smi (1133/1982). Average speed: 0,04 s/mol.\n",
      "Processing CHEMBL366773 in molecule.smi (1134/1982). Average speed: 0,04 s/mol.\n",
      "Processing CHEMBL179222 in molecule.smi (1135/1982). Average speed: 0,04 s/mol.\n",
      "Processing CHEMBL175609 in molecule.smi (1136/1982). Average speed: 0,04 s/mol.\n",
      "Processing CHEMBL175979 in molecule.smi (1137/1982). Average speed: 0,04 s/mol.\n",
      "Processing CHEMBL193496 in molecule.smi (1138/1982). Average speed: 0,04 s/mol.\n",
      "Processing CHEMBL365314 in molecule.smi (1139/1982). Average speed: 0,04 s/mol.\n",
      "Processing CHEMBL370281 in molecule.smi (1140/1982). Average speed: 0,04 s/mol.\n",
      "Processing CHEMBL193858 in molecule.smi (1141/1982). Average speed: 0,04 s/mol.\n",
      "Processing CHEMBL371742 in molecule.smi (1142/1982). Average speed: 0,04 s/mol.\n",
      "Processing CHEMBL192077 in molecule.smi (1143/1982). Average speed: 0,04 s/mol.\n",
      "Processing CHEMBL192155 in molecule.smi (1144/1982). Average speed: 0,04 s/mol.\n",
      "Processing CHEMBL195354 in molecule.smi (1145/1982). Average speed: 0,04 s/mol.\n",
      "Processing CHEMBL195248 in molecule.smi (1146/1982). Average speed: 0,04 s/mol.\n",
      "Processing CHEMBL370530 in molecule.smi (1147/1982). Average speed: 0,04 s/mol.\n",
      "Processing CHEMBL363849 in molecule.smi (1148/1982). Average speed: 0,04 s/mol.\n",
      "Processing CHEMBL194928 in molecule.smi (1149/1982). Average speed: 0,04 s/mol.\n",
      "Processing CHEMBL370317 in molecule.smi (1151/1982). Average speed: 0,04 s/mol.\n",
      "Processing CHEMBL383145 in molecule.smi (1150/1982). Average speed: 0,04 s/mol.\n",
      "Processing CHEMBL373074 in molecule.smi (1152/1982). Average speed: 0,04 s/mol.\n",
      "Processing CHEMBL193555 in molecule.smi (1153/1982). Average speed: 0,04 s/mol.\n",
      "Processing CHEMBL1629800 in molecule.smi (1154/1982). Average speed: 0,04 s/mol.\n",
      "Processing CHEMBL1629801 in molecule.smi (1155/1982). Average speed: 0,04 s/mol.\n",
      "Processing CHEMBL1629802 in molecule.smi (1156/1982). Average speed: 0,04 s/mol.\n",
      "Processing CHEMBL1629803 in molecule.smi (1157/1982). Average speed: 0,04 s/mol.\n",
      "Processing CHEMBL132530 in molecule.smi (1158/1982). Average speed: 0,04 s/mol.\n"
     ]
    },
    {
     "name": "stdout",
     "output_type": "stream",
     "text": [
      "Processing CHEMBL1629804 in molecule.smi (1159/1982). Average speed: 0,04 s/mol.\n",
      "Processing CHEMBL1629805 in molecule.smi (1160/1982). Average speed: 0,04 s/mol.\n",
      "Processing CHEMBL1629806 in molecule.smi (1161/1982). Average speed: 0,04 s/mol.\n",
      "Processing CHEMBL1630261 in molecule.smi (1162/1982). Average speed: 0,04 s/mol.\n",
      "Processing CHEMBL1630260 in molecule.smi (1163/1982). Average speed: 0,04 s/mol.\n",
      "Processing CHEMBL1630262 in molecule.smi (1164/1982). Average speed: 0,04 s/mol.\n",
      "Processing CHEMBL1630263 in molecule.smi (1165/1982). Average speed: 0,04 s/mol.\n",
      "Processing CHEMBL1630266 in molecule.smi (1167/1982). Average speed: 0,04 s/mol.\n",
      "Processing CHEMBL1630264 in molecule.smi (1166/1982). Average speed: 0,04 s/mol.\n",
      "Processing CHEMBL1630267 in molecule.smi (1168/1982). Average speed: 0,04 s/mol.\n",
      "Processing CHEMBL1630268 in molecule.smi (1169/1982). Average speed: 0,04 s/mol.\n",
      "Processing CHEMBL1630269 in molecule.smi (1170/1982). Average speed: 0,04 s/mol.\n",
      "Processing CHEMBL1630270 in molecule.smi (1171/1982). Average speed: 0,04 s/mol.\n",
      "Processing CHEMBL1630273 in molecule.smi (1172/1982). Average speed: 0,04 s/mol.\n",
      "Processing CHEMBL1630274 in molecule.smi (1173/1982). Average speed: 0,04 s/mol.\n",
      "Processing CHEMBL1630275 in molecule.smi (1174/1982). Average speed: 0,04 s/mol.\n",
      "Processing CHEMBL1630276 in molecule.smi (1175/1982). Average speed: 0,04 s/mol.\n",
      "Processing CHEMBL1630277 in molecule.smi (1176/1982). Average speed: 0,04 s/mol.\n",
      "Processing CHEMBL1630278 in molecule.smi (1177/1982). Average speed: 0,04 s/mol.\n",
      "Processing CHEMBL1630279 in molecule.smi (1178/1982). Average speed: 0,04 s/mol.\n",
      "Processing CHEMBL1630280 in molecule.smi (1179/1982). Average speed: 0,04 s/mol.\n",
      "Processing CHEMBL9298 in molecule.smi (1180/1982). Average speed: 0,04 s/mol.\n",
      "Processing CHEMBL488513 in molecule.smi (1181/1982). Average speed: 0,04 s/mol.\n",
      "Processing CHEMBL1668326 in molecule.smi (1182/1982). Average speed: 0,04 s/mol.\n",
      "Processing CHEMBL1668327 in molecule.smi (1183/1982). Average speed: 0,04 s/mol.\n",
      "Processing CHEMBL1668328 in molecule.smi (1184/1982). Average speed: 0,04 s/mol.\n",
      "Processing CHEMBL488848 in molecule.smi (1185/1982). Average speed: 0,04 s/mol.\n",
      "Processing CHEMBL1668329 in molecule.smi (1186/1982). Average speed: 0,04 s/mol.\n",
      "Processing CHEMBL157101 in molecule.smi (1187/1982). Average speed: 0,04 s/mol.\n",
      "Processing CHEMBL430879 in molecule.smi (1189/1982). Average speed: 0,04 s/mol.\n",
      "Processing CHEMBL108425 in molecule.smi (1188/1982). Average speed: 0,04 s/mol.\n",
      "Processing CHEMBL108483 in molecule.smi (1190/1982). Average speed: 0,04 s/mol.\n",
      "Processing CHEMBL598199 in molecule.smi (1191/1982). Average speed: 0,04 s/mol.\n",
      "Processing CHEMBL1672974 in molecule.smi (1193/1982). Average speed: 0,04 s/mol.\n",
      "Processing CHEMBL592131 in molecule.smi (1192/1982). Average speed: 0,04 s/mol.\n",
      "Processing CHEMBL1672975 in molecule.smi (1194/1982). Average speed: 0,04 s/mol.\n",
      "Processing CHEMBL1672977 in molecule.smi (1195/1982). Average speed: 0,04 s/mol.\n",
      "Processing CHEMBL1672978 in molecule.smi (1196/1982). Average speed: 0,04 s/mol.\n",
      "Processing CHEMBL1672979 in molecule.smi (1197/1982). Average speed: 0,04 s/mol.\n",
      "Processing CHEMBL1672982 in molecule.smi (1198/1982). Average speed: 0,04 s/mol.\n",
      "Processing CHEMBL1688893 in molecule.smi (1199/1982). Average speed: 0,04 s/mol.\n",
      "Processing CHEMBL1688891 in molecule.smi (1200/1982). Average speed: 0,04 s/mol.\n",
      "Processing CHEMBL1688890 in molecule.smi (1201/1982). Average speed: 0,04 s/mol.\n",
      "Processing CHEMBL1688892 in molecule.smi (1202/1982). Average speed: 0,04 s/mol.\n",
      "Processing CHEMBL1688894 in molecule.smi (1203/1982). Average speed: 0,04 s/mol.\n",
      "Processing CHEMBL1688895 in molecule.smi (1204/1982). Average speed: 0,04 s/mol.\n",
      "Processing CHEMBL1688896 in molecule.smi (1205/1982). Average speed: 0,04 s/mol.\n",
      "Processing CHEMBL1688897 in molecule.smi (1206/1982). Average speed: 0,04 s/mol.\n",
      "Processing CHEMBL1688898 in molecule.smi (1207/1982). Average speed: 0,04 s/mol.\n",
      "Processing CHEMBL1688899 in molecule.smi (1208/1982). Average speed: 0,04 s/mol.\n",
      "Processing CHEMBL1688900 in molecule.smi (1209/1982). Average speed: 0,04 s/mol.\n",
      "Processing CHEMBL437731 in molecule.smi (1210/1982). Average speed: 0,04 s/mol.\n",
      "Processing CHEMBL1688902 in molecule.smi (1211/1982). Average speed: 0,04 s/mol.\n",
      "Processing CHEMBL1688903 in molecule.smi (1212/1982). Average speed: 0,04 s/mol.\n",
      "Processing CHEMBL1688905 in molecule.smi (1214/1982). Average speed: 0,04 s/mol.\n",
      "Processing CHEMBL1688904 in molecule.smi (1213/1982). Average speed: 0,04 s/mol.\n",
      "Processing CHEMBL1688906 in molecule.smi (1215/1982). Average speed: 0,04 s/mol.\n",
      "Processing CHEMBL1688909 in molecule.smi (1216/1982). Average speed: 0,04 s/mol.\n",
      "Processing CHEMBL1688910 in molecule.smi (1217/1982). Average speed: 0,04 s/mol.\n",
      "Processing CHEMBL1688911 in molecule.smi (1218/1982). Average speed: 0,04 s/mol.\n",
      "Processing CHEMBL1688912 in molecule.smi (1219/1982). Average speed: 0,04 s/mol.\n",
      "Processing CHEMBL1688913 in molecule.smi (1220/1982). Average speed: 0,04 s/mol.\n",
      "Processing CHEMBL225472 in molecule.smi (1221/1982). Average speed: 0,04 s/mol.\n",
      "Processing CHEMBL1688916 in molecule.smi (1222/1982). Average speed: 0,04 s/mol.\n",
      "Processing CHEMBL1688917 in molecule.smi (1223/1982). Average speed: 0,04 s/mol.\n",
      "Processing CHEMBL1688918 in molecule.smi (1224/1982). Average speed: 0,04 s/mol.\n",
      "Processing CHEMBL1688919 in molecule.smi (1225/1982). Average speed: 0,04 s/mol.\n",
      "Processing CHEMBL1689257 in molecule.smi (1227/1982). Average speed: 0,04 s/mol.\n",
      "Processing CHEMBL9298 in molecule.smi (1226/1982). Average speed: 0,04 s/mol.\n",
      "Processing CHEMBL1689258 in molecule.smi (1228/1982). Average speed: 0,04 s/mol.\n",
      "Processing CHEMBL1689259 in molecule.smi (1229/1982). Average speed: 0,04 s/mol.\n",
      "Processing CHEMBL518414 in molecule.smi (1230/1982). Average speed: 0,04 s/mol.\n",
      "Processing CHEMBL9298 in molecule.smi (1231/1982). Average speed: 0,04 s/mol.\n",
      "Processing CHEMBL1444 in molecule.smi (1232/1982). Average speed: 0,04 s/mol.\n",
      "Processing CHEMBL488 in molecule.smi (1233/1982). Average speed: 0,04 s/mol.\n",
      "Processing CHEMBL404225 in molecule.smi (1234/1982). Average speed: 0,04 s/mol.\n",
      "Processing CHEMBL255108 in molecule.smi (1235/1982). Average speed: 0,04 s/mol.\n",
      "Processing CHEMBL256665 in molecule.smi (1236/1982). Average speed: 0,04 s/mol.\n",
      "Processing CHEMBL1783176 in molecule.smi (1237/1982). Average speed: 0,04 s/mol.\n",
      "Processing CHEMBL1783178 in molecule.smi (1238/1982). Average speed: 0,04 s/mol.\n",
      "Processing CHEMBL1783178 in molecule.smi (1239/1982). Average speed: 0,04 s/mol.\n",
      "Processing CHEMBL1783178 in molecule.smi (1240/1982). Average speed: 0,04 s/mol.\n",
      "Processing CHEMBL1783177 in molecule.smi (1241/1982). Average speed: 0,04 s/mol.\n",
      "Processing CHEMBL95109 in molecule.smi (1242/1982). Average speed: 0,04 s/mol.\n",
      "Processing CHEMBL95109 in molecule.smi (1243/1982). Average speed: 0,04 s/mol.\n",
      "Processing CHEMBL1444 in molecule.smi (1244/1982). Average speed: 0,04 s/mol.\n",
      "Processing CHEMBL1784788 in molecule.smi (1245/1982). Average speed: 0,04 s/mol.\n",
      "Processing CHEMBL1485809 in molecule.smi (1246/1982). Average speed: 0,04 s/mol.\n",
      "Processing CHEMBL1784789 in molecule.smi (1247/1982). Average speed: 0,04 s/mol.\n",
      "Processing CHEMBL1784790 in molecule.smi (1248/1982). Average speed: 0,04 s/mol.\n",
      "Processing CHEMBL1784792 in molecule.smi (1249/1982). Average speed: 0,04 s/mol.\n",
      "Processing CHEMBL1784797 in molecule.smi (1250/1982). Average speed: 0,04 s/mol.\n",
      "Processing CHEMBL1389987 in molecule.smi (1251/1982). Average speed: 0,04 s/mol.\n",
      "Processing CHEMBL1784806 in molecule.smi (1252/1982). Average speed: 0,04 s/mol.\n",
      "Processing CHEMBL1784809 in molecule.smi (1253/1982). Average speed: 0,04 s/mol.\n",
      "Processing CHEMBL224789 in molecule.smi (1254/1982). Average speed: 0,04 s/mol.\n",
      "Processing CHEMBL1824742 in molecule.smi (1255/1982). Average speed: 0,04 s/mol.\n",
      "Processing CHEMBL1824743 in molecule.smi (1256/1982). Average speed: 0,04 s/mol.\n",
      "Processing CHEMBL1824745 in molecule.smi (1258/1982). Average speed: 0,04 s/mol.\n",
      "Processing CHEMBL1824744 in molecule.smi (1257/1982). Average speed: 0,04 s/mol.\n",
      "Processing CHEMBL1824746 in molecule.smi (1259/1982). Average speed: 0,04 s/mol.\n",
      "Processing CHEMBL1824747 in molecule.smi (1260/1982). Average speed: 0,04 s/mol.\n"
     ]
    },
    {
     "name": "stdout",
     "output_type": "stream",
     "text": [
      "Processing CHEMBL1824748 in molecule.smi (1261/1982). Average speed: 0,04 s/mol.\n",
      "Processing CHEMBL1824749 in molecule.smi (1262/1982). Average speed: 0,04 s/mol.\n",
      "Processing CHEMBL1824750 in molecule.smi (1263/1982). Average speed: 0,04 s/mol.\n",
      "Processing CHEMBL1824751 in molecule.smi (1264/1982). Average speed: 0,04 s/mol.\n",
      "Processing CHEMBL1824752 in molecule.smi (1265/1982). Average speed: 0,04 s/mol.\n",
      "Processing CHEMBL1824753 in molecule.smi (1266/1982). Average speed: 0,04 s/mol.\n",
      "Processing CHEMBL1824754 in molecule.smi (1267/1982). Average speed: 0,04 s/mol.\n",
      "Processing CHEMBL1824755 in molecule.smi (1268/1982). Average speed: 0,04 s/mol.\n",
      "Processing CHEMBL1824756 in molecule.smi (1269/1982). Average speed: 0,04 s/mol.\n",
      "Processing CHEMBL1824757 in molecule.smi (1270/1982). Average speed: 0,04 s/mol.\n",
      "Processing CHEMBL1824758 in molecule.smi (1271/1982). Average speed: 0,04 s/mol.\n",
      "Processing CHEMBL1824759 in molecule.smi (1272/1982). Average speed: 0,04 s/mol.\n",
      "Processing CHEMBL1824760 in molecule.smi (1273/1982). Average speed: 0,04 s/mol.\n",
      "Processing CHEMBL1824761 in molecule.smi (1274/1982). Average speed: 0,04 s/mol.\n",
      "Processing CHEMBL1824762 in molecule.smi (1275/1982). Average speed: 0,04 s/mol.\n",
      "Processing CHEMBL1824763 in molecule.smi (1276/1982). Average speed: 0,04 s/mol.\n",
      "Processing CHEMBL1824764 in molecule.smi (1277/1982). Average speed: 0,04 s/mol.\n",
      "Processing CHEMBL1824765 in molecule.smi (1278/1982). Average speed: 0,04 s/mol.\n",
      "Processing CHEMBL1824766 in molecule.smi (1279/1982). Average speed: 0,04 s/mol.\n",
      "Processing CHEMBL1824767 in molecule.smi (1280/1982). Average speed: 0,04 s/mol.\n",
      "Processing CHEMBL1824768 in molecule.smi (1281/1982). Average speed: 0,04 s/mol.\n",
      "Processing CHEMBL1824769 in molecule.smi (1282/1982). Average speed: 0,04 s/mol.\n",
      "Processing CHEMBL1825017 in molecule.smi (1283/1982). Average speed: 0,04 s/mol.\n",
      "Processing CHEMBL1825018 in molecule.smi (1284/1982). Average speed: 0,04 s/mol.\n",
      "Processing CHEMBL1825019 in molecule.smi (1285/1982). Average speed: 0,04 s/mol.\n",
      "Processing CHEMBL1825020 in molecule.smi (1286/1982). Average speed: 0,04 s/mol.\n",
      "Processing CHEMBL349822 in molecule.smi (1287/1982). Average speed: 0,04 s/mol.\n",
      "Processing CHEMBL1825021 in molecule.smi (1288/1982). Average speed: 0,04 s/mol.\n",
      "Processing CHEMBL14192 in molecule.smi (1289/1982). Average speed: 0,04 s/mol.\n",
      "Processing CHEMBL1825022 in molecule.smi (1290/1982). Average speed: 0,04 s/mol.\n",
      "Processing CHEMBL29482 in molecule.smi (1292/1982). Average speed: 0,04 s/mol.\n",
      "Processing CHEMBL1444 in molecule.smi (1291/1982). Average speed: 0,04 s/mol.\n",
      "Processing CHEMBL1825023 in molecule.smi (1293/1982). Average speed: 0,04 s/mol.\n",
      "Processing CHEMBL1825024 in molecule.smi (1294/1982). Average speed: 0,04 s/mol.\n",
      "Processing CHEMBL336638 in molecule.smi (1295/1982). Average speed: 0,04 s/mol.\n",
      "Processing CHEMBL1825025 in molecule.smi (1296/1982). Average speed: 0,04 s/mol.\n",
      "Processing CHEMBL1825026 in molecule.smi (1297/1982). Average speed: 0,04 s/mol.\n",
      "Processing CHEMBL1825028 in molecule.smi (1299/1982). Average speed: 0,04 s/mol.\n",
      "Processing CHEMBL1825027 in molecule.smi (1298/1982). Average speed: 0,04 s/mol.\n",
      "Processing CHEMBL1825029 in molecule.smi (1300/1982). Average speed: 0,04 s/mol.\n",
      "Processing CHEMBL1825030 in molecule.smi (1301/1982). Average speed: 0,04 s/mol.\n",
      "Processing CHEMBL1825031 in molecule.smi (1302/1982). Average speed: 0,04 s/mol.\n",
      "Processing CHEMBL1825032 in molecule.smi (1303/1982). Average speed: 0,04 s/mol.\n",
      "Processing CHEMBL1825033 in molecule.smi (1304/1982). Average speed: 0,04 s/mol.\n",
      "Processing CHEMBL1825034 in molecule.smi (1305/1982). Average speed: 0,04 s/mol.\n",
      "Processing CHEMBL1825035 in molecule.smi (1306/1982). Average speed: 0,04 s/mol.\n",
      "Processing CHEMBL1825036 in molecule.smi (1307/1982). Average speed: 0,04 s/mol.\n",
      "Processing CHEMBL1825037 in molecule.smi (1308/1982). Average speed: 0,04 s/mol.\n",
      "Processing CHEMBL1825038 in molecule.smi (1309/1982). Average speed: 0,04 s/mol.\n",
      "Processing CHEMBL1825039 in molecule.smi (1310/1982). Average speed: 0,04 s/mol.\n",
      "Processing CHEMBL1825041 in molecule.smi (1311/1982). Average speed: 0,04 s/mol.\n",
      "Processing CHEMBL1825042 in molecule.smi (1312/1982). Average speed: 0,04 s/mol.\n",
      "Processing CHEMBL1825043 in molecule.smi (1313/1982). Average speed: 0,04 s/mol.\n",
      "Processing CHEMBL272339 in molecule.smi (1314/1982). Average speed: 0,04 s/mol.\n",
      "Processing CHEMBL1825044 in molecule.smi (1315/1982). Average speed: 0,04 s/mol.\n",
      "Processing CHEMBL1825045 in molecule.smi (1316/1982). Average speed: 0,04 s/mol.\n",
      "Processing CHEMBL1825046 in molecule.smi (1317/1982). Average speed: 0,04 s/mol.\n",
      "Processing CHEMBL1825047 in molecule.smi (1318/1982). Average speed: 0,04 s/mol.\n",
      "Processing CHEMBL1825049 in molecule.smi (1319/1982). Average speed: 0,04 s/mol.\n",
      "Processing CHEMBL1098737 in molecule.smi (1320/1982). Average speed: 0,04 s/mol.\n",
      "Processing CHEMBL9165 in molecule.smi (1321/1982). Average speed: 0,04 s/mol.\n",
      "Processing CHEMBL1915156 in molecule.smi (1322/1982). Average speed: 0,04 s/mol.\n",
      "Processing CHEMBL1915159 in molecule.smi (1323/1982). Average speed: 0,04 s/mol.\n",
      "Processing CHEMBL1915161 in molecule.smi (1324/1982). Average speed: 0,04 s/mol.\n",
      "Processing CHEMBL1915167 in molecule.smi (1325/1982). Average speed: 0,04 s/mol.\n",
      "Processing CHEMBL1915176 in molecule.smi (1326/1982). Average speed: 0,04 s/mol.\n",
      "Processing CHEMBL1915401 in molecule.smi (1327/1982). Average speed: 0,04 s/mol.\n",
      "Processing CHEMBL1454842 in molecule.smi (1328/1982). Average speed: 0,04 s/mol.\n",
      "Processing CHEMBL1939519 in molecule.smi (1329/1982). Average speed: 0,04 s/mol.\n",
      "Processing CHEMBL1939520 in molecule.smi (1330/1982). Average speed: 0,04 s/mol.\n",
      "Processing CHEMBL1939521 in molecule.smi (1331/1982). Average speed: 0,04 s/mol.\n",
      "Processing CHEMBL1939522 in molecule.smi (1332/1982). Average speed: 0,04 s/mol.\n",
      "Processing CHEMBL1939523 in molecule.smi (1333/1982). Average speed: 0,04 s/mol.\n",
      "Processing CHEMBL1939525 in molecule.smi (1334/1982). Average speed: 0,04 s/mol.\n",
      "Processing CHEMBL1939526 in molecule.smi (1335/1982). Average speed: 0,04 s/mol.\n",
      "Processing CHEMBL1939527 in molecule.smi (1336/1982). Average speed: 0,04 s/mol.\n",
      "Processing CHEMBL1939528 in molecule.smi (1337/1982). Average speed: 0,04 s/mol.\n",
      "Processing CHEMBL1939529 in molecule.smi (1338/1982). Average speed: 0,04 s/mol.\n",
      "Processing CHEMBL1939530 in molecule.smi (1339/1982). Average speed: 0,04 s/mol.\n",
      "Processing CHEMBL1939531 in molecule.smi (1340/1982). Average speed: 0,04 s/mol.\n",
      "Processing CHEMBL1939532 in molecule.smi (1341/1982). Average speed: 0,04 s/mol.\n",
      "Processing CHEMBL1939533 in molecule.smi (1342/1982). Average speed: 0,04 s/mol.\n",
      "Processing CHEMBL1939534 in molecule.smi (1343/1982). Average speed: 0,04 s/mol.\n",
      "Processing CHEMBL1939535 in molecule.smi (1344/1982). Average speed: 0,04 s/mol.\n",
      "Processing CHEMBL1939537 in molecule.smi (1345/1982). Average speed: 0,04 s/mol.\n",
      "Processing CHEMBL1939538 in molecule.smi (1346/1982). Average speed: 0,04 s/mol.\n",
      "Processing CHEMBL1939539 in molecule.smi (1347/1982). Average speed: 0,04 s/mol.\n",
      "Processing CHEMBL1939540 in molecule.smi (1348/1982). Average speed: 0,04 s/mol.\n",
      "Processing CHEMBL1939541 in molecule.smi (1349/1982). Average speed: 0,04 s/mol.\n",
      "Processing CHEMBL1939542 in molecule.smi (1350/1982). Average speed: 0,04 s/mol.\n",
      "Processing CHEMBL1939543 in molecule.smi (1351/1982). Average speed: 0,04 s/mol.\n",
      "Processing CHEMBL1939545 in molecule.smi (1352/1982). Average speed: 0,04 s/mol.\n",
      "Processing CHEMBL1939547 in molecule.smi (1353/1982). Average speed: 0,04 s/mol.\n",
      "Processing CHEMBL1939548 in molecule.smi (1354/1982). Average speed: 0,04 s/mol.\n",
      "Processing CHEMBL1939550 in molecule.smi (1355/1982). Average speed: 0,04 s/mol.\n",
      "Processing CHEMBL1939551 in molecule.smi (1356/1982). Average speed: 0,04 s/mol.\n",
      "Processing CHEMBL503399 in molecule.smi (1357/1982). Average speed: 0,04 s/mol.\n",
      "Processing CHEMBL1939552 in molecule.smi (1358/1982). Average speed: 0,04 s/mol.\n",
      "Processing CHEMBL165 in molecule.smi (1359/1982). Average speed: 0,04 s/mol.\n",
      "Processing CHEMBL9352 in molecule.smi (1360/1982). Average speed: 0,04 s/mol.\n",
      "Processing CHEMBL1956171 in molecule.smi (1361/1982). Average speed: 0,04 s/mol.\n",
      "Processing CHEMBL1728910 in molecule.smi (1362/1982). Average speed: 0,04 s/mol.\n"
     ]
    },
    {
     "name": "stdout",
     "output_type": "stream",
     "text": [
      "Processing CHEMBL1956175 in molecule.smi (1363/1982). Average speed: 0,04 s/mol.\n",
      "Processing CHEMBL1956179 in molecule.smi (1364/1982). Average speed: 0,04 s/mol.\n",
      "Processing CHEMBL1956180 in molecule.smi (1365/1982). Average speed: 0,04 s/mol.\n",
      "Processing CHEMBL1955869 in molecule.smi (1366/1982). Average speed: 0,04 s/mol.\n",
      "Processing CHEMBL1956183 in molecule.smi (1367/1982). Average speed: 0,04 s/mol.\n",
      "Processing CHEMBL1956186 in molecule.smi (1368/1982). Average speed: 0,04 s/mol.\n",
      "Processing CHEMBL1956188 in molecule.smi (1369/1982). Average speed: 0,04 s/mol.\n",
      "Processing CHEMBL1957208 in molecule.smi (1370/1982). Average speed: 0,04 s/mol.\n",
      "Processing CHEMBL1957209 in molecule.smi (1371/1982). Average speed: 0,04 s/mol.\n",
      "Processing CHEMBL1601919 in molecule.smi (1372/1982). Average speed: 0,04 s/mol.\n",
      "Processing CHEMBL1957210 in molecule.smi (1373/1982). Average speed: 0,04 s/mol.\n",
      "Processing CHEMBL1957211 in molecule.smi (1374/1982). Average speed: 0,04 s/mol.\n",
      "Processing CHEMBL1957212 in molecule.smi (1375/1982). Average speed: 0,04 s/mol.\n",
      "Processing CHEMBL1957213 in molecule.smi (1376/1982). Average speed: 0,04 s/mol.\n",
      "Processing CHEMBL1957214 in molecule.smi (1377/1982). Average speed: 0,04 s/mol.\n",
      "Processing CHEMBL1957215 in molecule.smi (1378/1982). Average speed: 0,04 s/mol.\n",
      "Processing CHEMBL1957218 in molecule.smi (1379/1982). Average speed: 0,04 s/mol.\n",
      "Processing CHEMBL1957219 in molecule.smi (1380/1982). Average speed: 0,04 s/mol.\n",
      "Processing CHEMBL1957220 in molecule.smi (1381/1982). Average speed: 0,04 s/mol.\n",
      "Processing CHEMBL1957221 in molecule.smi (1382/1982). Average speed: 0,04 s/mol.\n",
      "Processing CHEMBL1957222 in molecule.smi (1383/1982). Average speed: 0,04 s/mol.\n",
      "Processing CHEMBL165 in molecule.smi (1384/1982). Average speed: 0,04 s/mol.\n",
      "Processing CHEMBL1444 in molecule.smi (1385/1982). Average speed: 0,04 s/mol.\n",
      "Processing CHEMBL1399 in molecule.smi (1386/1982). Average speed: 0,04 s/mol.\n",
      "Processing CHEMBL9298 in molecule.smi (1387/1982). Average speed: 0,04 s/mol.\n",
      "Processing CHEMBL1399 in molecule.smi (1388/1982). Average speed: 0,04 s/mol.\n",
      "Processing CHEMBL131921 in molecule.smi (1389/1982). Average speed: 0,04 s/mol.\n",
      "Processing CHEMBL2011191 in molecule.smi (1390/1982). Average speed: 0,04 s/mol.\n",
      "Processing CHEMBL2011192 in molecule.smi (1391/1982). Average speed: 0,04 s/mol.\n",
      "Processing CHEMBL2011193 in molecule.smi (1392/1982). Average speed: 0,04 s/mol.\n",
      "Processing CHEMBL274826 in molecule.smi (1393/1982). Average speed: 0,04 s/mol.\n",
      "Processing CHEMBL2011171 in molecule.smi (1394/1982). Average speed: 0,04 s/mol.\n",
      "Processing CHEMBL2011172 in molecule.smi (1395/1982). Average speed: 0,04 s/mol.\n",
      "Processing CHEMBL2011173 in molecule.smi (1396/1982). Average speed: 0,04 s/mol.\n",
      "Processing CHEMBL2011174 in molecule.smi (1397/1982). Average speed: 0,04 s/mol.\n",
      "Processing CHEMBL2011177 in molecule.smi (1398/1982). Average speed: 0,04 s/mol.\n",
      "Processing CHEMBL2011181 in molecule.smi (1399/1982). Average speed: 0,04 s/mol.\n",
      "Processing CHEMBL2011182 in molecule.smi (1400/1982). Average speed: 0,04 s/mol.\n",
      "Processing CHEMBL2011183 in molecule.smi (1401/1982). Average speed: 0,04 s/mol.\n",
      "Processing CHEMBL2011184 in molecule.smi (1402/1982). Average speed: 0,04 s/mol.\n",
      "Processing CHEMBL2011185 in molecule.smi (1403/1982). Average speed: 0,04 s/mol.\n",
      "Processing CHEMBL2011186 in molecule.smi (1404/1982). Average speed: 0,04 s/mol.\n",
      "Processing CHEMBL2011187 in molecule.smi (1405/1982). Average speed: 0,04 s/mol.\n",
      "Processing CHEMBL2011188 in molecule.smi (1406/1982). Average speed: 0,04 s/mol.\n",
      "Processing CHEMBL2011189 in molecule.smi (1407/1982). Average speed: 0,04 s/mol.\n",
      "Processing CHEMBL2011190 in molecule.smi (1408/1982). Average speed: 0,04 s/mol.\n",
      "Processing CHEMBL157101 in molecule.smi (1409/1982). Average speed: 0,04 s/mol.\n",
      "Processing CHEMBL1077603 in molecule.smi (1410/1982). Average speed: 0,04 s/mol.\n",
      "Processing CHEMBL1629804 in molecule.smi (1411/1982). Average speed: 0,04 s/mol.\n",
      "Processing CHEMBL2058266 in molecule.smi (1412/1982). Average speed: 0,04 s/mol.\n",
      "Processing CHEMBL1629800 in molecule.smi (1413/1982). Average speed: 0,04 s/mol.\n",
      "Processing CHEMBL2058267 in molecule.smi (1414/1982). Average speed: 0,04 s/mol.\n",
      "Processing CHEMBL2163638 in molecule.smi (1415/1982). Average speed: 0,04 s/mol.\n",
      "Processing CHEMBL2163639 in molecule.smi (1416/1982). Average speed: 0,04 s/mol.\n",
      "Processing CHEMBL2163646 in molecule.smi (1417/1982). Average speed: 0,04 s/mol.\n",
      "Processing CHEMBL9298 in molecule.smi (1418/1982). Average speed: 0,04 s/mol.\n",
      "Processing CHEMBL2165318 in molecule.smi (1419/1982). Average speed: 0,04 s/mol.\n",
      "Processing CHEMBL2165316 in molecule.smi (1420/1982). Average speed: 0,04 s/mol.\n",
      "Processing CHEMBL2165315 in molecule.smi (1421/1982). Average speed: 0,04 s/mol.\n",
      "Processing CHEMBL2165314 in molecule.smi (1422/1982). Average speed: 0,04 s/mol.\n",
      "Processing CHEMBL446083 in molecule.smi (1423/1982). Average speed: 0,04 s/mol.\n",
      "Processing CHEMBL2165313 in molecule.smi (1424/1982). Average speed: 0,04 s/mol.\n",
      "Processing CHEMBL62811 in molecule.smi (1425/1982). Average speed: 0,04 s/mol.\n",
      "Processing CHEMBL132530 in molecule.smi (1426/1982). Average speed: 0,04 s/mol.\n",
      "Processing CHEMBL1200374 in molecule.smi (1427/1982). Average speed: 0,04 s/mol.\n",
      "Processing CHEMBL2179114 in molecule.smi (1428/1982). Average speed: 0,04 s/mol.\n",
      "Processing CHEMBL2179111 in molecule.smi (1430/1982). Average speed: 0,04 s/mol.\n",
      "Processing CHEMBL2179112 in molecule.smi (1429/1982). Average speed: 0,04 s/mol.\n",
      "Processing CHEMBL2179110 in molecule.smi (1431/1982). Average speed: 0,04 s/mol.\n",
      "Processing CHEMBL2179109 in molecule.smi (1432/1982). Average speed: 0,04 s/mol.\n",
      "Processing CHEMBL2179108 in molecule.smi (1433/1982). Average speed: 0,04 s/mol.\n",
      "Processing CHEMBL2179107 in molecule.smi (1434/1982). Average speed: 0,04 s/mol.\n",
      "Processing CHEMBL9352 in molecule.smi (1435/1982). Average speed: 0,04 s/mol.\n",
      "Processing CHEMBL2208141 in molecule.smi (1436/1982). Average speed: 0,04 s/mol.\n",
      "Processing CHEMBL2208131 in molecule.smi (1438/1982). Average speed: 0,04 s/mol.\n",
      "Processing CHEMBL2208140 in molecule.smi (1437/1982). Average speed: 0,04 s/mol.\n",
      "Processing CHEMBL1939530 in molecule.smi (1439/1982). Average speed: 0,04 s/mol.\n",
      "Processing CHEMBL264401 in molecule.smi (1440/1982). Average speed: 0,04 s/mol.\n",
      "Processing CHEMBL165 in molecule.smi (1441/1982). Average speed: 0,04 s/mol.\n",
      "Processing CHEMBL488 in molecule.smi (1442/1982). Average speed: 0,04 s/mol.\n",
      "Processing CHEMBL2235953 in molecule.smi (1443/1982). Average speed: 0,04 s/mol.\n",
      "Processing CHEMBL2235952 in molecule.smi (1444/1982). Average speed: 0,04 s/mol.\n",
      "Processing CHEMBL2235951 in molecule.smi (1445/1982). Average speed: 0,04 s/mol.\n",
      "Processing CHEMBL2235950 in molecule.smi (1446/1982). Average speed: 0,04 s/mol.\n",
      "Processing CHEMBL2282047 in molecule.smi (1448/1982). Average speed: 0,04 s/mol.\n",
      "Processing CHEMBL488 in molecule.smi (1447/1982). Average speed: 0,04 s/mol.\n",
      "Processing CHEMBL2282050 in molecule.smi (1449/1982). Average speed: 0,04 s/mol.\n",
      "Processing CHEMBL2282053 in molecule.smi (1450/1982). Average speed: 0,04 s/mol.\n",
      "Processing CHEMBL2312963 in molecule.smi (1451/1982). Average speed: 0,04 s/mol.\n",
      "Processing CHEMBL2312960 in molecule.smi (1452/1982). Average speed: 0,04 s/mol.\n",
      "Processing CHEMBL2312958 in molecule.smi (1453/1982). Average speed: 0,04 s/mol.\n",
      "Processing CHEMBL2312957 in molecule.smi (1454/1982). Average speed: 0,04 s/mol.\n",
      "Processing CHEMBL2312957 in molecule.smi (1455/1982). Average speed: 0,04 s/mol.\n",
      "Processing CHEMBL2312957 in molecule.smi (1456/1982). Average speed: 0,04 s/mol.\n",
      "Processing CHEMBL254328 in molecule.smi (1457/1982). Average speed: 0,04 s/mol.\n",
      "Processing CHEMBL2333337 in molecule.smi (1458/1982). Average speed: 0,04 s/mol.\n",
      "Processing CHEMBL2333336 in molecule.smi (1459/1982). Average speed: 0,04 s/mol.\n",
      "Processing CHEMBL2333335 in molecule.smi (1460/1982). Average speed: 0,04 s/mol.\n",
      "Processing CHEMBL2333334 in molecule.smi (1461/1982). Average speed: 0,04 s/mol.\n",
      "Processing CHEMBL2333330 in molecule.smi (1463/1982). Average speed: 0,04 s/mol.\n",
      "Processing CHEMBL2333333 in molecule.smi (1462/1982). Average speed: 0,04 s/mol.\n",
      "Processing CHEMBL2333328 in molecule.smi (1465/1982). Average speed: 0,04 s/mol.\n",
      "Processing CHEMBL2333329 in molecule.smi (1464/1982). Average speed: 0,04 s/mol.\n",
      "Processing CHEMBL2333327 in molecule.smi (1466/1982). Average speed: 0,04 s/mol.\n",
      "Processing CHEMBL2333326 in molecule.smi (1467/1982). Average speed: 0,04 s/mol.\n",
      "Processing CHEMBL442373 in molecule.smi (1468/1982). Average speed: 0,04 s/mol.\n"
     ]
    },
    {
     "name": "stdout",
     "output_type": "stream",
     "text": [
      "Processing CHEMBL307160 in molecule.smi (1470/1982). Average speed: 0,04 s/mol.\n",
      "Processing CHEMBL78322 in molecule.smi (1469/1982). Average speed: 0,04 s/mol.\n",
      "Processing CHEMBL1444 in molecule.smi (1471/1982). Average speed: 0,04 s/mol.\n",
      "Processing CHEMBL2336854 in molecule.smi (1472/1982). Average speed: 0,04 s/mol.\n",
      "Processing CHEMBL2336853 in molecule.smi (1473/1982). Average speed: 0,04 s/mol.\n",
      "Processing CHEMBL2336851 in molecule.smi (1474/1982). Average speed: 0,04 s/mol.\n",
      "Processing CHEMBL2336850 in molecule.smi (1475/1982). Average speed: 0,04 s/mol.\n",
      "Processing CHEMBL2336849 in molecule.smi (1476/1982). Average speed: 0,04 s/mol.\n",
      "Processing CHEMBL2336848 in molecule.smi (1477/1982). Average speed: 0,04 s/mol.\n",
      "Processing CHEMBL2336847 in molecule.smi (1478/1982). Average speed: 0,04 s/mol.\n",
      "Processing CHEMBL2336865 in molecule.smi (1479/1982). Average speed: 0,04 s/mol.\n",
      "Processing CHEMBL2336861 in molecule.smi (1480/1982). Average speed: 0,04 s/mol.\n",
      "Processing CHEMBL2336858 in molecule.smi (1481/1982). Average speed: 0,04 s/mol.\n",
      "Processing CHEMBL2336857 in molecule.smi (1482/1982). Average speed: 0,04 s/mol.\n",
      "Processing CHEMBL2137046 in molecule.smi (1483/1982). Average speed: 0,04 s/mol.\n",
      "Processing CHEMBL1093458 in molecule.smi (1484/1982). Average speed: 0,04 s/mol.\n",
      "Processing CHEMBL149791 in molecule.smi (1486/1982). Average speed: 0,04 s/mol.\n",
      "Processing CHEMBL2386286 in molecule.smi (1485/1982). Average speed: 0,04 s/mol.\n",
      "Processing CHEMBL2386285 in molecule.smi (1487/1982). Average speed: 0,04 s/mol.\n",
      "Processing CHEMBL3350384 in molecule.smi (1488/1982). Average speed: 0,04 s/mol.\n",
      "Processing CHEMBL2386285 in molecule.smi (1489/1982). Average speed: 0,04 s/mol.\n",
      "Processing CHEMBL3350384 in molecule.smi (1490/1982). Average speed: 0,04 s/mol.\n",
      "Processing CHEMBL2420688 in molecule.smi (1491/1982). Average speed: 0,04 s/mol.\n",
      "Processing CHEMBL2420687 in molecule.smi (1492/1982). Average speed: 0,04 s/mol.\n",
      "Processing CHEMBL2420684 in molecule.smi (1493/1982). Average speed: 0,04 s/mol.\n",
      "Processing CHEMBL2420683 in molecule.smi (1494/1982). Average speed: 0,04 s/mol.\n",
      "Processing CHEMBL2420682 in molecule.smi (1495/1982). Average speed: 0,04 s/mol.\n",
      "Processing CHEMBL2420681 in molecule.smi (1496/1982). Average speed: 0,04 s/mol.\n",
      "Processing CHEMBL2420680 in molecule.smi (1497/1982). Average speed: 0,04 s/mol.\n",
      "Processing CHEMBL2420678 in molecule.smi (1498/1982). Average speed: 0,04 s/mol.\n",
      "Processing CHEMBL2420677 in molecule.smi (1499/1982). Average speed: 0,04 s/mol.\n",
      "Processing CHEMBL2420676 in molecule.smi (1500/1982). Average speed: 0,04 s/mol.\n",
      "Processing CHEMBL2420674 in molecule.smi (1502/1982). Average speed: 0,04 s/mol.\n",
      "Processing CHEMBL2420675 in molecule.smi (1501/1982). Average speed: 0,04 s/mol.\n",
      "Processing CHEMBL371430 in molecule.smi (1503/1982). Average speed: 0,04 s/mol.\n",
      "Processing CHEMBL365735 in molecule.smi (1504/1982). Average speed: 0,04 s/mol.\n",
      "Processing CHEMBL2430197 in molecule.smi (1506/1982). Average speed: 0,04 s/mol.\n",
      "Processing CHEMBL9352 in molecule.smi (1505/1982). Average speed: 0,04 s/mol.\n",
      "Processing CHEMBL2430196 in molecule.smi (1507/1982). Average speed: 0,04 s/mol.\n",
      "Processing CHEMBL9352 in molecule.smi (1508/1982). Average speed: 0,04 s/mol.\n",
      "Processing CHEMBL2431526 in molecule.smi (1509/1982). Average speed: 0,04 s/mol.\n",
      "Processing CHEMBL2431525 in molecule.smi (1510/1982). Average speed: 0,04 s/mol.\n",
      "Processing CHEMBL2431524 in molecule.smi (1511/1982). Average speed: 0,04 s/mol.\n",
      "Processing CHEMBL2442763 in molecule.smi (1512/1982). Average speed: 0,04 s/mol.\n",
      "Processing CHEMBL2442762 in molecule.smi (1513/1982). Average speed: 0,04 s/mol.\n",
      "Processing CHEMBL2442761 in molecule.smi (1514/1982). Average speed: 0,04 s/mol.\n",
      "Processing CHEMBL2442760 in molecule.smi (1515/1982). Average speed: 0,04 s/mol.\n",
      "Processing CHEMBL2442759 in molecule.smi (1516/1982). Average speed: 0,04 s/mol.\n",
      "Processing CHEMBL2442758 in molecule.smi (1517/1982). Average speed: 0,04 s/mol.\n",
      "Processing CHEMBL2442757 in molecule.smi (1518/1982). Average speed: 0,04 s/mol.\n",
      "Processing CHEMBL2442756 in molecule.smi (1519/1982). Average speed: 0,04 s/mol.\n",
      "Processing CHEMBL2442755 in molecule.smi (1520/1982). Average speed: 0,04 s/mol.\n",
      "Processing CHEMBL2442754 in molecule.smi (1521/1982). Average speed: 0,04 s/mol.\n",
      "Processing CHEMBL2442753 in molecule.smi (1522/1982). Average speed: 0,04 s/mol.\n",
      "Processing CHEMBL2440145 in molecule.smi (1523/1982). Average speed: 0,04 s/mol.\n",
      "Processing CHEMBL2442772 in molecule.smi (1524/1982). Average speed: 0,04 s/mol.\n",
      "Processing CHEMBL2442771 in molecule.smi (1525/1982). Average speed: 0,04 s/mol.\n",
      "Processing CHEMBL2442769 in molecule.smi (1527/1982). Average speed: 0,04 s/mol.\n",
      "Processing CHEMBL2442770 in molecule.smi (1526/1982). Average speed: 0,04 s/mol.\n",
      "Processing CHEMBL2442768 in molecule.smi (1528/1982). Average speed: 0,04 s/mol.\n",
      "Processing CHEMBL3099735 in molecule.smi (1530/1982). Average speed: 0,04 s/mol.\n",
      "Processing CHEMBL1095413 in molecule.smi (1531/1982). Average speed: 0,04 s/mol.\n",
      "Processing CHEMBL2442767 in molecule.smi (1529/1982). Average speed: 0,04 s/mol.\n",
      "Processing CHEMBL3099734 in molecule.smi (1532/1982). Average speed: 0,04 s/mol.\n",
      "Processing CHEMBL3099695 in molecule.smi (1533/1982). Average speed: 0,04 s/mol.\n",
      "Processing CHEMBL3099686 in molecule.smi (1534/1982). Average speed: 0,04 s/mol.\n",
      "Processing CHEMBL3099683 in molecule.smi (1535/1982). Average speed: 0,04 s/mol.\n",
      "Processing CHEMBL2011186 in molecule.smi (1536/1982). Average speed: 0,04 s/mol.\n",
      "Processing CHEMBL274318 in molecule.smi (1537/1982). Average speed: 0,04 s/mol.\n",
      "Processing CHEMBL275638 in molecule.smi (1538/1982). Average speed: 0,04 s/mol.\n",
      "Processing CHEMBL1444 in molecule.smi (1539/1982). Average speed: 0,04 s/mol.\n",
      "Processing CHEMBL3105527 in molecule.smi (1540/1982). Average speed: 0,04 s/mol.\n",
      "Processing CHEMBL3105526 in molecule.smi (1541/1982). Average speed: 0,04 s/mol.\n",
      "Processing CHEMBL3105524 in molecule.smi (1542/1982). Average speed: 0,04 s/mol.\n",
      "Processing CHEMBL3105522 in molecule.smi (1543/1982). Average speed: 0,04 s/mol.\n",
      "Processing CHEMBL3105521 in molecule.smi (1544/1982). Average speed: 0,04 s/mol.\n",
      "Processing CHEMBL3105520 in molecule.smi (1545/1982). Average speed: 0,04 s/mol.\n",
      "Processing CHEMBL3105519 in molecule.smi (1546/1982). Average speed: 0,04 s/mol.\n",
      "Processing CHEMBL3105517 in molecule.smi (1547/1982). Average speed: 0,04 s/mol.\n",
      "Processing CHEMBL3134108 in molecule.smi (1548/1982). Average speed: 0,04 s/mol.\n",
      "Processing CHEMBL3134107 in molecule.smi (1549/1982). Average speed: 0,04 s/mol.\n",
      "Processing CHEMBL399910 in molecule.smi (1550/1982). Average speed: 0,04 s/mol.\n",
      "Processing CHEMBL117 in molecule.smi (1551/1982). Average speed: 0,04 s/mol.\n",
      "Processing CHEMBL53343 in molecule.smi (1552/1982). Average speed: 0,04 s/mol.\n",
      "Processing CHEMBL3134111 in molecule.smi (1553/1982). Average speed: 0,04 s/mol.\n",
      "Processing CHEMBL3134115 in molecule.smi (1554/1982). Average speed: 0,04 s/mol.\n",
      "Processing CHEMBL3134110 in molecule.smi (1555/1982). Average speed: 0,04 s/mol.\n",
      "Processing CHEMBL3134114 in molecule.smi (1556/1982). Average speed: 0,04 s/mol.\n",
      "Processing CHEMBL3134112 in molecule.smi (1557/1982). Average speed: 0,04 s/mol.\n",
      "Processing CHEMBL3134109 in molecule.smi (1558/1982). Average speed: 0,04 s/mol.\n",
      "Processing CHEMBL3134113 in molecule.smi (1559/1982). Average speed: 0,04 s/mol.\n",
      "Processing CHEMBL1444 in molecule.smi (1560/1982). Average speed: 0,04 s/mol.\n",
      "Processing CHEMBL3134228 in molecule.smi (1561/1982). Average speed: 0,04 s/mol.\n",
      "Processing CHEMBL3221175 in molecule.smi (1562/1982). Average speed: 0,04 s/mol.\n",
      "Processing CHEMBL3219070 in molecule.smi (1563/1982). Average speed: 0,04 s/mol.\n",
      "Processing CHEMBL1444 in molecule.smi (1564/1982). Average speed: 0,04 s/mol.\n",
      "Processing CHEMBL159073 in molecule.smi (1565/1982). Average speed: 0,04 s/mol.\n",
      "Processing CHEMBL1083665 in molecule.smi (1566/1982). Average speed: 0,04 s/mol.\n",
      "Processing CHEMBL132530 in molecule.smi (1567/1982). Average speed: 0,04 s/mol.\n",
      "Processing CHEMBL3359965 in molecule.smi (1568/1982). Average speed: 0,04 s/mol.\n",
      "Processing CHEMBL3359964 in molecule.smi (1569/1982). Average speed: 0,04 s/mol.\n",
      "Processing CHEMBL3359963 in molecule.smi (1570/1982). Average speed: 0,04 s/mol.\n"
     ]
    },
    {
     "name": "stdout",
     "output_type": "stream",
     "text": [
      "Processing CHEMBL3359958 in molecule.smi (1571/1982). Average speed: 0,04 s/mol.\n",
      "Processing CHEMBL1688901 in molecule.smi (1572/1982). Average speed: 0,04 s/mol.\n",
      "Processing CHEMBL1688900 in molecule.smi (1573/1982). Average speed: 0,04 s/mol.\n",
      "Processing CHEMBL3359955 in molecule.smi (1575/1982). Average speed: 0,04 s/mol.\n",
      "Processing CHEMBL3359956 in molecule.smi (1574/1982). Average speed: 0,04 s/mol.\n",
      "Processing CHEMBL3359954 in molecule.smi (1576/1982). Average speed: 0,04 s/mol.\n",
      "Processing CHEMBL1688898 in molecule.smi (1577/1982). Average speed: 0,04 s/mol.\n",
      "Processing CHEMBL3359953 in molecule.smi (1578/1982). Average speed: 0,04 s/mol.\n",
      "Processing CHEMBL1688899 in molecule.smi (1579/1982). Average speed: 0,04 s/mol.\n",
      "Processing CHEMBL3359952 in molecule.smi (1580/1982). Average speed: 0,04 s/mol.\n",
      "Processing CHEMBL1688895 in molecule.smi (1581/1982). Average speed: 0,04 s/mol.\n",
      "Processing CHEMBL1688894 in molecule.smi (1582/1982). Average speed: 0,04 s/mol.\n",
      "Processing CHEMBL1688892 in molecule.smi (1583/1982). Average speed: 0,04 s/mol.\n",
      "Processing CHEMBL1688891 in molecule.smi (1584/1982). Average speed: 0,04 s/mol.\n",
      "Processing CHEMBL1688893 in molecule.smi (1585/1982). Average speed: 0,04 s/mol.\n",
      "Processing CHEMBL225499 in molecule.smi (1586/1982). Average speed: 0,04 s/mol.\n",
      "Processing CHEMBL9298 in molecule.smi (1587/1982). Average speed: 0,04 s/mol.\n",
      "Processing CHEMBL3315157 in molecule.smi (1588/1982). Average speed: 0,04 s/mol.\n",
      "Processing CHEMBL9352 in molecule.smi (1589/1982). Average speed: 0,04 s/mol.\n",
      "Processing CHEMBL1200374 in molecule.smi (1590/1982). Average speed: 0,04 s/mol.\n",
      "Processing CHEMBL3407539 in molecule.smi (1591/1982). Average speed: 0,04 s/mol.\n",
      "Processing CHEMBL3407538 in molecule.smi (1592/1982). Average speed: 0,04 s/mol.\n",
      "Processing CHEMBL3407539 in molecule.smi (1593/1982). Average speed: 0,04 s/mol.\n",
      "Processing CHEMBL3415156 in molecule.smi (1594/1982). Average speed: 0,04 s/mol.\n",
      "Processing CHEMBL3415160 in molecule.smi (1595/1982). Average speed: 0,04 s/mol.\n",
      "Processing CHEMBL3415161 in molecule.smi (1596/1982). Average speed: 0,04 s/mol.\n",
      "Processing CHEMBL3415162 in molecule.smi (1597/1982). Average speed: 0,04 s/mol.\n",
      "Processing CHEMBL3415163 in molecule.smi (1598/1982). Average speed: 0,04 s/mol.\n",
      "Processing CHEMBL3415164 in molecule.smi (1599/1982). Average speed: 0,04 s/mol.\n",
      "Processing CHEMBL3415165 in molecule.smi (1600/1982). Average speed: 0,04 s/mol.\n",
      "Processing CHEMBL3415166 in molecule.smi (1601/1982). Average speed: 0,04 s/mol.\n",
      "Processing CHEMBL3415167 in molecule.smi (1602/1982). Average speed: 0,04 s/mol.\n",
      "Processing CHEMBL3415168 in molecule.smi (1603/1982). Average speed: 0,04 s/mol.\n",
      "Processing CHEMBL2331699 in molecule.smi (1604/1982). Average speed: 0,04 s/mol.\n",
      "Processing CHEMBL3415171 in molecule.smi (1605/1982). Average speed: 0,04 s/mol.\n",
      "Processing CHEMBL3415172 in molecule.smi (1606/1982). Average speed: 0,04 s/mol.\n",
      "Processing CHEMBL3313969 in molecule.smi (1607/1982). Average speed: 0,04 s/mol.\n",
      "Processing CHEMBL3415173 in molecule.smi (1608/1982). Average speed: 0,04 s/mol.\n",
      "Processing CHEMBL3415174 in molecule.smi (1609/1982). Average speed: 0,04 s/mol.\n",
      "Processing CHEMBL3415175 in molecule.smi (1610/1982). Average speed: 0,04 s/mol.\n",
      "Processing CHEMBL428780 in molecule.smi (1611/1982). Average speed: 0,04 s/mol.\n",
      "Processing CHEMBL2417553 in molecule.smi (1612/1982). Average speed: 0,04 s/mol.\n",
      "Processing CHEMBL2165320 in molecule.smi (1613/1982). Average speed: 0,04 s/mol.\n",
      "Processing CHEMBL934 in molecule.smi (1614/1982). Average speed: 0,04 s/mol.\n",
      "Processing CHEMBL3421765 in molecule.smi (1615/1982). Average speed: 0,04 s/mol.\n",
      "Processing CHEMBL3421768 in molecule.smi (1618/1982). Average speed: 0,04 s/mol.\n",
      "Processing CHEMBL3421767 in molecule.smi (1617/1982). Average speed: 0,04 s/mol.\n",
      "Processing CHEMBL3421766 in molecule.smi (1616/1982). Average speed: 0,04 s/mol.\n",
      "Processing CHEMBL3421769 in molecule.smi (1619/1982). Average speed: 0,04 s/mol.\n",
      "Processing CHEMBL3421770 in molecule.smi (1620/1982). Average speed: 0,04 s/mol.\n",
      "Processing CHEMBL3421779 in molecule.smi (1621/1982). Average speed: 0,04 s/mol.\n",
      "Processing CHEMBL3421780 in molecule.smi (1622/1982). Average speed: 0,04 s/mol.\n",
      "Processing CHEMBL3421785 in molecule.smi (1623/1982). Average speed: 0,04 s/mol.\n",
      "Processing CHEMBL3421786 in molecule.smi (1624/1982). Average speed: 0,04 s/mol.\n",
      "Processing CHEMBL3421764 in molecule.smi (1625/1982). Average speed: 0,04 s/mol.\n",
      "Processing CHEMBL3422044 in molecule.smi (1626/1982). Average speed: 0,04 s/mol.\n",
      "Processing CHEMBL3422043 in molecule.smi (1627/1982). Average speed: 0,04 s/mol.\n",
      "Processing CHEMBL3422042 in molecule.smi (1628/1982). Average speed: 0,04 s/mol.\n",
      "Processing CHEMBL3422041 in molecule.smi (1629/1982). Average speed: 0,04 s/mol.\n",
      "Processing CHEMBL3422040 in molecule.smi (1630/1982). Average speed: 0,04 s/mol.\n",
      "Processing CHEMBL3422039 in molecule.smi (1631/1982). Average speed: 0,04 s/mol.\n",
      "Processing CHEMBL3422038 in molecule.smi (1632/1982). Average speed: 0,04 s/mol.\n",
      "Processing CHEMBL3422037 in molecule.smi (1633/1982). Average speed: 0,04 s/mol.\n",
      "Processing CHEMBL3422036 in molecule.smi (1634/1982). Average speed: 0,04 s/mol.\n",
      "Processing CHEMBL3422035 in molecule.smi (1635/1982). Average speed: 0,04 s/mol.\n",
      "Processing CHEMBL3422034 in molecule.smi (1636/1982). Average speed: 0,04 s/mol.\n",
      "Processing CHEMBL3422033 in molecule.smi (1637/1982). Average speed: 0,04 s/mol.\n",
      "Processing CHEMBL3422032 in molecule.smi (1638/1982). Average speed: 0,04 s/mol.\n",
      "Processing CHEMBL3422031 in molecule.smi (1639/1982). Average speed: 0,04 s/mol.\n",
      "Processing CHEMBL3422030 in molecule.smi (1640/1982). Average speed: 0,04 s/mol.\n",
      "Processing CHEMBL3422029 in molecule.smi (1641/1982). Average speed: 0,04 s/mol.\n",
      "Processing CHEMBL3422045 in molecule.smi (1642/1982). Average speed: 0,04 s/mol.\n",
      "Processing CHEMBL3422046 in molecule.smi (1643/1982). Average speed: 0,04 s/mol.\n",
      "Processing CHEMBL3422050 in molecule.smi (1644/1982). Average speed: 0,04 s/mol.\n",
      "Processing CHEMBL3422051 in molecule.smi (1645/1982). Average speed: 0,04 s/mol.\n",
      "Processing CHEMBL3422052 in molecule.smi (1646/1982). Average speed: 0,04 s/mol.\n",
      "Processing CHEMBL2386285 in molecule.smi (1647/1982). Average speed: 0,04 s/mol.\n",
      "Processing CHEMBL1444 in molecule.smi (1648/1982). Average speed: 0,04 s/mol.\n",
      "Processing CHEMBL3582472 in molecule.smi (1649/1982). Average speed: 0,04 s/mol.\n",
      "Processing CHEMBL3582477 in molecule.smi (1650/1982). Average speed: 0,04 s/mol.\n",
      "Processing CHEMBL3582478 in molecule.smi (1651/1982). Average speed: 0,04 s/mol.\n",
      "Processing CHEMBL2430505 in molecule.smi (1652/1982). Average speed: 0,04 s/mol.\n",
      "Processing CHEMBL2430506 in molecule.smi (1653/1982). Average speed: 0,04 s/mol.\n",
      "Processing CHEMBL2430511 in molecule.smi (1654/1982). Average speed: 0,04 s/mol.\n",
      "Processing CHEMBL2430497 in molecule.smi (1655/1982). Average speed: 0,04 s/mol.\n",
      "Processing CHEMBL2430498 in molecule.smi (1656/1982). Average speed: 0,04 s/mol.\n",
      "Processing CHEMBL2430499 in molecule.smi (1657/1982). Average speed: 0,04 s/mol.\n",
      "Processing CHEMBL2430501 in molecule.smi (1658/1982). Average speed: 0,04 s/mol.\n",
      "Processing CHEMBL3264672 in molecule.smi (1659/1982). Average speed: 0,04 s/mol.\n",
      "Processing CHEMBL3264675 in molecule.smi (1660/1982). Average speed: 0,04 s/mol.\n",
      "Processing CHEMBL3264684 in molecule.smi (1661/1982). Average speed: 0,04 s/mol.\n",
      "Processing CHEMBL3264679 in molecule.smi (1662/1982). Average speed: 0,04 s/mol.\n",
      "Processing CHEMBL3264682 in molecule.smi (1663/1982). Average speed: 0,04 s/mol.\n",
      "Processing CHEMBL3264681 in molecule.smi (1664/1982). Average speed: 0,04 s/mol.\n",
      "Processing CHEMBL3264685 in molecule.smi (1665/1982). Average speed: 0,04 s/mol.\n",
      "Processing CHEMBL3589965 in molecule.smi (1666/1982). Average speed: 0,04 s/mol.\n",
      "Processing CHEMBL3589966 in molecule.smi (1667/1982). Average speed: 0,04 s/mol.\n",
      "Processing CHEMBL157101 in molecule.smi (1668/1982). Average speed: 0,04 s/mol.\n",
      "Processing CHEMBL430879 in molecule.smi (1669/1982). Average speed: 0,04 s/mol.\n",
      "Processing CHEMBL3622054 in molecule.smi (1670/1982). Average speed: 0,04 s/mol.\n",
      "Processing CHEMBL3622055 in molecule.smi (1671/1982). Average speed: 0,04 s/mol.\n",
      "Processing CHEMBL3622056 in molecule.smi (1672/1982). Average speed: 0,04 s/mol.\n",
      "Processing CHEMBL3622057 in molecule.smi (1673/1982). Average speed: 0,04 s/mol.\n"
     ]
    },
    {
     "name": "stdout",
     "output_type": "stream",
     "text": [
      "Processing CHEMBL3622058 in molecule.smi (1674/1982). Average speed: 0,04 s/mol.\n",
      "Processing CHEMBL3622060 in molecule.smi (1675/1982). Average speed: 0,04 s/mol.\n",
      "Processing CHEMBL3622061 in molecule.smi (1676/1982). Average speed: 0,04 s/mol.\n",
      "Processing CHEMBL3622062 in molecule.smi (1677/1982). Average speed: 0,04 s/mol.\n",
      "Processing CHEMBL3622063 in molecule.smi (1678/1982). Average speed: 0,04 s/mol.\n",
      "Processing CHEMBL3622065 in molecule.smi (1679/1982). Average speed: 0,04 s/mol.\n",
      "Processing CHEMBL3622066 in molecule.smi (1680/1982). Average speed: 0,04 s/mol.\n",
      "Processing CHEMBL3622067 in molecule.smi (1681/1982). Average speed: 0,04 s/mol.\n",
      "Processing CHEMBL479559 in molecule.smi (1682/1982). Average speed: 0,04 s/mol.\n",
      "Processing CHEMBL224060 in molecule.smi (1683/1982). Average speed: 0,04 s/mol.\n",
      "Processing CHEMBL592131 in molecule.smi (1684/1982). Average speed: 0,04 s/mol.\n",
      "Processing CHEMBL597808 in molecule.smi (1685/1982). Average speed: 0,04 s/mol.\n",
      "Processing CHEMBL1399 in molecule.smi (1686/1982). Average speed: 0,04 s/mol.\n",
      "Processing CHEMBL3622069 in molecule.smi (1687/1982). Average speed: 0,04 s/mol.\n",
      "Processing CHEMBL3622070 in molecule.smi (1688/1982). Average speed: 0,04 s/mol.\n",
      "Processing CHEMBL3622072 in molecule.smi (1690/1982). Average speed: 0,04 s/mol.\n",
      "Processing CHEMBL3622071 in molecule.smi (1689/1982). Average speed: 0,04 s/mol.\n",
      "Processing CHEMBL3622075 in molecule.smi (1691/1982). Average speed: 0,04 s/mol.\n",
      "Processing CHEMBL3622076 in molecule.smi (1692/1982). Average speed: 0,04 s/mol.\n",
      "Processing CHEMBL108425 in molecule.smi (1693/1982). Average speed: 0,04 s/mol.\n",
      "Processing CHEMBL3623218 in molecule.smi (1694/1982). Average speed: 0,04 s/mol.\n",
      "Processing CHEMBL3623217 in molecule.smi (1695/1982). Average speed: 0,04 s/mol.\n",
      "Processing CHEMBL3623216 in molecule.smi (1696/1982). Average speed: 0,04 s/mol.\n",
      "Processing CHEMBL2282050 in molecule.smi (1697/1982). Average speed: 0,04 s/mol.\n",
      "Processing CHEMBL3623214 in molecule.smi (1698/1982). Average speed: 0,04 s/mol.\n",
      "Processing CHEMBL3623213 in molecule.smi (1699/1982). Average speed: 0,04 s/mol.\n",
      "Processing CHEMBL2003274 in molecule.smi (1700/1982). Average speed: 0,04 s/mol.\n",
      "Processing CHEMBL3621226 in molecule.smi (1701/1982). Average speed: 0,04 s/mol.\n",
      "Processing CHEMBL3623209 in molecule.smi (1702/1982). Average speed: 0,04 s/mol.\n",
      "Processing CHEMBL3623219 in molecule.smi (1703/1982). Average speed: 0,04 s/mol.\n",
      "Processing CHEMBL3623223 in molecule.smi (1704/1982). Average speed: 0,04 s/mol.\n",
      "Processing CHEMBL3623229 in molecule.smi (1705/1982). Average speed: 0,04 s/mol.\n",
      "Processing CHEMBL3623230 in molecule.smi (1706/1982). Average speed: 0,04 s/mol.\n",
      "Processing CHEMBL117 in molecule.smi (1707/1982). Average speed: 0,04 s/mol.\n",
      "Processing CHEMBL294361 in molecule.smi (1708/1982). Average speed: 0,04 s/mol.\n",
      "Processing CHEMBL188664 in molecule.smi (1709/1982). Average speed: 0,04 s/mol.\n",
      "Processing CHEMBL3623227 in molecule.smi (1710/1982). Average speed: 0,04 s/mol.\n",
      "Processing CHEMBL3623228 in molecule.smi (1711/1982). Average speed: 0,04 s/mol.\n",
      "Processing CHEMBL421149 in molecule.smi (1712/1982). Average speed: 0,04 s/mol.\n",
      "Processing CHEMBL159073 in molecule.smi (1713/1982). Average speed: 0,04 s/mol.\n",
      "Processing CHEMBL437731 in molecule.smi (1714/1982). Average speed: 0,04 s/mol.\n",
      "Processing CHEMBL479942 in molecule.smi (1715/1982). Average speed: 0,04 s/mol.\n",
      "Processing CHEMBL518761 in molecule.smi (1716/1982). Average speed: 0,04 s/mol.\n",
      "Processing CHEMBL3623231 in molecule.smi (1717/1982). Average speed: 0,04 s/mol.\n",
      "Processing CHEMBL3623232 in molecule.smi (1718/1982). Average speed: 0,04 s/mol.\n",
      "Processing CHEMBL3623212 in molecule.smi (1719/1982). Average speed: 0,04 s/mol.\n",
      "Processing CHEMBL3623220 in molecule.smi (1720/1982). Average speed: 0,04 s/mol.\n",
      "Processing CHEMBL3623221 in molecule.smi (1721/1982). Average speed: 0,04 s/mol.\n",
      "Processing CHEMBL3622434 in molecule.smi (1722/1982). Average speed: 0,04 s/mol.\n",
      "Processing CHEMBL3622437 in molecule.smi (1723/1982). Average speed: 0,04 s/mol.\n",
      "Processing CHEMBL2331704 in molecule.smi (1724/1982). Average speed: 0,04 s/mol.\n",
      "Processing CHEMBL3747562 in molecule.smi (1726/1982). Average speed: 0,04 s/mol.\n",
      "Processing CHEMBL3622445 in molecule.smi (1725/1982). Average speed: 0,04 s/mol.\n",
      "Processing CHEMBL3752414 in molecule.smi (1727/1982). Average speed: 0,04 s/mol.\n",
      "Processing CHEMBL3753169 in molecule.smi (1728/1982). Average speed: 0,04 s/mol.\n",
      "Processing CHEMBL3753307 in molecule.smi (1729/1982). Average speed: 0,04 s/mol.\n",
      "Processing CHEMBL3753403 in molecule.smi (1730/1982). Average speed: 0,04 s/mol.\n",
      "Processing CHEMBL132530 in molecule.smi (1731/1982). Average speed: 0,04 s/mol.\n",
      "Processing CHEMBL3754183 in molecule.smi (1732/1982). Average speed: 0,04 s/mol.\n",
      "Processing CHEMBL3753352 in molecule.smi (1733/1982). Average speed: 0,04 s/mol.\n",
      "Processing CHEMBL3753611 in molecule.smi (1734/1982). Average speed: 0,04 s/mol.\n",
      "Processing CHEMBL3754516 in molecule.smi (1735/1982). Average speed: 0,04 s/mol.\n",
      "Processing CHEMBL3752351 in molecule.smi (1736/1982). Average speed: 0,04 s/mol.\n",
      "Processing CHEMBL3752280 in molecule.smi (1737/1982). Average speed: 0,04 s/mol.\n",
      "Processing CHEMBL3754241 in molecule.smi (1738/1982). Average speed: 0,04 s/mol.\n",
      "Processing CHEMBL3754489 in molecule.smi (1739/1982). Average speed: 0,04 s/mol.\n",
      "Processing CHEMBL484584 in molecule.smi (1740/1982). Average speed: 0,04 s/mol.\n",
      "Processing CHEMBL2113524 in molecule.smi (1741/1982). Average speed: 0,04 s/mol.\n",
      "Processing CHEMBL3752892 in molecule.smi (1742/1982). Average speed: 0,04 s/mol.\n",
      "Processing CHEMBL3754538 in molecule.smi (1743/1982). Average speed: 0,04 s/mol.\n",
      "Processing CHEMBL1629804 in molecule.smi (1744/1982). Average speed: 0,04 s/mol.\n",
      "Processing CHEMBL1629802 in molecule.smi (1745/1982). Average speed: 0,04 s/mol.\n",
      "Processing CHEMBL1077603 in molecule.smi (1746/1982). Average speed: 0,04 s/mol.\n",
      "Processing CHEMBL3623217 in molecule.smi (1747/1982). Average speed: 0,04 s/mol.\n",
      "Processing CHEMBL3753645 in molecule.smi (1748/1982). Average speed: 0,04 s/mol.\n",
      "Processing CHEMBL3751946 in molecule.smi (1749/1982). Average speed: 0,04 s/mol.\n",
      "Processing CHEMBL3753463 in molecule.smi (1750/1982). Average speed: 0,04 s/mol.\n",
      "Processing CHEMBL3752191 in molecule.smi (1751/1982). Average speed: 0,04 s/mol.\n",
      "Processing CHEMBL3623213 in molecule.smi (1752/1982). Average speed: 0,04 s/mol.\n",
      "Processing CHEMBL3623214 in molecule.smi (1753/1982). Average speed: 0,04 s/mol.\n",
      "Processing CHEMBL3753842 in molecule.smi (1754/1982). Average speed: 0,04 s/mol.\n",
      "Processing CHEMBL3753778 in molecule.smi (1755/1982). Average speed: 0,04 s/mol.\n",
      "Processing CHEMBL3752381 in molecule.smi (1756/1982). Average speed: 0,04 s/mol.\n",
      "Processing CHEMBL3623223 in molecule.smi (1757/1982). Average speed: 0,04 s/mol.\n",
      "Processing CHEMBL3753182 in molecule.smi (1758/1982). Average speed: 0,04 s/mol.\n",
      "Processing CHEMBL3752510 in molecule.smi (1759/1982). Average speed: 0,04 s/mol.\n",
      "Processing CHEMBL3753104 in molecule.smi (1760/1982). Average speed: 0,04 s/mol.\n",
      "Processing CHEMBL3752050 in molecule.smi (1761/1982). Average speed: 0,04 s/mol.\n",
      "Processing CHEMBL3752637 in molecule.smi (1762/1982). Average speed: 0,04 s/mol.\n",
      "Processing CHEMBL3623216 in molecule.smi (1763/1982). Average speed: 0,04 s/mol.\n",
      "Processing CHEMBL3623215 in molecule.smi (1764/1982). Average speed: 0,04 s/mol.\n",
      "Processing CHEMBL3754253 in molecule.smi (1765/1982). Average speed: 0,04 s/mol.\n",
      "Processing CHEMBL3754378 in molecule.smi (1766/1982). Average speed: 0,04 s/mol.\n",
      "Processing CHEMBL3623212 in molecule.smi (1767/1982). Average speed: 0,04 s/mol.\n",
      "Processing CHEMBL3754157 in molecule.smi (1768/1982). Average speed: 0,04 s/mol.\n",
      "Processing CHEMBL3751913 in molecule.smi (1769/1982). Average speed: 0,04 s/mol.\n",
      "Processing CHEMBL3751984 in molecule.smi (1770/1982). Average speed: 0,04 s/mol.\n",
      "Processing CHEMBL2003274 in molecule.smi (1771/1982). Average speed: 0,04 s/mol.\n",
      "Processing CHEMBL3752285 in molecule.smi (1772/1982). Average speed: 0,04 s/mol.\n",
      "Processing CHEMBL3794430 in molecule.smi (1773/1982). Average speed: 0,04 s/mol.\n",
      "Processing CHEMBL3793091 in molecule.smi (1774/1982). Average speed: 0,04 s/mol.\n",
      "Processing CHEMBL3794417 in molecule.smi (1775/1982). Average speed: 0,04 s/mol.\n",
      "Processing CHEMBL3793530 in molecule.smi (1776/1982). Average speed: 0,04 s/mol.\n"
     ]
    },
    {
     "name": "stdout",
     "output_type": "stream",
     "text": [
      "Processing CHEMBL3799363 in molecule.smi (1777/1982). Average speed: 0,04 s/mol.\n",
      "Processing CHEMBL3799189 in molecule.smi (1778/1982). Average speed: 0,04 s/mol.\n",
      "Processing CHEMBL3805481 in molecule.smi (1780/1982). Average speed: 0,04 s/mol.\n",
      "Processing CHEMBL3805310 in molecule.smi (1779/1982). Average speed: 0,04 s/mol.\n",
      "Processing CHEMBL3805211 in molecule.smi (1781/1982). Average speed: 0,04 s/mol.\n",
      "Processing CHEMBL3806151 in molecule.smi (1782/1982). Average speed: 0,04 s/mol.\n",
      "Processing CHEMBL3805678 in molecule.smi (1783/1982). Average speed: 0,04 s/mol.\n",
      "Processing CHEMBL3806159 in molecule.smi (1784/1982). Average speed: 0,04 s/mol.\n",
      "Processing CHEMBL3806046 in molecule.smi (1785/1982). Average speed: 0,04 s/mol.\n",
      "Processing CHEMBL3805814 in molecule.smi (1786/1982). Average speed: 0,04 s/mol.\n",
      "Processing CHEMBL3805008 in molecule.smi (1788/1982). Average speed: 0,04 s/mol.\n",
      "Processing CHEMBL3804993 in molecule.smi (1787/1982). Average speed: 0,04 s/mol.\n",
      "Processing CHEMBL3805539 in molecule.smi (1789/1982). Average speed: 0,04 s/mol.\n",
      "Processing CHEMBL1784801 in molecule.smi (1790/1982). Average speed: 0,04 s/mol.\n",
      "Processing CHEMBL100749 in molecule.smi (1791/1982). Average speed: 0,04 s/mol.\n",
      "Processing CHEMBL1093458 in molecule.smi (1792/1982). Average speed: 0,04 s/mol.\n",
      "Processing CHEMBL2386284 in molecule.smi (1793/1982). Average speed: 0,04 s/mol.\n",
      "Processing CHEMBL3623217 in molecule.smi (1794/1982). Average speed: 0,04 s/mol.\n",
      "Processing CHEMBL3623216 in molecule.smi (1795/1982). Average speed: 0,04 s/mol.\n",
      "Processing CHEMBL3818725 in molecule.smi (1796/1982). Average speed: 0,04 s/mol.\n",
      "Processing CHEMBL3819184 in molecule.smi (1797/1982). Average speed: 0,04 s/mol.\n",
      "Processing CHEMBL3819549 in molecule.smi (1798/1982). Average speed: 0,04 s/mol.\n",
      "Processing CHEMBL3818338 in molecule.smi (1799/1982). Average speed: 0,04 s/mol.\n",
      "Processing CHEMBL3818728 in molecule.smi (1800/1982). Average speed: 0,04 s/mol.\n",
      "Processing CHEMBL1399 in molecule.smi (1801/1982). Average speed: 0,04 s/mol.\n",
      "Processing CHEMBL9298 in molecule.smi (1802/1982). Average speed: 0,04 s/mol.\n",
      "Processing CHEMBL132530 in molecule.smi (1803/1982). Average speed: 0,04 s/mol.\n",
      "Processing CHEMBL3818720 in molecule.smi (1805/1982). Average speed: 0,04 s/mol.\n",
      "Processing CHEMBL488 in molecule.smi (1804/1982). Average speed: 0,04 s/mol.\n",
      "Processing CHEMBL437731 in molecule.smi (1806/1982). Average speed: 0,04 s/mol.\n",
      "Processing CHEMBL3623228 in molecule.smi (1807/1982). Average speed: 0,04 s/mol.\n",
      "Processing CHEMBL3942918 in molecule.smi (1808/1982). Average speed: 0,04 s/mol.\n",
      "Processing CHEMBL3961033 in molecule.smi (1809/1982). Average speed: 0,04 s/mol.\n",
      "Processing CHEMBL3905734 in molecule.smi (1810/1982). Average speed: 0,04 s/mol.\n",
      "Processing CHEMBL1444 in molecule.smi (1811/1982). Average speed: 0,04 s/mol.\n",
      "Processing CHEMBL157101 in molecule.smi (1812/1982). Average speed: 0,04 s/mol.\n",
      "Processing CHEMBL3913908 in molecule.smi (1813/1982). Average speed: 0,04 s/mol.\n",
      "Processing CHEMBL3894912 in molecule.smi (1814/1982). Average speed: 0,04 s/mol.\n",
      "Processing CHEMBL3922888 in molecule.smi (1815/1982). Average speed: 0,04 s/mol.\n",
      "Processing CHEMBL3964421 in molecule.smi (1816/1982). Average speed: 0,04 s/mol.\n",
      "Processing CHEMBL3931836 in molecule.smi (1817/1982). Average speed: 0,04 s/mol.\n",
      "Processing CHEMBL3923127 in molecule.smi (1818/1982). Average speed: 0,04 s/mol.\n",
      "Processing CHEMBL3924170 in molecule.smi (1819/1982). Average speed: 0,04 s/mol.\n",
      "Processing CHEMBL197576 in molecule.smi (1820/1982). Average speed: 0,04 s/mol.\n",
      "Processing CHEMBL206283 in molecule.smi (1821/1982). Average speed: 0,04 s/mol.\n",
      "Processing CHEMBL206070 in molecule.smi (1822/1982). Average speed: 0,04 s/mol.\n",
      "Processing CHEMBL9298 in molecule.smi (1823/1982). Average speed: 0,04 s/mol.\n",
      "Processing CHEMBL9298 in molecule.smi (1824/1982). Average speed: 0,04 s/mol.\n",
      "Processing CHEMBL488 in molecule.smi (1825/1982). Average speed: 0,04 s/mol.\n",
      "Processing CHEMBL4070331 in molecule.smi (1826/1982). Average speed: 0,04 s/mol.\n",
      "Processing CHEMBL4091260 in molecule.smi (1827/1982). Average speed: 0,04 s/mol.\n",
      "Processing CHEMBL4098990 in molecule.smi (1829/1982). Average speed: 0,04 s/mol.\n",
      "Processing CHEMBL4080965 in molecule.smi (1828/1982). Average speed: 0,04 s/mol.\n",
      "Processing CHEMBL4099909 in molecule.smi (1830/1982). Average speed: 0,04 s/mol.\n",
      "Processing CHEMBL1650709 in molecule.smi (1831/1982). Average speed: 0,04 s/mol.\n",
      "Processing CHEMBL4100188 in molecule.smi (1832/1982). Average speed: 0,04 s/mol.\n",
      "Processing CHEMBL4074186 in molecule.smi (1833/1982). Average speed: 0,04 s/mol.\n",
      "Processing CHEMBL4105495 in molecule.smi (1834/1982). Average speed: 0,04 s/mol.\n",
      "Processing CHEMBL4087613 in molecule.smi (1835/1982). Average speed: 0,04 s/mol.\n",
      "Processing CHEMBL4063099 in molecule.smi (1836/1982). Average speed: 0,04 s/mol.\n",
      "Processing CHEMBL4095313 in molecule.smi (1837/1982). Average speed: 0,04 s/mol.\n",
      "Processing CHEMBL4078790 in molecule.smi (1838/1982). Average speed: 0,04 s/mol.\n",
      "Processing CHEMBL488 in molecule.smi (1840/1982). Average speed: 0,04 s/mol.\n",
      "Processing CHEMBL1430816 in molecule.smi (1839/1982). Average speed: 0,04 s/mol.\n",
      "Processing CHEMBL4060208 in molecule.smi (1841/1982). Average speed: 0,04 s/mol.\n",
      "Processing CHEMBL4098604 in molecule.smi (1842/1982). Average speed: 0,04 s/mol.\n",
      "Processing CHEMBL4068601 in molecule.smi (1843/1982). Average speed: 0,04 s/mol.\n",
      "Processing CHEMBL106 in molecule.smi (1845/1982). Average speed: 0,04 s/mol.\n",
      "Processing CHEMBL1444 in molecule.smi (1844/1982). Average speed: 0,04 s/mol.\n",
      "Processing CHEMBL4077246 in molecule.smi (1846/1982). Average speed: 0,04 s/mol.\n",
      "Processing CHEMBL75 in molecule.smi (1847/1982). Average speed: 0,04 s/mol.\n",
      "Processing CHEMBL4129721 in molecule.smi (1848/1982). Average speed: 0,04 s/mol.\n",
      "Processing CHEMBL4126284 in molecule.smi (1849/1982). Average speed: 0,04 s/mol.\n",
      "Processing CHEMBL4128368 in molecule.smi (1850/1982). Average speed: 0,04 s/mol.\n",
      "Processing CHEMBL4170393 in molecule.smi (1851/1982). Average speed: 0,04 s/mol.\n",
      "Processing CHEMBL4172955 in molecule.smi (1852/1982). Average speed: 0,04 s/mol.\n",
      "Processing CHEMBL4165064 in molecule.smi (1853/1982). Average speed: 0,04 s/mol.\n",
      "Processing CHEMBL4174637 in molecule.smi (1854/1982). Average speed: 0,04 s/mol.\n",
      "Processing CHEMBL4163983 in molecule.smi (1855/1982). Average speed: 0,04 s/mol.\n",
      "Processing CHEMBL4159524 in molecule.smi (1856/1982). Average speed: 0,04 s/mol.\n",
      "Processing CHEMBL4167430 in molecule.smi (1857/1982). Average speed: 0,04 s/mol.\n",
      "Processing CHEMBL4167841 in molecule.smi (1858/1982). Average speed: 0,04 s/mol.\n",
      "Processing CHEMBL4159184 in molecule.smi (1859/1982). Average speed: 0,04 s/mol.\n",
      "Processing CHEMBL4162163 in molecule.smi (1860/1982). Average speed: 0,04 s/mol.\n",
      "Processing CHEMBL4173619 in molecule.smi (1861/1982). Average speed: 0,04 s/mol.\n",
      "Processing CHEMBL4162907 in molecule.smi (1862/1982). Average speed: 0,04 s/mol.\n",
      "Processing CHEMBL4170175 in molecule.smi (1863/1982). Average speed: 0,04 s/mol.\n",
      "Processing CHEMBL4159550 in molecule.smi (1864/1982). Average speed: 0,04 s/mol.\n",
      "Processing CHEMBL4166769 in molecule.smi (1865/1982). Average speed: 0,04 s/mol.\n",
      "Processing CHEMBL4174670 in molecule.smi (1866/1982). Average speed: 0,04 s/mol.\n",
      "Processing CHEMBL4168266 in molecule.smi (1867/1982). Average speed: 0,05 s/mol.\n",
      "Processing CHEMBL75 in molecule.smi (1868/1982). Average speed: 0,05 s/mol.\n",
      "Processing CHEMBL1444 in molecule.smi (1869/1982). Average speed: 0,05 s/mol.\n",
      "Processing CHEMBL4175438 in molecule.smi (1870/1982). Average speed: 0,05 s/mol.\n",
      "Processing CHEMBL4167569 in molecule.smi (1871/1982). Average speed: 0,05 s/mol.\n",
      "Processing CHEMBL4171996 in molecule.smi (1872/1982). Average speed: 0,05 s/mol.\n",
      "Processing CHEMBL4164126 in molecule.smi (1873/1982). Average speed: 0,05 s/mol.\n",
      "Processing CHEMBL4174373 in molecule.smi (1874/1982). Average speed: 0,05 s/mol.\n",
      "Processing CHEMBL4170941 in molecule.smi (1875/1982). Average speed: 0,05 s/mol.\n",
      "Processing CHEMBL4161789 in molecule.smi (1876/1982). Average speed: 0,05 s/mol.\n",
      "Processing CHEMBL4172433 in molecule.smi (1877/1982). Average speed: 0,05 s/mol.\n",
      "Processing CHEMBL4161492 in molecule.smi (1879/1982). Average speed: 0,05 s/mol.\n",
      "Processing CHEMBL4165988 in molecule.smi (1878/1982). Average speed: 0,05 s/mol.\n",
      "Processing CHEMBL4169419 in molecule.smi (1880/1982). Average speed: 0,05 s/mol.\n"
     ]
    },
    {
     "name": "stdout",
     "output_type": "stream",
     "text": [
      "Processing CHEMBL4169808 in molecule.smi (1881/1982). Average speed: 0,05 s/mol.\n",
      "Processing CHEMBL4170868 in molecule.smi (1882/1982). Average speed: 0,05 s/mol.\n",
      "Processing CHEMBL129795 in molecule.smi (1883/1982). Average speed: 0,05 s/mol.\n",
      "Processing CHEMBL4210489 in molecule.smi (1884/1982). Average speed: 0,05 s/mol.\n",
      "Processing CHEMBL469266 in molecule.smi (1886/1982). Average speed: 0,05 s/mol.\n",
      "Processing CHEMBL4209034 in molecule.smi (1885/1982). Average speed: 0,05 s/mol.\n",
      "Processing CHEMBL4216885 in molecule.smi (1887/1982). Average speed: 0,05 s/mol.\n",
      "Processing CHEMBL4212655 in molecule.smi (1888/1982). Average speed: 0,05 s/mol.\n",
      "Processing CHEMBL1424243 in molecule.smi (1889/1982). Average speed: 0,05 s/mol.\n",
      "Processing CHEMBL4207850 in molecule.smi (1890/1982). Average speed: 0,05 s/mol.\n",
      "Processing CHEMBL1444 in molecule.smi (1891/1982). Average speed: 0,05 s/mol.\n",
      "Processing CHEMBL3099695 in molecule.smi (1892/1982). Average speed: 0,05 s/mol.\n",
      "Processing CHEMBL287677 in molecule.smi (1893/1982). Average speed: 0,05 s/mol.\n",
      "Processing CHEMBL446083 in molecule.smi (1894/1982). Average speed: 0,05 s/mol.\n",
      "Processing CHEMBL4207995 in molecule.smi (1895/1982). Average speed: 0,05 s/mol.\n",
      "Processing CHEMBL4212612 in molecule.smi (1896/1982). Average speed: 0,05 s/mol.\n",
      "Processing CHEMBL4211193 in molecule.smi (1897/1982). Average speed: 0,05 s/mol.\n",
      "Processing CHEMBL4212918 in molecule.smi (1898/1982). Average speed: 0,05 s/mol.\n",
      "Processing CHEMBL4214618 in molecule.smi (1899/1982). Average speed: 0,05 s/mol.\n",
      "Processing CHEMBL4207348 in molecule.smi (1900/1982). Average speed: 0,05 s/mol.\n",
      "Processing CHEMBL165 in molecule.smi (1901/1982). Average speed: 0,05 s/mol.\n",
      "Processing CHEMBL264401 in molecule.smi (1902/1982). Average speed: 0,05 s/mol.\n",
      "Processing CHEMBL1939366 in molecule.smi (1903/1982). Average speed: 0,05 s/mol.\n",
      "Processing CHEMBL118266 in molecule.smi (1904/1982). Average speed: 0,05 s/mol.\n",
      "Processing CHEMBL1399 in molecule.smi (1905/1982). Average speed: 0,05 s/mol.\n",
      "Processing CHEMBL4227385 in molecule.smi (1906/1982). Average speed: 0,05 s/mol.\n",
      "Processing CHEMBL4228495 in molecule.smi (1907/1982). Average speed: 0,05 s/mol.\n",
      "Processing CHEMBL4228753 in molecule.smi (1908/1982). Average speed: 0,05 s/mol.\n",
      "Processing CHEMBL4225257 in molecule.smi (1909/1982). Average speed: 0,04 s/mol.\n",
      "Processing CHEMBL4229272 in molecule.smi (1910/1982). Average speed: 0,05 s/mol.\n",
      "Processing CHEMBL4225521 in molecule.smi (1911/1982). Average speed: 0,04 s/mol.\n",
      "Processing CHEMBL4228303 in molecule.smi (1912/1982). Average speed: 0,04 s/mol.\n",
      "Processing CHEMBL4227458 in molecule.smi (1913/1982). Average speed: 0,04 s/mol.\n",
      "Processing CHEMBL4224875 in molecule.smi (1914/1982). Average speed: 0,04 s/mol.\n",
      "Processing CHEMBL4227725 in molecule.smi (1915/1982). Average speed: 0,04 s/mol.\n",
      "Processing CHEMBL4228819 in molecule.smi (1916/1982). Average speed: 0,04 s/mol.\n",
      "Processing CHEMBL4225998 in molecule.smi (1917/1982). Average speed: 0,04 s/mol.\n",
      "Processing CHEMBL4228244 in molecule.smi (1919/1982). Average speed: 0,04 s/mol.\n",
      "Processing CHEMBL4228031 in molecule.smi (1918/1982). Average speed: 0,04 s/mol.\n",
      "Processing CHEMBL75 in molecule.smi (1920/1982). Average speed: 0,04 s/mol.\n",
      "Processing CHEMBL4129721 in molecule.smi (1921/1982). Average speed: 0,04 s/mol.\n",
      "Processing CHEMBL4288256 in molecule.smi (1923/1982). Average speed: 0,04 s/mol.\n",
      "Processing CHEMBL4126996 in molecule.smi (1922/1982). Average speed: 0,04 s/mol.\n",
      "Processing CHEMBL4126284 in molecule.smi (1924/1982). Average speed: 0,04 s/mol.\n",
      "Processing CHEMBL4128368 in molecule.smi (1925/1982). Average speed: 0,04 s/mol.\n",
      "Processing CHEMBL4289930 in molecule.smi (1926/1982). Average speed: 0,04 s/mol.\n",
      "Processing CHEMBL4439573 in molecule.smi (1927/1982). Average speed: 0,04 s/mol.\n",
      "Processing CHEMBL4516755 in molecule.smi (1928/1982). Average speed: 0,04 s/mol.\n",
      "Processing CHEMBL4537791 in molecule.smi (1929/1982). Average speed: 0,04 s/mol.\n",
      "Processing CHEMBL4464506 in molecule.smi (1930/1982). Average speed: 0,04 s/mol.\n",
      "Processing CHEMBL1371590 in molecule.smi (1931/1982). Average speed: 0,04 s/mol.\n",
      "Processing CHEMBL4564431 in molecule.smi (1933/1982). Average speed: 0,04 s/mol.\n",
      "Processing CHEMBL1444 in molecule.smi (1932/1982). Average speed: 0,04 s/mol.\n",
      "Processing CHEMBL4449929 in molecule.smi (1934/1982). Average speed: 0,04 s/mol.\n",
      "Processing CHEMBL4436270 in molecule.smi (1935/1982). Average speed: 0,04 s/mol.\n",
      "Processing CHEMBL4462178 in molecule.smi (1936/1982). Average speed: 0,04 s/mol.\n",
      "Processing CHEMBL4531367 in molecule.smi (1937/1982). Average speed: 0,04 s/mol.\n",
      "Processing CHEMBL4556427 in molecule.smi (1938/1982). Average speed: 0,04 s/mol.\n",
      "Processing CHEMBL4536389 in molecule.smi (1939/1982). Average speed: 0,04 s/mol.\n",
      "Processing CHEMBL4460718 in molecule.smi (1940/1982). Average speed: 0,04 s/mol.\n",
      "Processing CHEMBL4590541 in molecule.smi (1941/1982). Average speed: 0,04 s/mol.\n",
      "Processing CHEMBL4444996 in molecule.smi (1942/1982). Average speed: 0,04 s/mol.\n",
      "Processing CHEMBL4567479 in molecule.smi (1943/1982). Average speed: 0,04 s/mol.\n",
      "Processing CHEMBL4555477 in molecule.smi (1945/1982). Average speed: 0,04 s/mol.\n",
      "Processing CHEMBL2299369 in molecule.smi (1944/1982). Average speed: 0,04 s/mol.\n",
      "Processing CHEMBL4439561 in molecule.smi (1946/1982). Average speed: 0,04 s/mol.\n",
      "Processing CHEMBL4448018 in molecule.smi (1947/1982). Average speed: 0,04 s/mol.\n",
      "Processing CHEMBL4585518 in molecule.smi (1948/1982). Average speed: 0,04 s/mol.\n",
      "Processing CHEMBL4527809 in molecule.smi (1949/1982). Average speed: 0,04 s/mol.\n",
      "Processing CHEMBL4543747 in molecule.smi (1950/1982). Average speed: 0,04 s/mol.\n",
      "Processing CHEMBL4446561 in molecule.smi (1951/1982). Average speed: 0,04 s/mol.\n",
      "Processing CHEMBL1444 in molecule.smi (1952/1982). Average speed: 0,04 s/mol.\n",
      "Processing CHEMBL4570681 in molecule.smi (1953/1982). Average speed: 0,04 s/mol.\n",
      "Processing CHEMBL2299368 in molecule.smi (1954/1982). Average speed: 0,04 s/mol.\n",
      "Processing CHEMBL1444 in molecule.smi (1955/1982). Average speed: 0,04 s/mol.\n",
      "Processing CHEMBL1093458 in molecule.smi (1956/1982). Average speed: 0,04 s/mol.\n",
      "Processing CHEMBL4474808 in molecule.smi (1957/1982). Average speed: 0,04 s/mol.\n",
      "Processing CHEMBL1991089 in molecule.smi (1958/1982). Average speed: 0,04 s/mol.\n",
      "Processing CHEMBL4453737 in molecule.smi (1959/1982). Average speed: 0,04 s/mol.\n",
      "Processing CHEMBL4514728 in molecule.smi (1960/1982). Average speed: 0,04 s/mol.\n",
      "Processing CHEMBL4468497 in molecule.smi (1961/1982). Average speed: 0,04 s/mol.\n",
      "Processing CHEMBL487113 in molecule.smi (1962/1982). Average speed: 0,04 s/mol.\n",
      "Processing CHEMBL3754471 in molecule.smi (1963/1982). Average speed: 0,04 s/mol.\n",
      "Processing CHEMBL4460869 in molecule.smi (1965/1982). Average speed: 0,04 s/mol.\n",
      "Processing CHEMBL3751881 in molecule.smi (1964/1982). Average speed: 0,04 s/mol.\n",
      "Processing CHEMBL4564333 in molecule.smi (1966/1982). Average speed: 0,04 s/mol.\n",
      "Processing CHEMBL4454575 in molecule.smi (1967/1982). Average speed: 0,04 s/mol.\n",
      "Processing CHEMBL4520056 in molecule.smi (1968/1982). Average speed: 0,04 s/mol.\n",
      "Processing CHEMBL4515880 in molecule.smi (1969/1982). Average speed: 0,04 s/mol.\n",
      "Processing CHEMBL4520027 in molecule.smi (1970/1982). Average speed: 0,04 s/mol.\n",
      "Processing CHEMBL29863 in molecule.smi (1971/1982). Average speed: 0,04 s/mol.\n",
      "Processing CHEMBL28669 in molecule.smi (1972/1982). Average speed: 0,04 s/mol.\n",
      "Processing CHEMBL28668 in molecule.smi (1973/1982). Average speed: 0,04 s/mol.\n",
      "Processing CHEMBL25735 in molecule.smi (1974/1982). Average speed: 0,04 s/mol.\n",
      "Processing CHEMBL29230 in molecule.smi (1975/1982). Average speed: 0,04 s/mol.\n",
      "Processing CHEMBL421149 in molecule.smi (1976/1982). Average speed: 0,04 s/mol.\n",
      "Processing CHEMBL159073 in molecule.smi (1977/1982). Average speed: 0,04 s/mol.\n",
      "Processing CHEMBL10137 in molecule.smi (1978/1982). Average speed: 0,04 s/mol.\n",
      "Processing CHEMBL4583456 in molecule.smi (1979/1982). Average speed: 0,04 s/mol.\n",
      "Processing CHEMBL4540847 in molecule.smi (1980/1982). Average speed: 0,04 s/mol.\n",
      "Processing CHEMBL3622064 in molecule.smi (1981/1982). Average speed: 0,04 s/mol.\n",
      "Processing CHEMBL3622063 in molecule.smi (1982/1982). Average speed: 0,04 s/mol.\n"
     ]
    },
    {
     "name": "stdout",
     "output_type": "stream",
     "text": [
      "Descriptor calculation completed in 1 mins 28.822 secs . Average speed: 0,04 s/mol.\r\n"
     ]
    }
   ],
   "source": [
    "! bash padel.sh"
   ]
  },
  {
   "cell_type": "code",
   "execution_count": 77,
   "metadata": {
    "colab": {
     "base_uri": "https://localhost:8080/",
     "height": 173
    },
    "colab_type": "code",
    "id": "2p7rAVy_k_hH",
    "outputId": "7404029f-4d69-486c-97a2-faf6d4574971"
   },
   "outputs": [
    {
     "name": "stdout",
     "output_type": "stream",
     "text": [
      "total 76744\r\n",
      "-rw-r--r--   1 oussama  staff   3537693  9 jan 10:56 CYP2C19_bioactivity_data_2class_pIC50_pubchem_fp.csv\r\n",
      "drwxr-xr-x@ 21 oussama  staff       672  7 jan 11:50 \u001b[1m\u001b[36mPaDEL-Descriptor\u001b[m\u001b[m\r\n",
      "drwxr-xr-x@  4 oussama  staff       128  7 jan 11:50 \u001b[1m\u001b[36m__MACOSX\u001b[m\u001b[m\r\n",
      "-rw-r--r--@  1 oussama  staff    204598  6 jan 10:27 bioactivity_data_preprocessed.csv\r\n",
      "-rw-r--r--   1 oussama  staff   2005372  6 jan 10:37 bioactivity_data_raw.csv\r\n",
      "-rw-r--r--   1 oussama  staff   3533679  9 jan 10:55 descriptors_output.csv\r\n",
      "-rw-r--r--@  1 oussama  staff    250052  7 jan 10:11 df_2class.csv\r\n",
      "-rw-r--r--@  1 oussama  staff    816958  9 jan 11:01 drug_discovery.ipynb\r\n",
      "-rw-r--r--   1 oussama  staff       125  7 jan 09:37 mannwhitneyu_LogP.csv\r\n",
      "-rw-r--r--   1 oussama  staff       122  7 jan 09:37 mannwhitneyu_MW.csv\r\n",
      "-rw-r--r--   1 oussama  staff       133  7 jan 09:37 mannwhitneyu_NumHAcceptors.csv\r\n",
      "-rw-r--r--   1 oussama  staff       130  7 jan 09:37 mannwhitneyu_NumHDonors.csv\r\n",
      "-rw-r--r--   1 oussama  staff       125  7 jan 09:36 mannwhitneyu_pIC50.csv\r\n",
      "-rw-r--r--   1 oussama  staff    111536  9 jan 10:54 molecule.smi\r\n",
      "-rw-r--r--   1 oussama  staff       231  7 jan 11:12 padel.sh\r\n",
      "-rw-r--r--   1 oussama  staff  25768637  7 jan 11:12 padel.zip\r\n",
      "-rw-r--r--   1 oussama  staff     15054  7 jan 09:37 plot_LogP.pdf\r\n",
      "-rw-r--r--   1 oussama  staff     16166  7 jan 09:36 plot_MW.pdf\r\n",
      "-rw-r--r--   1 oussama  staff    350946  7 jan 09:34 plot_MW_vs_LogP.pdf\r\n",
      "-rw-r--r--   1 oussama  staff     15972  7 jan 09:37 plot_NumHAcceptors.pdf\r\n",
      "-rw-r--r--   1 oussama  staff     15484  7 jan 09:37 plot_NumHDonors.pdf\r\n",
      "-rw-r--r--   1 oussama  staff     14817  7 jan 09:34 plot_bioactivity_class.pdf\r\n",
      "-rw-r--r--   1 oussama  staff     16380  7 jan 10:02 plot_ic50.pdf\r\n",
      "-rw-r--r--   1 oussama  staff    632743  7 jan 09:37 results.zip\r\n",
      "-rw-r--r--   1 oussama  staff       134  7 jan 10:27 ttestLogP.csv\r\n",
      "-rw-r--r--   1 oussama  staff       133  7 jan 10:26 ttestMW.csv\r\n",
      "-rw-r--r--   1 oussama  staff       144  7 jan 10:27 ttestNumHAcceptors.csv\r\n",
      "-rw-r--r--   1 oussama  staff       140  7 jan 10:27 ttestNumHDonors.csv\r\n",
      "-rw-r--r--   1 oussama  staff       135  7 jan 10:26 ttestpIC50.csv\r\n"
     ]
    }
   ],
   "source": [
    "! ls -l"
   ]
  },
  {
   "cell_type": "markdown",
   "metadata": {
    "colab_type": "text",
    "id": "gUMlPfFrxicj"
   },
   "source": [
    "## Preparer les matrices X et Y"
   ]
  },
  {
   "cell_type": "markdown",
   "metadata": {
    "colab_type": "text",
    "id": "30aa4WP4ZA8M"
   },
   "source": [
    "### X data matrix"
   ]
  },
  {
   "cell_type": "code",
   "execution_count": 56,
   "metadata": {
    "colab": {},
    "colab_type": "code",
    "id": "3g319qxVl7tY"
   },
   "outputs": [],
   "source": [
    "df3_X = pd.read_csv('descriptors_output.csv')"
   ]
  },
  {
   "cell_type": "code",
   "execution_count": 57,
   "metadata": {
    "colab": {
     "base_uri": "https://localhost:8080/",
     "height": 435
    },
    "colab_type": "code",
    "id": "hBp1PTObFQDd",
    "outputId": "26a4603a-d1b2-4d64-e1c8-cf5fd0612bbf"
   },
   "outputs": [
    {
     "data": {
      "text/html": [
       "<div>\n",
       "<style scoped>\n",
       "    .dataframe tbody tr th:only-of-type {\n",
       "        vertical-align: middle;\n",
       "    }\n",
       "\n",
       "    .dataframe tbody tr th {\n",
       "        vertical-align: top;\n",
       "    }\n",
       "\n",
       "    .dataframe thead th {\n",
       "        text-align: right;\n",
       "    }\n",
       "</style>\n",
       "<table border=\"1\" class=\"dataframe\">\n",
       "  <thead>\n",
       "    <tr style=\"text-align: right;\">\n",
       "      <th></th>\n",
       "      <th>Name</th>\n",
       "      <th>PubchemFP0</th>\n",
       "      <th>PubchemFP1</th>\n",
       "      <th>PubchemFP2</th>\n",
       "      <th>PubchemFP3</th>\n",
       "      <th>PubchemFP4</th>\n",
       "      <th>PubchemFP5</th>\n",
       "      <th>PubchemFP6</th>\n",
       "      <th>PubchemFP7</th>\n",
       "      <th>PubchemFP8</th>\n",
       "      <th>...</th>\n",
       "      <th>PubchemFP871</th>\n",
       "      <th>PubchemFP872</th>\n",
       "      <th>PubchemFP873</th>\n",
       "      <th>PubchemFP874</th>\n",
       "      <th>PubchemFP875</th>\n",
       "      <th>PubchemFP876</th>\n",
       "      <th>PubchemFP877</th>\n",
       "      <th>PubchemFP878</th>\n",
       "      <th>PubchemFP879</th>\n",
       "      <th>PubchemFP880</th>\n",
       "    </tr>\n",
       "  </thead>\n",
       "  <tbody>\n",
       "    <tr>\n",
       "      <th>0</th>\n",
       "      <td>CHEMBL112021</td>\n",
       "      <td>1</td>\n",
       "      <td>1</td>\n",
       "      <td>1</td>\n",
       "      <td>0</td>\n",
       "      <td>0</td>\n",
       "      <td>0</td>\n",
       "      <td>0</td>\n",
       "      <td>0</td>\n",
       "      <td>0</td>\n",
       "      <td>...</td>\n",
       "      <td>0</td>\n",
       "      <td>0</td>\n",
       "      <td>0</td>\n",
       "      <td>0</td>\n",
       "      <td>0</td>\n",
       "      <td>0</td>\n",
       "      <td>0</td>\n",
       "      <td>0</td>\n",
       "      <td>0</td>\n",
       "      <td>0</td>\n",
       "    </tr>\n",
       "    <tr>\n",
       "      <th>1</th>\n",
       "      <td>CHEMBL113637</td>\n",
       "      <td>1</td>\n",
       "      <td>1</td>\n",
       "      <td>1</td>\n",
       "      <td>0</td>\n",
       "      <td>0</td>\n",
       "      <td>0</td>\n",
       "      <td>0</td>\n",
       "      <td>0</td>\n",
       "      <td>0</td>\n",
       "      <td>...</td>\n",
       "      <td>0</td>\n",
       "      <td>0</td>\n",
       "      <td>0</td>\n",
       "      <td>0</td>\n",
       "      <td>0</td>\n",
       "      <td>0</td>\n",
       "      <td>0</td>\n",
       "      <td>0</td>\n",
       "      <td>0</td>\n",
       "      <td>0</td>\n",
       "    </tr>\n",
       "    <tr>\n",
       "      <th>2</th>\n",
       "      <td>CHEMBL41761</td>\n",
       "      <td>1</td>\n",
       "      <td>1</td>\n",
       "      <td>1</td>\n",
       "      <td>0</td>\n",
       "      <td>0</td>\n",
       "      <td>0</td>\n",
       "      <td>0</td>\n",
       "      <td>0</td>\n",
       "      <td>0</td>\n",
       "      <td>...</td>\n",
       "      <td>0</td>\n",
       "      <td>0</td>\n",
       "      <td>0</td>\n",
       "      <td>0</td>\n",
       "      <td>0</td>\n",
       "      <td>0</td>\n",
       "      <td>0</td>\n",
       "      <td>0</td>\n",
       "      <td>0</td>\n",
       "      <td>0</td>\n",
       "    </tr>\n",
       "    <tr>\n",
       "      <th>3</th>\n",
       "      <td>CHEMBL112074</td>\n",
       "      <td>1</td>\n",
       "      <td>1</td>\n",
       "      <td>1</td>\n",
       "      <td>0</td>\n",
       "      <td>0</td>\n",
       "      <td>0</td>\n",
       "      <td>0</td>\n",
       "      <td>0</td>\n",
       "      <td>0</td>\n",
       "      <td>...</td>\n",
       "      <td>0</td>\n",
       "      <td>0</td>\n",
       "      <td>0</td>\n",
       "      <td>0</td>\n",
       "      <td>0</td>\n",
       "      <td>0</td>\n",
       "      <td>0</td>\n",
       "      <td>0</td>\n",
       "      <td>0</td>\n",
       "      <td>0</td>\n",
       "    </tr>\n",
       "    <tr>\n",
       "      <th>4</th>\n",
       "      <td>CHEMBL111888</td>\n",
       "      <td>1</td>\n",
       "      <td>1</td>\n",
       "      <td>1</td>\n",
       "      <td>0</td>\n",
       "      <td>0</td>\n",
       "      <td>0</td>\n",
       "      <td>0</td>\n",
       "      <td>0</td>\n",
       "      <td>0</td>\n",
       "      <td>...</td>\n",
       "      <td>0</td>\n",
       "      <td>0</td>\n",
       "      <td>0</td>\n",
       "      <td>0</td>\n",
       "      <td>0</td>\n",
       "      <td>0</td>\n",
       "      <td>0</td>\n",
       "      <td>0</td>\n",
       "      <td>0</td>\n",
       "      <td>0</td>\n",
       "    </tr>\n",
       "    <tr>\n",
       "      <th>...</th>\n",
       "      <td>...</td>\n",
       "      <td>...</td>\n",
       "      <td>...</td>\n",
       "      <td>...</td>\n",
       "      <td>...</td>\n",
       "      <td>...</td>\n",
       "      <td>...</td>\n",
       "      <td>...</td>\n",
       "      <td>...</td>\n",
       "      <td>...</td>\n",
       "      <td>...</td>\n",
       "      <td>...</td>\n",
       "      <td>...</td>\n",
       "      <td>...</td>\n",
       "      <td>...</td>\n",
       "      <td>...</td>\n",
       "      <td>...</td>\n",
       "      <td>...</td>\n",
       "      <td>...</td>\n",
       "      <td>...</td>\n",
       "      <td>...</td>\n",
       "    </tr>\n",
       "    <tr>\n",
       "      <th>1977</th>\n",
       "      <td>CHEMBL4583456</td>\n",
       "      <td>1</td>\n",
       "      <td>1</td>\n",
       "      <td>1</td>\n",
       "      <td>0</td>\n",
       "      <td>0</td>\n",
       "      <td>0</td>\n",
       "      <td>0</td>\n",
       "      <td>0</td>\n",
       "      <td>0</td>\n",
       "      <td>...</td>\n",
       "      <td>0</td>\n",
       "      <td>0</td>\n",
       "      <td>0</td>\n",
       "      <td>0</td>\n",
       "      <td>0</td>\n",
       "      <td>0</td>\n",
       "      <td>0</td>\n",
       "      <td>0</td>\n",
       "      <td>0</td>\n",
       "      <td>0</td>\n",
       "    </tr>\n",
       "    <tr>\n",
       "      <th>1978</th>\n",
       "      <td>CHEMBL4540847</td>\n",
       "      <td>1</td>\n",
       "      <td>1</td>\n",
       "      <td>1</td>\n",
       "      <td>0</td>\n",
       "      <td>0</td>\n",
       "      <td>0</td>\n",
       "      <td>0</td>\n",
       "      <td>0</td>\n",
       "      <td>0</td>\n",
       "      <td>...</td>\n",
       "      <td>0</td>\n",
       "      <td>0</td>\n",
       "      <td>0</td>\n",
       "      <td>0</td>\n",
       "      <td>0</td>\n",
       "      <td>0</td>\n",
       "      <td>0</td>\n",
       "      <td>0</td>\n",
       "      <td>0</td>\n",
       "      <td>0</td>\n",
       "    </tr>\n",
       "    <tr>\n",
       "      <th>1979</th>\n",
       "      <td>CHEMBL10137</td>\n",
       "      <td>1</td>\n",
       "      <td>1</td>\n",
       "      <td>1</td>\n",
       "      <td>0</td>\n",
       "      <td>0</td>\n",
       "      <td>0</td>\n",
       "      <td>0</td>\n",
       "      <td>0</td>\n",
       "      <td>0</td>\n",
       "      <td>...</td>\n",
       "      <td>0</td>\n",
       "      <td>0</td>\n",
       "      <td>0</td>\n",
       "      <td>0</td>\n",
       "      <td>0</td>\n",
       "      <td>0</td>\n",
       "      <td>0</td>\n",
       "      <td>0</td>\n",
       "      <td>0</td>\n",
       "      <td>0</td>\n",
       "    </tr>\n",
       "    <tr>\n",
       "      <th>1980</th>\n",
       "      <td>CHEMBL3622064</td>\n",
       "      <td>1</td>\n",
       "      <td>1</td>\n",
       "      <td>0</td>\n",
       "      <td>0</td>\n",
       "      <td>0</td>\n",
       "      <td>0</td>\n",
       "      <td>0</td>\n",
       "      <td>0</td>\n",
       "      <td>0</td>\n",
       "      <td>...</td>\n",
       "      <td>0</td>\n",
       "      <td>0</td>\n",
       "      <td>0</td>\n",
       "      <td>0</td>\n",
       "      <td>0</td>\n",
       "      <td>0</td>\n",
       "      <td>0</td>\n",
       "      <td>0</td>\n",
       "      <td>0</td>\n",
       "      <td>0</td>\n",
       "    </tr>\n",
       "    <tr>\n",
       "      <th>1981</th>\n",
       "      <td>CHEMBL3622063</td>\n",
       "      <td>1</td>\n",
       "      <td>1</td>\n",
       "      <td>0</td>\n",
       "      <td>0</td>\n",
       "      <td>0</td>\n",
       "      <td>0</td>\n",
       "      <td>0</td>\n",
       "      <td>0</td>\n",
       "      <td>0</td>\n",
       "      <td>...</td>\n",
       "      <td>0</td>\n",
       "      <td>0</td>\n",
       "      <td>0</td>\n",
       "      <td>0</td>\n",
       "      <td>0</td>\n",
       "      <td>0</td>\n",
       "      <td>0</td>\n",
       "      <td>0</td>\n",
       "      <td>0</td>\n",
       "      <td>0</td>\n",
       "    </tr>\n",
       "  </tbody>\n",
       "</table>\n",
       "<p>1982 rows × 882 columns</p>\n",
       "</div>"
      ],
      "text/plain": [
       "               Name  PubchemFP0  PubchemFP1  PubchemFP2  PubchemFP3  \\\n",
       "0      CHEMBL112021           1           1           1           0   \n",
       "1      CHEMBL113637           1           1           1           0   \n",
       "2       CHEMBL41761           1           1           1           0   \n",
       "3      CHEMBL112074           1           1           1           0   \n",
       "4      CHEMBL111888           1           1           1           0   \n",
       "...             ...         ...         ...         ...         ...   \n",
       "1977  CHEMBL4583456           1           1           1           0   \n",
       "1978  CHEMBL4540847           1           1           1           0   \n",
       "1979    CHEMBL10137           1           1           1           0   \n",
       "1980  CHEMBL3622064           1           1           0           0   \n",
       "1981  CHEMBL3622063           1           1           0           0   \n",
       "\n",
       "      PubchemFP4  PubchemFP5  PubchemFP6  PubchemFP7  PubchemFP8  ...  \\\n",
       "0              0           0           0           0           0  ...   \n",
       "1              0           0           0           0           0  ...   \n",
       "2              0           0           0           0           0  ...   \n",
       "3              0           0           0           0           0  ...   \n",
       "4              0           0           0           0           0  ...   \n",
       "...          ...         ...         ...         ...         ...  ...   \n",
       "1977           0           0           0           0           0  ...   \n",
       "1978           0           0           0           0           0  ...   \n",
       "1979           0           0           0           0           0  ...   \n",
       "1980           0           0           0           0           0  ...   \n",
       "1981           0           0           0           0           0  ...   \n",
       "\n",
       "      PubchemFP871  PubchemFP872  PubchemFP873  PubchemFP874  PubchemFP875  \\\n",
       "0                0             0             0             0             0   \n",
       "1                0             0             0             0             0   \n",
       "2                0             0             0             0             0   \n",
       "3                0             0             0             0             0   \n",
       "4                0             0             0             0             0   \n",
       "...            ...           ...           ...           ...           ...   \n",
       "1977             0             0             0             0             0   \n",
       "1978             0             0             0             0             0   \n",
       "1979             0             0             0             0             0   \n",
       "1980             0             0             0             0             0   \n",
       "1981             0             0             0             0             0   \n",
       "\n",
       "      PubchemFP876  PubchemFP877  PubchemFP878  PubchemFP879  PubchemFP880  \n",
       "0                0             0             0             0             0  \n",
       "1                0             0             0             0             0  \n",
       "2                0             0             0             0             0  \n",
       "3                0             0             0             0             0  \n",
       "4                0             0             0             0             0  \n",
       "...            ...           ...           ...           ...           ...  \n",
       "1977             0             0             0             0             0  \n",
       "1978             0             0             0             0             0  \n",
       "1979             0             0             0             0             0  \n",
       "1980             0             0             0             0             0  \n",
       "1981             0             0             0             0             0  \n",
       "\n",
       "[1982 rows x 882 columns]"
      ]
     },
     "execution_count": 57,
     "metadata": {},
     "output_type": "execute_result"
    }
   ],
   "source": [
    "df3_X"
   ]
  },
  {
   "cell_type": "code",
   "execution_count": 58,
   "metadata": {
    "colab": {
     "base_uri": "https://localhost:8080/",
     "height": 435
    },
    "colab_type": "code",
    "id": "dTJsDPBKq_hr",
    "outputId": "c92c4d7d-6df7-40b0-a7b8-ce644bacb52a"
   },
   "outputs": [
    {
     "data": {
      "text/html": [
       "<div>\n",
       "<style scoped>\n",
       "    .dataframe tbody tr th:only-of-type {\n",
       "        vertical-align: middle;\n",
       "    }\n",
       "\n",
       "    .dataframe tbody tr th {\n",
       "        vertical-align: top;\n",
       "    }\n",
       "\n",
       "    .dataframe thead th {\n",
       "        text-align: right;\n",
       "    }\n",
       "</style>\n",
       "<table border=\"1\" class=\"dataframe\">\n",
       "  <thead>\n",
       "    <tr style=\"text-align: right;\">\n",
       "      <th></th>\n",
       "      <th>PubchemFP0</th>\n",
       "      <th>PubchemFP1</th>\n",
       "      <th>PubchemFP2</th>\n",
       "      <th>PubchemFP3</th>\n",
       "      <th>PubchemFP4</th>\n",
       "      <th>PubchemFP5</th>\n",
       "      <th>PubchemFP6</th>\n",
       "      <th>PubchemFP7</th>\n",
       "      <th>PubchemFP8</th>\n",
       "      <th>PubchemFP9</th>\n",
       "      <th>...</th>\n",
       "      <th>PubchemFP871</th>\n",
       "      <th>PubchemFP872</th>\n",
       "      <th>PubchemFP873</th>\n",
       "      <th>PubchemFP874</th>\n",
       "      <th>PubchemFP875</th>\n",
       "      <th>PubchemFP876</th>\n",
       "      <th>PubchemFP877</th>\n",
       "      <th>PubchemFP878</th>\n",
       "      <th>PubchemFP879</th>\n",
       "      <th>PubchemFP880</th>\n",
       "    </tr>\n",
       "  </thead>\n",
       "  <tbody>\n",
       "    <tr>\n",
       "      <th>0</th>\n",
       "      <td>1</td>\n",
       "      <td>1</td>\n",
       "      <td>1</td>\n",
       "      <td>0</td>\n",
       "      <td>0</td>\n",
       "      <td>0</td>\n",
       "      <td>0</td>\n",
       "      <td>0</td>\n",
       "      <td>0</td>\n",
       "      <td>1</td>\n",
       "      <td>...</td>\n",
       "      <td>0</td>\n",
       "      <td>0</td>\n",
       "      <td>0</td>\n",
       "      <td>0</td>\n",
       "      <td>0</td>\n",
       "      <td>0</td>\n",
       "      <td>0</td>\n",
       "      <td>0</td>\n",
       "      <td>0</td>\n",
       "      <td>0</td>\n",
       "    </tr>\n",
       "    <tr>\n",
       "      <th>1</th>\n",
       "      <td>1</td>\n",
       "      <td>1</td>\n",
       "      <td>1</td>\n",
       "      <td>0</td>\n",
       "      <td>0</td>\n",
       "      <td>0</td>\n",
       "      <td>0</td>\n",
       "      <td>0</td>\n",
       "      <td>0</td>\n",
       "      <td>1</td>\n",
       "      <td>...</td>\n",
       "      <td>0</td>\n",
       "      <td>0</td>\n",
       "      <td>0</td>\n",
       "      <td>0</td>\n",
       "      <td>0</td>\n",
       "      <td>0</td>\n",
       "      <td>0</td>\n",
       "      <td>0</td>\n",
       "      <td>0</td>\n",
       "      <td>0</td>\n",
       "    </tr>\n",
       "    <tr>\n",
       "      <th>2</th>\n",
       "      <td>1</td>\n",
       "      <td>1</td>\n",
       "      <td>1</td>\n",
       "      <td>0</td>\n",
       "      <td>0</td>\n",
       "      <td>0</td>\n",
       "      <td>0</td>\n",
       "      <td>0</td>\n",
       "      <td>0</td>\n",
       "      <td>1</td>\n",
       "      <td>...</td>\n",
       "      <td>0</td>\n",
       "      <td>0</td>\n",
       "      <td>0</td>\n",
       "      <td>0</td>\n",
       "      <td>0</td>\n",
       "      <td>0</td>\n",
       "      <td>0</td>\n",
       "      <td>0</td>\n",
       "      <td>0</td>\n",
       "      <td>0</td>\n",
       "    </tr>\n",
       "    <tr>\n",
       "      <th>3</th>\n",
       "      <td>1</td>\n",
       "      <td>1</td>\n",
       "      <td>1</td>\n",
       "      <td>0</td>\n",
       "      <td>0</td>\n",
       "      <td>0</td>\n",
       "      <td>0</td>\n",
       "      <td>0</td>\n",
       "      <td>0</td>\n",
       "      <td>1</td>\n",
       "      <td>...</td>\n",
       "      <td>0</td>\n",
       "      <td>0</td>\n",
       "      <td>0</td>\n",
       "      <td>0</td>\n",
       "      <td>0</td>\n",
       "      <td>0</td>\n",
       "      <td>0</td>\n",
       "      <td>0</td>\n",
       "      <td>0</td>\n",
       "      <td>0</td>\n",
       "    </tr>\n",
       "    <tr>\n",
       "      <th>4</th>\n",
       "      <td>1</td>\n",
       "      <td>1</td>\n",
       "      <td>1</td>\n",
       "      <td>0</td>\n",
       "      <td>0</td>\n",
       "      <td>0</td>\n",
       "      <td>0</td>\n",
       "      <td>0</td>\n",
       "      <td>0</td>\n",
       "      <td>1</td>\n",
       "      <td>...</td>\n",
       "      <td>0</td>\n",
       "      <td>0</td>\n",
       "      <td>0</td>\n",
       "      <td>0</td>\n",
       "      <td>0</td>\n",
       "      <td>0</td>\n",
       "      <td>0</td>\n",
       "      <td>0</td>\n",
       "      <td>0</td>\n",
       "      <td>0</td>\n",
       "    </tr>\n",
       "    <tr>\n",
       "      <th>...</th>\n",
       "      <td>...</td>\n",
       "      <td>...</td>\n",
       "      <td>...</td>\n",
       "      <td>...</td>\n",
       "      <td>...</td>\n",
       "      <td>...</td>\n",
       "      <td>...</td>\n",
       "      <td>...</td>\n",
       "      <td>...</td>\n",
       "      <td>...</td>\n",
       "      <td>...</td>\n",
       "      <td>...</td>\n",
       "      <td>...</td>\n",
       "      <td>...</td>\n",
       "      <td>...</td>\n",
       "      <td>...</td>\n",
       "      <td>...</td>\n",
       "      <td>...</td>\n",
       "      <td>...</td>\n",
       "      <td>...</td>\n",
       "      <td>...</td>\n",
       "    </tr>\n",
       "    <tr>\n",
       "      <th>1977</th>\n",
       "      <td>1</td>\n",
       "      <td>1</td>\n",
       "      <td>1</td>\n",
       "      <td>0</td>\n",
       "      <td>0</td>\n",
       "      <td>0</td>\n",
       "      <td>0</td>\n",
       "      <td>0</td>\n",
       "      <td>0</td>\n",
       "      <td>1</td>\n",
       "      <td>...</td>\n",
       "      <td>0</td>\n",
       "      <td>0</td>\n",
       "      <td>0</td>\n",
       "      <td>0</td>\n",
       "      <td>0</td>\n",
       "      <td>0</td>\n",
       "      <td>0</td>\n",
       "      <td>0</td>\n",
       "      <td>0</td>\n",
       "      <td>0</td>\n",
       "    </tr>\n",
       "    <tr>\n",
       "      <th>1978</th>\n",
       "      <td>1</td>\n",
       "      <td>1</td>\n",
       "      <td>1</td>\n",
       "      <td>0</td>\n",
       "      <td>0</td>\n",
       "      <td>0</td>\n",
       "      <td>0</td>\n",
       "      <td>0</td>\n",
       "      <td>0</td>\n",
       "      <td>1</td>\n",
       "      <td>...</td>\n",
       "      <td>0</td>\n",
       "      <td>0</td>\n",
       "      <td>0</td>\n",
       "      <td>0</td>\n",
       "      <td>0</td>\n",
       "      <td>0</td>\n",
       "      <td>0</td>\n",
       "      <td>0</td>\n",
       "      <td>0</td>\n",
       "      <td>0</td>\n",
       "    </tr>\n",
       "    <tr>\n",
       "      <th>1979</th>\n",
       "      <td>1</td>\n",
       "      <td>1</td>\n",
       "      <td>1</td>\n",
       "      <td>0</td>\n",
       "      <td>0</td>\n",
       "      <td>0</td>\n",
       "      <td>0</td>\n",
       "      <td>0</td>\n",
       "      <td>0</td>\n",
       "      <td>1</td>\n",
       "      <td>...</td>\n",
       "      <td>0</td>\n",
       "      <td>0</td>\n",
       "      <td>0</td>\n",
       "      <td>0</td>\n",
       "      <td>0</td>\n",
       "      <td>0</td>\n",
       "      <td>0</td>\n",
       "      <td>0</td>\n",
       "      <td>0</td>\n",
       "      <td>0</td>\n",
       "    </tr>\n",
       "    <tr>\n",
       "      <th>1980</th>\n",
       "      <td>1</td>\n",
       "      <td>1</td>\n",
       "      <td>0</td>\n",
       "      <td>0</td>\n",
       "      <td>0</td>\n",
       "      <td>0</td>\n",
       "      <td>0</td>\n",
       "      <td>0</td>\n",
       "      <td>0</td>\n",
       "      <td>1</td>\n",
       "      <td>...</td>\n",
       "      <td>0</td>\n",
       "      <td>0</td>\n",
       "      <td>0</td>\n",
       "      <td>0</td>\n",
       "      <td>0</td>\n",
       "      <td>0</td>\n",
       "      <td>0</td>\n",
       "      <td>0</td>\n",
       "      <td>0</td>\n",
       "      <td>0</td>\n",
       "    </tr>\n",
       "    <tr>\n",
       "      <th>1981</th>\n",
       "      <td>1</td>\n",
       "      <td>1</td>\n",
       "      <td>0</td>\n",
       "      <td>0</td>\n",
       "      <td>0</td>\n",
       "      <td>0</td>\n",
       "      <td>0</td>\n",
       "      <td>0</td>\n",
       "      <td>0</td>\n",
       "      <td>1</td>\n",
       "      <td>...</td>\n",
       "      <td>0</td>\n",
       "      <td>0</td>\n",
       "      <td>0</td>\n",
       "      <td>0</td>\n",
       "      <td>0</td>\n",
       "      <td>0</td>\n",
       "      <td>0</td>\n",
       "      <td>0</td>\n",
       "      <td>0</td>\n",
       "      <td>0</td>\n",
       "    </tr>\n",
       "  </tbody>\n",
       "</table>\n",
       "<p>1982 rows × 881 columns</p>\n",
       "</div>"
      ],
      "text/plain": [
       "      PubchemFP0  PubchemFP1  PubchemFP2  PubchemFP3  PubchemFP4  PubchemFP5  \\\n",
       "0              1           1           1           0           0           0   \n",
       "1              1           1           1           0           0           0   \n",
       "2              1           1           1           0           0           0   \n",
       "3              1           1           1           0           0           0   \n",
       "4              1           1           1           0           0           0   \n",
       "...          ...         ...         ...         ...         ...         ...   \n",
       "1977           1           1           1           0           0           0   \n",
       "1978           1           1           1           0           0           0   \n",
       "1979           1           1           1           0           0           0   \n",
       "1980           1           1           0           0           0           0   \n",
       "1981           1           1           0           0           0           0   \n",
       "\n",
       "      PubchemFP6  PubchemFP7  PubchemFP8  PubchemFP9  ...  PubchemFP871  \\\n",
       "0              0           0           0           1  ...             0   \n",
       "1              0           0           0           1  ...             0   \n",
       "2              0           0           0           1  ...             0   \n",
       "3              0           0           0           1  ...             0   \n",
       "4              0           0           0           1  ...             0   \n",
       "...          ...         ...         ...         ...  ...           ...   \n",
       "1977           0           0           0           1  ...             0   \n",
       "1978           0           0           0           1  ...             0   \n",
       "1979           0           0           0           1  ...             0   \n",
       "1980           0           0           0           1  ...             0   \n",
       "1981           0           0           0           1  ...             0   \n",
       "\n",
       "      PubchemFP872  PubchemFP873  PubchemFP874  PubchemFP875  PubchemFP876  \\\n",
       "0                0             0             0             0             0   \n",
       "1                0             0             0             0             0   \n",
       "2                0             0             0             0             0   \n",
       "3                0             0             0             0             0   \n",
       "4                0             0             0             0             0   \n",
       "...            ...           ...           ...           ...           ...   \n",
       "1977             0             0             0             0             0   \n",
       "1978             0             0             0             0             0   \n",
       "1979             0             0             0             0             0   \n",
       "1980             0             0             0             0             0   \n",
       "1981             0             0             0             0             0   \n",
       "\n",
       "      PubchemFP877  PubchemFP878  PubchemFP879  PubchemFP880  \n",
       "0                0             0             0             0  \n",
       "1                0             0             0             0  \n",
       "2                0             0             0             0  \n",
       "3                0             0             0             0  \n",
       "4                0             0             0             0  \n",
       "...            ...           ...           ...           ...  \n",
       "1977             0             0             0             0  \n",
       "1978             0             0             0             0  \n",
       "1979             0             0             0             0  \n",
       "1980             0             0             0             0  \n",
       "1981             0             0             0             0  \n",
       "\n",
       "[1982 rows x 881 columns]"
      ]
     },
     "execution_count": 58,
     "metadata": {},
     "output_type": "execute_result"
    }
   ],
   "source": [
    "df3_X = df3_X.drop(columns=['Name'])\n",
    "df3_X"
   ]
  },
  {
   "cell_type": "markdown",
   "metadata": {
    "colab_type": "text",
    "id": "6ePu814KZNBG"
   },
   "source": [
    "## **Y variable**"
   ]
  },
  {
   "cell_type": "markdown",
   "metadata": {
    "colab_type": "text",
    "id": "9ssfxFCdr7ua"
   },
   "source": [
    "### Convertir IC50 en pIC50"
   ]
  },
  {
   "cell_type": "code",
   "execution_count": 59,
   "metadata": {
    "colab": {
     "base_uri": "https://localhost:8080/",
     "height": 225
    },
    "colab_type": "code",
    "id": "FlhsSEW5FXTG",
    "outputId": "ef224d6b-4cf3-4bde-fe83-d2e43f6e246c"
   },
   "outputs": [
    {
     "data": {
      "text/plain": [
       "0       4.301030\n",
       "1       6.623423\n",
       "2       7.244125\n",
       "3       7.267606\n",
       "4       7.387216\n",
       "          ...   \n",
       "1977    6.207608\n",
       "1978    7.040959\n",
       "1979    7.387216\n",
       "1980    9.602060\n",
       "1981    8.677781\n",
       "Name: pIC50, Length: 1982, dtype: float64"
      ]
     },
     "execution_count": 59,
     "metadata": {},
     "output_type": "execute_result"
    }
   ],
   "source": [
    "df3_Y = df3['pIC50']\n",
    "df3_Y"
   ]
  },
  {
   "cell_type": "markdown",
   "metadata": {
    "colab_type": "text",
    "id": "eET6iZ1Aw3oe"
   },
   "source": [
    "## Combiner X et Y"
   ]
  },
  {
   "cell_type": "code",
   "execution_count": 60,
   "metadata": {
    "colab": {
     "base_uri": "https://localhost:8080/",
     "height": 435
    },
    "colab_type": "code",
    "id": "FRBfBP3QxFJp",
    "outputId": "ee900c26-ff5c-4e20-a3fb-7b1f9367db66"
   },
   "outputs": [
    {
     "data": {
      "text/html": [
       "<div>\n",
       "<style scoped>\n",
       "    .dataframe tbody tr th:only-of-type {\n",
       "        vertical-align: middle;\n",
       "    }\n",
       "\n",
       "    .dataframe tbody tr th {\n",
       "        vertical-align: top;\n",
       "    }\n",
       "\n",
       "    .dataframe thead th {\n",
       "        text-align: right;\n",
       "    }\n",
       "</style>\n",
       "<table border=\"1\" class=\"dataframe\">\n",
       "  <thead>\n",
       "    <tr style=\"text-align: right;\">\n",
       "      <th></th>\n",
       "      <th>PubchemFP0</th>\n",
       "      <th>PubchemFP1</th>\n",
       "      <th>PubchemFP2</th>\n",
       "      <th>PubchemFP3</th>\n",
       "      <th>PubchemFP4</th>\n",
       "      <th>PubchemFP5</th>\n",
       "      <th>PubchemFP6</th>\n",
       "      <th>PubchemFP7</th>\n",
       "      <th>PubchemFP8</th>\n",
       "      <th>PubchemFP9</th>\n",
       "      <th>...</th>\n",
       "      <th>PubchemFP872</th>\n",
       "      <th>PubchemFP873</th>\n",
       "      <th>PubchemFP874</th>\n",
       "      <th>PubchemFP875</th>\n",
       "      <th>PubchemFP876</th>\n",
       "      <th>PubchemFP877</th>\n",
       "      <th>PubchemFP878</th>\n",
       "      <th>PubchemFP879</th>\n",
       "      <th>PubchemFP880</th>\n",
       "      <th>pIC50</th>\n",
       "    </tr>\n",
       "  </thead>\n",
       "  <tbody>\n",
       "    <tr>\n",
       "      <th>0</th>\n",
       "      <td>1</td>\n",
       "      <td>1</td>\n",
       "      <td>1</td>\n",
       "      <td>0</td>\n",
       "      <td>0</td>\n",
       "      <td>0</td>\n",
       "      <td>0</td>\n",
       "      <td>0</td>\n",
       "      <td>0</td>\n",
       "      <td>1</td>\n",
       "      <td>...</td>\n",
       "      <td>0</td>\n",
       "      <td>0</td>\n",
       "      <td>0</td>\n",
       "      <td>0</td>\n",
       "      <td>0</td>\n",
       "      <td>0</td>\n",
       "      <td>0</td>\n",
       "      <td>0</td>\n",
       "      <td>0</td>\n",
       "      <td>4.301030</td>\n",
       "    </tr>\n",
       "    <tr>\n",
       "      <th>1</th>\n",
       "      <td>1</td>\n",
       "      <td>1</td>\n",
       "      <td>1</td>\n",
       "      <td>0</td>\n",
       "      <td>0</td>\n",
       "      <td>0</td>\n",
       "      <td>0</td>\n",
       "      <td>0</td>\n",
       "      <td>0</td>\n",
       "      <td>1</td>\n",
       "      <td>...</td>\n",
       "      <td>0</td>\n",
       "      <td>0</td>\n",
       "      <td>0</td>\n",
       "      <td>0</td>\n",
       "      <td>0</td>\n",
       "      <td>0</td>\n",
       "      <td>0</td>\n",
       "      <td>0</td>\n",
       "      <td>0</td>\n",
       "      <td>6.623423</td>\n",
       "    </tr>\n",
       "    <tr>\n",
       "      <th>2</th>\n",
       "      <td>1</td>\n",
       "      <td>1</td>\n",
       "      <td>1</td>\n",
       "      <td>0</td>\n",
       "      <td>0</td>\n",
       "      <td>0</td>\n",
       "      <td>0</td>\n",
       "      <td>0</td>\n",
       "      <td>0</td>\n",
       "      <td>1</td>\n",
       "      <td>...</td>\n",
       "      <td>0</td>\n",
       "      <td>0</td>\n",
       "      <td>0</td>\n",
       "      <td>0</td>\n",
       "      <td>0</td>\n",
       "      <td>0</td>\n",
       "      <td>0</td>\n",
       "      <td>0</td>\n",
       "      <td>0</td>\n",
       "      <td>7.244125</td>\n",
       "    </tr>\n",
       "    <tr>\n",
       "      <th>3</th>\n",
       "      <td>1</td>\n",
       "      <td>1</td>\n",
       "      <td>1</td>\n",
       "      <td>0</td>\n",
       "      <td>0</td>\n",
       "      <td>0</td>\n",
       "      <td>0</td>\n",
       "      <td>0</td>\n",
       "      <td>0</td>\n",
       "      <td>1</td>\n",
       "      <td>...</td>\n",
       "      <td>0</td>\n",
       "      <td>0</td>\n",
       "      <td>0</td>\n",
       "      <td>0</td>\n",
       "      <td>0</td>\n",
       "      <td>0</td>\n",
       "      <td>0</td>\n",
       "      <td>0</td>\n",
       "      <td>0</td>\n",
       "      <td>7.267606</td>\n",
       "    </tr>\n",
       "    <tr>\n",
       "      <th>4</th>\n",
       "      <td>1</td>\n",
       "      <td>1</td>\n",
       "      <td>1</td>\n",
       "      <td>0</td>\n",
       "      <td>0</td>\n",
       "      <td>0</td>\n",
       "      <td>0</td>\n",
       "      <td>0</td>\n",
       "      <td>0</td>\n",
       "      <td>1</td>\n",
       "      <td>...</td>\n",
       "      <td>0</td>\n",
       "      <td>0</td>\n",
       "      <td>0</td>\n",
       "      <td>0</td>\n",
       "      <td>0</td>\n",
       "      <td>0</td>\n",
       "      <td>0</td>\n",
       "      <td>0</td>\n",
       "      <td>0</td>\n",
       "      <td>7.387216</td>\n",
       "    </tr>\n",
       "    <tr>\n",
       "      <th>...</th>\n",
       "      <td>...</td>\n",
       "      <td>...</td>\n",
       "      <td>...</td>\n",
       "      <td>...</td>\n",
       "      <td>...</td>\n",
       "      <td>...</td>\n",
       "      <td>...</td>\n",
       "      <td>...</td>\n",
       "      <td>...</td>\n",
       "      <td>...</td>\n",
       "      <td>...</td>\n",
       "      <td>...</td>\n",
       "      <td>...</td>\n",
       "      <td>...</td>\n",
       "      <td>...</td>\n",
       "      <td>...</td>\n",
       "      <td>...</td>\n",
       "      <td>...</td>\n",
       "      <td>...</td>\n",
       "      <td>...</td>\n",
       "      <td>...</td>\n",
       "    </tr>\n",
       "    <tr>\n",
       "      <th>1977</th>\n",
       "      <td>1</td>\n",
       "      <td>1</td>\n",
       "      <td>1</td>\n",
       "      <td>0</td>\n",
       "      <td>0</td>\n",
       "      <td>0</td>\n",
       "      <td>0</td>\n",
       "      <td>0</td>\n",
       "      <td>0</td>\n",
       "      <td>1</td>\n",
       "      <td>...</td>\n",
       "      <td>0</td>\n",
       "      <td>0</td>\n",
       "      <td>0</td>\n",
       "      <td>0</td>\n",
       "      <td>0</td>\n",
       "      <td>0</td>\n",
       "      <td>0</td>\n",
       "      <td>0</td>\n",
       "      <td>0</td>\n",
       "      <td>6.207608</td>\n",
       "    </tr>\n",
       "    <tr>\n",
       "      <th>1978</th>\n",
       "      <td>1</td>\n",
       "      <td>1</td>\n",
       "      <td>1</td>\n",
       "      <td>0</td>\n",
       "      <td>0</td>\n",
       "      <td>0</td>\n",
       "      <td>0</td>\n",
       "      <td>0</td>\n",
       "      <td>0</td>\n",
       "      <td>1</td>\n",
       "      <td>...</td>\n",
       "      <td>0</td>\n",
       "      <td>0</td>\n",
       "      <td>0</td>\n",
       "      <td>0</td>\n",
       "      <td>0</td>\n",
       "      <td>0</td>\n",
       "      <td>0</td>\n",
       "      <td>0</td>\n",
       "      <td>0</td>\n",
       "      <td>7.040959</td>\n",
       "    </tr>\n",
       "    <tr>\n",
       "      <th>1979</th>\n",
       "      <td>1</td>\n",
       "      <td>1</td>\n",
       "      <td>1</td>\n",
       "      <td>0</td>\n",
       "      <td>0</td>\n",
       "      <td>0</td>\n",
       "      <td>0</td>\n",
       "      <td>0</td>\n",
       "      <td>0</td>\n",
       "      <td>1</td>\n",
       "      <td>...</td>\n",
       "      <td>0</td>\n",
       "      <td>0</td>\n",
       "      <td>0</td>\n",
       "      <td>0</td>\n",
       "      <td>0</td>\n",
       "      <td>0</td>\n",
       "      <td>0</td>\n",
       "      <td>0</td>\n",
       "      <td>0</td>\n",
       "      <td>7.387216</td>\n",
       "    </tr>\n",
       "    <tr>\n",
       "      <th>1980</th>\n",
       "      <td>1</td>\n",
       "      <td>1</td>\n",
       "      <td>0</td>\n",
       "      <td>0</td>\n",
       "      <td>0</td>\n",
       "      <td>0</td>\n",
       "      <td>0</td>\n",
       "      <td>0</td>\n",
       "      <td>0</td>\n",
       "      <td>1</td>\n",
       "      <td>...</td>\n",
       "      <td>0</td>\n",
       "      <td>0</td>\n",
       "      <td>0</td>\n",
       "      <td>0</td>\n",
       "      <td>0</td>\n",
       "      <td>0</td>\n",
       "      <td>0</td>\n",
       "      <td>0</td>\n",
       "      <td>0</td>\n",
       "      <td>9.602060</td>\n",
       "    </tr>\n",
       "    <tr>\n",
       "      <th>1981</th>\n",
       "      <td>1</td>\n",
       "      <td>1</td>\n",
       "      <td>0</td>\n",
       "      <td>0</td>\n",
       "      <td>0</td>\n",
       "      <td>0</td>\n",
       "      <td>0</td>\n",
       "      <td>0</td>\n",
       "      <td>0</td>\n",
       "      <td>1</td>\n",
       "      <td>...</td>\n",
       "      <td>0</td>\n",
       "      <td>0</td>\n",
       "      <td>0</td>\n",
       "      <td>0</td>\n",
       "      <td>0</td>\n",
       "      <td>0</td>\n",
       "      <td>0</td>\n",
       "      <td>0</td>\n",
       "      <td>0</td>\n",
       "      <td>8.677781</td>\n",
       "    </tr>\n",
       "  </tbody>\n",
       "</table>\n",
       "<p>1982 rows × 882 columns</p>\n",
       "</div>"
      ],
      "text/plain": [
       "      PubchemFP0  PubchemFP1  PubchemFP2  PubchemFP3  PubchemFP4  PubchemFP5  \\\n",
       "0              1           1           1           0           0           0   \n",
       "1              1           1           1           0           0           0   \n",
       "2              1           1           1           0           0           0   \n",
       "3              1           1           1           0           0           0   \n",
       "4              1           1           1           0           0           0   \n",
       "...          ...         ...         ...         ...         ...         ...   \n",
       "1977           1           1           1           0           0           0   \n",
       "1978           1           1           1           0           0           0   \n",
       "1979           1           1           1           0           0           0   \n",
       "1980           1           1           0           0           0           0   \n",
       "1981           1           1           0           0           0           0   \n",
       "\n",
       "      PubchemFP6  PubchemFP7  PubchemFP8  PubchemFP9  ...  PubchemFP872  \\\n",
       "0              0           0           0           1  ...             0   \n",
       "1              0           0           0           1  ...             0   \n",
       "2              0           0           0           1  ...             0   \n",
       "3              0           0           0           1  ...             0   \n",
       "4              0           0           0           1  ...             0   \n",
       "...          ...         ...         ...         ...  ...           ...   \n",
       "1977           0           0           0           1  ...             0   \n",
       "1978           0           0           0           1  ...             0   \n",
       "1979           0           0           0           1  ...             0   \n",
       "1980           0           0           0           1  ...             0   \n",
       "1981           0           0           0           1  ...             0   \n",
       "\n",
       "      PubchemFP873  PubchemFP874  PubchemFP875  PubchemFP876  PubchemFP877  \\\n",
       "0                0             0             0             0             0   \n",
       "1                0             0             0             0             0   \n",
       "2                0             0             0             0             0   \n",
       "3                0             0             0             0             0   \n",
       "4                0             0             0             0             0   \n",
       "...            ...           ...           ...           ...           ...   \n",
       "1977             0             0             0             0             0   \n",
       "1978             0             0             0             0             0   \n",
       "1979             0             0             0             0             0   \n",
       "1980             0             0             0             0             0   \n",
       "1981             0             0             0             0             0   \n",
       "\n",
       "      PubchemFP878  PubchemFP879  PubchemFP880     pIC50  \n",
       "0                0             0             0  4.301030  \n",
       "1                0             0             0  6.623423  \n",
       "2                0             0             0  7.244125  \n",
       "3                0             0             0  7.267606  \n",
       "4                0             0             0  7.387216  \n",
       "...            ...           ...           ...       ...  \n",
       "1977             0             0             0  6.207608  \n",
       "1978             0             0             0  7.040959  \n",
       "1979             0             0             0  7.387216  \n",
       "1980             0             0             0  9.602060  \n",
       "1981             0             0             0  8.677781  \n",
       "\n",
       "[1982 rows x 882 columns]"
      ]
     },
     "execution_count": 60,
     "metadata": {},
     "output_type": "execute_result"
    }
   ],
   "source": [
    "dataset3 = pd.concat([df3_X,df3_Y], axis=1)\n",
    "dataset3"
   ]
  },
  {
   "cell_type": "code",
   "execution_count": 62,
   "metadata": {
    "colab": {},
    "colab_type": "code",
    "id": "75npGyvhae0e"
   },
   "outputs": [],
   "source": [
    "dataset3.to_csv('CYP2C19_bioactivity_data_2class_pIC50_pubchem_fp.csv', index=False)"
   ]
  },
  {
   "cell_type": "markdown",
   "metadata": {
    "colab_type": "text",
    "id": "7AAfh_j7hSwQ"
   },
   "source": [
    "# Modèles de régression avec Random Forest"
   ]
  },
  {
   "cell_type": "markdown",
   "metadata": {
    "colab_type": "text",
    "id": "jw7MqTMphSwR"
   },
   "source": [
    "## Libraries"
   ]
  },
  {
   "cell_type": "code",
   "execution_count": 5,
   "metadata": {},
   "outputs": [],
   "source": [
    "import pandas as pd\n",
    "import seaborn as sns\n",
    "import sklearn\n",
    "from sklearn.model_selection import train_test_split\n",
    "from sklearn.ensemble import RandomForestRegressor"
   ]
  },
  {
   "cell_type": "markdown",
   "metadata": {
    "colab_type": "text",
    "id": "0GvT3PArhSwX"
   },
   "source": [
    "## Charger le dataset\n",
    "\n",
    "Il contient les empreintes et les valeurs pIC50."
   ]
  },
  {
   "cell_type": "code",
   "execution_count": 6,
   "metadata": {
    "colab": {},
    "colab_type": "code",
    "id": "cSgppzqPiR0G",
    "scrolled": true
   },
   "outputs": [
    {
     "data": {
      "text/html": [
       "<div>\n",
       "<style scoped>\n",
       "    .dataframe tbody tr th:only-of-type {\n",
       "        vertical-align: middle;\n",
       "    }\n",
       "\n",
       "    .dataframe tbody tr th {\n",
       "        vertical-align: top;\n",
       "    }\n",
       "\n",
       "    .dataframe thead th {\n",
       "        text-align: right;\n",
       "    }\n",
       "</style>\n",
       "<table border=\"1\" class=\"dataframe\">\n",
       "  <thead>\n",
       "    <tr style=\"text-align: right;\">\n",
       "      <th></th>\n",
       "      <th>PubchemFP0</th>\n",
       "      <th>PubchemFP1</th>\n",
       "      <th>PubchemFP2</th>\n",
       "      <th>PubchemFP3</th>\n",
       "      <th>PubchemFP4</th>\n",
       "      <th>PubchemFP5</th>\n",
       "      <th>PubchemFP6</th>\n",
       "      <th>PubchemFP7</th>\n",
       "      <th>PubchemFP8</th>\n",
       "      <th>PubchemFP9</th>\n",
       "      <th>...</th>\n",
       "      <th>PubchemFP872</th>\n",
       "      <th>PubchemFP873</th>\n",
       "      <th>PubchemFP874</th>\n",
       "      <th>PubchemFP875</th>\n",
       "      <th>PubchemFP876</th>\n",
       "      <th>PubchemFP877</th>\n",
       "      <th>PubchemFP878</th>\n",
       "      <th>PubchemFP879</th>\n",
       "      <th>PubchemFP880</th>\n",
       "      <th>pIC50</th>\n",
       "    </tr>\n",
       "  </thead>\n",
       "  <tbody>\n",
       "    <tr>\n",
       "      <th>0</th>\n",
       "      <td>1</td>\n",
       "      <td>1</td>\n",
       "      <td>1</td>\n",
       "      <td>0</td>\n",
       "      <td>0</td>\n",
       "      <td>0</td>\n",
       "      <td>0</td>\n",
       "      <td>0</td>\n",
       "      <td>0</td>\n",
       "      <td>1</td>\n",
       "      <td>...</td>\n",
       "      <td>0</td>\n",
       "      <td>0</td>\n",
       "      <td>0</td>\n",
       "      <td>0</td>\n",
       "      <td>0</td>\n",
       "      <td>0</td>\n",
       "      <td>0</td>\n",
       "      <td>0</td>\n",
       "      <td>0</td>\n",
       "      <td>4.301030</td>\n",
       "    </tr>\n",
       "    <tr>\n",
       "      <th>1</th>\n",
       "      <td>1</td>\n",
       "      <td>1</td>\n",
       "      <td>1</td>\n",
       "      <td>0</td>\n",
       "      <td>0</td>\n",
       "      <td>0</td>\n",
       "      <td>0</td>\n",
       "      <td>0</td>\n",
       "      <td>0</td>\n",
       "      <td>1</td>\n",
       "      <td>...</td>\n",
       "      <td>0</td>\n",
       "      <td>0</td>\n",
       "      <td>0</td>\n",
       "      <td>0</td>\n",
       "      <td>0</td>\n",
       "      <td>0</td>\n",
       "      <td>0</td>\n",
       "      <td>0</td>\n",
       "      <td>0</td>\n",
       "      <td>6.623423</td>\n",
       "    </tr>\n",
       "    <tr>\n",
       "      <th>2</th>\n",
       "      <td>1</td>\n",
       "      <td>1</td>\n",
       "      <td>1</td>\n",
       "      <td>0</td>\n",
       "      <td>0</td>\n",
       "      <td>0</td>\n",
       "      <td>0</td>\n",
       "      <td>0</td>\n",
       "      <td>0</td>\n",
       "      <td>1</td>\n",
       "      <td>...</td>\n",
       "      <td>0</td>\n",
       "      <td>0</td>\n",
       "      <td>0</td>\n",
       "      <td>0</td>\n",
       "      <td>0</td>\n",
       "      <td>0</td>\n",
       "      <td>0</td>\n",
       "      <td>0</td>\n",
       "      <td>0</td>\n",
       "      <td>7.244125</td>\n",
       "    </tr>\n",
       "    <tr>\n",
       "      <th>3</th>\n",
       "      <td>1</td>\n",
       "      <td>1</td>\n",
       "      <td>1</td>\n",
       "      <td>0</td>\n",
       "      <td>0</td>\n",
       "      <td>0</td>\n",
       "      <td>0</td>\n",
       "      <td>0</td>\n",
       "      <td>0</td>\n",
       "      <td>1</td>\n",
       "      <td>...</td>\n",
       "      <td>0</td>\n",
       "      <td>0</td>\n",
       "      <td>0</td>\n",
       "      <td>0</td>\n",
       "      <td>0</td>\n",
       "      <td>0</td>\n",
       "      <td>0</td>\n",
       "      <td>0</td>\n",
       "      <td>0</td>\n",
       "      <td>7.267606</td>\n",
       "    </tr>\n",
       "    <tr>\n",
       "      <th>4</th>\n",
       "      <td>1</td>\n",
       "      <td>1</td>\n",
       "      <td>1</td>\n",
       "      <td>0</td>\n",
       "      <td>0</td>\n",
       "      <td>0</td>\n",
       "      <td>0</td>\n",
       "      <td>0</td>\n",
       "      <td>0</td>\n",
       "      <td>1</td>\n",
       "      <td>...</td>\n",
       "      <td>0</td>\n",
       "      <td>0</td>\n",
       "      <td>0</td>\n",
       "      <td>0</td>\n",
       "      <td>0</td>\n",
       "      <td>0</td>\n",
       "      <td>0</td>\n",
       "      <td>0</td>\n",
       "      <td>0</td>\n",
       "      <td>7.387216</td>\n",
       "    </tr>\n",
       "    <tr>\n",
       "      <th>...</th>\n",
       "      <td>...</td>\n",
       "      <td>...</td>\n",
       "      <td>...</td>\n",
       "      <td>...</td>\n",
       "      <td>...</td>\n",
       "      <td>...</td>\n",
       "      <td>...</td>\n",
       "      <td>...</td>\n",
       "      <td>...</td>\n",
       "      <td>...</td>\n",
       "      <td>...</td>\n",
       "      <td>...</td>\n",
       "      <td>...</td>\n",
       "      <td>...</td>\n",
       "      <td>...</td>\n",
       "      <td>...</td>\n",
       "      <td>...</td>\n",
       "      <td>...</td>\n",
       "      <td>...</td>\n",
       "      <td>...</td>\n",
       "      <td>...</td>\n",
       "    </tr>\n",
       "    <tr>\n",
       "      <th>1977</th>\n",
       "      <td>1</td>\n",
       "      <td>1</td>\n",
       "      <td>1</td>\n",
       "      <td>0</td>\n",
       "      <td>0</td>\n",
       "      <td>0</td>\n",
       "      <td>0</td>\n",
       "      <td>0</td>\n",
       "      <td>0</td>\n",
       "      <td>1</td>\n",
       "      <td>...</td>\n",
       "      <td>0</td>\n",
       "      <td>0</td>\n",
       "      <td>0</td>\n",
       "      <td>0</td>\n",
       "      <td>0</td>\n",
       "      <td>0</td>\n",
       "      <td>0</td>\n",
       "      <td>0</td>\n",
       "      <td>0</td>\n",
       "      <td>6.207608</td>\n",
       "    </tr>\n",
       "    <tr>\n",
       "      <th>1978</th>\n",
       "      <td>1</td>\n",
       "      <td>1</td>\n",
       "      <td>1</td>\n",
       "      <td>0</td>\n",
       "      <td>0</td>\n",
       "      <td>0</td>\n",
       "      <td>0</td>\n",
       "      <td>0</td>\n",
       "      <td>0</td>\n",
       "      <td>1</td>\n",
       "      <td>...</td>\n",
       "      <td>0</td>\n",
       "      <td>0</td>\n",
       "      <td>0</td>\n",
       "      <td>0</td>\n",
       "      <td>0</td>\n",
       "      <td>0</td>\n",
       "      <td>0</td>\n",
       "      <td>0</td>\n",
       "      <td>0</td>\n",
       "      <td>7.040959</td>\n",
       "    </tr>\n",
       "    <tr>\n",
       "      <th>1979</th>\n",
       "      <td>1</td>\n",
       "      <td>1</td>\n",
       "      <td>1</td>\n",
       "      <td>0</td>\n",
       "      <td>0</td>\n",
       "      <td>0</td>\n",
       "      <td>0</td>\n",
       "      <td>0</td>\n",
       "      <td>0</td>\n",
       "      <td>1</td>\n",
       "      <td>...</td>\n",
       "      <td>0</td>\n",
       "      <td>0</td>\n",
       "      <td>0</td>\n",
       "      <td>0</td>\n",
       "      <td>0</td>\n",
       "      <td>0</td>\n",
       "      <td>0</td>\n",
       "      <td>0</td>\n",
       "      <td>0</td>\n",
       "      <td>7.387216</td>\n",
       "    </tr>\n",
       "    <tr>\n",
       "      <th>1980</th>\n",
       "      <td>1</td>\n",
       "      <td>1</td>\n",
       "      <td>0</td>\n",
       "      <td>0</td>\n",
       "      <td>0</td>\n",
       "      <td>0</td>\n",
       "      <td>0</td>\n",
       "      <td>0</td>\n",
       "      <td>0</td>\n",
       "      <td>1</td>\n",
       "      <td>...</td>\n",
       "      <td>0</td>\n",
       "      <td>0</td>\n",
       "      <td>0</td>\n",
       "      <td>0</td>\n",
       "      <td>0</td>\n",
       "      <td>0</td>\n",
       "      <td>0</td>\n",
       "      <td>0</td>\n",
       "      <td>0</td>\n",
       "      <td>9.602060</td>\n",
       "    </tr>\n",
       "    <tr>\n",
       "      <th>1981</th>\n",
       "      <td>1</td>\n",
       "      <td>1</td>\n",
       "      <td>0</td>\n",
       "      <td>0</td>\n",
       "      <td>0</td>\n",
       "      <td>0</td>\n",
       "      <td>0</td>\n",
       "      <td>0</td>\n",
       "      <td>0</td>\n",
       "      <td>1</td>\n",
       "      <td>...</td>\n",
       "      <td>0</td>\n",
       "      <td>0</td>\n",
       "      <td>0</td>\n",
       "      <td>0</td>\n",
       "      <td>0</td>\n",
       "      <td>0</td>\n",
       "      <td>0</td>\n",
       "      <td>0</td>\n",
       "      <td>0</td>\n",
       "      <td>8.677781</td>\n",
       "    </tr>\n",
       "  </tbody>\n",
       "</table>\n",
       "<p>1982 rows × 882 columns</p>\n",
       "</div>"
      ],
      "text/plain": [
       "      PubchemFP0  PubchemFP1  PubchemFP2  PubchemFP3  PubchemFP4  PubchemFP5  \\\n",
       "0              1           1           1           0           0           0   \n",
       "1              1           1           1           0           0           0   \n",
       "2              1           1           1           0           0           0   \n",
       "3              1           1           1           0           0           0   \n",
       "4              1           1           1           0           0           0   \n",
       "...          ...         ...         ...         ...         ...         ...   \n",
       "1977           1           1           1           0           0           0   \n",
       "1978           1           1           1           0           0           0   \n",
       "1979           1           1           1           0           0           0   \n",
       "1980           1           1           0           0           0           0   \n",
       "1981           1           1           0           0           0           0   \n",
       "\n",
       "      PubchemFP6  PubchemFP7  PubchemFP8  PubchemFP9  ...  PubchemFP872  \\\n",
       "0              0           0           0           1  ...             0   \n",
       "1              0           0           0           1  ...             0   \n",
       "2              0           0           0           1  ...             0   \n",
       "3              0           0           0           1  ...             0   \n",
       "4              0           0           0           1  ...             0   \n",
       "...          ...         ...         ...         ...  ...           ...   \n",
       "1977           0           0           0           1  ...             0   \n",
       "1978           0           0           0           1  ...             0   \n",
       "1979           0           0           0           1  ...             0   \n",
       "1980           0           0           0           1  ...             0   \n",
       "1981           0           0           0           1  ...             0   \n",
       "\n",
       "      PubchemFP873  PubchemFP874  PubchemFP875  PubchemFP876  PubchemFP877  \\\n",
       "0                0             0             0             0             0   \n",
       "1                0             0             0             0             0   \n",
       "2                0             0             0             0             0   \n",
       "3                0             0             0             0             0   \n",
       "4                0             0             0             0             0   \n",
       "...            ...           ...           ...           ...           ...   \n",
       "1977             0             0             0             0             0   \n",
       "1978             0             0             0             0             0   \n",
       "1979             0             0             0             0             0   \n",
       "1980             0             0             0             0             0   \n",
       "1981             0             0             0             0             0   \n",
       "\n",
       "      PubchemFP878  PubchemFP879  PubchemFP880     pIC50  \n",
       "0                0             0             0  4.301030  \n",
       "1                0             0             0  6.623423  \n",
       "2                0             0             0  7.244125  \n",
       "3                0             0             0  7.267606  \n",
       "4                0             0             0  7.387216  \n",
       "...            ...           ...           ...       ...  \n",
       "1977             0             0             0  6.207608  \n",
       "1978             0             0             0  7.040959  \n",
       "1979             0             0             0  7.387216  \n",
       "1980             0             0             0  9.602060  \n",
       "1981             0             0             0  8.677781  \n",
       "\n",
       "[1982 rows x 882 columns]"
      ]
     },
     "execution_count": 6,
     "metadata": {},
     "output_type": "execute_result"
    }
   ],
   "source": [
    "df = pd.read_csv('CYP2C19_bioactivity_data_2class_pIC50_pubchem_fp.csv')\n",
    "df"
   ]
  },
  {
   "cell_type": "markdown",
   "metadata": {
    "colab_type": "text",
    "id": "kuiiC0xthSwb"
   },
   "source": [
    "## 3. Input features\n",
    "L'ensemble de données CYP2C19 contient 881 input features et 1 output feature (valeur pIC50).\n",
    "\n",
    "On va drop la valeur pIC50 de X car elle servira à créer la variable Y."
   ]
  },
  {
   "cell_type": "markdown",
   "metadata": {
    "colab_type": "text",
    "id": "iCeQQn0uhSwb"
   },
   "source": [
    "### 3.1. Input features"
   ]
  },
  {
   "cell_type": "code",
   "execution_count": 7,
   "metadata": {
    "colab": {
     "base_uri": "https://localhost:8080/",
     "height": 439
    },
    "colab_type": "code",
    "id": "li32nAPohSwc",
    "outputId": "e3cbf177-e82b-4e57-c32a-af9ab924dda8",
    "scrolled": true
   },
   "outputs": [
    {
     "data": {
      "text/html": [
       "<div>\n",
       "<style scoped>\n",
       "    .dataframe tbody tr th:only-of-type {\n",
       "        vertical-align: middle;\n",
       "    }\n",
       "\n",
       "    .dataframe tbody tr th {\n",
       "        vertical-align: top;\n",
       "    }\n",
       "\n",
       "    .dataframe thead th {\n",
       "        text-align: right;\n",
       "    }\n",
       "</style>\n",
       "<table border=\"1\" class=\"dataframe\">\n",
       "  <thead>\n",
       "    <tr style=\"text-align: right;\">\n",
       "      <th></th>\n",
       "      <th>PubchemFP0</th>\n",
       "      <th>PubchemFP1</th>\n",
       "      <th>PubchemFP2</th>\n",
       "      <th>PubchemFP3</th>\n",
       "      <th>PubchemFP4</th>\n",
       "      <th>PubchemFP5</th>\n",
       "      <th>PubchemFP6</th>\n",
       "      <th>PubchemFP7</th>\n",
       "      <th>PubchemFP8</th>\n",
       "      <th>PubchemFP9</th>\n",
       "      <th>...</th>\n",
       "      <th>PubchemFP871</th>\n",
       "      <th>PubchemFP872</th>\n",
       "      <th>PubchemFP873</th>\n",
       "      <th>PubchemFP874</th>\n",
       "      <th>PubchemFP875</th>\n",
       "      <th>PubchemFP876</th>\n",
       "      <th>PubchemFP877</th>\n",
       "      <th>PubchemFP878</th>\n",
       "      <th>PubchemFP879</th>\n",
       "      <th>PubchemFP880</th>\n",
       "    </tr>\n",
       "  </thead>\n",
       "  <tbody>\n",
       "    <tr>\n",
       "      <th>0</th>\n",
       "      <td>1</td>\n",
       "      <td>1</td>\n",
       "      <td>1</td>\n",
       "      <td>0</td>\n",
       "      <td>0</td>\n",
       "      <td>0</td>\n",
       "      <td>0</td>\n",
       "      <td>0</td>\n",
       "      <td>0</td>\n",
       "      <td>1</td>\n",
       "      <td>...</td>\n",
       "      <td>0</td>\n",
       "      <td>0</td>\n",
       "      <td>0</td>\n",
       "      <td>0</td>\n",
       "      <td>0</td>\n",
       "      <td>0</td>\n",
       "      <td>0</td>\n",
       "      <td>0</td>\n",
       "      <td>0</td>\n",
       "      <td>0</td>\n",
       "    </tr>\n",
       "    <tr>\n",
       "      <th>1</th>\n",
       "      <td>1</td>\n",
       "      <td>1</td>\n",
       "      <td>1</td>\n",
       "      <td>0</td>\n",
       "      <td>0</td>\n",
       "      <td>0</td>\n",
       "      <td>0</td>\n",
       "      <td>0</td>\n",
       "      <td>0</td>\n",
       "      <td>1</td>\n",
       "      <td>...</td>\n",
       "      <td>0</td>\n",
       "      <td>0</td>\n",
       "      <td>0</td>\n",
       "      <td>0</td>\n",
       "      <td>0</td>\n",
       "      <td>0</td>\n",
       "      <td>0</td>\n",
       "      <td>0</td>\n",
       "      <td>0</td>\n",
       "      <td>0</td>\n",
       "    </tr>\n",
       "    <tr>\n",
       "      <th>2</th>\n",
       "      <td>1</td>\n",
       "      <td>1</td>\n",
       "      <td>1</td>\n",
       "      <td>0</td>\n",
       "      <td>0</td>\n",
       "      <td>0</td>\n",
       "      <td>0</td>\n",
       "      <td>0</td>\n",
       "      <td>0</td>\n",
       "      <td>1</td>\n",
       "      <td>...</td>\n",
       "      <td>0</td>\n",
       "      <td>0</td>\n",
       "      <td>0</td>\n",
       "      <td>0</td>\n",
       "      <td>0</td>\n",
       "      <td>0</td>\n",
       "      <td>0</td>\n",
       "      <td>0</td>\n",
       "      <td>0</td>\n",
       "      <td>0</td>\n",
       "    </tr>\n",
       "    <tr>\n",
       "      <th>3</th>\n",
       "      <td>1</td>\n",
       "      <td>1</td>\n",
       "      <td>1</td>\n",
       "      <td>0</td>\n",
       "      <td>0</td>\n",
       "      <td>0</td>\n",
       "      <td>0</td>\n",
       "      <td>0</td>\n",
       "      <td>0</td>\n",
       "      <td>1</td>\n",
       "      <td>...</td>\n",
       "      <td>0</td>\n",
       "      <td>0</td>\n",
       "      <td>0</td>\n",
       "      <td>0</td>\n",
       "      <td>0</td>\n",
       "      <td>0</td>\n",
       "      <td>0</td>\n",
       "      <td>0</td>\n",
       "      <td>0</td>\n",
       "      <td>0</td>\n",
       "    </tr>\n",
       "    <tr>\n",
       "      <th>4</th>\n",
       "      <td>1</td>\n",
       "      <td>1</td>\n",
       "      <td>1</td>\n",
       "      <td>0</td>\n",
       "      <td>0</td>\n",
       "      <td>0</td>\n",
       "      <td>0</td>\n",
       "      <td>0</td>\n",
       "      <td>0</td>\n",
       "      <td>1</td>\n",
       "      <td>...</td>\n",
       "      <td>0</td>\n",
       "      <td>0</td>\n",
       "      <td>0</td>\n",
       "      <td>0</td>\n",
       "      <td>0</td>\n",
       "      <td>0</td>\n",
       "      <td>0</td>\n",
       "      <td>0</td>\n",
       "      <td>0</td>\n",
       "      <td>0</td>\n",
       "    </tr>\n",
       "    <tr>\n",
       "      <th>...</th>\n",
       "      <td>...</td>\n",
       "      <td>...</td>\n",
       "      <td>...</td>\n",
       "      <td>...</td>\n",
       "      <td>...</td>\n",
       "      <td>...</td>\n",
       "      <td>...</td>\n",
       "      <td>...</td>\n",
       "      <td>...</td>\n",
       "      <td>...</td>\n",
       "      <td>...</td>\n",
       "      <td>...</td>\n",
       "      <td>...</td>\n",
       "      <td>...</td>\n",
       "      <td>...</td>\n",
       "      <td>...</td>\n",
       "      <td>...</td>\n",
       "      <td>...</td>\n",
       "      <td>...</td>\n",
       "      <td>...</td>\n",
       "      <td>...</td>\n",
       "    </tr>\n",
       "    <tr>\n",
       "      <th>1977</th>\n",
       "      <td>1</td>\n",
       "      <td>1</td>\n",
       "      <td>1</td>\n",
       "      <td>0</td>\n",
       "      <td>0</td>\n",
       "      <td>0</td>\n",
       "      <td>0</td>\n",
       "      <td>0</td>\n",
       "      <td>0</td>\n",
       "      <td>1</td>\n",
       "      <td>...</td>\n",
       "      <td>0</td>\n",
       "      <td>0</td>\n",
       "      <td>0</td>\n",
       "      <td>0</td>\n",
       "      <td>0</td>\n",
       "      <td>0</td>\n",
       "      <td>0</td>\n",
       "      <td>0</td>\n",
       "      <td>0</td>\n",
       "      <td>0</td>\n",
       "    </tr>\n",
       "    <tr>\n",
       "      <th>1978</th>\n",
       "      <td>1</td>\n",
       "      <td>1</td>\n",
       "      <td>1</td>\n",
       "      <td>0</td>\n",
       "      <td>0</td>\n",
       "      <td>0</td>\n",
       "      <td>0</td>\n",
       "      <td>0</td>\n",
       "      <td>0</td>\n",
       "      <td>1</td>\n",
       "      <td>...</td>\n",
       "      <td>0</td>\n",
       "      <td>0</td>\n",
       "      <td>0</td>\n",
       "      <td>0</td>\n",
       "      <td>0</td>\n",
       "      <td>0</td>\n",
       "      <td>0</td>\n",
       "      <td>0</td>\n",
       "      <td>0</td>\n",
       "      <td>0</td>\n",
       "    </tr>\n",
       "    <tr>\n",
       "      <th>1979</th>\n",
       "      <td>1</td>\n",
       "      <td>1</td>\n",
       "      <td>1</td>\n",
       "      <td>0</td>\n",
       "      <td>0</td>\n",
       "      <td>0</td>\n",
       "      <td>0</td>\n",
       "      <td>0</td>\n",
       "      <td>0</td>\n",
       "      <td>1</td>\n",
       "      <td>...</td>\n",
       "      <td>0</td>\n",
       "      <td>0</td>\n",
       "      <td>0</td>\n",
       "      <td>0</td>\n",
       "      <td>0</td>\n",
       "      <td>0</td>\n",
       "      <td>0</td>\n",
       "      <td>0</td>\n",
       "      <td>0</td>\n",
       "      <td>0</td>\n",
       "    </tr>\n",
       "    <tr>\n",
       "      <th>1980</th>\n",
       "      <td>1</td>\n",
       "      <td>1</td>\n",
       "      <td>0</td>\n",
       "      <td>0</td>\n",
       "      <td>0</td>\n",
       "      <td>0</td>\n",
       "      <td>0</td>\n",
       "      <td>0</td>\n",
       "      <td>0</td>\n",
       "      <td>1</td>\n",
       "      <td>...</td>\n",
       "      <td>0</td>\n",
       "      <td>0</td>\n",
       "      <td>0</td>\n",
       "      <td>0</td>\n",
       "      <td>0</td>\n",
       "      <td>0</td>\n",
       "      <td>0</td>\n",
       "      <td>0</td>\n",
       "      <td>0</td>\n",
       "      <td>0</td>\n",
       "    </tr>\n",
       "    <tr>\n",
       "      <th>1981</th>\n",
       "      <td>1</td>\n",
       "      <td>1</td>\n",
       "      <td>0</td>\n",
       "      <td>0</td>\n",
       "      <td>0</td>\n",
       "      <td>0</td>\n",
       "      <td>0</td>\n",
       "      <td>0</td>\n",
       "      <td>0</td>\n",
       "      <td>1</td>\n",
       "      <td>...</td>\n",
       "      <td>0</td>\n",
       "      <td>0</td>\n",
       "      <td>0</td>\n",
       "      <td>0</td>\n",
       "      <td>0</td>\n",
       "      <td>0</td>\n",
       "      <td>0</td>\n",
       "      <td>0</td>\n",
       "      <td>0</td>\n",
       "      <td>0</td>\n",
       "    </tr>\n",
       "  </tbody>\n",
       "</table>\n",
       "<p>1982 rows × 881 columns</p>\n",
       "</div>"
      ],
      "text/plain": [
       "      PubchemFP0  PubchemFP1  PubchemFP2  PubchemFP3  PubchemFP4  PubchemFP5  \\\n",
       "0              1           1           1           0           0           0   \n",
       "1              1           1           1           0           0           0   \n",
       "2              1           1           1           0           0           0   \n",
       "3              1           1           1           0           0           0   \n",
       "4              1           1           1           0           0           0   \n",
       "...          ...         ...         ...         ...         ...         ...   \n",
       "1977           1           1           1           0           0           0   \n",
       "1978           1           1           1           0           0           0   \n",
       "1979           1           1           1           0           0           0   \n",
       "1980           1           1           0           0           0           0   \n",
       "1981           1           1           0           0           0           0   \n",
       "\n",
       "      PubchemFP6  PubchemFP7  PubchemFP8  PubchemFP9  ...  PubchemFP871  \\\n",
       "0              0           0           0           1  ...             0   \n",
       "1              0           0           0           1  ...             0   \n",
       "2              0           0           0           1  ...             0   \n",
       "3              0           0           0           1  ...             0   \n",
       "4              0           0           0           1  ...             0   \n",
       "...          ...         ...         ...         ...  ...           ...   \n",
       "1977           0           0           0           1  ...             0   \n",
       "1978           0           0           0           1  ...             0   \n",
       "1979           0           0           0           1  ...             0   \n",
       "1980           0           0           0           1  ...             0   \n",
       "1981           0           0           0           1  ...             0   \n",
       "\n",
       "      PubchemFP872  PubchemFP873  PubchemFP874  PubchemFP875  PubchemFP876  \\\n",
       "0                0             0             0             0             0   \n",
       "1                0             0             0             0             0   \n",
       "2                0             0             0             0             0   \n",
       "3                0             0             0             0             0   \n",
       "4                0             0             0             0             0   \n",
       "...            ...           ...           ...           ...           ...   \n",
       "1977             0             0             0             0             0   \n",
       "1978             0             0             0             0             0   \n",
       "1979             0             0             0             0             0   \n",
       "1980             0             0             0             0             0   \n",
       "1981             0             0             0             0             0   \n",
       "\n",
       "      PubchemFP877  PubchemFP878  PubchemFP879  PubchemFP880  \n",
       "0                0             0             0             0  \n",
       "1                0             0             0             0  \n",
       "2                0             0             0             0  \n",
       "3                0             0             0             0  \n",
       "4                0             0             0             0  \n",
       "...            ...           ...           ...           ...  \n",
       "1977             0             0             0             0  \n",
       "1978             0             0             0             0  \n",
       "1979             0             0             0             0  \n",
       "1980             0             0             0             0  \n",
       "1981             0             0             0             0  \n",
       "\n",
       "[1982 rows x 881 columns]"
      ]
     },
     "execution_count": 7,
     "metadata": {},
     "output_type": "execute_result"
    }
   ],
   "source": [
    "X = df.drop('pIC50', axis=1)\n",
    "X"
   ]
  },
  {
   "cell_type": "markdown",
   "metadata": {
    "colab_type": "text",
    "id": "sGQjCQtfhSwg"
   },
   "source": [
    "### **3.2. Output features**"
   ]
  },
  {
   "cell_type": "code",
   "execution_count": 8,
   "metadata": {
    "colab": {
     "base_uri": "https://localhost:8080/",
     "height": 221
    },
    "colab_type": "code",
    "id": "OWylAtAVhSwh",
    "outputId": "5747e12a-3abb-4e43-fc1c-c8dbe42f3992"
   },
   "outputs": [
    {
     "data": {
      "text/plain": [
       "0       4.301030\n",
       "1       6.623423\n",
       "2       7.244125\n",
       "3       7.267606\n",
       "4       7.387216\n",
       "          ...   \n",
       "1977    6.207608\n",
       "1978    7.040959\n",
       "1979    7.387216\n",
       "1980    9.602060\n",
       "1981    8.677781\n",
       "Name: pIC50, Length: 1982, dtype: float64"
      ]
     },
     "execution_count": 8,
     "metadata": {},
     "output_type": "execute_result"
    }
   ],
   "source": [
    "Y = df.pIC50\n",
    "Y"
   ]
  },
  {
   "cell_type": "markdown",
   "metadata": {
    "colab_type": "text",
    "id": "E-zGSqXohSwx"
   },
   "source": [
    "### 3.3. Examiner les dimensions de données"
   ]
  },
  {
   "cell_type": "code",
   "execution_count": 9,
   "metadata": {
    "colab": {
     "base_uri": "https://localhost:8080/",
     "height": 34
    },
    "colab_type": "code",
    "id": "nhT04XtLhSwx",
    "outputId": "0e36315c-a8c1-4d11-8e99-8a92038ff80d"
   },
   "outputs": [
    {
     "data": {
      "text/plain": [
       "(1982, 881)"
      ]
     },
     "execution_count": 9,
     "metadata": {},
     "output_type": "execute_result"
    }
   ],
   "source": [
    "X.shape"
   ]
  },
  {
   "cell_type": "code",
   "execution_count": 10,
   "metadata": {
    "colab": {
     "base_uri": "https://localhost:8080/",
     "height": 34
    },
    "colab_type": "code",
    "id": "uzQlK8gNhSw0",
    "outputId": "6526f2b6-8875-49f4-bd38-dc2db7225e52"
   },
   "outputs": [
    {
     "data": {
      "text/plain": [
       "(1982,)"
      ]
     },
     "execution_count": 10,
     "metadata": {},
     "output_type": "execute_result"
    }
   ],
   "source": [
    "Y.shape"
   ]
  },
  {
   "cell_type": "markdown",
   "metadata": {
    "colab_type": "text",
    "id": "0qQCpX097qf_"
   },
   "source": [
    "### 3.4. Retirer les features avec faible variance"
   ]
  },
  {
   "cell_type": "code",
   "execution_count": 11,
   "metadata": {
    "colab": {},
    "colab_type": "code",
    "id": "rjHK2SoI7tXI"
   },
   "outputs": [],
   "source": [
    "from sklearn.feature_selection import VarianceThreshold\n",
    "selection = VarianceThreshold(threshold=(.8 * (1 - .8)))    \n",
    "X = selection.fit_transform(X)"
   ]
  },
  {
   "cell_type": "code",
   "execution_count": 12,
   "metadata": {
    "colab": {
     "base_uri": "https://localhost:8080/",
     "height": 34
    },
    "colab_type": "code",
    "id": "nXcpQh_s8nx7",
    "outputId": "cb3a135a-9b96-4f69-bb28-538ae4be7d5d"
   },
   "outputs": [
    {
     "data": {
      "text/plain": [
       "(1982, 157)"
      ]
     },
     "execution_count": 12,
     "metadata": {},
     "output_type": "execute_result"
    }
   ],
   "source": [
    "X.shape\n",
    "\n",
    "# Il y avait au total 724 features avec une faible variance (881 - 157)"
   ]
  },
  {
   "cell_type": "markdown",
   "metadata": {
    "colab_type": "text",
    "id": "AjhOlkOVhSxR"
   },
   "source": [
    "## 4. Data split (ratio de 80/20)"
   ]
  },
  {
   "cell_type": "code",
   "execution_count": 13,
   "metadata": {
    "colab": {},
    "colab_type": "code",
    "id": "M1Bmg1HWhSxR"
   },
   "outputs": [],
   "source": [
    "X_train, X_test, Y_train, Y_test = train_test_split(X, Y, test_size=0.2)"
   ]
  },
  {
   "cell_type": "code",
   "execution_count": 14,
   "metadata": {
    "colab": {
     "base_uri": "https://localhost:8080/",
     "height": 34
    },
    "colab_type": "code",
    "id": "uz1o3c1LhSxU",
    "outputId": "dc0b23f3-eebc-4159-ae71-6d9e27ce9e26"
   },
   "outputs": [
    {
     "data": {
      "text/plain": [
       "((1585, 157), (1585,))"
      ]
     },
     "execution_count": 14,
     "metadata": {},
     "output_type": "execute_result"
    }
   ],
   "source": [
    "X_train.shape, Y_train.shape"
   ]
  },
  {
   "cell_type": "code",
   "execution_count": 15,
   "metadata": {
    "colab": {
     "base_uri": "https://localhost:8080/",
     "height": 34
    },
    "colab_type": "code",
    "id": "4tnwDASChSxW",
    "outputId": "15c12f57-053b-4e28-afe1-b403510fd6ea"
   },
   "outputs": [
    {
     "data": {
      "text/plain": [
       "((397, 157), (397,))"
      ]
     },
     "execution_count": 15,
     "metadata": {},
     "output_type": "execute_result"
    }
   ],
   "source": [
    "X_test.shape, Y_test.shape"
   ]
  },
  {
   "cell_type": "markdown",
   "metadata": {
    "colab_type": "text",
    "id": "PYsE-tIAhSw3"
   },
   "source": [
    "## 5. Construire un modèle de régression avec Random Forest"
   ]
  },
  {
   "cell_type": "code",
   "execution_count": 16,
   "metadata": {
    "colab": {
     "base_uri": "https://localhost:8080/",
     "height": 34
    },
    "colab_type": "code",
    "id": "YHM3DCD5wuNe",
    "outputId": "42a4752a-c4ea-414d-ac19-dff9c64cfbcb"
   },
   "outputs": [
    {
     "data": {
      "text/plain": [
       "0.1836993334711614"
      ]
     },
     "execution_count": 16,
     "metadata": {},
     "output_type": "execute_result"
    }
   ],
   "source": [
    "model = RandomForestRegressor(n_estimators=100)\n",
    "model.fit(X_train, Y_train)\n",
    "r2 = model.score(X_test, Y_test)\n",
    "r2"
   ]
  },
  {
   "cell_type": "markdown",
   "metadata": {},
   "source": [
    "Rappels :\n",
    "\n",
    "- si la valeur r2 < 0,3, cette valeur est considérée comme une ampleur d'effet nulle ou très faible\n",
    "- si la valeur r2 0,3 < r < 0,5, cette valeur est considérée comme une ampleur d'effet faible ou basse\n",
    "- si la valeur r2 0,5 < r < 0,7, cette valeur est considérée comme une ampleur d'effet modérée\n",
    "- si la valeur r2 > 0,7, cette valeur est considérée comme une ampleur d'effet forte"
   ]
  },
  {
   "cell_type": "code",
   "execution_count": 17,
   "metadata": {
    "colab": {},
    "colab_type": "code",
    "id": "A4Rv5wdQ1M6H"
   },
   "outputs": [],
   "source": [
    "Y_pred = model.predict(X_test)"
   ]
  },
  {
   "cell_type": "markdown",
   "metadata": {
    "colab_type": "text",
    "id": "LoLgjePyUXcv"
   },
   "source": [
    "## 6. Scatter Plot des valeurs pIC50 expérimentales vs valeurs prédites"
   ]
  },
  {
   "cell_type": "code",
   "execution_count": 18,
   "metadata": {
    "colab": {
     "base_uri": "https://localhost:8080/",
     "height": 361
    },
    "colab_type": "code",
    "id": "hfqpfjxw3IAK",
    "outputId": "7206a3c7-eff9-4617-e9d9-d54dd0cfd29c"
   },
   "outputs": [
    {
     "data": {
      "text/plain": [
       "<function matplotlib.pyplot.show(close=None, block=None)>"
      ]
     },
     "execution_count": 18,
     "metadata": {},
     "output_type": "execute_result"
    },
    {
     "data": {
      "image/png": "[encoded data removed]",
      "text/plain": [
       "<Figure size 500x500 with 1 Axes>"
      ]
     },
     "metadata": {},
     "output_type": "display_data"
    }
   ],
   "source": [
    "import seaborn as sns\n",
    "import matplotlib.pyplot as plt\n",
    "\n",
    "sns.set(color_codes=True)\n",
    "sns.set_style(\"white\")\n",
    "\n",
    "ax = sns.regplot(x=Y_test, y=Y_pred, scatter_kws={'alpha':0.4})\n",
    "ax.set_xlabel('Experimental pIC50', fontsize='large', fontweight='bold')\n",
    "ax.set_ylabel('Predicted pIC50', fontsize='large', fontweight='bold')\n",
    "ax.set_xlim(0, 12)\n",
    "ax.set_ylim(0, 12)\n",
    "ax.figure.set_size_inches(5, 5)\n",
    "plt.show"
   ]
  },
  {
   "cell_type": "markdown",
   "metadata": {},
   "source": [
    "# Comparer les régresseurs"
   ]
  },
  {
   "cell_type": "markdown",
   "metadata": {},
   "source": [
    "## Libraries"
   ]
  },
  {
   "cell_type": "code",
   "execution_count": 19,
   "metadata": {},
   "outputs": [],
   "source": [
    "#! pip install lazypredict\n",
    "#! conda install lightgbm -y\n",
    "#! conda install tensorflow -y\n",
    "#! conda install -c intel mkl -y"
   ]
  },
  {
   "cell_type": "code",
   "execution_count": 20,
   "metadata": {},
   "outputs": [],
   "source": [
    "import pandas as pd\n",
    "import seaborn as sns\n",
    "from sklearn.model_selection import train_test_split\n",
    "import lazypredict\n",
    "from lazypredict.Supervised import LazyRegressor"
   ]
  },
  {
   "cell_type": "markdown",
   "metadata": {},
   "source": [
    "## Comparer les algorithmes de Machine Learning"
   ]
  },
  {
   "cell_type": "code",
   "execution_count": null,
   "metadata": {},
   "outputs": [
    {
     "name": "stderr",
     "output_type": "stream",
     "text": [
      " 29%|████████████▎                              | 12/42 [00:05<00:13,  2.29it/s]"
     ]
    }
   ],
   "source": [
    "# Définir et construire le lazyclassifier\n",
    "clf = LazyRegressor(verbose=0,ignore_warnings=True, custom_metric=None)\n",
    "models_train,predictions_train = clf.fit(X_train, X_train, Y_train, Y_train)\n",
    "models_test,predictions_test = clf.fit(X_train, X_test, Y_train, Y_test)"
   ]
  },
  {
   "cell_type": "code",
   "execution_count": null,
   "metadata": {},
   "outputs": [],
   "source": [
    "# Tableau de performance du train set (sous-ensemble de 80%)\n",
    "predictions_train"
   ]
  },
  {
   "cell_type": "code",
   "execution_count": null,
   "metadata": {},
   "outputs": [],
   "source": [
    "# Tableau de performance du test set (sous-ensemble de 20%)\n",
    "predictions_test"
   ]
  },
  {
   "cell_type": "code",
   "execution_count": null,
   "metadata": {},
   "outputs": [],
   "source": [
    "# Bar plot des valeurs r2\n",
    "import matplotlib.pyplot as plt\n",
    "import seaborn as sns\n",
    "\n",
    "#train[\"r2\"] = [0 if i < 0 else i for i in train.iloc[:,0] ]\n",
    "\n",
    "plt.figure(figsize=(5, 10))\n",
    "sns.set_theme(style=\"whitegrid\")\n",
    "ax = sns.barplot(y=predictions_train.index, x=\"r2\", data=predictions_train)\n",
    "ax.set(xlim=(0, 1))"
   ]
  },
  {
   "cell_type": "code",
   "execution_count": null,
   "metadata": {},
   "outputs": [],
   "source": [
    "# Bar plot des valeurs RMSE\n",
    "import matplotlib.pyplot as plt\n",
    "import seaborn as sns\n",
    "\n",
    "plt.figure(figsize=(5, 10))\n",
    "sns.set_theme(style=\"whitegrid\")\n",
    "ax = sns.barplot(y=predictions_train.index, x=\"RMSE\", data=predictions_train)\n",
    "ax.set(xlim=(0, 10))"
   ]
  },
  {
   "cell_type": "code",
   "execution_count": null,
   "metadata": {},
   "outputs": [],
   "source": [
    "# Bar plot du calcul du temps\n",
    "import matplotlib.pyplot as plt\n",
    "import seaborn as sns\n",
    "\n",
    "plt.figure(figsize=(5, 10))\n",
    "sns.set_theme(style=\"whitegrid\")\n",
    "ax = sns.barplot(y=predictions_train.index, x=\"Time Taken\", data=predictions_train)\n",
    "ax.set(xlim=(0, 10))"
   ]
  }
 ],
 "metadata": {
  "colab": {
   "collapsed_sections": [],
   "name": "CDD-ML-Part-1-Bioactivity-Data-Concised.ipynb",
   "provenance": []
  },
  "kernelspec": {
   "display_name": "Python 3 (ipykernel)",
   "language": "python",
   "name": "python3"
  },
  "language_info": {
   "codemirror_mode": {
    "name": "ipython",
    "version": 3
   },
   "file_extension": ".py",
   "mimetype": "text/x-python",
   "name": "python",
   "nbconvert_exporter": "python",
   "pygments_lexer": "ipython3",
   "version": "3.9.13"
  }
 },
 "nbformat": 4,
 "nbformat_minor": 1
}
